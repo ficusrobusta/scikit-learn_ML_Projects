{
 "cells": [
  {
   "cell_type": "code",
   "execution_count": null,
   "metadata": {},
   "outputs": [],
   "source": [
    "#Task 1: Decision trees: fruit classification"
   ]
  },
  {
   "cell_type": "code",
   "execution_count": 12,
   "metadata": {},
   "outputs": [],
   "source": [
    "from sklearn import tree"
   ]
  },
  {
   "cell_type": "code",
   "execution_count": 13,
   "metadata": {},
   "outputs": [],
   "source": [
    "# 0 and 1 represents bumpy and smooth, and apple and orange in features and labels respectively\n",
    "features = [[140,1],[130,1], [150,0], [170, 0]]\n",
    "labels = [0, 0, 1, 1]"
   ]
  },
  {
   "cell_type": "code",
   "execution_count": 10,
   "metadata": {},
   "outputs": [],
   "source": [
    "clf = tree.DecisionTreeClassifier()\n",
    "clf = clf.fit(features, labels)"
   ]
  },
  {
   "cell_type": "code",
   "execution_count": 14,
   "metadata": {},
   "outputs": [
    {
     "name": "stdout",
     "output_type": "stream",
     "text": [
      "[1]\n"
     ]
    }
   ],
   "source": [
    "print(clf.predict([[150,0]]))"
   ]
  },
  {
   "cell_type": "code",
   "execution_count": 15,
   "metadata": {},
   "outputs": [],
   "source": [
    "# The classifier predicts an orange"
   ]
  },
  {
   "cell_type": "markdown",
   "metadata": {},
   "source": [
    "Task 2: Decision trees: iris classification"
   ]
  },
  {
   "cell_type": "code",
   "execution_count": 30,
   "metadata": {},
   "outputs": [],
   "source": [
    "import numpy as np\n",
    "from sklearn.datasets import load_iris"
   ]
  },
  {
   "cell_type": "code",
   "execution_count": 18,
   "metadata": {},
   "outputs": [],
   "source": [
    "iris = load_iris()"
   ]
  },
  {
   "cell_type": "code",
   "execution_count": 20,
   "metadata": {},
   "outputs": [
    {
     "name": "stdout",
     "output_type": "stream",
     "text": [
      "['sepal length (cm)', 'sepal width (cm)', 'petal length (cm)', 'petal width (cm)']\n",
      "['setosa' 'versicolor' 'virginica']\n"
     ]
    }
   ],
   "source": [
    "print(iris.feature_names)\n",
    "print(iris.target_names)"
   ]
  },
  {
   "cell_type": "code",
   "execution_count": 21,
   "metadata": {},
   "outputs": [
    {
     "name": "stdout",
     "output_type": "stream",
     "text": [
      "[5.1 3.5 1.4 0.2]\n"
     ]
    }
   ],
   "source": [
    "print(iris.data[0])"
   ]
  },
  {
   "cell_type": "code",
   "execution_count": 22,
   "metadata": {},
   "outputs": [
    {
     "name": "stdout",
     "output_type": "stream",
     "text": [
      "0\n"
     ]
    }
   ],
   "source": [
    "print(iris.target[0])"
   ]
  },
  {
   "cell_type": "code",
   "execution_count": 26,
   "metadata": {},
   "outputs": [
    {
     "name": "stdout",
     "output_type": "stream",
     "text": [
      "Exanple 0: label 0, features [5.1 3.5 1.4 0.2]\n",
      "Exanple 1: label 0, features [4.9 3.  1.4 0.2]\n",
      "Exanple 2: label 0, features [4.7 3.2 1.3 0.2]\n",
      "Exanple 3: label 0, features [4.6 3.1 1.5 0.2]\n",
      "Exanple 4: label 0, features [5.  3.6 1.4 0.2]\n",
      "Exanple 5: label 0, features [5.4 3.9 1.7 0.4]\n",
      "Exanple 6: label 0, features [4.6 3.4 1.4 0.3]\n",
      "Exanple 7: label 0, features [5.  3.4 1.5 0.2]\n",
      "Exanple 8: label 0, features [4.4 2.9 1.4 0.2]\n",
      "Exanple 9: label 0, features [4.9 3.1 1.5 0.1]\n",
      "Exanple 10: label 0, features [5.4 3.7 1.5 0.2]\n",
      "Exanple 11: label 0, features [4.8 3.4 1.6 0.2]\n",
      "Exanple 12: label 0, features [4.8 3.  1.4 0.1]\n",
      "Exanple 13: label 0, features [4.3 3.  1.1 0.1]\n",
      "Exanple 14: label 0, features [5.8 4.  1.2 0.2]\n",
      "Exanple 15: label 0, features [5.7 4.4 1.5 0.4]\n",
      "Exanple 16: label 0, features [5.4 3.9 1.3 0.4]\n",
      "Exanple 17: label 0, features [5.1 3.5 1.4 0.3]\n",
      "Exanple 18: label 0, features [5.7 3.8 1.7 0.3]\n",
      "Exanple 19: label 0, features [5.1 3.8 1.5 0.3]\n",
      "Exanple 20: label 0, features [5.4 3.4 1.7 0.2]\n",
      "Exanple 21: label 0, features [5.1 3.7 1.5 0.4]\n",
      "Exanple 22: label 0, features [4.6 3.6 1.  0.2]\n",
      "Exanple 23: label 0, features [5.1 3.3 1.7 0.5]\n",
      "Exanple 24: label 0, features [4.8 3.4 1.9 0.2]\n",
      "Exanple 25: label 0, features [5.  3.  1.6 0.2]\n",
      "Exanple 26: label 0, features [5.  3.4 1.6 0.4]\n",
      "Exanple 27: label 0, features [5.2 3.5 1.5 0.2]\n",
      "Exanple 28: label 0, features [5.2 3.4 1.4 0.2]\n",
      "Exanple 29: label 0, features [4.7 3.2 1.6 0.2]\n",
      "Exanple 30: label 0, features [4.8 3.1 1.6 0.2]\n",
      "Exanple 31: label 0, features [5.4 3.4 1.5 0.4]\n",
      "Exanple 32: label 0, features [5.2 4.1 1.5 0.1]\n",
      "Exanple 33: label 0, features [5.5 4.2 1.4 0.2]\n",
      "Exanple 34: label 0, features [4.9 3.1 1.5 0.2]\n",
      "Exanple 35: label 0, features [5.  3.2 1.2 0.2]\n",
      "Exanple 36: label 0, features [5.5 3.5 1.3 0.2]\n",
      "Exanple 37: label 0, features [4.9 3.6 1.4 0.1]\n",
      "Exanple 38: label 0, features [4.4 3.  1.3 0.2]\n",
      "Exanple 39: label 0, features [5.1 3.4 1.5 0.2]\n",
      "Exanple 40: label 0, features [5.  3.5 1.3 0.3]\n",
      "Exanple 41: label 0, features [4.5 2.3 1.3 0.3]\n",
      "Exanple 42: label 0, features [4.4 3.2 1.3 0.2]\n",
      "Exanple 43: label 0, features [5.  3.5 1.6 0.6]\n",
      "Exanple 44: label 0, features [5.1 3.8 1.9 0.4]\n",
      "Exanple 45: label 0, features [4.8 3.  1.4 0.3]\n",
      "Exanple 46: label 0, features [5.1 3.8 1.6 0.2]\n",
      "Exanple 47: label 0, features [4.6 3.2 1.4 0.2]\n",
      "Exanple 48: label 0, features [5.3 3.7 1.5 0.2]\n",
      "Exanple 49: label 0, features [5.  3.3 1.4 0.2]\n",
      "Exanple 50: label 1, features [7.  3.2 4.7 1.4]\n",
      "Exanple 51: label 1, features [6.4 3.2 4.5 1.5]\n",
      "Exanple 52: label 1, features [6.9 3.1 4.9 1.5]\n",
      "Exanple 53: label 1, features [5.5 2.3 4.  1.3]\n",
      "Exanple 54: label 1, features [6.5 2.8 4.6 1.5]\n",
      "Exanple 55: label 1, features [5.7 2.8 4.5 1.3]\n",
      "Exanple 56: label 1, features [6.3 3.3 4.7 1.6]\n",
      "Exanple 57: label 1, features [4.9 2.4 3.3 1. ]\n",
      "Exanple 58: label 1, features [6.6 2.9 4.6 1.3]\n",
      "Exanple 59: label 1, features [5.2 2.7 3.9 1.4]\n",
      "Exanple 60: label 1, features [5.  2.  3.5 1. ]\n",
      "Exanple 61: label 1, features [5.9 3.  4.2 1.5]\n",
      "Exanple 62: label 1, features [6.  2.2 4.  1. ]\n",
      "Exanple 63: label 1, features [6.1 2.9 4.7 1.4]\n",
      "Exanple 64: label 1, features [5.6 2.9 3.6 1.3]\n",
      "Exanple 65: label 1, features [6.7 3.1 4.4 1.4]\n",
      "Exanple 66: label 1, features [5.6 3.  4.5 1.5]\n",
      "Exanple 67: label 1, features [5.8 2.7 4.1 1. ]\n",
      "Exanple 68: label 1, features [6.2 2.2 4.5 1.5]\n",
      "Exanple 69: label 1, features [5.6 2.5 3.9 1.1]\n",
      "Exanple 70: label 1, features [5.9 3.2 4.8 1.8]\n",
      "Exanple 71: label 1, features [6.1 2.8 4.  1.3]\n",
      "Exanple 72: label 1, features [6.3 2.5 4.9 1.5]\n",
      "Exanple 73: label 1, features [6.1 2.8 4.7 1.2]\n",
      "Exanple 74: label 1, features [6.4 2.9 4.3 1.3]\n",
      "Exanple 75: label 1, features [6.6 3.  4.4 1.4]\n",
      "Exanple 76: label 1, features [6.8 2.8 4.8 1.4]\n",
      "Exanple 77: label 1, features [6.7 3.  5.  1.7]\n",
      "Exanple 78: label 1, features [6.  2.9 4.5 1.5]\n",
      "Exanple 79: label 1, features [5.7 2.6 3.5 1. ]\n",
      "Exanple 80: label 1, features [5.5 2.4 3.8 1.1]\n",
      "Exanple 81: label 1, features [5.5 2.4 3.7 1. ]\n",
      "Exanple 82: label 1, features [5.8 2.7 3.9 1.2]\n",
      "Exanple 83: label 1, features [6.  2.7 5.1 1.6]\n",
      "Exanple 84: label 1, features [5.4 3.  4.5 1.5]\n",
      "Exanple 85: label 1, features [6.  3.4 4.5 1.6]\n",
      "Exanple 86: label 1, features [6.7 3.1 4.7 1.5]\n",
      "Exanple 87: label 1, features [6.3 2.3 4.4 1.3]\n",
      "Exanple 88: label 1, features [5.6 3.  4.1 1.3]\n",
      "Exanple 89: label 1, features [5.5 2.5 4.  1.3]\n",
      "Exanple 90: label 1, features [5.5 2.6 4.4 1.2]\n",
      "Exanple 91: label 1, features [6.1 3.  4.6 1.4]\n",
      "Exanple 92: label 1, features [5.8 2.6 4.  1.2]\n",
      "Exanple 93: label 1, features [5.  2.3 3.3 1. ]\n",
      "Exanple 94: label 1, features [5.6 2.7 4.2 1.3]\n",
      "Exanple 95: label 1, features [5.7 3.  4.2 1.2]\n",
      "Exanple 96: label 1, features [5.7 2.9 4.2 1.3]\n",
      "Exanple 97: label 1, features [6.2 2.9 4.3 1.3]\n",
      "Exanple 98: label 1, features [5.1 2.5 3.  1.1]\n",
      "Exanple 99: label 1, features [5.7 2.8 4.1 1.3]\n",
      "Exanple 100: label 2, features [6.3 3.3 6.  2.5]\n",
      "Exanple 101: label 2, features [5.8 2.7 5.1 1.9]\n",
      "Exanple 102: label 2, features [7.1 3.  5.9 2.1]\n",
      "Exanple 103: label 2, features [6.3 2.9 5.6 1.8]\n",
      "Exanple 104: label 2, features [6.5 3.  5.8 2.2]\n",
      "Exanple 105: label 2, features [7.6 3.  6.6 2.1]\n",
      "Exanple 106: label 2, features [4.9 2.5 4.5 1.7]\n",
      "Exanple 107: label 2, features [7.3 2.9 6.3 1.8]\n",
      "Exanple 108: label 2, features [6.7 2.5 5.8 1.8]\n",
      "Exanple 109: label 2, features [7.2 3.6 6.1 2.5]\n",
      "Exanple 110: label 2, features [6.5 3.2 5.1 2. ]\n",
      "Exanple 111: label 2, features [6.4 2.7 5.3 1.9]\n",
      "Exanple 112: label 2, features [6.8 3.  5.5 2.1]\n",
      "Exanple 113: label 2, features [5.7 2.5 5.  2. ]\n",
      "Exanple 114: label 2, features [5.8 2.8 5.1 2.4]\n",
      "Exanple 115: label 2, features [6.4 3.2 5.3 2.3]\n",
      "Exanple 116: label 2, features [6.5 3.  5.5 1.8]\n",
      "Exanple 117: label 2, features [7.7 3.8 6.7 2.2]\n",
      "Exanple 118: label 2, features [7.7 2.6 6.9 2.3]\n",
      "Exanple 119: label 2, features [6.  2.2 5.  1.5]\n",
      "Exanple 120: label 2, features [6.9 3.2 5.7 2.3]\n",
      "Exanple 121: label 2, features [5.6 2.8 4.9 2. ]\n",
      "Exanple 122: label 2, features [7.7 2.8 6.7 2. ]\n",
      "Exanple 123: label 2, features [6.3 2.7 4.9 1.8]\n",
      "Exanple 124: label 2, features [6.7 3.3 5.7 2.1]\n",
      "Exanple 125: label 2, features [7.2 3.2 6.  1.8]\n",
      "Exanple 126: label 2, features [6.2 2.8 4.8 1.8]\n",
      "Exanple 127: label 2, features [6.1 3.  4.9 1.8]\n",
      "Exanple 128: label 2, features [6.4 2.8 5.6 2.1]\n",
      "Exanple 129: label 2, features [7.2 3.  5.8 1.6]\n",
      "Exanple 130: label 2, features [7.4 2.8 6.1 1.9]\n",
      "Exanple 131: label 2, features [7.9 3.8 6.4 2. ]\n",
      "Exanple 132: label 2, features [6.4 2.8 5.6 2.2]\n",
      "Exanple 133: label 2, features [6.3 2.8 5.1 1.5]\n",
      "Exanple 134: label 2, features [6.1 2.6 5.6 1.4]\n",
      "Exanple 135: label 2, features [7.7 3.  6.1 2.3]\n",
      "Exanple 136: label 2, features [6.3 3.4 5.6 2.4]\n",
      "Exanple 137: label 2, features [6.4 3.1 5.5 1.8]\n",
      "Exanple 138: label 2, features [6.  3.  4.8 1.8]\n",
      "Exanple 139: label 2, features [6.9 3.1 5.4 2.1]\n",
      "Exanple 140: label 2, features [6.7 3.1 5.6 2.4]\n",
      "Exanple 141: label 2, features [6.9 3.1 5.1 2.3]\n",
      "Exanple 142: label 2, features [5.8 2.7 5.1 1.9]\n",
      "Exanple 143: label 2, features [6.8 3.2 5.9 2.3]\n",
      "Exanple 144: label 2, features [6.7 3.3 5.7 2.5]\n",
      "Exanple 145: label 2, features [6.7 3.  5.2 2.3]\n",
      "Exanple 146: label 2, features [6.3 2.5 5.  1.9]\n",
      "Exanple 147: label 2, features [6.5 3.  5.2 2. ]\n",
      "Exanple 148: label 2, features [6.2 3.4 5.4 2.3]\n",
      "Exanple 149: label 2, features [5.9 3.  5.1 1.8]\n"
     ]
    }
   ],
   "source": [
    "for i in range(len(iris.target)):\n",
    "    print(\"Exanple %d: label %s, features %s\" % (i, iris.target[i], iris.data[i]))"
   ]
  },
  {
   "cell_type": "code",
   "execution_count": 45,
   "metadata": {},
   "outputs": [
    {
     "name": "stdout",
     "output_type": "stream",
     "text": [
      "{'data': array([[5.1, 3.5, 1.4, 0.2],\n",
      "       [4.9, 3. , 1.4, 0.2],\n",
      "       [4.7, 3.2, 1.3, 0.2],\n",
      "       [4.6, 3.1, 1.5, 0.2],\n",
      "       [5. , 3.6, 1.4, 0.2],\n",
      "       [5.4, 3.9, 1.7, 0.4],\n",
      "       [4.6, 3.4, 1.4, 0.3],\n",
      "       [5. , 3.4, 1.5, 0.2],\n",
      "       [4.4, 2.9, 1.4, 0.2],\n",
      "       [4.9, 3.1, 1.5, 0.1],\n",
      "       [5.4, 3.7, 1.5, 0.2],\n",
      "       [4.8, 3.4, 1.6, 0.2],\n",
      "       [4.8, 3. , 1.4, 0.1],\n",
      "       [4.3, 3. , 1.1, 0.1],\n",
      "       [5.8, 4. , 1.2, 0.2],\n",
      "       [5.7, 4.4, 1.5, 0.4],\n",
      "       [5.4, 3.9, 1.3, 0.4],\n",
      "       [5.1, 3.5, 1.4, 0.3],\n",
      "       [5.7, 3.8, 1.7, 0.3],\n",
      "       [5.1, 3.8, 1.5, 0.3],\n",
      "       [5.4, 3.4, 1.7, 0.2],\n",
      "       [5.1, 3.7, 1.5, 0.4],\n",
      "       [4.6, 3.6, 1. , 0.2],\n",
      "       [5.1, 3.3, 1.7, 0.5],\n",
      "       [4.8, 3.4, 1.9, 0.2],\n",
      "       [5. , 3. , 1.6, 0.2],\n",
      "       [5. , 3.4, 1.6, 0.4],\n",
      "       [5.2, 3.5, 1.5, 0.2],\n",
      "       [5.2, 3.4, 1.4, 0.2],\n",
      "       [4.7, 3.2, 1.6, 0.2],\n",
      "       [4.8, 3.1, 1.6, 0.2],\n",
      "       [5.4, 3.4, 1.5, 0.4],\n",
      "       [5.2, 4.1, 1.5, 0.1],\n",
      "       [5.5, 4.2, 1.4, 0.2],\n",
      "       [4.9, 3.1, 1.5, 0.2],\n",
      "       [5. , 3.2, 1.2, 0.2],\n",
      "       [5.5, 3.5, 1.3, 0.2],\n",
      "       [4.9, 3.6, 1.4, 0.1],\n",
      "       [4.4, 3. , 1.3, 0.2],\n",
      "       [5.1, 3.4, 1.5, 0.2],\n",
      "       [5. , 3.5, 1.3, 0.3],\n",
      "       [4.5, 2.3, 1.3, 0.3],\n",
      "       [4.4, 3.2, 1.3, 0.2],\n",
      "       [5. , 3.5, 1.6, 0.6],\n",
      "       [5.1, 3.8, 1.9, 0.4],\n",
      "       [4.8, 3. , 1.4, 0.3],\n",
      "       [5.1, 3.8, 1.6, 0.2],\n",
      "       [4.6, 3.2, 1.4, 0.2],\n",
      "       [5.3, 3.7, 1.5, 0.2],\n",
      "       [5. , 3.3, 1.4, 0.2],\n",
      "       [7. , 3.2, 4.7, 1.4],\n",
      "       [6.4, 3.2, 4.5, 1.5],\n",
      "       [6.9, 3.1, 4.9, 1.5],\n",
      "       [5.5, 2.3, 4. , 1.3],\n",
      "       [6.5, 2.8, 4.6, 1.5],\n",
      "       [5.7, 2.8, 4.5, 1.3],\n",
      "       [6.3, 3.3, 4.7, 1.6],\n",
      "       [4.9, 2.4, 3.3, 1. ],\n",
      "       [6.6, 2.9, 4.6, 1.3],\n",
      "       [5.2, 2.7, 3.9, 1.4],\n",
      "       [5. , 2. , 3.5, 1. ],\n",
      "       [5.9, 3. , 4.2, 1.5],\n",
      "       [6. , 2.2, 4. , 1. ],\n",
      "       [6.1, 2.9, 4.7, 1.4],\n",
      "       [5.6, 2.9, 3.6, 1.3],\n",
      "       [6.7, 3.1, 4.4, 1.4],\n",
      "       [5.6, 3. , 4.5, 1.5],\n",
      "       [5.8, 2.7, 4.1, 1. ],\n",
      "       [6.2, 2.2, 4.5, 1.5],\n",
      "       [5.6, 2.5, 3.9, 1.1],\n",
      "       [5.9, 3.2, 4.8, 1.8],\n",
      "       [6.1, 2.8, 4. , 1.3],\n",
      "       [6.3, 2.5, 4.9, 1.5],\n",
      "       [6.1, 2.8, 4.7, 1.2],\n",
      "       [6.4, 2.9, 4.3, 1.3],\n",
      "       [6.6, 3. , 4.4, 1.4],\n",
      "       [6.8, 2.8, 4.8, 1.4],\n",
      "       [6.7, 3. , 5. , 1.7],\n",
      "       [6. , 2.9, 4.5, 1.5],\n",
      "       [5.7, 2.6, 3.5, 1. ],\n",
      "       [5.5, 2.4, 3.8, 1.1],\n",
      "       [5.5, 2.4, 3.7, 1. ],\n",
      "       [5.8, 2.7, 3.9, 1.2],\n",
      "       [6. , 2.7, 5.1, 1.6],\n",
      "       [5.4, 3. , 4.5, 1.5],\n",
      "       [6. , 3.4, 4.5, 1.6],\n",
      "       [6.7, 3.1, 4.7, 1.5],\n",
      "       [6.3, 2.3, 4.4, 1.3],\n",
      "       [5.6, 3. , 4.1, 1.3],\n",
      "       [5.5, 2.5, 4. , 1.3],\n",
      "       [5.5, 2.6, 4.4, 1.2],\n",
      "       [6.1, 3. , 4.6, 1.4],\n",
      "       [5.8, 2.6, 4. , 1.2],\n",
      "       [5. , 2.3, 3.3, 1. ],\n",
      "       [5.6, 2.7, 4.2, 1.3],\n",
      "       [5.7, 3. , 4.2, 1.2],\n",
      "       [5.7, 2.9, 4.2, 1.3],\n",
      "       [6.2, 2.9, 4.3, 1.3],\n",
      "       [5.1, 2.5, 3. , 1.1],\n",
      "       [5.7, 2.8, 4.1, 1.3],\n",
      "       [6.3, 3.3, 6. , 2.5],\n",
      "       [5.8, 2.7, 5.1, 1.9],\n",
      "       [7.1, 3. , 5.9, 2.1],\n",
      "       [6.3, 2.9, 5.6, 1.8],\n",
      "       [6.5, 3. , 5.8, 2.2],\n",
      "       [7.6, 3. , 6.6, 2.1],\n",
      "       [4.9, 2.5, 4.5, 1.7],\n",
      "       [7.3, 2.9, 6.3, 1.8],\n",
      "       [6.7, 2.5, 5.8, 1.8],\n",
      "       [7.2, 3.6, 6.1, 2.5],\n",
      "       [6.5, 3.2, 5.1, 2. ],\n",
      "       [6.4, 2.7, 5.3, 1.9],\n",
      "       [6.8, 3. , 5.5, 2.1],\n",
      "       [5.7, 2.5, 5. , 2. ],\n",
      "       [5.8, 2.8, 5.1, 2.4],\n",
      "       [6.4, 3.2, 5.3, 2.3],\n",
      "       [6.5, 3. , 5.5, 1.8],\n",
      "       [7.7, 3.8, 6.7, 2.2],\n",
      "       [7.7, 2.6, 6.9, 2.3],\n",
      "       [6. , 2.2, 5. , 1.5],\n",
      "       [6.9, 3.2, 5.7, 2.3],\n",
      "       [5.6, 2.8, 4.9, 2. ],\n",
      "       [7.7, 2.8, 6.7, 2. ],\n",
      "       [6.3, 2.7, 4.9, 1.8],\n",
      "       [6.7, 3.3, 5.7, 2.1],\n",
      "       [7.2, 3.2, 6. , 1.8],\n",
      "       [6.2, 2.8, 4.8, 1.8],\n",
      "       [6.1, 3. , 4.9, 1.8],\n",
      "       [6.4, 2.8, 5.6, 2.1],\n",
      "       [7.2, 3. , 5.8, 1.6],\n",
      "       [7.4, 2.8, 6.1, 1.9],\n",
      "       [7.9, 3.8, 6.4, 2. ],\n",
      "       [6.4, 2.8, 5.6, 2.2],\n",
      "       [6.3, 2.8, 5.1, 1.5],\n",
      "       [6.1, 2.6, 5.6, 1.4],\n",
      "       [7.7, 3. , 6.1, 2.3],\n",
      "       [6.3, 3.4, 5.6, 2.4],\n",
      "       [6.4, 3.1, 5.5, 1.8],\n",
      "       [6. , 3. , 4.8, 1.8],\n",
      "       [6.9, 3.1, 5.4, 2.1],\n",
      "       [6.7, 3.1, 5.6, 2.4],\n",
      "       [6.9, 3.1, 5.1, 2.3],\n",
      "       [5.8, 2.7, 5.1, 1.9],\n",
      "       [6.8, 3.2, 5.9, 2.3],\n",
      "       [6.7, 3.3, 5.7, 2.5],\n",
      "       [6.7, 3. , 5.2, 2.3],\n",
      "       [6.3, 2.5, 5. , 1.9],\n",
      "       [6.5, 3. , 5.2, 2. ],\n",
      "       [6.2, 3.4, 5.4, 2.3],\n",
      "       [5.9, 3. , 5.1, 1.8]]), 'target': array([0, 0, 0, 0, 0, 0, 0, 0, 0, 0, 0, 0, 0, 0, 0, 0, 0, 0, 0, 0, 0, 0,\n",
      "       0, 0, 0, 0, 0, 0, 0, 0, 0, 0, 0, 0, 0, 0, 0, 0, 0, 0, 0, 0, 0, 0,\n",
      "       0, 0, 0, 0, 0, 0, 1, 1, 1, 1, 1, 1, 1, 1, 1, 1, 1, 1, 1, 1, 1, 1,\n",
      "       1, 1, 1, 1, 1, 1, 1, 1, 1, 1, 1, 1, 1, 1, 1, 1, 1, 1, 1, 1, 1, 1,\n",
      "       1, 1, 1, 1, 1, 1, 1, 1, 1, 1, 1, 1, 2, 2, 2, 2, 2, 2, 2, 2, 2, 2,\n",
      "       2, 2, 2, 2, 2, 2, 2, 2, 2, 2, 2, 2, 2, 2, 2, 2, 2, 2, 2, 2, 2, 2,\n",
      "       2, 2, 2, 2, 2, 2, 2, 2, 2, 2, 2, 2, 2, 2, 2, 2, 2, 2]), 'frame': None, 'target_names': array(['setosa', 'versicolor', 'virginica'], dtype='<U10'), 'DESCR': '.. _iris_dataset:\\n\\nIris plants dataset\\n--------------------\\n\\n**Data Set Characteristics:**\\n\\n    :Number of Instances: 150 (50 in each of three classes)\\n    :Number of Attributes: 4 numeric, predictive attributes and the class\\n    :Attribute Information:\\n        - sepal length in cm\\n        - sepal width in cm\\n        - petal length in cm\\n        - petal width in cm\\n        - class:\\n                - Iris-Setosa\\n                - Iris-Versicolour\\n                - Iris-Virginica\\n                \\n    :Summary Statistics:\\n\\n    ============== ==== ==== ======= ===== ====================\\n                    Min  Max   Mean    SD   Class Correlation\\n    ============== ==== ==== ======= ===== ====================\\n    sepal length:   4.3  7.9   5.84   0.83    0.7826\\n    sepal width:    2.0  4.4   3.05   0.43   -0.4194\\n    petal length:   1.0  6.9   3.76   1.76    0.9490  (high!)\\n    petal width:    0.1  2.5   1.20   0.76    0.9565  (high!)\\n    ============== ==== ==== ======= ===== ====================\\n\\n    :Missing Attribute Values: None\\n    :Class Distribution: 33.3% for each of 3 classes.\\n    :Creator: R.A. Fisher\\n    :Donor: Michael Marshall (MARSHALL%PLU@io.arc.nasa.gov)\\n    :Date: July, 1988\\n\\nThe famous Iris database, first used by Sir R.A. Fisher. The dataset is taken\\nfrom Fisher\\'s paper. Note that it\\'s the same as in R, but not as in the UCI\\nMachine Learning Repository, which has two wrong data points.\\n\\nThis is perhaps the best known database to be found in the\\npattern recognition literature.  Fisher\\'s paper is a classic in the field and\\nis referenced frequently to this day.  (See Duda & Hart, for example.)  The\\ndata set contains 3 classes of 50 instances each, where each class refers to a\\ntype of iris plant.  One class is linearly separable from the other 2; the\\nlatter are NOT linearly separable from each other.\\n\\n.. topic:: References\\n\\n   - Fisher, R.A. \"The use of multiple measurements in taxonomic problems\"\\n     Annual Eugenics, 7, Part II, 179-188 (1936); also in \"Contributions to\\n     Mathematical Statistics\" (John Wiley, NY, 1950).\\n   - Duda, R.O., & Hart, P.E. (1973) Pattern Classification and Scene Analysis.\\n     (Q327.D83) John Wiley & Sons.  ISBN 0-471-22361-1.  See page 218.\\n   - Dasarathy, B.V. (1980) \"Nosing Around the Neighborhood: A New System\\n     Structure and Classification Rule for Recognition in Partially Exposed\\n     Environments\".  IEEE Transactions on Pattern Analysis and Machine\\n     Intelligence, Vol. PAMI-2, No. 1, 67-71.\\n   - Gates, G.W. (1972) \"The Reduced Nearest Neighbor Rule\".  IEEE Transactions\\n     on Information Theory, May 1972, 431-433.\\n   - See also: 1988 MLC Proceedings, 54-64.  Cheeseman et al\"s AUTOCLASS II\\n     conceptual clustering system finds 3 classes in the data.\\n   - Many, many more ...', 'feature_names': ['sepal length (cm)', 'sepal width (cm)', 'petal length (cm)', 'petal width (cm)'], 'filename': '/Library/Frameworks/Python.framework/Versions/3.8/lib/python3.8/site-packages/sklearn/datasets/data/iris.csv'}\n"
     ]
    }
   ],
   "source": [
    "print(iris)"
   ]
  },
  {
   "cell_type": "code",
   "execution_count": 31,
   "metadata": {},
   "outputs": [],
   "source": [
    "test_idx = [0, 50, 100]"
   ]
  },
  {
   "cell_type": "code",
   "execution_count": 33,
   "metadata": {},
   "outputs": [],
   "source": [
    "# training data: remove the above the data and target variables from three entries for testing "
   ]
  },
  {
   "cell_type": "code",
   "execution_count": 34,
   "metadata": {},
   "outputs": [],
   "source": [
    "train_target = np.delete(iris.target, test_idx)"
   ]
  },
  {
   "cell_type": "code",
   "execution_count": 35,
   "metadata": {},
   "outputs": [],
   "source": [
    "train_data = np.delete(iris.data, test_idx, axis=0)"
   ]
  },
  {
   "cell_type": "code",
   "execution_count": 36,
   "metadata": {},
   "outputs": [],
   "source": [
    "# prepare test data"
   ]
  },
  {
   "cell_type": "code",
   "execution_count": 37,
   "metadata": {},
   "outputs": [],
   "source": [
    "test_target = iris.target[test_idx]\n",
    "test_data = iris.data[test_idx]"
   ]
  },
  {
   "cell_type": "code",
   "execution_count": 38,
   "metadata": {},
   "outputs": [
    {
     "data": {
      "text/plain": [
       "DecisionTreeClassifier()"
      ]
     },
     "execution_count": 38,
     "metadata": {},
     "output_type": "execute_result"
    }
   ],
   "source": [
    "clf = tree.DecisionTreeClassifier()\n",
    "clf.fit(train_data, train_target)"
   ]
  },
  {
   "cell_type": "code",
   "execution_count": 40,
   "metadata": {},
   "outputs": [
    {
     "name": "stdout",
     "output_type": "stream",
     "text": [
      "[0 1 2]\n"
     ]
    }
   ],
   "source": [
    "print(test_target)"
   ]
  },
  {
   "cell_type": "code",
   "execution_count": 41,
   "metadata": {},
   "outputs": [
    {
     "name": "stdout",
     "output_type": "stream",
     "text": [
      "[0 1 2]\n"
     ]
    }
   ],
   "source": [
    "print(clf.predict(test_data))"
   ]
  },
  {
   "cell_type": "code",
   "execution_count": 42,
   "metadata": {},
   "outputs": [
    {
     "data": {
      "text/plain": [
       "array([[5.1, 3.5, 1.4, 0.2],\n",
       "       [7. , 3.2, 4.7, 1.4],\n",
       "       [6.3, 3.3, 6. , 2.5]])"
      ]
     },
     "execution_count": 42,
     "metadata": {},
     "output_type": "execute_result"
    }
   ],
   "source": [
    "test_data"
   ]
  },
  {
   "cell_type": "code",
   "execution_count": 107,
   "metadata": {},
   "outputs": [
    {
     "data": {
      "image/png": "[encoded data removed]",
      "text/plain": [
       "<Figure size 720x720 with 1 Axes>"
      ]
     },
     "metadata": {
      "needs_background": "light"
     },
     "output_type": "display_data"
    },
    {
     "data": {
      "text/plain": [
       "<Figure size 1008x1008 with 0 Axes>"
      ]
     },
     "metadata": {},
     "output_type": "display_data"
    }
   ],
   "source": [
    "fig, ax = plt.subplots(figsize=(10, 10)) \n",
    "tree.plot_tree((clf), ax=ax)\n",
    "plt.figure(figsize=(14,14))\n",
    "plt.show()"
   ]
  },
  {
   "cell_type": "markdown",
   "metadata": {},
   "source": [
    "Decision trees: dog classification"
   ]
  },
  {
   "cell_type": "code",
   "execution_count": 46,
   "metadata": {},
   "outputs": [],
   "source": [
    "import matplotlib.pyplot as plt"
   ]
  },
  {
   "cell_type": "code",
   "execution_count": 49,
   "metadata": {},
   "outputs": [],
   "source": [
    "greyhounds = 500\n",
    "labs = 500"
   ]
  },
  {
   "cell_type": "code",
   "execution_count": 61,
   "metadata": {},
   "outputs": [],
   "source": [
    "grey_height = 28 + 4 * np.random.randn(greyhounds)\n",
    "lab_height = 24 + 4 * np.random.randn(labs)"
   ]
  },
  {
   "cell_type": "code",
   "execution_count": 65,
   "metadata": {
    "scrolled": true
   },
   "outputs": [
    {
     "data": {
      "image/png": "[encoded data removed]",
      "text/plain": [
       "<Figure size 432x288 with 1 Axes>"
      ]
     },
     "metadata": {
      "needs_background": "light"
     },
     "output_type": "display_data"
    }
   ],
   "source": [
    "plt.hist([grey_height,lab_height], stacked=False, color=['r','b'])\n",
    "plt.show()"
   ]
  }
 ],
 "metadata": {
  "kernelspec": {
   "display_name": "Python 3",
   "language": "python",
   "name": "python3"
  },
  "language_info": {
   "codemirror_mode": {
    "name": "ipython",
    "version": 3
   },
   "file_extension": ".py",
   "mimetype": "text/x-python",
   "name": "python",
   "nbconvert_exporter": "python",
   "pygments_lexer": "ipython3",
   "version": "3.8.2"
  }
 },
 "nbformat": 4,
 "nbformat_minor": 4
}
