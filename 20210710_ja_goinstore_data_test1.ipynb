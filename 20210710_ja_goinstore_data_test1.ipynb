{
 "cells": [
  {
   "cell_type": "markdown",
   "metadata": {},
   "source": [
    "# Go Instore <br> Data Take Home Test "
   ]
  },
  {
   "cell_type": "markdown",
   "metadata": {
    "ExecuteTime": {
     "end_time": "2021-04-15T19:52:52.344501Z",
     "start_time": "2021-04-15T19:52:52.339900Z"
    },
    "cell_style": "split"
   },
   "source": [
    "## Introduction"
   ]
  },
  {
   "cell_type": "markdown",
   "metadata": {
    "ExecuteTime": {
     "end_time": "2021-04-15T21:21:02.889123Z",
     "start_time": "2021-04-15T21:21:02.879486Z"
    }
   },
   "source": [
    "### Problem \n",
    "<hr>A new product has been launched by Go Instore, referred to as ‘One to One Appointments Booking’, this is\n",
    "    <blockquote><i> A pre-booking system designed to schedule Go Instore calls in advance. Customers can book, cancel or modify their booking prior to the scheduled launch of the 2 way video call.\n",
    "    </i></blockquote>\n",
    "We have been asked to explore the Appointment data and report on this feature. This anlysis will focus on:\n",
    "\n",
    "1)  Overall performance of this new Appointment feature<br>\n",
    "2)  Where have we been successful<br>\n",
    "3)  What improvements can be made to this service"
   ]
  },
  {
   "cell_type": "markdown",
   "metadata": {
    "ExecuteTime": {
     "end_time": "2021-04-15T21:19:12.574029Z",
     "start_time": "2021-04-15T21:19:12.563741Z"
    }
   },
   "source": [
    "### Module Imports"
   ]
  },
  {
   "cell_type": "code",
   "execution_count": 346,
   "metadata": {
    "ExecuteTime": {
     "end_time": "2021-07-13T01:31:16.745904Z",
     "start_time": "2021-07-13T01:31:16.730047Z"
    }
   },
   "outputs": [],
   "source": [
    "import pandas as pd\n",
    "import numpy as np\n",
    "import matplotlib.pyplot as plt \n",
    "%matplotlib inline\n",
    "import datetime\n",
    "import scipy\n",
    "import seaborn as sns\n",
    "from imblearn.over_sampling import SMOTE\n",
    "import sklearn\n",
    "from sklearn.metrics import classification_report, confusion_matrix\n",
    "from sklearn.preprocessing import MinMaxScaler\n",
    "from sklearn.model_selection import train_test_split\n",
    "from sklearn.neural_network import MLPClassifier\n"
   ]
  },
  {
   "cell_type": "markdown",
   "metadata": {},
   "source": [
    "## Dataset"
   ]
  },
  {
   "cell_type": "markdown",
   "metadata": {
    "ExecuteTime": {
     "end_time": "2021-07-12T21:13:25.786496Z",
     "start_time": "2021-07-12T21:13:25.778266Z"
    }
   },
   "source": [
    "### Import CSV"
   ]
  },
  {
   "cell_type": "code",
   "execution_count": 347,
   "metadata": {
    "ExecuteTime": {
     "end_time": "2021-07-13T01:05:41.684988Z",
     "start_time": "2021-07-13T01:05:41.112114Z"
    }
   },
   "outputs": [],
   "source": [
    "appointments_df = pd.read_csv('Go Instore Test - Appointments Assignment 3.csv',parse_dates=[3,4,5,6,7,8,12,13,15,17,18,29])"
   ]
  },
  {
   "cell_type": "code",
   "execution_count": 348,
   "metadata": {
    "ExecuteTime": {
     "end_time": "2021-07-13T01:05:41.693194Z",
     "start_time": "2021-07-13T01:05:41.687421Z"
    }
   },
   "outputs": [
    {
     "data": {
      "text/plain": [
       "903"
      ]
     },
     "execution_count": 348,
     "metadata": {},
     "output_type": "execute_result"
    }
   ],
   "source": [
    "len(appointments_df)"
   ]
  },
  {
   "cell_type": "code",
   "execution_count": 349,
   "metadata": {
    "ExecuteTime": {
     "end_time": "2021-07-13T01:05:41.713110Z",
     "start_time": "2021-07-13T01:05:41.701584Z"
    }
   },
   "outputs": [
    {
     "data": {
      "text/plain": [
       "850"
      ]
     },
     "execution_count": 349,
     "metadata": {},
     "output_type": "execute_result"
    }
   ],
   "source": [
    "len(appointments_df['call_id'].unique())"
   ]
  },
  {
   "cell_type": "code",
   "execution_count": 350,
   "metadata": {
    "ExecuteTime": {
     "end_time": "2021-07-13T01:05:41.742875Z",
     "start_time": "2021-07-13T01:05:41.722874Z"
    },
    "scrolled": true
   },
   "outputs": [],
   "source": [
    "appointments_clean_df = appointments_df.drop_duplicates()"
   ]
  },
  {
   "cell_type": "code",
   "execution_count": 351,
   "metadata": {
    "ExecuteTime": {
     "end_time": "2021-07-13T01:05:41.759057Z",
     "start_time": "2021-07-13T01:05:41.748513Z"
    }
   },
   "outputs": [
    {
     "data": {
      "text/plain": [
       "894"
      ]
     },
     "execution_count": 351,
     "metadata": {},
     "output_type": "execute_result"
    }
   ],
   "source": [
    "len(appointments_clean_df)"
   ]
  },
  {
   "cell_type": "code",
   "execution_count": 352,
   "metadata": {
    "ExecuteTime": {
     "end_time": "2021-07-13T01:05:41.777127Z",
     "start_time": "2021-07-13T01:05:41.761729Z"
    }
   },
   "outputs": [],
   "source": [
    "duplicates_df= appointments_df.iloc[list(set(appointments_df.index) - set(appointments_clean_df.index))]"
   ]
  },
  {
   "cell_type": "markdown",
   "metadata": {},
   "source": [
    "The Appointments CSV file has been read and saved as a Pandas dataframe.The call_id is a unique identifier for each booking; this will be used as the index. Duplicate rows (across all columns) have been dropped (saved to another dataframe, taking the rows from 903 to 894."
   ]
  },
  {
   "cell_type": "code",
   "execution_count": 353,
   "metadata": {
    "ExecuteTime": {
     "end_time": "2021-07-13T01:05:41.833236Z",
     "start_time": "2021-07-13T01:05:41.785464Z"
    }
   },
   "outputs": [
    {
     "data": {
      "text/html": [
       "<div>\n",
       "<style scoped>\n",
       "    .dataframe tbody tr th:only-of-type {\n",
       "        vertical-align: middle;\n",
       "    }\n",
       "\n",
       "    .dataframe tbody tr th {\n",
       "        vertical-align: top;\n",
       "    }\n",
       "\n",
       "    .dataframe thead th {\n",
       "        text-align: right;\n",
       "    }\n",
       "</style>\n",
       "<table border=\"1\" class=\"dataframe\">\n",
       "  <thead>\n",
       "    <tr style=\"text-align: right;\">\n",
       "      <th></th>\n",
       "      <th>call_id</th>\n",
       "      <th>Customer Id</th>\n",
       "      <th>Call Type</th>\n",
       "      <th>Date Created Local</th>\n",
       "      <th>Created At Local</th>\n",
       "      <th>Call Started Local</th>\n",
       "      <th>Scheduled Start Date Local</th>\n",
       "      <th>Scheduled Start Time Local</th>\n",
       "      <th>Scheduled End Time Local</th>\n",
       "      <th>Status</th>\n",
       "      <th>Booking Title</th>\n",
       "      <th>Booked By Staff Id</th>\n",
       "      <th>Staff First Joined Activity Timestamps Local</th>\n",
       "      <th>Staff Joined Activities Timestamps Local</th>\n",
       "      <th>Staff Joined Count</th>\n",
       "      <th>Staff Left Activities Timestamps UTC</th>\n",
       "      <th>Customer Joined Count</th>\n",
       "      <th>Customer Joined Activities Timestamps UTC</th>\n",
       "      <th>Customer Left Activities Timestamps UTC</th>\n",
       "      <th>Customer Enabled Video</th>\n",
       "      <th>Call Result</th>\n",
       "      <th>Call Duration (Sec)</th>\n",
       "      <th>Staff Score</th>\n",
       "      <th>Avg Customer Rating (Overall)</th>\n",
       "      <th>Rating Question \"How Was The Stream Quality\"</th>\n",
       "      <th>Rating Question \"Did you find your rep helpful?\"</th>\n",
       "      <th>Rating Question \"How likely are you to use this service again\"?</th>\n",
       "      <th>purchase_made_after_call</th>\n",
       "      <th>purchase_value_usd</th>\n",
       "      <th>timestamp of checkout</th>\n",
       "      <th>days_between_call_and_purchase</th>\n",
       "    </tr>\n",
       "  </thead>\n",
       "  <tbody>\n",
       "    <tr>\n",
       "      <th>0</th>\n",
       "      <td>10653788</td>\n",
       "      <td>fk3nlsty-g7lu-ig6q-xli8-q1rjko1eh09c</td>\n",
       "      <td>BOOKING</td>\n",
       "      <td>2021-05-26</td>\n",
       "      <td>2021-05-26 15:52:00</td>\n",
       "      <td>2021-05-28 10:19:00</td>\n",
       "      <td>2021-05-28</td>\n",
       "      <td>2021-05-28 10:15:00</td>\n",
       "      <td>2021-05-28 10:25:00</td>\n",
       "      <td>ENDED</td>\n",
       "      <td>Live expert booking - All Goods</td>\n",
       "      <td>21998</td>\n",
       "      <td>2021-05-28 10:12:00</td>\n",
       "      <td>2021-05-28 10:12:17, 2021-05-28 10:15:11, 2021...</td>\n",
       "      <td>3</td>\n",
       "      <td>2021-05-28 10:15:07, 2021-05-28 10:17:04, 2021...</td>\n",
       "      <td>1</td>\n",
       "      <td>28/05/2021 10:19</td>\n",
       "      <td>NaN</td>\n",
       "      <td>0</td>\n",
       "      <td>Booking - Successful call</td>\n",
       "      <td>147</td>\n",
       "      <td>3.0</td>\n",
       "      <td>NaN</td>\n",
       "      <td>NaN</td>\n",
       "      <td>NaN</td>\n",
       "      <td>NaN</td>\n",
       "      <td>YES</td>\n",
       "      <td>23.6</td>\n",
       "      <td>2021-01-06 13:21:00</td>\n",
       "      <td>4.0</td>\n",
       "    </tr>\n",
       "    <tr>\n",
       "      <th>1</th>\n",
       "      <td>10343190</td>\n",
       "      <td>kk4w9y59-suss-ampm-4pox-oj2qhv0py3t4</td>\n",
       "      <td>BOOKING</td>\n",
       "      <td>2021-08-05</td>\n",
       "      <td>2021-08-05 23:04:00</td>\n",
       "      <td>2021-12-05 16:45:00</td>\n",
       "      <td>2021-12-05</td>\n",
       "      <td>2021-12-05 16:45:00</td>\n",
       "      <td>2021-12-05 16:55:00</td>\n",
       "      <td>ENDED</td>\n",
       "      <td>Live expert booking - All Goods</td>\n",
       "      <td>22017</td>\n",
       "      <td>2021-12-05 16:41:00</td>\n",
       "      <td>12/05/2021 16:41</td>\n",
       "      <td>1</td>\n",
       "      <td>12/05/2021 16:51</td>\n",
       "      <td>1</td>\n",
       "      <td>12/05/2021 16:45</td>\n",
       "      <td>NaN</td>\n",
       "      <td>1</td>\n",
       "      <td>Booking - Successful call</td>\n",
       "      <td>356</td>\n",
       "      <td>3.0</td>\n",
       "      <td>5.00</td>\n",
       "      <td>5.0</td>\n",
       "      <td>5.0</td>\n",
       "      <td>5.0</td>\n",
       "      <td>YES</td>\n",
       "      <td>597.0</td>\n",
       "      <td>2021-05-16 20:34:00</td>\n",
       "      <td>4.0</td>\n",
       "    </tr>\n",
       "    <tr>\n",
       "      <th>2</th>\n",
       "      <td>9647059</td>\n",
       "      <td>6vzngogp-dd3d-yllc-3zsc-gb3wui8cnsfo</td>\n",
       "      <td>BOOKING</td>\n",
       "      <td>2021-06-04</td>\n",
       "      <td>2021-06-04 16:53:00</td>\n",
       "      <td>2021-07-04 17:14:00</td>\n",
       "      <td>2021-07-04</td>\n",
       "      <td>2021-07-04 17:00:00</td>\n",
       "      <td>2021-07-04 17:10:00</td>\n",
       "      <td>ENDED</td>\n",
       "      <td>Live expert booking - All Goods</td>\n",
       "      <td>22017</td>\n",
       "      <td>2021-07-04 16:58:00</td>\n",
       "      <td>07/04/2021 16:58</td>\n",
       "      <td>1</td>\n",
       "      <td>07/04/2021 17:32</td>\n",
       "      <td>2</td>\n",
       "      <td>2021-04-07 17:01:10, 2021-04-07 17:13:54</td>\n",
       "      <td>NaN</td>\n",
       "      <td>1</td>\n",
       "      <td>Booking - Successful call</td>\n",
       "      <td>2427</td>\n",
       "      <td>4.0</td>\n",
       "      <td>5.00</td>\n",
       "      <td>5.0</td>\n",
       "      <td>5.0</td>\n",
       "      <td>5.0</td>\n",
       "      <td>YES</td>\n",
       "      <td>27.5</td>\n",
       "      <td>2021-02-05 14:10:00</td>\n",
       "      <td>25.0</td>\n",
       "    </tr>\n",
       "    <tr>\n",
       "      <th>3</th>\n",
       "      <td>9647059</td>\n",
       "      <td>6vzngogp-dd3d-yllc-3zsc-gb3wui8cnsfo</td>\n",
       "      <td>BOOKING</td>\n",
       "      <td>2021-06-04</td>\n",
       "      <td>2021-06-04 16:53:00</td>\n",
       "      <td>2021-07-04 17:14:00</td>\n",
       "      <td>2021-07-04</td>\n",
       "      <td>2021-07-04 17:00:00</td>\n",
       "      <td>2021-07-04 17:10:00</td>\n",
       "      <td>ENDED</td>\n",
       "      <td>Live expert booking - All Goods</td>\n",
       "      <td>22017</td>\n",
       "      <td>2021-07-04 16:58:00</td>\n",
       "      <td>07/04/2021 16:58</td>\n",
       "      <td>1</td>\n",
       "      <td>07/04/2021 17:32</td>\n",
       "      <td>2</td>\n",
       "      <td>2021-04-07 17:01:10, 2021-04-07 17:13:54</td>\n",
       "      <td>NaN</td>\n",
       "      <td>1</td>\n",
       "      <td>Booking - Successful call</td>\n",
       "      <td>2427</td>\n",
       "      <td>4.0</td>\n",
       "      <td>5.00</td>\n",
       "      <td>5.0</td>\n",
       "      <td>5.0</td>\n",
       "      <td>5.0</td>\n",
       "      <td>YES</td>\n",
       "      <td>39.0</td>\n",
       "      <td>2021-04-24 10:57:00</td>\n",
       "      <td>17.0</td>\n",
       "    </tr>\n",
       "    <tr>\n",
       "      <th>4</th>\n",
       "      <td>9709891</td>\n",
       "      <td>6l13g0kj-g0pa-hbw7-xshv-5ekgl2111yo6</td>\n",
       "      <td>BOOKING</td>\n",
       "      <td>2021-08-04</td>\n",
       "      <td>2021-08-04 18:10:00</td>\n",
       "      <td>2021-09-04 18:07:00</td>\n",
       "      <td>2021-09-04</td>\n",
       "      <td>2021-09-04 18:00:00</td>\n",
       "      <td>2021-09-04 18:15:00</td>\n",
       "      <td>ENDED</td>\n",
       "      <td>Live expert booking - All Goods</td>\n",
       "      <td>21998</td>\n",
       "      <td>2021-09-04 18:07:00</td>\n",
       "      <td>09/04/2021 18:07</td>\n",
       "      <td>1</td>\n",
       "      <td>09/04/2021 18:15</td>\n",
       "      <td>1</td>\n",
       "      <td>09/04/2021 17:59</td>\n",
       "      <td>NaN</td>\n",
       "      <td>1</td>\n",
       "      <td>Booking - Successful call</td>\n",
       "      <td>524</td>\n",
       "      <td>3.0</td>\n",
       "      <td>4.00</td>\n",
       "      <td>4.0</td>\n",
       "      <td>4.0</td>\n",
       "      <td>4.0</td>\n",
       "      <td>YES</td>\n",
       "      <td>179.0</td>\n",
       "      <td>2021-04-23 08:23:00</td>\n",
       "      <td>14.0</td>\n",
       "    </tr>\n",
       "    <tr>\n",
       "      <th>5</th>\n",
       "      <td>9855287</td>\n",
       "      <td>yaogtp01-dez1-umb4-ijra-wbt5heqq1aa5</td>\n",
       "      <td>BOOKING</td>\n",
       "      <td>2021-04-15</td>\n",
       "      <td>2021-04-15 02:23:00</td>\n",
       "      <td>2021-04-16 14:16:00</td>\n",
       "      <td>2021-04-16</td>\n",
       "      <td>2021-04-16 14:15:00</td>\n",
       "      <td>2021-04-16 14:25:00</td>\n",
       "      <td>ENDED</td>\n",
       "      <td>Live expert booking - All Goods</td>\n",
       "      <td>21556</td>\n",
       "      <td>2021-04-16 14:15:00</td>\n",
       "      <td>16/04/2021 14:15</td>\n",
       "      <td>1</td>\n",
       "      <td>16/04/2021 14:23</td>\n",
       "      <td>1</td>\n",
       "      <td>16/04/2021 14:16</td>\n",
       "      <td>16/04/2021 14:23</td>\n",
       "      <td>1</td>\n",
       "      <td>Booking - Successful call</td>\n",
       "      <td>437</td>\n",
       "      <td>3.0</td>\n",
       "      <td>4.67</td>\n",
       "      <td>5.0</td>\n",
       "      <td>5.0</td>\n",
       "      <td>4.0</td>\n",
       "      <td>YES</td>\n",
       "      <td>767.1</td>\n",
       "      <td>2021-04-19 22:03:00</td>\n",
       "      <td>3.0</td>\n",
       "    </tr>\n",
       "    <tr>\n",
       "      <th>6</th>\n",
       "      <td>9779095</td>\n",
       "      <td>higgtrpr-o7df-xdl6-39ah-9gi47oas18yo</td>\n",
       "      <td>BOOKING</td>\n",
       "      <td>2021-11-04</td>\n",
       "      <td>2021-11-04 21:23:00</td>\n",
       "      <td>2021-04-13 17:35:00</td>\n",
       "      <td>2021-04-13</td>\n",
       "      <td>2021-04-13 17:30:00</td>\n",
       "      <td>2021-04-13 17:40:00</td>\n",
       "      <td>ENDED</td>\n",
       "      <td>Live expert booking - All Goods</td>\n",
       "      <td>21998</td>\n",
       "      <td>2021-04-13 17:26:00</td>\n",
       "      <td>13/04/2021 17:26</td>\n",
       "      <td>1</td>\n",
       "      <td>13/04/2021 17:40</td>\n",
       "      <td>1</td>\n",
       "      <td>13/04/2021 17:35</td>\n",
       "      <td>NaN</td>\n",
       "      <td>1</td>\n",
       "      <td>Booking - Successful call</td>\n",
       "      <td>263</td>\n",
       "      <td>3.0</td>\n",
       "      <td>NaN</td>\n",
       "      <td>NaN</td>\n",
       "      <td>NaN</td>\n",
       "      <td>NaN</td>\n",
       "      <td>YES</td>\n",
       "      <td>1918.4</td>\n",
       "      <td>2021-04-17 12:33:00</td>\n",
       "      <td>4.0</td>\n",
       "    </tr>\n",
       "    <tr>\n",
       "      <th>7</th>\n",
       "      <td>9763767</td>\n",
       "      <td>4q374ps1-xgoh-cg4f-bkb5-l0uhpzbc45hk</td>\n",
       "      <td>BOOKING</td>\n",
       "      <td>2021-11-04</td>\n",
       "      <td>2021-11-04 09:03:00</td>\n",
       "      <td>2021-12-04 10:15:00</td>\n",
       "      <td>2021-12-04</td>\n",
       "      <td>2021-12-04 10:15:00</td>\n",
       "      <td>2021-12-04 10:25:00</td>\n",
       "      <td>ENDED</td>\n",
       "      <td>Live expert booking - All Goods</td>\n",
       "      <td>21998</td>\n",
       "      <td>2021-12-04 10:11:00</td>\n",
       "      <td>2021-04-12 10:11:38, 2021-04-12 10:26:02</td>\n",
       "      <td>2</td>\n",
       "      <td>2021-04-12 10:25:48, 2021-04-12 10:42:31</td>\n",
       "      <td>3</td>\n",
       "      <td>2021-04-12 10:14:56, 2021-04-12 10:15:51, 2021...</td>\n",
       "      <td>12/04/2021 10:26</td>\n",
       "      <td>1</td>\n",
       "      <td>Booking - Successful call</td>\n",
       "      <td>648</td>\n",
       "      <td>3.0</td>\n",
       "      <td>NaN</td>\n",
       "      <td>NaN</td>\n",
       "      <td>NaN</td>\n",
       "      <td>NaN</td>\n",
       "      <td>YES</td>\n",
       "      <td>30.0</td>\n",
       "      <td>2021-04-15 21:26:00</td>\n",
       "      <td>4.0</td>\n",
       "    </tr>\n",
       "    <tr>\n",
       "      <th>8</th>\n",
       "      <td>9101652</td>\n",
       "      <td>yyj4kil3-r7ea-tsuk-n1yw-0s376ee5u3gh</td>\n",
       "      <td>BOOKING</td>\n",
       "      <td>2021-03-17</td>\n",
       "      <td>2021-03-17 10:59:00</td>\n",
       "      <td>2021-03-18 11:16:00</td>\n",
       "      <td>2021-03-18</td>\n",
       "      <td>2021-03-18 11:15:00</td>\n",
       "      <td>2021-03-18 11:35:00</td>\n",
       "      <td>ENDED</td>\n",
       "      <td>Live expert booking - All Goods</td>\n",
       "      <td>21557</td>\n",
       "      <td>2021-03-18 11:13:00</td>\n",
       "      <td>18/03/2021 11:13</td>\n",
       "      <td>1</td>\n",
       "      <td>18/03/2021 11:26</td>\n",
       "      <td>2</td>\n",
       "      <td>2021-03-18 11:15:18, 2021-03-18 11:16:19</td>\n",
       "      <td>18/03/2021 11:26</td>\n",
       "      <td>1</td>\n",
       "      <td>Booking - Successful call</td>\n",
       "      <td>582</td>\n",
       "      <td>4.0</td>\n",
       "      <td>5.00</td>\n",
       "      <td>5.0</td>\n",
       "      <td>5.0</td>\n",
       "      <td>5.0</td>\n",
       "      <td>YES</td>\n",
       "      <td>1877.6</td>\n",
       "      <td>2021-12-04 22:19:00</td>\n",
       "      <td>26.0</td>\n",
       "    </tr>\n",
       "    <tr>\n",
       "      <th>9</th>\n",
       "      <td>9682555</td>\n",
       "      <td>9v693akm-qiar-cflr-qihk-3w9abbyqxqvf</td>\n",
       "      <td>BOOKING</td>\n",
       "      <td>2021-07-04</td>\n",
       "      <td>2021-07-04 18:47:00</td>\n",
       "      <td>2021-09-04 11:14:00</td>\n",
       "      <td>2021-09-04</td>\n",
       "      <td>2021-09-04 11:15:00</td>\n",
       "      <td>2021-09-04 11:25:00</td>\n",
       "      <td>ENDED</td>\n",
       "      <td>Live expert booking - All Goods</td>\n",
       "      <td>22853</td>\n",
       "      <td>2021-09-04 11:14:00</td>\n",
       "      <td>09/04/2021 11:14</td>\n",
       "      <td>1</td>\n",
       "      <td>09/04/2021 11:24</td>\n",
       "      <td>1</td>\n",
       "      <td>09/04/2021 11:14</td>\n",
       "      <td>NaN</td>\n",
       "      <td>0</td>\n",
       "      <td>Booking - Successful call</td>\n",
       "      <td>587</td>\n",
       "      <td>NaN</td>\n",
       "      <td>4.67</td>\n",
       "      <td>5.0</td>\n",
       "      <td>4.0</td>\n",
       "      <td>5.0</td>\n",
       "      <td>YES</td>\n",
       "      <td>83.5</td>\n",
       "      <td>2021-12-04 08:31:00</td>\n",
       "      <td>3.0</td>\n",
       "    </tr>\n",
       "  </tbody>\n",
       "</table>\n",
       "</div>"
      ],
      "text/plain": [
       "    call_id                           Customer Id Call Type  \\\n",
       "0  10653788  fk3nlsty-g7lu-ig6q-xli8-q1rjko1eh09c   BOOKING   \n",
       "1  10343190  kk4w9y59-suss-ampm-4pox-oj2qhv0py3t4   BOOKING   \n",
       "2   9647059  6vzngogp-dd3d-yllc-3zsc-gb3wui8cnsfo   BOOKING   \n",
       "3   9647059  6vzngogp-dd3d-yllc-3zsc-gb3wui8cnsfo   BOOKING   \n",
       "4   9709891  6l13g0kj-g0pa-hbw7-xshv-5ekgl2111yo6   BOOKING   \n",
       "5   9855287  yaogtp01-dez1-umb4-ijra-wbt5heqq1aa5   BOOKING   \n",
       "6   9779095  higgtrpr-o7df-xdl6-39ah-9gi47oas18yo   BOOKING   \n",
       "7   9763767  4q374ps1-xgoh-cg4f-bkb5-l0uhpzbc45hk   BOOKING   \n",
       "8   9101652  yyj4kil3-r7ea-tsuk-n1yw-0s376ee5u3gh   BOOKING   \n",
       "9   9682555  9v693akm-qiar-cflr-qihk-3w9abbyqxqvf   BOOKING   \n",
       "\n",
       "  Date Created Local    Created At Local  Call Started Local  \\\n",
       "0         2021-05-26 2021-05-26 15:52:00 2021-05-28 10:19:00   \n",
       "1         2021-08-05 2021-08-05 23:04:00 2021-12-05 16:45:00   \n",
       "2         2021-06-04 2021-06-04 16:53:00 2021-07-04 17:14:00   \n",
       "3         2021-06-04 2021-06-04 16:53:00 2021-07-04 17:14:00   \n",
       "4         2021-08-04 2021-08-04 18:10:00 2021-09-04 18:07:00   \n",
       "5         2021-04-15 2021-04-15 02:23:00 2021-04-16 14:16:00   \n",
       "6         2021-11-04 2021-11-04 21:23:00 2021-04-13 17:35:00   \n",
       "7         2021-11-04 2021-11-04 09:03:00 2021-12-04 10:15:00   \n",
       "8         2021-03-17 2021-03-17 10:59:00 2021-03-18 11:16:00   \n",
       "9         2021-07-04 2021-07-04 18:47:00 2021-09-04 11:14:00   \n",
       "\n",
       "  Scheduled Start Date Local Scheduled Start Time Local  \\\n",
       "0                 2021-05-28        2021-05-28 10:15:00   \n",
       "1                 2021-12-05        2021-12-05 16:45:00   \n",
       "2                 2021-07-04        2021-07-04 17:00:00   \n",
       "3                 2021-07-04        2021-07-04 17:00:00   \n",
       "4                 2021-09-04        2021-09-04 18:00:00   \n",
       "5                 2021-04-16        2021-04-16 14:15:00   \n",
       "6                 2021-04-13        2021-04-13 17:30:00   \n",
       "7                 2021-12-04        2021-12-04 10:15:00   \n",
       "8                 2021-03-18        2021-03-18 11:15:00   \n",
       "9                 2021-09-04        2021-09-04 11:15:00   \n",
       "\n",
       "  Scheduled End Time Local Status                    Booking Title  \\\n",
       "0      2021-05-28 10:25:00  ENDED  Live expert booking - All Goods   \n",
       "1      2021-12-05 16:55:00  ENDED  Live expert booking - All Goods   \n",
       "2      2021-07-04 17:10:00  ENDED  Live expert booking - All Goods   \n",
       "3      2021-07-04 17:10:00  ENDED  Live expert booking - All Goods   \n",
       "4      2021-09-04 18:15:00  ENDED  Live expert booking - All Goods   \n",
       "5      2021-04-16 14:25:00  ENDED  Live expert booking - All Goods   \n",
       "6      2021-04-13 17:40:00  ENDED  Live expert booking - All Goods   \n",
       "7      2021-12-04 10:25:00  ENDED  Live expert booking - All Goods   \n",
       "8      2021-03-18 11:35:00  ENDED  Live expert booking - All Goods   \n",
       "9      2021-09-04 11:25:00  ENDED  Live expert booking - All Goods   \n",
       "\n",
       "   Booked By Staff Id Staff First Joined Activity Timestamps Local  \\\n",
       "0               21998                          2021-05-28 10:12:00   \n",
       "1               22017                          2021-12-05 16:41:00   \n",
       "2               22017                          2021-07-04 16:58:00   \n",
       "3               22017                          2021-07-04 16:58:00   \n",
       "4               21998                          2021-09-04 18:07:00   \n",
       "5               21556                          2021-04-16 14:15:00   \n",
       "6               21998                          2021-04-13 17:26:00   \n",
       "7               21998                          2021-12-04 10:11:00   \n",
       "8               21557                          2021-03-18 11:13:00   \n",
       "9               22853                          2021-09-04 11:14:00   \n",
       "\n",
       "            Staff Joined Activities Timestamps Local  Staff Joined Count  \\\n",
       "0  2021-05-28 10:12:17, 2021-05-28 10:15:11, 2021...                   3   \n",
       "1                                   12/05/2021 16:41                   1   \n",
       "2                                   07/04/2021 16:58                   1   \n",
       "3                                   07/04/2021 16:58                   1   \n",
       "4                                   09/04/2021 18:07                   1   \n",
       "5                                   16/04/2021 14:15                   1   \n",
       "6                                   13/04/2021 17:26                   1   \n",
       "7           2021-04-12 10:11:38, 2021-04-12 10:26:02                   2   \n",
       "8                                   18/03/2021 11:13                   1   \n",
       "9                                   09/04/2021 11:14                   1   \n",
       "\n",
       "                Staff Left Activities Timestamps UTC  Customer Joined Count  \\\n",
       "0  2021-05-28 10:15:07, 2021-05-28 10:17:04, 2021...                      1   \n",
       "1                                   12/05/2021 16:51                      1   \n",
       "2                                   07/04/2021 17:32                      2   \n",
       "3                                   07/04/2021 17:32                      2   \n",
       "4                                   09/04/2021 18:15                      1   \n",
       "5                                   16/04/2021 14:23                      1   \n",
       "6                                   13/04/2021 17:40                      1   \n",
       "7           2021-04-12 10:25:48, 2021-04-12 10:42:31                      3   \n",
       "8                                   18/03/2021 11:26                      2   \n",
       "9                                   09/04/2021 11:24                      1   \n",
       "\n",
       "           Customer Joined Activities Timestamps UTC  \\\n",
       "0                                   28/05/2021 10:19   \n",
       "1                                   12/05/2021 16:45   \n",
       "2           2021-04-07 17:01:10, 2021-04-07 17:13:54   \n",
       "3           2021-04-07 17:01:10, 2021-04-07 17:13:54   \n",
       "4                                   09/04/2021 17:59   \n",
       "5                                   16/04/2021 14:16   \n",
       "6                                   13/04/2021 17:35   \n",
       "7  2021-04-12 10:14:56, 2021-04-12 10:15:51, 2021...   \n",
       "8           2021-03-18 11:15:18, 2021-03-18 11:16:19   \n",
       "9                                   09/04/2021 11:14   \n",
       "\n",
       "  Customer Left Activities Timestamps UTC  Customer Enabled Video  \\\n",
       "0                                     NaN                       0   \n",
       "1                                     NaN                       1   \n",
       "2                                     NaN                       1   \n",
       "3                                     NaN                       1   \n",
       "4                                     NaN                       1   \n",
       "5                        16/04/2021 14:23                       1   \n",
       "6                                     NaN                       1   \n",
       "7                        12/04/2021 10:26                       1   \n",
       "8                        18/03/2021 11:26                       1   \n",
       "9                                     NaN                       0   \n",
       "\n",
       "                 Call Result  Call Duration (Sec)  Staff Score  \\\n",
       "0  Booking - Successful call                  147          3.0   \n",
       "1  Booking - Successful call                  356          3.0   \n",
       "2  Booking - Successful call                 2427          4.0   \n",
       "3  Booking - Successful call                 2427          4.0   \n",
       "4  Booking - Successful call                  524          3.0   \n",
       "5  Booking - Successful call                  437          3.0   \n",
       "6  Booking - Successful call                  263          3.0   \n",
       "7  Booking - Successful call                  648          3.0   \n",
       "8  Booking - Successful call                  582          4.0   \n",
       "9  Booking - Successful call                  587          NaN   \n",
       "\n",
       "   Avg Customer Rating (Overall)  \\\n",
       "0                            NaN   \n",
       "1                           5.00   \n",
       "2                           5.00   \n",
       "3                           5.00   \n",
       "4                           4.00   \n",
       "5                           4.67   \n",
       "6                            NaN   \n",
       "7                            NaN   \n",
       "8                           5.00   \n",
       "9                           4.67   \n",
       "\n",
       "   Rating Question \"How Was The Stream Quality\"  \\\n",
       "0                                           NaN   \n",
       "1                                           5.0   \n",
       "2                                           5.0   \n",
       "3                                           5.0   \n",
       "4                                           4.0   \n",
       "5                                           5.0   \n",
       "6                                           NaN   \n",
       "7                                           NaN   \n",
       "8                                           5.0   \n",
       "9                                           5.0   \n",
       "\n",
       "   Rating Question \"Did you find your rep helpful?\"  \\\n",
       "0                                               NaN   \n",
       "1                                               5.0   \n",
       "2                                               5.0   \n",
       "3                                               5.0   \n",
       "4                                               4.0   \n",
       "5                                               5.0   \n",
       "6                                               NaN   \n",
       "7                                               NaN   \n",
       "8                                               5.0   \n",
       "9                                               4.0   \n",
       "\n",
       "   Rating Question \"How likely are you to use this service again\"?  \\\n",
       "0                                                NaN                 \n",
       "1                                                5.0                 \n",
       "2                                                5.0                 \n",
       "3                                                5.0                 \n",
       "4                                                4.0                 \n",
       "5                                                4.0                 \n",
       "6                                                NaN                 \n",
       "7                                                NaN                 \n",
       "8                                                5.0                 \n",
       "9                                                5.0                 \n",
       "\n",
       "  purchase_made_after_call  purchase_value_usd timestamp of checkout  \\\n",
       "0                      YES                23.6   2021-01-06 13:21:00   \n",
       "1                      YES               597.0   2021-05-16 20:34:00   \n",
       "2                      YES                27.5   2021-02-05 14:10:00   \n",
       "3                      YES                39.0   2021-04-24 10:57:00   \n",
       "4                      YES               179.0   2021-04-23 08:23:00   \n",
       "5                      YES               767.1   2021-04-19 22:03:00   \n",
       "6                      YES              1918.4   2021-04-17 12:33:00   \n",
       "7                      YES                30.0   2021-04-15 21:26:00   \n",
       "8                      YES              1877.6   2021-12-04 22:19:00   \n",
       "9                      YES                83.5   2021-12-04 08:31:00   \n",
       "\n",
       "   days_between_call_and_purchase  \n",
       "0                             4.0  \n",
       "1                             4.0  \n",
       "2                            25.0  \n",
       "3                            17.0  \n",
       "4                            14.0  \n",
       "5                             3.0  \n",
       "6                             4.0  \n",
       "7                             4.0  \n",
       "8                            26.0  \n",
       "9                             3.0  "
      ]
     },
     "execution_count": 353,
     "metadata": {},
     "output_type": "execute_result"
    }
   ],
   "source": [
    "pd.set_option('display.max_columns', None)\n",
    "appointments_clean_df.head(10)"
   ]
  },
  {
   "cell_type": "code",
   "execution_count": 354,
   "metadata": {
    "ExecuteTime": {
     "end_time": "2021-07-13T01:05:41.870546Z",
     "start_time": "2021-07-13T01:05:41.839597Z"
    }
   },
   "outputs": [
    {
     "data": {
      "text/html": [
       "<div>\n",
       "<style scoped>\n",
       "    .dataframe tbody tr th:only-of-type {\n",
       "        vertical-align: middle;\n",
       "    }\n",
       "\n",
       "    .dataframe tbody tr th {\n",
       "        vertical-align: top;\n",
       "    }\n",
       "\n",
       "    .dataframe thead th {\n",
       "        text-align: right;\n",
       "    }\n",
       "</style>\n",
       "<table border=\"1\" class=\"dataframe\">\n",
       "  <thead>\n",
       "    <tr style=\"text-align: right;\">\n",
       "      <th></th>\n",
       "      <th>call_id</th>\n",
       "      <th>Customer Id</th>\n",
       "      <th>Call Type</th>\n",
       "      <th>Date Created Local</th>\n",
       "      <th>Created At Local</th>\n",
       "      <th>Call Started Local</th>\n",
       "      <th>Scheduled Start Date Local</th>\n",
       "      <th>Scheduled Start Time Local</th>\n",
       "      <th>Scheduled End Time Local</th>\n",
       "      <th>Status</th>\n",
       "      <th>Booking Title</th>\n",
       "      <th>Booked By Staff Id</th>\n",
       "      <th>Staff First Joined Activity Timestamps Local</th>\n",
       "      <th>Staff Joined Activities Timestamps Local</th>\n",
       "      <th>Staff Joined Count</th>\n",
       "      <th>Staff Left Activities Timestamps UTC</th>\n",
       "      <th>Customer Joined Count</th>\n",
       "      <th>Customer Joined Activities Timestamps UTC</th>\n",
       "      <th>Customer Left Activities Timestamps UTC</th>\n",
       "      <th>Customer Enabled Video</th>\n",
       "      <th>Call Result</th>\n",
       "      <th>Call Duration (Sec)</th>\n",
       "      <th>Staff Score</th>\n",
       "      <th>Avg Customer Rating (Overall)</th>\n",
       "      <th>Rating Question \"How Was The Stream Quality\"</th>\n",
       "      <th>Rating Question \"Did you find your rep helpful?\"</th>\n",
       "      <th>Rating Question \"How likely are you to use this service again\"?</th>\n",
       "      <th>purchase_made_after_call</th>\n",
       "      <th>purchase_value_usd</th>\n",
       "      <th>timestamp of checkout</th>\n",
       "      <th>days_between_call_and_purchase</th>\n",
       "    </tr>\n",
       "  </thead>\n",
       "  <tbody>\n",
       "    <tr>\n",
       "      <th>359</th>\n",
       "      <td>8147395</td>\n",
       "      <td>sinmbd7v-efk2-953m-ap0a-v4ir8w7epwov</td>\n",
       "      <td>BOOKING</td>\n",
       "      <td>2021-02-16</td>\n",
       "      <td>2021-02-16 12:25:00</td>\n",
       "      <td>2021-02-16 12:37:00</td>\n",
       "      <td>2021-02-16</td>\n",
       "      <td>2021-02-16 12:30:00</td>\n",
       "      <td>2021-02-16 12:40:00</td>\n",
       "      <td>ENDED</td>\n",
       "      <td>Live expert booking - All Goods</td>\n",
       "      <td>22017</td>\n",
       "      <td>2021-02-16 12:27:00</td>\n",
       "      <td>16/02/2021 12:27</td>\n",
       "      <td>1</td>\n",
       "      <td>16/02/2021 12:39</td>\n",
       "      <td>2</td>\n",
       "      <td>2021-02-16 12:27:32, 2021-02-16 12:37:36</td>\n",
       "      <td>2021-02-16 12:33:18, 2021-02-16 12:39:05</td>\n",
       "      <td>1</td>\n",
       "      <td>Booking - Successful call</td>\n",
       "      <td>85</td>\n",
       "      <td>3.0</td>\n",
       "      <td>5.00</td>\n",
       "      <td>5.0</td>\n",
       "      <td>5.0</td>\n",
       "      <td>5.0</td>\n",
       "      <td>NO</td>\n",
       "      <td>NaN</td>\n",
       "      <td>NaT</td>\n",
       "      <td>NaN</td>\n",
       "    </tr>\n",
       "    <tr>\n",
       "      <th>76</th>\n",
       "      <td>8330240</td>\n",
       "      <td>euoaq1i0-mpvm-l83z-qdm9-7ke5szg9x07c</td>\n",
       "      <td>BOOKING</td>\n",
       "      <td>2021-02-21</td>\n",
       "      <td>2021-02-21 13:10:00</td>\n",
       "      <td>2021-02-23 11:31:00</td>\n",
       "      <td>2021-02-23</td>\n",
       "      <td>2021-02-23 11:30:00</td>\n",
       "      <td>2021-02-23 11:40:00</td>\n",
       "      <td>ENDED</td>\n",
       "      <td>Live expert booking - All Goods</td>\n",
       "      <td>21557</td>\n",
       "      <td>2021-02-23 11:31:00</td>\n",
       "      <td>23/02/2021 11:31</td>\n",
       "      <td>1</td>\n",
       "      <td>23/02/2021 11:51</td>\n",
       "      <td>1</td>\n",
       "      <td>23/02/2021 11:29</td>\n",
       "      <td>23/02/2021 11:51</td>\n",
       "      <td>1</td>\n",
       "      <td>Booking - Successful call</td>\n",
       "      <td>1171</td>\n",
       "      <td>4.0</td>\n",
       "      <td>4.67</td>\n",
       "      <td>5.0</td>\n",
       "      <td>4.0</td>\n",
       "      <td>5.0</td>\n",
       "      <td>YES</td>\n",
       "      <td>45.0</td>\n",
       "      <td>2021-03-16 18:54:00</td>\n",
       "      <td>21.0</td>\n",
       "    </tr>\n",
       "    <tr>\n",
       "      <th>633</th>\n",
       "      <td>8795619</td>\n",
       "      <td>sf4o3cug-zamh-9nx3-wvt6-l93xioxbmsva</td>\n",
       "      <td>BOOKING</td>\n",
       "      <td>2021-06-03</td>\n",
       "      <td>2021-06-03 23:40:00</td>\n",
       "      <td>NaT</td>\n",
       "      <td>2021-09-03</td>\n",
       "      <td>2021-09-03 11:15:00</td>\n",
       "      <td>2021-09-03 11:25:00</td>\n",
       "      <td>ENDED</td>\n",
       "      <td>Live expert booking - All Goods</td>\n",
       "      <td>22017</td>\n",
       "      <td>2021-09-03 11:13:00</td>\n",
       "      <td>2021-03-09 11:13:16, 2021-03-09 11:20:04, 2021...</td>\n",
       "      <td>3</td>\n",
       "      <td>2021-03-09 11:21:39, 2021-03-09 11:23:59</td>\n",
       "      <td>3</td>\n",
       "      <td>2021-03-09 11:14:29, 2021-03-09 11:20:45, 2021...</td>\n",
       "      <td>NaN</td>\n",
       "      <td>1</td>\n",
       "      <td>Booking - Consumer and clerk join but not pres...</td>\n",
       "      <td>0</td>\n",
       "      <td>1.0</td>\n",
       "      <td>1.00</td>\n",
       "      <td>1.0</td>\n",
       "      <td>1.0</td>\n",
       "      <td>1.0</td>\n",
       "      <td>NO</td>\n",
       "      <td>NaN</td>\n",
       "      <td>NaT</td>\n",
       "      <td>NaN</td>\n",
       "    </tr>\n",
       "    <tr>\n",
       "      <th>634</th>\n",
       "      <td>8795619</td>\n",
       "      <td>sf4o3cug-zamh-9nx3-wvt6-l93xioxbmsva</td>\n",
       "      <td>BOOKING</td>\n",
       "      <td>2021-06-03</td>\n",
       "      <td>2021-06-03 23:40:00</td>\n",
       "      <td>NaT</td>\n",
       "      <td>2021-09-03</td>\n",
       "      <td>2021-09-03 11:15:00</td>\n",
       "      <td>2021-09-03 11:25:00</td>\n",
       "      <td>ENDED</td>\n",
       "      <td>Live expert booking - All Goods</td>\n",
       "      <td>22017</td>\n",
       "      <td>2021-09-03 11:13:00</td>\n",
       "      <td>2021-03-09 11:13:16, 2021-03-09 11:20:04, 2021...</td>\n",
       "      <td>3</td>\n",
       "      <td>2021-03-09 11:21:39, 2021-03-09 11:23:59</td>\n",
       "      <td>3</td>\n",
       "      <td>2021-03-09 11:14:29, 2021-03-09 11:20:45, 2021...</td>\n",
       "      <td>NaN</td>\n",
       "      <td>1</td>\n",
       "      <td>Booking - Consumer and clerk join but not pres...</td>\n",
       "      <td>0</td>\n",
       "      <td>1.0</td>\n",
       "      <td>1.00</td>\n",
       "      <td>1.0</td>\n",
       "      <td>1.0</td>\n",
       "      <td>1.0</td>\n",
       "      <td>NO</td>\n",
       "      <td>NaN</td>\n",
       "      <td>NaT</td>\n",
       "      <td>NaN</td>\n",
       "    </tr>\n",
       "    <tr>\n",
       "      <th>671</th>\n",
       "      <td>9812318</td>\n",
       "      <td>n13ra3q8-0tah-owbj-9zzr-ari7c41aotoe</td>\n",
       "      <td>BOOKING</td>\n",
       "      <td>2021-04-13</td>\n",
       "      <td>2021-04-13 10:55:00</td>\n",
       "      <td>2021-04-14 11:16:00</td>\n",
       "      <td>2021-04-14</td>\n",
       "      <td>2021-04-14 11:00:00</td>\n",
       "      <td>2021-04-14 11:15:00</td>\n",
       "      <td>CREATED</td>\n",
       "      <td>Live expert booking - All Goods</td>\n",
       "      <td>21557</td>\n",
       "      <td>NaT</td>\n",
       "      <td>NaN</td>\n",
       "      <td>0</td>\n",
       "      <td>NaN</td>\n",
       "      <td>7</td>\n",
       "      <td>2021-04-14 11:02:27, 2021-04-14 11:06:53, 2021...</td>\n",
       "      <td>2021-04-14 11:17:07, 2021-04-14 11:59:05, 2021...</td>\n",
       "      <td>1</td>\n",
       "      <td>Booking - Consumer joined clerk did not joined</td>\n",
       "      <td>8013</td>\n",
       "      <td>NaN</td>\n",
       "      <td>1.00</td>\n",
       "      <td>1.0</td>\n",
       "      <td>1.0</td>\n",
       "      <td>1.0</td>\n",
       "      <td>NO</td>\n",
       "      <td>NaN</td>\n",
       "      <td>NaT</td>\n",
       "      <td>NaN</td>\n",
       "    </tr>\n",
       "    <tr>\n",
       "      <th>673</th>\n",
       "      <td>9875991</td>\n",
       "      <td>7t4ntbw7-qyft-aa8v-fn6a-h6s88ty9mktg</td>\n",
       "      <td>BOOKING</td>\n",
       "      <td>2021-04-15</td>\n",
       "      <td>2021-04-15 20:11:00</td>\n",
       "      <td>2021-04-17 11:12:00</td>\n",
       "      <td>2021-04-17</td>\n",
       "      <td>2021-04-17 11:00:00</td>\n",
       "      <td>2021-04-17 11:10:00</td>\n",
       "      <td>CREATED</td>\n",
       "      <td>Live expert booking - All Goods</td>\n",
       "      <td>22854</td>\n",
       "      <td>NaT</td>\n",
       "      <td>NaN</td>\n",
       "      <td>0</td>\n",
       "      <td>NaN</td>\n",
       "      <td>18</td>\n",
       "      <td>2021-04-17 11:00:51, 2021-04-17 11:02:20, 2021...</td>\n",
       "      <td>NaN</td>\n",
       "      <td>1</td>\n",
       "      <td>Booking - Consumer joined clerk did not joined</td>\n",
       "      <td>29808</td>\n",
       "      <td>NaN</td>\n",
       "      <td>1.00</td>\n",
       "      <td>1.0</td>\n",
       "      <td>1.0</td>\n",
       "      <td>1.0</td>\n",
       "      <td>NO</td>\n",
       "      <td>NaN</td>\n",
       "      <td>NaT</td>\n",
       "      <td>NaN</td>\n",
       "    </tr>\n",
       "    <tr>\n",
       "      <th>678</th>\n",
       "      <td>9932124</td>\n",
       "      <td>2ucg9pvy-38qf-uk0u-qfkz-st9n6fl6584o</td>\n",
       "      <td>BOOKING</td>\n",
       "      <td>2021-04-18</td>\n",
       "      <td>2021-04-18 22:59:00</td>\n",
       "      <td>2021-04-20 12:10:00</td>\n",
       "      <td>2021-04-20</td>\n",
       "      <td>2021-04-20 12:00:00</td>\n",
       "      <td>2021-04-20 12:10:00</td>\n",
       "      <td>CREATED</td>\n",
       "      <td>Live expert booking - All Goods</td>\n",
       "      <td>21555</td>\n",
       "      <td>NaT</td>\n",
       "      <td>NaN</td>\n",
       "      <td>0</td>\n",
       "      <td>NaN</td>\n",
       "      <td>5</td>\n",
       "      <td>2021-04-20 12:07:20, 2021-04-20 12:08:42, 2021...</td>\n",
       "      <td>2021-04-20 12:22:06, 2021-04-20 12:31:41</td>\n",
       "      <td>1</td>\n",
       "      <td>Booking - Consumer joined clerk did not joined</td>\n",
       "      <td>1265</td>\n",
       "      <td>NaN</td>\n",
       "      <td>1.00</td>\n",
       "      <td>1.0</td>\n",
       "      <td>1.0</td>\n",
       "      <td>1.0</td>\n",
       "      <td>NO</td>\n",
       "      <td>NaN</td>\n",
       "      <td>NaT</td>\n",
       "      <td>NaN</td>\n",
       "    </tr>\n",
       "    <tr>\n",
       "      <th>688</th>\n",
       "      <td>10926513</td>\n",
       "      <td>qp386l7r-kjbu-yz73-6nor-fuzumxpuk17t</td>\n",
       "      <td>BOOKING</td>\n",
       "      <td>2021-06-14</td>\n",
       "      <td>2021-06-14 11:29:00</td>\n",
       "      <td>NaT</td>\n",
       "      <td>2021-06-15</td>\n",
       "      <td>2021-06-15 11:30:00</td>\n",
       "      <td>2021-06-15 11:40:00</td>\n",
       "      <td>CREATED</td>\n",
       "      <td>Live expert booking - All Goods</td>\n",
       "      <td>22851</td>\n",
       "      <td>NaT</td>\n",
       "      <td>NaN</td>\n",
       "      <td>0</td>\n",
       "      <td>NaN</td>\n",
       "      <td>3</td>\n",
       "      <td>2021-06-15 11:31:04, 2021-06-15 11:40:37, 2021...</td>\n",
       "      <td>2021-06-15 11:40:10, 2021-06-15 11:43:23</td>\n",
       "      <td>0</td>\n",
       "      <td>Booking - Consumer joined clerk did not joined</td>\n",
       "      <td>0</td>\n",
       "      <td>NaN</td>\n",
       "      <td>1.00</td>\n",
       "      <td>1.0</td>\n",
       "      <td>1.0</td>\n",
       "      <td>1.0</td>\n",
       "      <td>NO</td>\n",
       "      <td>NaN</td>\n",
       "      <td>NaT</td>\n",
       "      <td>NaN</td>\n",
       "    </tr>\n",
       "    <tr>\n",
       "      <th>692</th>\n",
       "      <td>11089064</td>\n",
       "      <td>0bcgc9qn-j5ic-mw72-7olk-hq2nhefsdind</td>\n",
       "      <td>BOOKING</td>\n",
       "      <td>2021-06-24</td>\n",
       "      <td>2021-06-24 12:28:00</td>\n",
       "      <td>2021-06-25 16:14:00</td>\n",
       "      <td>2021-06-25</td>\n",
       "      <td>2021-06-25 15:45:00</td>\n",
       "      <td>2021-06-25 15:55:00</td>\n",
       "      <td>CREATED</td>\n",
       "      <td>Live expert booking - All Goods</td>\n",
       "      <td>22613</td>\n",
       "      <td>NaT</td>\n",
       "      <td>NaN</td>\n",
       "      <td>0</td>\n",
       "      <td>NaN</td>\n",
       "      <td>5</td>\n",
       "      <td>2021-06-25 16:07:45, 2021-06-25 16:11:10, 2021...</td>\n",
       "      <td>2021-06-25 16:11:32, 2021-06-25 16:14:16</td>\n",
       "      <td>1</td>\n",
       "      <td>Booking - Consumer joined clerk did not joined</td>\n",
       "      <td>397</td>\n",
       "      <td>NaN</td>\n",
       "      <td>1.00</td>\n",
       "      <td>1.0</td>\n",
       "      <td>1.0</td>\n",
       "      <td>1.0</td>\n",
       "      <td>NO</td>\n",
       "      <td>NaN</td>\n",
       "      <td>NaT</td>\n",
       "      <td>NaN</td>\n",
       "    </tr>\n",
       "  </tbody>\n",
       "</table>\n",
       "</div>"
      ],
      "text/plain": [
       "      call_id                           Customer Id Call Type  \\\n",
       "359   8147395  sinmbd7v-efk2-953m-ap0a-v4ir8w7epwov   BOOKING   \n",
       "76    8330240  euoaq1i0-mpvm-l83z-qdm9-7ke5szg9x07c   BOOKING   \n",
       "633   8795619  sf4o3cug-zamh-9nx3-wvt6-l93xioxbmsva   BOOKING   \n",
       "634   8795619  sf4o3cug-zamh-9nx3-wvt6-l93xioxbmsva   BOOKING   \n",
       "671   9812318  n13ra3q8-0tah-owbj-9zzr-ari7c41aotoe   BOOKING   \n",
       "673   9875991  7t4ntbw7-qyft-aa8v-fn6a-h6s88ty9mktg   BOOKING   \n",
       "678   9932124  2ucg9pvy-38qf-uk0u-qfkz-st9n6fl6584o   BOOKING   \n",
       "688  10926513  qp386l7r-kjbu-yz73-6nor-fuzumxpuk17t   BOOKING   \n",
       "692  11089064  0bcgc9qn-j5ic-mw72-7olk-hq2nhefsdind   BOOKING   \n",
       "\n",
       "    Date Created Local    Created At Local  Call Started Local  \\\n",
       "359         2021-02-16 2021-02-16 12:25:00 2021-02-16 12:37:00   \n",
       "76          2021-02-21 2021-02-21 13:10:00 2021-02-23 11:31:00   \n",
       "633         2021-06-03 2021-06-03 23:40:00                 NaT   \n",
       "634         2021-06-03 2021-06-03 23:40:00                 NaT   \n",
       "671         2021-04-13 2021-04-13 10:55:00 2021-04-14 11:16:00   \n",
       "673         2021-04-15 2021-04-15 20:11:00 2021-04-17 11:12:00   \n",
       "678         2021-04-18 2021-04-18 22:59:00 2021-04-20 12:10:00   \n",
       "688         2021-06-14 2021-06-14 11:29:00                 NaT   \n",
       "692         2021-06-24 2021-06-24 12:28:00 2021-06-25 16:14:00   \n",
       "\n",
       "    Scheduled Start Date Local Scheduled Start Time Local  \\\n",
       "359                 2021-02-16        2021-02-16 12:30:00   \n",
       "76                  2021-02-23        2021-02-23 11:30:00   \n",
       "633                 2021-09-03        2021-09-03 11:15:00   \n",
       "634                 2021-09-03        2021-09-03 11:15:00   \n",
       "671                 2021-04-14        2021-04-14 11:00:00   \n",
       "673                 2021-04-17        2021-04-17 11:00:00   \n",
       "678                 2021-04-20        2021-04-20 12:00:00   \n",
       "688                 2021-06-15        2021-06-15 11:30:00   \n",
       "692                 2021-06-25        2021-06-25 15:45:00   \n",
       "\n",
       "    Scheduled End Time Local   Status                    Booking Title  \\\n",
       "359      2021-02-16 12:40:00    ENDED  Live expert booking - All Goods   \n",
       "76       2021-02-23 11:40:00    ENDED  Live expert booking - All Goods   \n",
       "633      2021-09-03 11:25:00    ENDED  Live expert booking - All Goods   \n",
       "634      2021-09-03 11:25:00    ENDED  Live expert booking - All Goods   \n",
       "671      2021-04-14 11:15:00  CREATED  Live expert booking - All Goods   \n",
       "673      2021-04-17 11:10:00  CREATED  Live expert booking - All Goods   \n",
       "678      2021-04-20 12:10:00  CREATED  Live expert booking - All Goods   \n",
       "688      2021-06-15 11:40:00  CREATED  Live expert booking - All Goods   \n",
       "692      2021-06-25 15:55:00  CREATED  Live expert booking - All Goods   \n",
       "\n",
       "     Booked By Staff Id Staff First Joined Activity Timestamps Local  \\\n",
       "359               22017                          2021-02-16 12:27:00   \n",
       "76                21557                          2021-02-23 11:31:00   \n",
       "633               22017                          2021-09-03 11:13:00   \n",
       "634               22017                          2021-09-03 11:13:00   \n",
       "671               21557                                          NaT   \n",
       "673               22854                                          NaT   \n",
       "678               21555                                          NaT   \n",
       "688               22851                                          NaT   \n",
       "692               22613                                          NaT   \n",
       "\n",
       "              Staff Joined Activities Timestamps Local  Staff Joined Count  \\\n",
       "359                                   16/02/2021 12:27                   1   \n",
       "76                                    23/02/2021 11:31                   1   \n",
       "633  2021-03-09 11:13:16, 2021-03-09 11:20:04, 2021...                   3   \n",
       "634  2021-03-09 11:13:16, 2021-03-09 11:20:04, 2021...                   3   \n",
       "671                                                NaN                   0   \n",
       "673                                                NaN                   0   \n",
       "678                                                NaN                   0   \n",
       "688                                                NaN                   0   \n",
       "692                                                NaN                   0   \n",
       "\n",
       "         Staff Left Activities Timestamps UTC  Customer Joined Count  \\\n",
       "359                          16/02/2021 12:39                      2   \n",
       "76                           23/02/2021 11:51                      1   \n",
       "633  2021-03-09 11:21:39, 2021-03-09 11:23:59                      3   \n",
       "634  2021-03-09 11:21:39, 2021-03-09 11:23:59                      3   \n",
       "671                                       NaN                      7   \n",
       "673                                       NaN                     18   \n",
       "678                                       NaN                      5   \n",
       "688                                       NaN                      3   \n",
       "692                                       NaN                      5   \n",
       "\n",
       "             Customer Joined Activities Timestamps UTC  \\\n",
       "359           2021-02-16 12:27:32, 2021-02-16 12:37:36   \n",
       "76                                    23/02/2021 11:29   \n",
       "633  2021-03-09 11:14:29, 2021-03-09 11:20:45, 2021...   \n",
       "634  2021-03-09 11:14:29, 2021-03-09 11:20:45, 2021...   \n",
       "671  2021-04-14 11:02:27, 2021-04-14 11:06:53, 2021...   \n",
       "673  2021-04-17 11:00:51, 2021-04-17 11:02:20, 2021...   \n",
       "678  2021-04-20 12:07:20, 2021-04-20 12:08:42, 2021...   \n",
       "688  2021-06-15 11:31:04, 2021-06-15 11:40:37, 2021...   \n",
       "692  2021-06-25 16:07:45, 2021-06-25 16:11:10, 2021...   \n",
       "\n",
       "               Customer Left Activities Timestamps UTC  \\\n",
       "359           2021-02-16 12:33:18, 2021-02-16 12:39:05   \n",
       "76                                    23/02/2021 11:51   \n",
       "633                                                NaN   \n",
       "634                                                NaN   \n",
       "671  2021-04-14 11:17:07, 2021-04-14 11:59:05, 2021...   \n",
       "673                                                NaN   \n",
       "678           2021-04-20 12:22:06, 2021-04-20 12:31:41   \n",
       "688           2021-06-15 11:40:10, 2021-06-15 11:43:23   \n",
       "692           2021-06-25 16:11:32, 2021-06-25 16:14:16   \n",
       "\n",
       "     Customer Enabled Video  \\\n",
       "359                       1   \n",
       "76                        1   \n",
       "633                       1   \n",
       "634                       1   \n",
       "671                       1   \n",
       "673                       1   \n",
       "678                       1   \n",
       "688                       0   \n",
       "692                       1   \n",
       "\n",
       "                                           Call Result  Call Duration (Sec)  \\\n",
       "359                          Booking - Successful call                   85   \n",
       "76                           Booking - Successful call                 1171   \n",
       "633  Booking - Consumer and clerk join but not pres...                    0   \n",
       "634  Booking - Consumer and clerk join but not pres...                    0   \n",
       "671     Booking - Consumer joined clerk did not joined                 8013   \n",
       "673     Booking - Consumer joined clerk did not joined                29808   \n",
       "678     Booking - Consumer joined clerk did not joined                 1265   \n",
       "688     Booking - Consumer joined clerk did not joined                    0   \n",
       "692     Booking - Consumer joined clerk did not joined                  397   \n",
       "\n",
       "     Staff Score  Avg Customer Rating (Overall)  \\\n",
       "359          3.0                           5.00   \n",
       "76           4.0                           4.67   \n",
       "633          1.0                           1.00   \n",
       "634          1.0                           1.00   \n",
       "671          NaN                           1.00   \n",
       "673          NaN                           1.00   \n",
       "678          NaN                           1.00   \n",
       "688          NaN                           1.00   \n",
       "692          NaN                           1.00   \n",
       "\n",
       "     Rating Question \"How Was The Stream Quality\"  \\\n",
       "359                                           5.0   \n",
       "76                                            5.0   \n",
       "633                                           1.0   \n",
       "634                                           1.0   \n",
       "671                                           1.0   \n",
       "673                                           1.0   \n",
       "678                                           1.0   \n",
       "688                                           1.0   \n",
       "692                                           1.0   \n",
       "\n",
       "     Rating Question \"Did you find your rep helpful?\"  \\\n",
       "359                                               5.0   \n",
       "76                                                4.0   \n",
       "633                                               1.0   \n",
       "634                                               1.0   \n",
       "671                                               1.0   \n",
       "673                                               1.0   \n",
       "678                                               1.0   \n",
       "688                                               1.0   \n",
       "692                                               1.0   \n",
       "\n",
       "     Rating Question \"How likely are you to use this service again\"?  \\\n",
       "359                                                5.0                 \n",
       "76                                                 5.0                 \n",
       "633                                                1.0                 \n",
       "634                                                1.0                 \n",
       "671                                                1.0                 \n",
       "673                                                1.0                 \n",
       "678                                                1.0                 \n",
       "688                                                1.0                 \n",
       "692                                                1.0                 \n",
       "\n",
       "    purchase_made_after_call  purchase_value_usd timestamp of checkout  \\\n",
       "359                       NO                 NaN                   NaT   \n",
       "76                       YES                45.0   2021-03-16 18:54:00   \n",
       "633                       NO                 NaN                   NaT   \n",
       "634                       NO                 NaN                   NaT   \n",
       "671                       NO                 NaN                   NaT   \n",
       "673                       NO                 NaN                   NaT   \n",
       "678                       NO                 NaN                   NaT   \n",
       "688                       NO                 NaN                   NaT   \n",
       "692                       NO                 NaN                   NaT   \n",
       "\n",
       "     days_between_call_and_purchase  \n",
       "359                             NaN  \n",
       "76                             21.0  \n",
       "633                             NaN  \n",
       "634                             NaN  \n",
       "671                             NaN  \n",
       "673                             NaN  \n",
       "678                             NaN  \n",
       "688                             NaN  \n",
       "692                             NaN  "
      ]
     },
     "execution_count": 354,
     "metadata": {},
     "output_type": "execute_result"
    }
   ],
   "source": [
    "duplicates_df.sort_values('call_id')"
   ]
  },
  {
   "cell_type": "code",
   "execution_count": 355,
   "metadata": {
    "ExecuteTime": {
     "end_time": "2021-07-13T01:05:41.885165Z",
     "start_time": "2021-07-13T01:05:41.876120Z"
    }
   },
   "outputs": [],
   "source": [
    "duplicates_df = duplicates_df.set_index('call_id')"
   ]
  },
  {
   "cell_type": "code",
   "execution_count": 356,
   "metadata": {
    "ExecuteTime": {
     "end_time": "2021-07-13T01:05:41.894603Z",
     "start_time": "2021-07-13T01:05:41.888743Z"
    }
   },
   "outputs": [],
   "source": [
    "appointments_clean_df = appointments_clean_df.set_index('call_id')"
   ]
  },
  {
   "cell_type": "code",
   "execution_count": 357,
   "metadata": {
    "ExecuteTime": {
     "end_time": "2021-07-13T01:05:41.908581Z",
     "start_time": "2021-07-13T01:05:41.897740Z"
    }
   },
   "outputs": [
    {
     "data": {
      "text/plain": [
       "9"
      ]
     },
     "execution_count": 357,
     "metadata": {},
     "output_type": "execute_result"
    }
   ],
   "source": [
    "len(duplicates_df)"
   ]
  },
  {
   "cell_type": "code",
   "execution_count": 358,
   "metadata": {
    "ExecuteTime": {
     "end_time": "2021-07-13T01:05:41.944813Z",
     "start_time": "2021-07-13T01:05:41.917398Z"
    }
   },
   "outputs": [
    {
     "name": "stdout",
     "output_type": "stream",
     "text": [
      "<class 'pandas.core.frame.DataFrame'>\n",
      "Int64Index: 894 entries, 10653788 to 7925690\n",
      "Data columns (total 30 columns):\n",
      " #   Column                                                           Non-Null Count  Dtype         \n",
      "---  ------                                                           --------------  -----         \n",
      " 0   Customer Id                                                      510 non-null    object        \n",
      " 1   Call Type                                                        894 non-null    object        \n",
      " 2   Date Created Local                                               894 non-null    datetime64[ns]\n",
      " 3   Created At Local                                                 894 non-null    datetime64[ns]\n",
      " 4   Call Started Local                                               443 non-null    datetime64[ns]\n",
      " 5   Scheduled Start Date Local                                       894 non-null    datetime64[ns]\n",
      " 6   Scheduled Start Time Local                                       894 non-null    datetime64[ns]\n",
      " 7   Scheduled End Time Local                                         894 non-null    datetime64[ns]\n",
      " 8   Status                                                           894 non-null    object        \n",
      " 9   Booking Title                                                    894 non-null    object        \n",
      " 10  Booked By Staff Id                                               894 non-null    int64         \n",
      " 11  Staff First Joined Activity Timestamps Local                     643 non-null    datetime64[ns]\n",
      " 12  Staff Joined Activities Timestamps Local                         643 non-null    object        \n",
      " 13  Staff Joined Count                                               894 non-null    int64         \n",
      " 14  Staff Left Activities Timestamps UTC                             643 non-null    object        \n",
      " 15  Customer Joined Count                                            894 non-null    int64         \n",
      " 16  Customer Joined Activities Timestamps UTC                        498 non-null    object        \n",
      " 17  Customer Left Activities Timestamps UTC                          242 non-null    object        \n",
      " 18  Customer Enabled Video                                           894 non-null    int64         \n",
      " 19  Call Result                                                      894 non-null    object        \n",
      " 20  Call Duration (Sec)                                              894 non-null    int64         \n",
      " 21  Staff Score                                                      592 non-null    float64       \n",
      " 22  Avg Customer Rating (Overall)                                    264 non-null    float64       \n",
      " 23  Rating Question \"How Was The Stream Quality\"                     264 non-null    float64       \n",
      " 24  Rating Question \"Did you find your rep helpful?\"                 264 non-null    float64       \n",
      " 25  Rating Question \"How likely are you to use this service again\"?  264 non-null    float64       \n",
      " 26  purchase_made_after_call                                         894 non-null    object        \n",
      " 27  purchase_value_usd                                               137 non-null    float64       \n",
      " 28  timestamp of checkout                                            137 non-null    datetime64[ns]\n",
      " 29  days_between_call_and_purchase                                   137 non-null    float64       \n",
      "dtypes: datetime64[ns](8), float64(7), int64(5), object(10)\n",
      "memory usage: 216.5+ KB\n"
     ]
    }
   ],
   "source": [
    "appointments_clean_df.info()"
   ]
  },
  {
   "cell_type": "markdown",
   "metadata": {},
   "source": [
    "The information frame above shows the columns that have null values."
   ]
  },
  {
   "cell_type": "code",
   "execution_count": 359,
   "metadata": {
    "ExecuteTime": {
     "end_time": "2021-07-13T01:05:41.953028Z",
     "start_time": "2021-07-13T01:05:41.947621Z"
    }
   },
   "outputs": [
    {
     "data": {
      "text/plain": [
       "Index(['Customer Id', 'Call Type', 'Date Created Local', 'Created At Local',\n",
       "       'Call Started Local', 'Scheduled Start Date Local',\n",
       "       'Scheduled Start Time Local', 'Scheduled End Time Local', 'Status',\n",
       "       'Booking Title', 'Booked By Staff Id',\n",
       "       'Staff First Joined Activity Timestamps Local',\n",
       "       'Staff Joined Activities Timestamps Local', 'Staff Joined Count',\n",
       "       'Staff Left Activities Timestamps UTC', 'Customer Joined Count',\n",
       "       'Customer Joined Activities Timestamps UTC',\n",
       "       'Customer Left Activities Timestamps UTC', 'Customer Enabled Video',\n",
       "       'Call Result', 'Call Duration (Sec)', 'Staff Score',\n",
       "       'Avg Customer Rating (Overall)',\n",
       "       'Rating Question \"How Was The Stream Quality\"',\n",
       "       'Rating Question \"Did you find your rep helpful?\"',\n",
       "       'Rating Question \"How likely are you to use this service again\"?',\n",
       "       'purchase_made_after_call', 'purchase_value_usd',\n",
       "       'timestamp of checkout', 'days_between_call_and_purchase'],\n",
       "      dtype='object')"
      ]
     },
     "execution_count": 359,
     "metadata": {},
     "output_type": "execute_result"
    }
   ],
   "source": [
    "appointments_clean_df.columns"
   ]
  },
  {
   "cell_type": "code",
   "execution_count": 360,
   "metadata": {
    "ExecuteTime": {
     "end_time": "2021-07-13T01:05:41.960308Z",
     "start_time": "2021-07-13T01:05:41.956130Z"
    }
   },
   "outputs": [],
   "source": [
    "appointments_clean_df.columns = [c.replace(' ', '_') for c in appointments_clean_df.columns]"
   ]
  },
  {
   "cell_type": "code",
   "execution_count": 361,
   "metadata": {
    "ExecuteTime": {
     "end_time": "2021-07-13T01:05:41.984205Z",
     "start_time": "2021-07-13T01:05:41.962958Z"
    }
   },
   "outputs": [
    {
     "name": "stdout",
     "output_type": "stream",
     "text": [
      "<class 'pandas.core.frame.DataFrame'>\n",
      "Int64Index: 894 entries, 10653788 to 7925690\n",
      "Data columns (total 30 columns):\n",
      " #   Column                                                           Non-Null Count  Dtype         \n",
      "---  ------                                                           --------------  -----         \n",
      " 0   Customer_Id                                                      510 non-null    object        \n",
      " 1   Call_Type                                                        894 non-null    object        \n",
      " 2   Date_Created_Local                                               894 non-null    datetime64[ns]\n",
      " 3   Created_At_Local                                                 894 non-null    datetime64[ns]\n",
      " 4   Call_Started_Local                                               443 non-null    datetime64[ns]\n",
      " 5   Scheduled_Start_Date_Local                                       894 non-null    datetime64[ns]\n",
      " 6   Scheduled_Start_Time_Local                                       894 non-null    datetime64[ns]\n",
      " 7   Scheduled_End_Time_Local                                         894 non-null    datetime64[ns]\n",
      " 8   Status                                                           894 non-null    object        \n",
      " 9   Booking_Title                                                    894 non-null    object        \n",
      " 10  Booked_By_Staff_Id                                               894 non-null    int64         \n",
      " 11  Staff_First_Joined_Activity_Timestamps_Local                     643 non-null    datetime64[ns]\n",
      " 12  Staff_Joined_Activities_Timestamps_Local                         643 non-null    object        \n",
      " 13  Staff_Joined_Count                                               894 non-null    int64         \n",
      " 14  Staff_Left_Activities_Timestamps_UTC                             643 non-null    object        \n",
      " 15  Customer_Joined_Count                                            894 non-null    int64         \n",
      " 16  Customer_Joined_Activities_Timestamps_UTC                        498 non-null    object        \n",
      " 17  Customer_Left_Activities_Timestamps_UTC                          242 non-null    object        \n",
      " 18  Customer_Enabled_Video                                           894 non-null    int64         \n",
      " 19  Call_Result                                                      894 non-null    object        \n",
      " 20  Call_Duration_(Sec)                                              894 non-null    int64         \n",
      " 21  Staff_Score                                                      592 non-null    float64       \n",
      " 22  Avg_Customer_Rating_(Overall)                                    264 non-null    float64       \n",
      " 23  Rating_Question_\"How_Was_The_Stream_Quality\"                     264 non-null    float64       \n",
      " 24  Rating_Question_\"Did_you_find_your_rep_helpful?\"                 264 non-null    float64       \n",
      " 25  Rating_Question_\"How_likely_are_you_to_use_this_service_again\"?  264 non-null    float64       \n",
      " 26  purchase_made_after_call                                         894 non-null    object        \n",
      " 27  purchase_value_usd                                               137 non-null    float64       \n",
      " 28  timestamp_of_checkout                                            137 non-null    datetime64[ns]\n",
      " 29  days_between_call_and_purchase                                   137 non-null    float64       \n",
      "dtypes: datetime64[ns](8), float64(7), int64(5), object(10)\n",
      "memory usage: 216.5+ KB\n"
     ]
    }
   ],
   "source": [
    "appointments_clean_df.info()"
   ]
  },
  {
   "cell_type": "code",
   "execution_count": 362,
   "metadata": {
    "ExecuteTime": {
     "end_time": "2021-07-13T01:05:42.006774Z",
     "start_time": "2021-07-13T01:05:41.987118Z"
    }
   },
   "outputs": [
    {
     "data": {
      "text/plain": [
       "Customer_Id                                                        894\n",
       "Call_Type                                                          894\n",
       "Date_Created_Local                                                 894\n",
       "Created_At_Local                                                   894\n",
       "Call_Started_Local                                                 894\n",
       "Scheduled_Start_Date_Local                                         894\n",
       "Scheduled_Start_Time_Local                                         894\n",
       "Scheduled_End_Time_Local                                           894\n",
       "Status                                                             894\n",
       "Booking_Title                                                      894\n",
       "Booked_By_Staff_Id                                                 894\n",
       "Staff_First_Joined_Activity_Timestamps_Local                       894\n",
       "Staff_Joined_Activities_Timestamps_Local                           894\n",
       "Staff_Joined_Count                                                 894\n",
       "Staff_Left_Activities_Timestamps_UTC                               894\n",
       "Customer_Joined_Count                                              894\n",
       "Customer_Joined_Activities_Timestamps_UTC                          894\n",
       "Customer_Left_Activities_Timestamps_UTC                            894\n",
       "Customer_Enabled_Video                                             894\n",
       "Call_Result                                                        894\n",
       "Call_Duration_(Sec)                                                894\n",
       "Staff_Score                                                        894\n",
       "Avg_Customer_Rating_(Overall)                                      894\n",
       "Rating_Question_\"How_Was_The_Stream_Quality\"                       894\n",
       "Rating_Question_\"Did_you_find_your_rep_helpful?\"                   894\n",
       "Rating_Question_\"How_likely_are_you_to_use_this_service_again\"?    894\n",
       "purchase_made_after_call                                           894\n",
       "purchase_value_usd                                                 894\n",
       "timestamp_of_checkout                                              894\n",
       "days_between_call_and_purchase                                     894\n",
       "dtype: int64"
      ]
     },
     "execution_count": 362,
     "metadata": {},
     "output_type": "execute_result"
    }
   ],
   "source": [
    "appointments_clean_df.isna().sum() + appointments_clean_df.notna().sum()"
   ]
  },
  {
   "cell_type": "markdown",
   "metadata": {
    "ExecuteTime": {
     "end_time": "2021-07-09T14:38:59.920169Z",
     "start_time": "2021-07-09T14:38:59.914199Z"
    }
   },
   "source": [
    "All columns have 894 entries (after removing duplicate rows), a combination of null and non-null values."
   ]
  },
  {
   "cell_type": "markdown",
   "metadata": {},
   "source": [
    "Spaces have been removed from column names.\n",
    "Have checked that all columns have 894 entries (null + non-null)."
   ]
  },
  {
   "cell_type": "markdown",
   "metadata": {},
   "source": [
    "### Exploratory Data Analysis"
   ]
  },
  {
   "cell_type": "markdown",
   "metadata": {},
   "source": [
    "Below, explored data relating to Staff and Customer join counts. Saved aggregate timestamps to other dataframes."
   ]
  },
  {
   "cell_type": "code",
   "execution_count": 363,
   "metadata": {
    "ExecuteTime": {
     "end_time": "2021-07-13T01:05:42.015710Z",
     "start_time": "2021-07-13T01:05:42.009914Z"
    }
   },
   "outputs": [
    {
     "data": {
      "text/plain": [
       "6"
      ]
     },
     "execution_count": 363,
     "metadata": {},
     "output_type": "execute_result"
    }
   ],
   "source": [
    "appointments_clean_df['Staff_Joined_Count'].max()"
   ]
  },
  {
   "cell_type": "code",
   "execution_count": 364,
   "metadata": {
    "ExecuteTime": {
     "end_time": "2021-07-13T01:05:42.022915Z",
     "start_time": "2021-07-13T01:05:42.018448Z"
    }
   },
   "outputs": [
    {
     "data": {
      "text/plain": [
       "18"
      ]
     },
     "execution_count": 364,
     "metadata": {},
     "output_type": "execute_result"
    }
   ],
   "source": [
    "appointments_clean_df['Customer_Joined_Count'].max()"
   ]
  },
  {
   "cell_type": "code",
   "execution_count": 365,
   "metadata": {
    "ExecuteTime": {
     "end_time": "2021-07-13T01:05:42.040651Z",
     "start_time": "2021-07-13T01:05:42.025221Z"
    }
   },
   "outputs": [
    {
     "name": "stdout",
     "output_type": "stream",
     "text": [
      "<class 'pandas.core.frame.DataFrame'>\n",
      "Int64Index: 894 entries, 10653788 to 7925690\n",
      "Data columns (total 6 columns):\n",
      " #   Column  Non-Null Count  Dtype \n",
      "---  ------  --------------  ----- \n",
      " 0   0       643 non-null    object\n",
      " 1   1       147 non-null    object\n",
      " 2   2       42 non-null     object\n",
      " 3   3       11 non-null     object\n",
      " 4   4       7 non-null      object\n",
      " 5   5       5 non-null      object\n",
      "dtypes: object(6)\n",
      "memory usage: 48.9+ KB\n"
     ]
    }
   ],
   "source": [
    "Staff_Joined_Activities_Timestamps_Local_df = pd.DataFrame(appointments_clean_df.Staff_Joined_Activities_Timestamps_Local.tolist(), index=appointments_clean_df.index)\n",
    "Staff_Joined_Activities_Timestamps_Local_df= Staff_Joined_Activities_Timestamps_Local_df[0].str.split(pat=',',n=-1, expand=True)\n",
    "Staff_Joined_Activities_Timestamps_Local_df.info()"
   ]
  },
  {
   "cell_type": "code",
   "execution_count": 366,
   "metadata": {
    "ExecuteTime": {
     "end_time": "2021-07-13T01:05:42.059959Z",
     "start_time": "2021-07-13T01:05:42.043393Z"
    }
   },
   "outputs": [
    {
     "data": {
      "text/html": [
       "<div>\n",
       "<style scoped>\n",
       "    .dataframe tbody tr th:only-of-type {\n",
       "        vertical-align: middle;\n",
       "    }\n",
       "\n",
       "    .dataframe tbody tr th {\n",
       "        vertical-align: top;\n",
       "    }\n",
       "\n",
       "    .dataframe thead th {\n",
       "        text-align: right;\n",
       "    }\n",
       "</style>\n",
       "<table border=\"1\" class=\"dataframe\">\n",
       "  <thead>\n",
       "    <tr style=\"text-align: right;\">\n",
       "      <th></th>\n",
       "      <th>0</th>\n",
       "      <th>1</th>\n",
       "      <th>2</th>\n",
       "      <th>3</th>\n",
       "      <th>4</th>\n",
       "      <th>5</th>\n",
       "    </tr>\n",
       "    <tr>\n",
       "      <th>call_id</th>\n",
       "      <th></th>\n",
       "      <th></th>\n",
       "      <th></th>\n",
       "      <th></th>\n",
       "      <th></th>\n",
       "      <th></th>\n",
       "    </tr>\n",
       "  </thead>\n",
       "  <tbody>\n",
       "    <tr>\n",
       "      <th>10653788</th>\n",
       "      <td>2021-05-28 10:12:17</td>\n",
       "      <td>2021-05-28 10:15:11</td>\n",
       "      <td>2021-05-28 10:17:14</td>\n",
       "      <td>None</td>\n",
       "      <td>None</td>\n",
       "      <td>None</td>\n",
       "    </tr>\n",
       "    <tr>\n",
       "      <th>10343190</th>\n",
       "      <td>12/05/2021 16:41</td>\n",
       "      <td>None</td>\n",
       "      <td>None</td>\n",
       "      <td>None</td>\n",
       "      <td>None</td>\n",
       "      <td>None</td>\n",
       "    </tr>\n",
       "    <tr>\n",
       "      <th>9647059</th>\n",
       "      <td>07/04/2021 16:58</td>\n",
       "      <td>None</td>\n",
       "      <td>None</td>\n",
       "      <td>None</td>\n",
       "      <td>None</td>\n",
       "      <td>None</td>\n",
       "    </tr>\n",
       "    <tr>\n",
       "      <th>9647059</th>\n",
       "      <td>07/04/2021 16:58</td>\n",
       "      <td>None</td>\n",
       "      <td>None</td>\n",
       "      <td>None</td>\n",
       "      <td>None</td>\n",
       "      <td>None</td>\n",
       "    </tr>\n",
       "    <tr>\n",
       "      <th>9709891</th>\n",
       "      <td>09/04/2021 18:07</td>\n",
       "      <td>None</td>\n",
       "      <td>None</td>\n",
       "      <td>None</td>\n",
       "      <td>None</td>\n",
       "      <td>None</td>\n",
       "    </tr>\n",
       "    <tr>\n",
       "      <th>...</th>\n",
       "      <td>...</td>\n",
       "      <td>...</td>\n",
       "      <td>...</td>\n",
       "      <td>...</td>\n",
       "      <td>...</td>\n",
       "      <td>...</td>\n",
       "    </tr>\n",
       "    <tr>\n",
       "      <th>11111696</th>\n",
       "      <td>NaN</td>\n",
       "      <td>NaN</td>\n",
       "      <td>NaN</td>\n",
       "      <td>NaN</td>\n",
       "      <td>NaN</td>\n",
       "      <td>NaN</td>\n",
       "    </tr>\n",
       "    <tr>\n",
       "      <th>11144660</th>\n",
       "      <td>NaN</td>\n",
       "      <td>NaN</td>\n",
       "      <td>NaN</td>\n",
       "      <td>NaN</td>\n",
       "      <td>NaN</td>\n",
       "      <td>NaN</td>\n",
       "    </tr>\n",
       "    <tr>\n",
       "      <th>11144933</th>\n",
       "      <td>NaN</td>\n",
       "      <td>NaN</td>\n",
       "      <td>NaN</td>\n",
       "      <td>NaN</td>\n",
       "      <td>NaN</td>\n",
       "      <td>NaN</td>\n",
       "    </tr>\n",
       "    <tr>\n",
       "      <th>11164791</th>\n",
       "      <td>NaN</td>\n",
       "      <td>NaN</td>\n",
       "      <td>NaN</td>\n",
       "      <td>NaN</td>\n",
       "      <td>NaN</td>\n",
       "      <td>NaN</td>\n",
       "    </tr>\n",
       "    <tr>\n",
       "      <th>7925690</th>\n",
       "      <td>10/02/2021 11:00</td>\n",
       "      <td>None</td>\n",
       "      <td>None</td>\n",
       "      <td>None</td>\n",
       "      <td>None</td>\n",
       "      <td>None</td>\n",
       "    </tr>\n",
       "  </tbody>\n",
       "</table>\n",
       "<p>894 rows × 6 columns</p>\n",
       "</div>"
      ],
      "text/plain": [
       "                            0                     1                     2  \\\n",
       "call_id                                                                     \n",
       "10653788  2021-05-28 10:12:17   2021-05-28 10:15:11   2021-05-28 10:17:14   \n",
       "10343190     12/05/2021 16:41                  None                  None   \n",
       "9647059      07/04/2021 16:58                  None                  None   \n",
       "9647059      07/04/2021 16:58                  None                  None   \n",
       "9709891      09/04/2021 18:07                  None                  None   \n",
       "...                       ...                   ...                   ...   \n",
       "11111696                  NaN                   NaN                   NaN   \n",
       "11144660                  NaN                   NaN                   NaN   \n",
       "11144933                  NaN                   NaN                   NaN   \n",
       "11164791                  NaN                   NaN                   NaN   \n",
       "7925690      10/02/2021 11:00                  None                  None   \n",
       "\n",
       "             3     4     5  \n",
       "call_id                     \n",
       "10653788  None  None  None  \n",
       "10343190  None  None  None  \n",
       "9647059   None  None  None  \n",
       "9647059   None  None  None  \n",
       "9709891   None  None  None  \n",
       "...        ...   ...   ...  \n",
       "11111696   NaN   NaN   NaN  \n",
       "11144660   NaN   NaN   NaN  \n",
       "11144933   NaN   NaN   NaN  \n",
       "11164791   NaN   NaN   NaN  \n",
       "7925690   None  None  None  \n",
       "\n",
       "[894 rows x 6 columns]"
      ]
     },
     "execution_count": 366,
     "metadata": {},
     "output_type": "execute_result"
    }
   ],
   "source": [
    "Staff_Joined_Activities_Timestamps_Local_df"
   ]
  },
  {
   "cell_type": "code",
   "execution_count": 367,
   "metadata": {
    "ExecuteTime": {
     "end_time": "2021-07-13T01:05:42.069331Z",
     "start_time": "2021-07-13T01:05:42.062841Z"
    }
   },
   "outputs": [],
   "source": [
    "Staff_Joined_Activities_Timestamps_Local_df = Staff_Joined_Activities_Timestamps_Local_df.replace(to_replace=[None], value=np.nan, inplace=True)\n",
    "Staff_Joined_Activities_Timestamps_Local_df"
   ]
  },
  {
   "cell_type": "code",
   "execution_count": 368,
   "metadata": {
    "ExecuteTime": {
     "end_time": "2021-07-13T01:05:42.088135Z",
     "start_time": "2021-07-13T01:05:42.080241Z"
    }
   },
   "outputs": [],
   "source": [
    "Staff_Left_Activities_Timestamps_UTC_df = pd.DataFrame(appointments_clean_df.Staff_Left_Activities_Timestamps_UTC.tolist(), index= appointments_clean_df.index)\n",
    "Staff_Left_Activities_Timestamps_UTC_df = Staff_Left_Activities_Timestamps_UTC_df[0].str.split(pat=',',n=-1, expand=True)\n",
    "Staff_Left_Activities_Timestamps_UTC_df = Staff_Left_Activities_Timestamps_UTC_df.replace(to_replace=[None], value=np.nan, inplace=True)"
   ]
  },
  {
   "cell_type": "code",
   "execution_count": 369,
   "metadata": {
    "ExecuteTime": {
     "end_time": "2021-07-13T01:05:42.099064Z",
     "start_time": "2021-07-13T01:05:42.094967Z"
    }
   },
   "outputs": [],
   "source": [
    "Staff_Joined_Activities_Timestamps_Local_df"
   ]
  },
  {
   "cell_type": "code",
   "execution_count": 370,
   "metadata": {
    "ExecuteTime": {
     "end_time": "2021-07-13T01:05:42.107359Z",
     "start_time": "2021-07-13T01:05:42.103028Z"
    },
    "cell_style": "center"
   },
   "outputs": [],
   "source": [
    "Customer_Joined_Activities_Timestamps_UTC_df = pd.DataFrame(appointments_clean_df.Customer_Joined_Activities_Timestamps_UTC.tolist(), index=appointments_clean_df.index)"
   ]
  },
  {
   "cell_type": "code",
   "execution_count": 371,
   "metadata": {
    "ExecuteTime": {
     "end_time": "2021-07-13T01:05:42.120417Z",
     "start_time": "2021-07-13T01:05:42.110352Z"
    },
    "cell_style": "split",
    "scrolled": true
   },
   "outputs": [
    {
     "data": {
      "text/html": [
       "<div>\n",
       "<style scoped>\n",
       "    .dataframe tbody tr th:only-of-type {\n",
       "        vertical-align: middle;\n",
       "    }\n",
       "\n",
       "    .dataframe tbody tr th {\n",
       "        vertical-align: top;\n",
       "    }\n",
       "\n",
       "    .dataframe thead th {\n",
       "        text-align: right;\n",
       "    }\n",
       "</style>\n",
       "<table border=\"1\" class=\"dataframe\">\n",
       "  <thead>\n",
       "    <tr style=\"text-align: right;\">\n",
       "      <th></th>\n",
       "      <th>0</th>\n",
       "    </tr>\n",
       "    <tr>\n",
       "      <th>call_id</th>\n",
       "      <th></th>\n",
       "    </tr>\n",
       "  </thead>\n",
       "  <tbody>\n",
       "    <tr>\n",
       "      <th>10653788</th>\n",
       "      <td>28/05/2021 10:19</td>\n",
       "    </tr>\n",
       "    <tr>\n",
       "      <th>10343190</th>\n",
       "      <td>12/05/2021 16:45</td>\n",
       "    </tr>\n",
       "    <tr>\n",
       "      <th>9647059</th>\n",
       "      <td>2021-04-07 17:01:10, 2021-04-07 17:13:54</td>\n",
       "    </tr>\n",
       "    <tr>\n",
       "      <th>9647059</th>\n",
       "      <td>2021-04-07 17:01:10, 2021-04-07 17:13:54</td>\n",
       "    </tr>\n",
       "    <tr>\n",
       "      <th>9709891</th>\n",
       "      <td>09/04/2021 17:59</td>\n",
       "    </tr>\n",
       "    <tr>\n",
       "      <th>...</th>\n",
       "      <td>...</td>\n",
       "    </tr>\n",
       "    <tr>\n",
       "      <th>11111696</th>\n",
       "      <td>NaN</td>\n",
       "    </tr>\n",
       "    <tr>\n",
       "      <th>11144660</th>\n",
       "      <td>NaN</td>\n",
       "    </tr>\n",
       "    <tr>\n",
       "      <th>11144933</th>\n",
       "      <td>NaN</td>\n",
       "    </tr>\n",
       "    <tr>\n",
       "      <th>11164791</th>\n",
       "      <td>NaN</td>\n",
       "    </tr>\n",
       "    <tr>\n",
       "      <th>7925690</th>\n",
       "      <td>10/02/2021 11:00</td>\n",
       "    </tr>\n",
       "  </tbody>\n",
       "</table>\n",
       "<p>894 rows × 1 columns</p>\n",
       "</div>"
      ],
      "text/plain": [
       "                                                 0\n",
       "call_id                                           \n",
       "10653788                          28/05/2021 10:19\n",
       "10343190                          12/05/2021 16:45\n",
       "9647059   2021-04-07 17:01:10, 2021-04-07 17:13:54\n",
       "9647059   2021-04-07 17:01:10, 2021-04-07 17:13:54\n",
       "9709891                           09/04/2021 17:59\n",
       "...                                            ...\n",
       "11111696                                       NaN\n",
       "11144660                                       NaN\n",
       "11144933                                       NaN\n",
       "11164791                                       NaN\n",
       "7925690                           10/02/2021 11:00\n",
       "\n",
       "[894 rows x 1 columns]"
      ]
     },
     "execution_count": 371,
     "metadata": {},
     "output_type": "execute_result"
    }
   ],
   "source": [
    "Customer_Joined_Activities_Timestamps_UTC_df"
   ]
  },
  {
   "cell_type": "code",
   "execution_count": 372,
   "metadata": {
    "ExecuteTime": {
     "end_time": "2021-07-13T01:05:42.132986Z",
     "start_time": "2021-07-13T01:05:42.123416Z"
    }
   },
   "outputs": [],
   "source": [
    "Customer_Joined_Activities_Timestamps_UTC_df= Customer_Joined_Activities_Timestamps_UTC_df[0].str.split(pat=',',n=-1, expand=True)"
   ]
  },
  {
   "cell_type": "code",
   "execution_count": 373,
   "metadata": {
    "ExecuteTime": {
     "end_time": "2021-07-13T01:05:42.166824Z",
     "start_time": "2021-07-13T01:05:42.135338Z"
    }
   },
   "outputs": [
    {
     "data": {
      "text/html": [
       "<div>\n",
       "<style scoped>\n",
       "    .dataframe tbody tr th:only-of-type {\n",
       "        vertical-align: middle;\n",
       "    }\n",
       "\n",
       "    .dataframe tbody tr th {\n",
       "        vertical-align: top;\n",
       "    }\n",
       "\n",
       "    .dataframe thead th {\n",
       "        text-align: right;\n",
       "    }\n",
       "</style>\n",
       "<table border=\"1\" class=\"dataframe\">\n",
       "  <thead>\n",
       "    <tr style=\"text-align: right;\">\n",
       "      <th></th>\n",
       "      <th>0</th>\n",
       "      <th>1</th>\n",
       "      <th>2</th>\n",
       "      <th>3</th>\n",
       "      <th>4</th>\n",
       "      <th>5</th>\n",
       "      <th>6</th>\n",
       "      <th>7</th>\n",
       "      <th>8</th>\n",
       "      <th>9</th>\n",
       "      <th>10</th>\n",
       "      <th>11</th>\n",
       "      <th>12</th>\n",
       "      <th>13</th>\n",
       "      <th>14</th>\n",
       "      <th>15</th>\n",
       "      <th>16</th>\n",
       "      <th>17</th>\n",
       "    </tr>\n",
       "    <tr>\n",
       "      <th>call_id</th>\n",
       "      <th></th>\n",
       "      <th></th>\n",
       "      <th></th>\n",
       "      <th></th>\n",
       "      <th></th>\n",
       "      <th></th>\n",
       "      <th></th>\n",
       "      <th></th>\n",
       "      <th></th>\n",
       "      <th></th>\n",
       "      <th></th>\n",
       "      <th></th>\n",
       "      <th></th>\n",
       "      <th></th>\n",
       "      <th></th>\n",
       "      <th></th>\n",
       "      <th></th>\n",
       "      <th></th>\n",
       "    </tr>\n",
       "  </thead>\n",
       "  <tbody>\n",
       "    <tr>\n",
       "      <th>10653788</th>\n",
       "      <td>28/05/2021 10:19</td>\n",
       "      <td>None</td>\n",
       "      <td>None</td>\n",
       "      <td>None</td>\n",
       "      <td>None</td>\n",
       "      <td>None</td>\n",
       "      <td>None</td>\n",
       "      <td>None</td>\n",
       "      <td>None</td>\n",
       "      <td>None</td>\n",
       "      <td>None</td>\n",
       "      <td>None</td>\n",
       "      <td>None</td>\n",
       "      <td>None</td>\n",
       "      <td>None</td>\n",
       "      <td>None</td>\n",
       "      <td>None</td>\n",
       "      <td>None</td>\n",
       "    </tr>\n",
       "    <tr>\n",
       "      <th>10343190</th>\n",
       "      <td>12/05/2021 16:45</td>\n",
       "      <td>None</td>\n",
       "      <td>None</td>\n",
       "      <td>None</td>\n",
       "      <td>None</td>\n",
       "      <td>None</td>\n",
       "      <td>None</td>\n",
       "      <td>None</td>\n",
       "      <td>None</td>\n",
       "      <td>None</td>\n",
       "      <td>None</td>\n",
       "      <td>None</td>\n",
       "      <td>None</td>\n",
       "      <td>None</td>\n",
       "      <td>None</td>\n",
       "      <td>None</td>\n",
       "      <td>None</td>\n",
       "      <td>None</td>\n",
       "    </tr>\n",
       "    <tr>\n",
       "      <th>9647059</th>\n",
       "      <td>2021-04-07 17:01:10</td>\n",
       "      <td>2021-04-07 17:13:54</td>\n",
       "      <td>None</td>\n",
       "      <td>None</td>\n",
       "      <td>None</td>\n",
       "      <td>None</td>\n",
       "      <td>None</td>\n",
       "      <td>None</td>\n",
       "      <td>None</td>\n",
       "      <td>None</td>\n",
       "      <td>None</td>\n",
       "      <td>None</td>\n",
       "      <td>None</td>\n",
       "      <td>None</td>\n",
       "      <td>None</td>\n",
       "      <td>None</td>\n",
       "      <td>None</td>\n",
       "      <td>None</td>\n",
       "    </tr>\n",
       "    <tr>\n",
       "      <th>9647059</th>\n",
       "      <td>2021-04-07 17:01:10</td>\n",
       "      <td>2021-04-07 17:13:54</td>\n",
       "      <td>None</td>\n",
       "      <td>None</td>\n",
       "      <td>None</td>\n",
       "      <td>None</td>\n",
       "      <td>None</td>\n",
       "      <td>None</td>\n",
       "      <td>None</td>\n",
       "      <td>None</td>\n",
       "      <td>None</td>\n",
       "      <td>None</td>\n",
       "      <td>None</td>\n",
       "      <td>None</td>\n",
       "      <td>None</td>\n",
       "      <td>None</td>\n",
       "      <td>None</td>\n",
       "      <td>None</td>\n",
       "    </tr>\n",
       "    <tr>\n",
       "      <th>9709891</th>\n",
       "      <td>09/04/2021 17:59</td>\n",
       "      <td>None</td>\n",
       "      <td>None</td>\n",
       "      <td>None</td>\n",
       "      <td>None</td>\n",
       "      <td>None</td>\n",
       "      <td>None</td>\n",
       "      <td>None</td>\n",
       "      <td>None</td>\n",
       "      <td>None</td>\n",
       "      <td>None</td>\n",
       "      <td>None</td>\n",
       "      <td>None</td>\n",
       "      <td>None</td>\n",
       "      <td>None</td>\n",
       "      <td>None</td>\n",
       "      <td>None</td>\n",
       "      <td>None</td>\n",
       "    </tr>\n",
       "    <tr>\n",
       "      <th>...</th>\n",
       "      <td>...</td>\n",
       "      <td>...</td>\n",
       "      <td>...</td>\n",
       "      <td>...</td>\n",
       "      <td>...</td>\n",
       "      <td>...</td>\n",
       "      <td>...</td>\n",
       "      <td>...</td>\n",
       "      <td>...</td>\n",
       "      <td>...</td>\n",
       "      <td>...</td>\n",
       "      <td>...</td>\n",
       "      <td>...</td>\n",
       "      <td>...</td>\n",
       "      <td>...</td>\n",
       "      <td>...</td>\n",
       "      <td>...</td>\n",
       "      <td>...</td>\n",
       "    </tr>\n",
       "    <tr>\n",
       "      <th>11111696</th>\n",
       "      <td>NaN</td>\n",
       "      <td>NaN</td>\n",
       "      <td>NaN</td>\n",
       "      <td>NaN</td>\n",
       "      <td>NaN</td>\n",
       "      <td>NaN</td>\n",
       "      <td>NaN</td>\n",
       "      <td>NaN</td>\n",
       "      <td>NaN</td>\n",
       "      <td>NaN</td>\n",
       "      <td>NaN</td>\n",
       "      <td>NaN</td>\n",
       "      <td>NaN</td>\n",
       "      <td>NaN</td>\n",
       "      <td>NaN</td>\n",
       "      <td>NaN</td>\n",
       "      <td>NaN</td>\n",
       "      <td>NaN</td>\n",
       "    </tr>\n",
       "    <tr>\n",
       "      <th>11144660</th>\n",
       "      <td>NaN</td>\n",
       "      <td>NaN</td>\n",
       "      <td>NaN</td>\n",
       "      <td>NaN</td>\n",
       "      <td>NaN</td>\n",
       "      <td>NaN</td>\n",
       "      <td>NaN</td>\n",
       "      <td>NaN</td>\n",
       "      <td>NaN</td>\n",
       "      <td>NaN</td>\n",
       "      <td>NaN</td>\n",
       "      <td>NaN</td>\n",
       "      <td>NaN</td>\n",
       "      <td>NaN</td>\n",
       "      <td>NaN</td>\n",
       "      <td>NaN</td>\n",
       "      <td>NaN</td>\n",
       "      <td>NaN</td>\n",
       "    </tr>\n",
       "    <tr>\n",
       "      <th>11144933</th>\n",
       "      <td>NaN</td>\n",
       "      <td>NaN</td>\n",
       "      <td>NaN</td>\n",
       "      <td>NaN</td>\n",
       "      <td>NaN</td>\n",
       "      <td>NaN</td>\n",
       "      <td>NaN</td>\n",
       "      <td>NaN</td>\n",
       "      <td>NaN</td>\n",
       "      <td>NaN</td>\n",
       "      <td>NaN</td>\n",
       "      <td>NaN</td>\n",
       "      <td>NaN</td>\n",
       "      <td>NaN</td>\n",
       "      <td>NaN</td>\n",
       "      <td>NaN</td>\n",
       "      <td>NaN</td>\n",
       "      <td>NaN</td>\n",
       "    </tr>\n",
       "    <tr>\n",
       "      <th>11164791</th>\n",
       "      <td>NaN</td>\n",
       "      <td>NaN</td>\n",
       "      <td>NaN</td>\n",
       "      <td>NaN</td>\n",
       "      <td>NaN</td>\n",
       "      <td>NaN</td>\n",
       "      <td>NaN</td>\n",
       "      <td>NaN</td>\n",
       "      <td>NaN</td>\n",
       "      <td>NaN</td>\n",
       "      <td>NaN</td>\n",
       "      <td>NaN</td>\n",
       "      <td>NaN</td>\n",
       "      <td>NaN</td>\n",
       "      <td>NaN</td>\n",
       "      <td>NaN</td>\n",
       "      <td>NaN</td>\n",
       "      <td>NaN</td>\n",
       "    </tr>\n",
       "    <tr>\n",
       "      <th>7925690</th>\n",
       "      <td>10/02/2021 11:00</td>\n",
       "      <td>None</td>\n",
       "      <td>None</td>\n",
       "      <td>None</td>\n",
       "      <td>None</td>\n",
       "      <td>None</td>\n",
       "      <td>None</td>\n",
       "      <td>None</td>\n",
       "      <td>None</td>\n",
       "      <td>None</td>\n",
       "      <td>None</td>\n",
       "      <td>None</td>\n",
       "      <td>None</td>\n",
       "      <td>None</td>\n",
       "      <td>None</td>\n",
       "      <td>None</td>\n",
       "      <td>None</td>\n",
       "      <td>None</td>\n",
       "    </tr>\n",
       "  </tbody>\n",
       "</table>\n",
       "<p>894 rows × 18 columns</p>\n",
       "</div>"
      ],
      "text/plain": [
       "                           0                     1     2     3     4     5   \\\n",
       "call_id                                                                       \n",
       "10653788     28/05/2021 10:19                  None  None  None  None  None   \n",
       "10343190     12/05/2021 16:45                  None  None  None  None  None   \n",
       "9647059   2021-04-07 17:01:10   2021-04-07 17:13:54  None  None  None  None   \n",
       "9647059   2021-04-07 17:01:10   2021-04-07 17:13:54  None  None  None  None   \n",
       "9709891      09/04/2021 17:59                  None  None  None  None  None   \n",
       "...                       ...                   ...   ...   ...   ...   ...   \n",
       "11111696                  NaN                   NaN   NaN   NaN   NaN   NaN   \n",
       "11144660                  NaN                   NaN   NaN   NaN   NaN   NaN   \n",
       "11144933                  NaN                   NaN   NaN   NaN   NaN   NaN   \n",
       "11164791                  NaN                   NaN   NaN   NaN   NaN   NaN   \n",
       "7925690      10/02/2021 11:00                  None  None  None  None  None   \n",
       "\n",
       "            6     7     8     9     10    11    12    13    14    15    16  \\\n",
       "call_id                                                                      \n",
       "10653788  None  None  None  None  None  None  None  None  None  None  None   \n",
       "10343190  None  None  None  None  None  None  None  None  None  None  None   \n",
       "9647059   None  None  None  None  None  None  None  None  None  None  None   \n",
       "9647059   None  None  None  None  None  None  None  None  None  None  None   \n",
       "9709891   None  None  None  None  None  None  None  None  None  None  None   \n",
       "...        ...   ...   ...   ...   ...   ...   ...   ...   ...   ...   ...   \n",
       "11111696   NaN   NaN   NaN   NaN   NaN   NaN   NaN   NaN   NaN   NaN   NaN   \n",
       "11144660   NaN   NaN   NaN   NaN   NaN   NaN   NaN   NaN   NaN   NaN   NaN   \n",
       "11144933   NaN   NaN   NaN   NaN   NaN   NaN   NaN   NaN   NaN   NaN   NaN   \n",
       "11164791   NaN   NaN   NaN   NaN   NaN   NaN   NaN   NaN   NaN   NaN   NaN   \n",
       "7925690   None  None  None  None  None  None  None  None  None  None  None   \n",
       "\n",
       "            17  \n",
       "call_id         \n",
       "10653788  None  \n",
       "10343190  None  \n",
       "9647059   None  \n",
       "9647059   None  \n",
       "9709891   None  \n",
       "...        ...  \n",
       "11111696   NaN  \n",
       "11144660   NaN  \n",
       "11144933   NaN  \n",
       "11164791   NaN  \n",
       "7925690   None  \n",
       "\n",
       "[894 rows x 18 columns]"
      ]
     },
     "execution_count": 373,
     "metadata": {},
     "output_type": "execute_result"
    }
   ],
   "source": [
    "Customer_Joined_Activities_Timestamps_UTC_df"
   ]
  },
  {
   "cell_type": "code",
   "execution_count": 374,
   "metadata": {
    "ExecuteTime": {
     "end_time": "2021-07-13T01:05:42.183998Z",
     "start_time": "2021-07-13T01:05:42.177914Z"
    }
   },
   "outputs": [],
   "source": [
    " Customer_Joined_Activities_Timestamps_UTC_df = Customer_Joined_Activities_Timestamps_UTC_df.replace(to_replace='None', inplace=True, value=np.nan)"
   ]
  },
  {
   "cell_type": "code",
   "execution_count": 375,
   "metadata": {
    "ExecuteTime": {
     "end_time": "2021-07-13T01:05:42.193164Z",
     "start_time": "2021-07-13T01:05:42.187894Z"
    }
   },
   "outputs": [],
   "source": [
    "Customer_Joined_Activities_Timestamps_UTC_df"
   ]
  },
  {
   "cell_type": "code",
   "execution_count": 376,
   "metadata": {
    "ExecuteTime": {
     "end_time": "2021-07-13T01:05:42.203892Z",
     "start_time": "2021-07-13T01:05:42.197805Z"
    }
   },
   "outputs": [],
   "source": [
    "Customer_Left_Activities_Timestamps_UTC_df = pd.DataFrame(appointments_clean_df.Customer_Left_Activities_Timestamps_UTC.tolist(), index=appointments_clean_df.index)"
   ]
  },
  {
   "cell_type": "code",
   "execution_count": 377,
   "metadata": {
    "ExecuteTime": {
     "end_time": "2021-07-13T01:05:42.218699Z",
     "start_time": "2021-07-13T01:05:42.208544Z"
    }
   },
   "outputs": [],
   "source": [
    "Customer_Left_Activities_Timestamps_UTC_df= Customer_Left_Activities_Timestamps_UTC_df[0].str.split(pat=',',n=-1, expand=True)"
   ]
  },
  {
   "cell_type": "code",
   "execution_count": 378,
   "metadata": {
    "ExecuteTime": {
     "end_time": "2021-07-13T01:05:42.231663Z",
     "start_time": "2021-07-13T01:05:42.227320Z"
    }
   },
   "outputs": [],
   "source": [
    "Customer_Left_Activities_Timestamps_UTC_df = Customer_Left_Activities_Timestamps_UTC_df.replace(to_replace=[None], value=np.nan, inplace=True)"
   ]
  },
  {
   "cell_type": "code",
   "execution_count": 379,
   "metadata": {
    "ExecuteTime": {
     "end_time": "2021-07-13T01:05:42.237659Z",
     "start_time": "2021-07-13T01:05:42.234595Z"
    }
   },
   "outputs": [],
   "source": [
    "Customer_Left_Activities_Timestamps_UTC_df"
   ]
  },
  {
   "cell_type": "markdown",
   "metadata": {},
   "source": [
    "#### Purchase Made After Call"
   ]
  },
  {
   "cell_type": "markdown",
   "metadata": {},
   "source": [
    "The figure below shows purchase and no purchase after call numbers. This would be a good dependent variable for a prediction model but first the imbalance may need to be addressed. "
   ]
  },
  {
   "cell_type": "code",
   "execution_count": 380,
   "metadata": {
    "ExecuteTime": {
     "end_time": "2021-07-13T01:05:42.408586Z",
     "start_time": "2021-07-13T01:05:42.240679Z"
    }
   },
   "outputs": [
    {
     "data": {
      "text/plain": [
       "<matplotlib.axes._subplots.AxesSubplot at 0x7fcbe33350a0>"
      ]
     },
     "execution_count": 380,
     "metadata": {},
     "output_type": "execute_result"
    },
    {
     "data": {
      "image/png": "[encoded data removed]",
      "text/plain": [
       "<Figure size 720x720 with 1 Axes>"
      ]
     },
     "metadata": {
      "needs_background": "light"
     },
     "output_type": "display_data"
    }
   ],
   "source": [
    "appointments_clean_df['purchase_made_after_call'].value_counts().plot(kind='bar', figsize=[10,10],title='Purchase made after call')"
   ]
  },
  {
   "cell_type": "code",
   "execution_count": 381,
   "metadata": {
    "ExecuteTime": {
     "end_time": "2021-07-13T01:05:42.423862Z",
     "start_time": "2021-07-13T01:05:42.411551Z"
    }
   },
   "outputs": [
    {
     "data": {
      "text/plain": [
       "NO     757\n",
       "YES    137\n",
       "Name: purchase_made_after_call, dtype: int64"
      ]
     },
     "execution_count": 381,
     "metadata": {},
     "output_type": "execute_result"
    }
   ],
   "source": [
    "appointments_clean_df['purchase_made_after_call'].value_counts()"
   ]
  },
  {
   "cell_type": "code",
   "execution_count": 382,
   "metadata": {
    "ExecuteTime": {
     "end_time": "2021-07-13T01:05:42.439618Z",
     "start_time": "2021-07-13T01:05:42.432416Z"
    }
   },
   "outputs": [],
   "source": [
    "Proportion = round((appointments_clean_df[appointments_clean_df['purchase_made_after_call'] == 'YES'].shape[0]) / (appointments_clean_df['purchase_made_after_call'].shape[0]),2)"
   ]
  },
  {
   "cell_type": "code",
   "execution_count": 383,
   "metadata": {
    "ExecuteTime": {
     "end_time": "2021-07-13T01:05:42.459807Z",
     "start_time": "2021-07-13T01:05:42.447924Z"
    }
   },
   "outputs": [
    {
     "data": {
      "text/plain": [
       "0.15"
      ]
     },
     "execution_count": 383,
     "metadata": {},
     "output_type": "execute_result"
    }
   ],
   "source": [
    "Proportion"
   ]
  },
  {
   "cell_type": "markdown",
   "metadata": {},
   "source": [
    "'Good' ecommerce conversion rates are often around 1-2%. So 15% at first glance appears to be very good. Questions: What are the target conversion rates? In addition to ecommerce what other sectors would make appropriate comparisons?\n",
    "\n",
    "Investigate further the following: 1) why did 15% purchase and how can we retain those customers? Retention is easier than acquiring new customers 2) insights into how we can target the 85% that did not buy."
   ]
  },
  {
   "cell_type": "code",
   "execution_count": 384,
   "metadata": {
    "ExecuteTime": {
     "end_time": "2021-07-13T01:05:42.804910Z",
     "start_time": "2021-07-13T01:05:42.462885Z"
    }
   },
   "outputs": [
    {
     "name": "stderr",
     "output_type": "stream",
     "text": [
      "/Library/Frameworks/Python.framework/Versions/3.8/lib/python3.8/site-packages/numpy/lib/histograms.py:839: RuntimeWarning: invalid value encountered in greater_equal\n",
      "  keep = (tmp_a >= first_edge)\n",
      "/Library/Frameworks/Python.framework/Versions/3.8/lib/python3.8/site-packages/numpy/lib/histograms.py:840: RuntimeWarning: invalid value encountered in less_equal\n",
      "  keep &= (tmp_a <= last_edge)\n"
     ]
    },
    {
     "data": {
      "image/png": "[encoded data removed]",
      "text/plain": [
       "<Figure size 1440x720 with 1 Axes>"
      ]
     },
     "metadata": {
      "needs_background": "light"
     },
     "output_type": "display_data"
    }
   ],
   "source": [
    "fig,ax = plt.subplots(figsize=[20,10])\n",
    "ax.hist(appointments_clean_df['purchase_value_usd'], 30)\n",
    "ax.set_title('Histogram of Purchase Value')\n",
    "ax.set_xlabel('USD')\n",
    "ax.set_ylabel('Frequency')\n",
    "plt.show()"
   ]
  },
  {
   "cell_type": "code",
   "execution_count": null,
   "metadata": {
    "ExecuteTime": {
     "end_time": "2021-07-12T22:52:36.449398Z",
     "start_time": "2021-07-12T22:52:36.428632Z"
    }
   },
   "outputs": [],
   "source": []
  },
  {
   "cell_type": "markdown",
   "metadata": {},
   "source": [
    "Histogram of purchase value is highly skewed to the right, not a normal distribution."
   ]
  },
  {
   "cell_type": "code",
   "execution_count": 385,
   "metadata": {
    "ExecuteTime": {
     "end_time": "2021-07-13T01:05:42.822759Z",
     "start_time": "2021-07-13T01:05:42.810325Z"
    }
   },
   "outputs": [],
   "source": [
    "appointments_clean_df['Status_num'] = appointments_clean_df['Status']\n",
    "appointments_clean_df['Status_num'] = appointments_clean_df['Status_num'].replace(['CANCELLED','CREATED','ENDED'], [0, 1, 2])"
   ]
  },
  {
   "cell_type": "code",
   "execution_count": 386,
   "metadata": {
    "ExecuteTime": {
     "end_time": "2021-07-13T01:05:42.920673Z",
     "start_time": "2021-07-13T01:05:42.850237Z"
    }
   },
   "outputs": [
    {
     "data": {
      "text/html": [
       "<div>\n",
       "<style scoped>\n",
       "    .dataframe tbody tr th:only-of-type {\n",
       "        vertical-align: middle;\n",
       "    }\n",
       "\n",
       "    .dataframe tbody tr th {\n",
       "        vertical-align: top;\n",
       "    }\n",
       "\n",
       "    .dataframe thead th {\n",
       "        text-align: right;\n",
       "    }\n",
       "</style>\n",
       "<table border=\"1\" class=\"dataframe\">\n",
       "  <thead>\n",
       "    <tr style=\"text-align: right;\">\n",
       "      <th></th>\n",
       "      <th>Customer_Id</th>\n",
       "      <th>Call_Type</th>\n",
       "      <th>Date_Created_Local</th>\n",
       "      <th>Created_At_Local</th>\n",
       "      <th>Call_Started_Local</th>\n",
       "      <th>Scheduled_Start_Date_Local</th>\n",
       "      <th>Scheduled_Start_Time_Local</th>\n",
       "      <th>Scheduled_End_Time_Local</th>\n",
       "      <th>Status</th>\n",
       "      <th>Booking_Title</th>\n",
       "      <th>Booked_By_Staff_Id</th>\n",
       "      <th>Staff_First_Joined_Activity_Timestamps_Local</th>\n",
       "      <th>Staff_Joined_Activities_Timestamps_Local</th>\n",
       "      <th>Staff_Joined_Count</th>\n",
       "      <th>Staff_Left_Activities_Timestamps_UTC</th>\n",
       "      <th>Customer_Joined_Count</th>\n",
       "      <th>Customer_Joined_Activities_Timestamps_UTC</th>\n",
       "      <th>Customer_Left_Activities_Timestamps_UTC</th>\n",
       "      <th>Customer_Enabled_Video</th>\n",
       "      <th>Call_Result</th>\n",
       "      <th>Call_Duration_(Sec)</th>\n",
       "      <th>Staff_Score</th>\n",
       "      <th>Avg_Customer_Rating_(Overall)</th>\n",
       "      <th>Rating_Question_\"How_Was_The_Stream_Quality\"</th>\n",
       "      <th>Rating_Question_\"Did_you_find_your_rep_helpful?\"</th>\n",
       "      <th>Rating_Question_\"How_likely_are_you_to_use_this_service_again\"?</th>\n",
       "      <th>purchase_made_after_call</th>\n",
       "      <th>purchase_value_usd</th>\n",
       "      <th>timestamp_of_checkout</th>\n",
       "      <th>days_between_call_and_purchase</th>\n",
       "      <th>Status_num</th>\n",
       "    </tr>\n",
       "    <tr>\n",
       "      <th>call_id</th>\n",
       "      <th></th>\n",
       "      <th></th>\n",
       "      <th></th>\n",
       "      <th></th>\n",
       "      <th></th>\n",
       "      <th></th>\n",
       "      <th></th>\n",
       "      <th></th>\n",
       "      <th></th>\n",
       "      <th></th>\n",
       "      <th></th>\n",
       "      <th></th>\n",
       "      <th></th>\n",
       "      <th></th>\n",
       "      <th></th>\n",
       "      <th></th>\n",
       "      <th></th>\n",
       "      <th></th>\n",
       "      <th></th>\n",
       "      <th></th>\n",
       "      <th></th>\n",
       "      <th></th>\n",
       "      <th></th>\n",
       "      <th></th>\n",
       "      <th></th>\n",
       "      <th></th>\n",
       "      <th></th>\n",
       "      <th></th>\n",
       "      <th></th>\n",
       "      <th></th>\n",
       "      <th></th>\n",
       "    </tr>\n",
       "  </thead>\n",
       "  <tbody>\n",
       "    <tr>\n",
       "      <th>10653788</th>\n",
       "      <td>fk3nlsty-g7lu-ig6q-xli8-q1rjko1eh09c</td>\n",
       "      <td>BOOKING</td>\n",
       "      <td>2021-05-26</td>\n",
       "      <td>2021-05-26 15:52:00</td>\n",
       "      <td>2021-05-28 10:19:00</td>\n",
       "      <td>2021-05-28</td>\n",
       "      <td>2021-05-28 10:15:00</td>\n",
       "      <td>2021-05-28 10:25:00</td>\n",
       "      <td>ENDED</td>\n",
       "      <td>Live expert booking - All Goods</td>\n",
       "      <td>21998</td>\n",
       "      <td>2021-05-28 10:12:00</td>\n",
       "      <td>2021-05-28 10:12:17, 2021-05-28 10:15:11, 2021...</td>\n",
       "      <td>3</td>\n",
       "      <td>2021-05-28 10:15:07, 2021-05-28 10:17:04, 2021...</td>\n",
       "      <td>1</td>\n",
       "      <td>28/05/2021 10:19</td>\n",
       "      <td>NaN</td>\n",
       "      <td>0</td>\n",
       "      <td>Booking - Successful call</td>\n",
       "      <td>147</td>\n",
       "      <td>3.0</td>\n",
       "      <td>NaN</td>\n",
       "      <td>NaN</td>\n",
       "      <td>NaN</td>\n",
       "      <td>NaN</td>\n",
       "      <td>YES</td>\n",
       "      <td>23.6</td>\n",
       "      <td>2021-01-06 13:21:00</td>\n",
       "      <td>4.0</td>\n",
       "      <td>2</td>\n",
       "    </tr>\n",
       "    <tr>\n",
       "      <th>10343190</th>\n",
       "      <td>kk4w9y59-suss-ampm-4pox-oj2qhv0py3t4</td>\n",
       "      <td>BOOKING</td>\n",
       "      <td>2021-08-05</td>\n",
       "      <td>2021-08-05 23:04:00</td>\n",
       "      <td>2021-12-05 16:45:00</td>\n",
       "      <td>2021-12-05</td>\n",
       "      <td>2021-12-05 16:45:00</td>\n",
       "      <td>2021-12-05 16:55:00</td>\n",
       "      <td>ENDED</td>\n",
       "      <td>Live expert booking - All Goods</td>\n",
       "      <td>22017</td>\n",
       "      <td>2021-12-05 16:41:00</td>\n",
       "      <td>12/05/2021 16:41</td>\n",
       "      <td>1</td>\n",
       "      <td>12/05/2021 16:51</td>\n",
       "      <td>1</td>\n",
       "      <td>12/05/2021 16:45</td>\n",
       "      <td>NaN</td>\n",
       "      <td>1</td>\n",
       "      <td>Booking - Successful call</td>\n",
       "      <td>356</td>\n",
       "      <td>3.0</td>\n",
       "      <td>5.0</td>\n",
       "      <td>5.0</td>\n",
       "      <td>5.0</td>\n",
       "      <td>5.0</td>\n",
       "      <td>YES</td>\n",
       "      <td>597.0</td>\n",
       "      <td>2021-05-16 20:34:00</td>\n",
       "      <td>4.0</td>\n",
       "      <td>2</td>\n",
       "    </tr>\n",
       "    <tr>\n",
       "      <th>9647059</th>\n",
       "      <td>6vzngogp-dd3d-yllc-3zsc-gb3wui8cnsfo</td>\n",
       "      <td>BOOKING</td>\n",
       "      <td>2021-06-04</td>\n",
       "      <td>2021-06-04 16:53:00</td>\n",
       "      <td>2021-07-04 17:14:00</td>\n",
       "      <td>2021-07-04</td>\n",
       "      <td>2021-07-04 17:00:00</td>\n",
       "      <td>2021-07-04 17:10:00</td>\n",
       "      <td>ENDED</td>\n",
       "      <td>Live expert booking - All Goods</td>\n",
       "      <td>22017</td>\n",
       "      <td>2021-07-04 16:58:00</td>\n",
       "      <td>07/04/2021 16:58</td>\n",
       "      <td>1</td>\n",
       "      <td>07/04/2021 17:32</td>\n",
       "      <td>2</td>\n",
       "      <td>2021-04-07 17:01:10, 2021-04-07 17:13:54</td>\n",
       "      <td>NaN</td>\n",
       "      <td>1</td>\n",
       "      <td>Booking - Successful call</td>\n",
       "      <td>2427</td>\n",
       "      <td>4.0</td>\n",
       "      <td>5.0</td>\n",
       "      <td>5.0</td>\n",
       "      <td>5.0</td>\n",
       "      <td>5.0</td>\n",
       "      <td>YES</td>\n",
       "      <td>27.5</td>\n",
       "      <td>2021-02-05 14:10:00</td>\n",
       "      <td>25.0</td>\n",
       "      <td>2</td>\n",
       "    </tr>\n",
       "    <tr>\n",
       "      <th>9647059</th>\n",
       "      <td>6vzngogp-dd3d-yllc-3zsc-gb3wui8cnsfo</td>\n",
       "      <td>BOOKING</td>\n",
       "      <td>2021-06-04</td>\n",
       "      <td>2021-06-04 16:53:00</td>\n",
       "      <td>2021-07-04 17:14:00</td>\n",
       "      <td>2021-07-04</td>\n",
       "      <td>2021-07-04 17:00:00</td>\n",
       "      <td>2021-07-04 17:10:00</td>\n",
       "      <td>ENDED</td>\n",
       "      <td>Live expert booking - All Goods</td>\n",
       "      <td>22017</td>\n",
       "      <td>2021-07-04 16:58:00</td>\n",
       "      <td>07/04/2021 16:58</td>\n",
       "      <td>1</td>\n",
       "      <td>07/04/2021 17:32</td>\n",
       "      <td>2</td>\n",
       "      <td>2021-04-07 17:01:10, 2021-04-07 17:13:54</td>\n",
       "      <td>NaN</td>\n",
       "      <td>1</td>\n",
       "      <td>Booking - Successful call</td>\n",
       "      <td>2427</td>\n",
       "      <td>4.0</td>\n",
       "      <td>5.0</td>\n",
       "      <td>5.0</td>\n",
       "      <td>5.0</td>\n",
       "      <td>5.0</td>\n",
       "      <td>YES</td>\n",
       "      <td>39.0</td>\n",
       "      <td>2021-04-24 10:57:00</td>\n",
       "      <td>17.0</td>\n",
       "      <td>2</td>\n",
       "    </tr>\n",
       "    <tr>\n",
       "      <th>9709891</th>\n",
       "      <td>6l13g0kj-g0pa-hbw7-xshv-5ekgl2111yo6</td>\n",
       "      <td>BOOKING</td>\n",
       "      <td>2021-08-04</td>\n",
       "      <td>2021-08-04 18:10:00</td>\n",
       "      <td>2021-09-04 18:07:00</td>\n",
       "      <td>2021-09-04</td>\n",
       "      <td>2021-09-04 18:00:00</td>\n",
       "      <td>2021-09-04 18:15:00</td>\n",
       "      <td>ENDED</td>\n",
       "      <td>Live expert booking - All Goods</td>\n",
       "      <td>21998</td>\n",
       "      <td>2021-09-04 18:07:00</td>\n",
       "      <td>09/04/2021 18:07</td>\n",
       "      <td>1</td>\n",
       "      <td>09/04/2021 18:15</td>\n",
       "      <td>1</td>\n",
       "      <td>09/04/2021 17:59</td>\n",
       "      <td>NaN</td>\n",
       "      <td>1</td>\n",
       "      <td>Booking - Successful call</td>\n",
       "      <td>524</td>\n",
       "      <td>3.0</td>\n",
       "      <td>4.0</td>\n",
       "      <td>4.0</td>\n",
       "      <td>4.0</td>\n",
       "      <td>4.0</td>\n",
       "      <td>YES</td>\n",
       "      <td>179.0</td>\n",
       "      <td>2021-04-23 08:23:00</td>\n",
       "      <td>14.0</td>\n",
       "      <td>2</td>\n",
       "    </tr>\n",
       "    <tr>\n",
       "      <th>...</th>\n",
       "      <td>...</td>\n",
       "      <td>...</td>\n",
       "      <td>...</td>\n",
       "      <td>...</td>\n",
       "      <td>...</td>\n",
       "      <td>...</td>\n",
       "      <td>...</td>\n",
       "      <td>...</td>\n",
       "      <td>...</td>\n",
       "      <td>...</td>\n",
       "      <td>...</td>\n",
       "      <td>...</td>\n",
       "      <td>...</td>\n",
       "      <td>...</td>\n",
       "      <td>...</td>\n",
       "      <td>...</td>\n",
       "      <td>...</td>\n",
       "      <td>...</td>\n",
       "      <td>...</td>\n",
       "      <td>...</td>\n",
       "      <td>...</td>\n",
       "      <td>...</td>\n",
       "      <td>...</td>\n",
       "      <td>...</td>\n",
       "      <td>...</td>\n",
       "      <td>...</td>\n",
       "      <td>...</td>\n",
       "      <td>...</td>\n",
       "      <td>...</td>\n",
       "      <td>...</td>\n",
       "      <td>...</td>\n",
       "    </tr>\n",
       "    <tr>\n",
       "      <th>11111696</th>\n",
       "      <td>NaN</td>\n",
       "      <td>BOOKING</td>\n",
       "      <td>2021-06-25</td>\n",
       "      <td>2021-06-25 17:06:00</td>\n",
       "      <td>NaT</td>\n",
       "      <td>2021-06-26</td>\n",
       "      <td>2021-06-26 17:30:00</td>\n",
       "      <td>2021-06-26 17:40:00</td>\n",
       "      <td>CANCELLED</td>\n",
       "      <td>Live expert booking - All Goods</td>\n",
       "      <td>21998</td>\n",
       "      <td>NaT</td>\n",
       "      <td>NaN</td>\n",
       "      <td>0</td>\n",
       "      <td>NaN</td>\n",
       "      <td>0</td>\n",
       "      <td>NaN</td>\n",
       "      <td>NaN</td>\n",
       "      <td>0</td>\n",
       "      <td>Booking - No one joined</td>\n",
       "      <td>0</td>\n",
       "      <td>NaN</td>\n",
       "      <td>NaN</td>\n",
       "      <td>NaN</td>\n",
       "      <td>NaN</td>\n",
       "      <td>NaN</td>\n",
       "      <td>NO</td>\n",
       "      <td>NaN</td>\n",
       "      <td>NaT</td>\n",
       "      <td>NaN</td>\n",
       "      <td>0</td>\n",
       "    </tr>\n",
       "    <tr>\n",
       "      <th>11144660</th>\n",
       "      <td>NaN</td>\n",
       "      <td>BOOKING</td>\n",
       "      <td>2021-06-28</td>\n",
       "      <td>2021-06-28 11:19:00</td>\n",
       "      <td>NaT</td>\n",
       "      <td>2021-06-29</td>\n",
       "      <td>2021-06-29 16:30:00</td>\n",
       "      <td>2021-06-29 16:40:00</td>\n",
       "      <td>CANCELLED</td>\n",
       "      <td>Live expert booking - All Goods</td>\n",
       "      <td>22613</td>\n",
       "      <td>NaT</td>\n",
       "      <td>NaN</td>\n",
       "      <td>0</td>\n",
       "      <td>NaN</td>\n",
       "      <td>0</td>\n",
       "      <td>NaN</td>\n",
       "      <td>NaN</td>\n",
       "      <td>0</td>\n",
       "      <td>Booking - No one joined</td>\n",
       "      <td>0</td>\n",
       "      <td>NaN</td>\n",
       "      <td>NaN</td>\n",
       "      <td>NaN</td>\n",
       "      <td>NaN</td>\n",
       "      <td>NaN</td>\n",
       "      <td>NO</td>\n",
       "      <td>NaN</td>\n",
       "      <td>NaT</td>\n",
       "      <td>NaN</td>\n",
       "      <td>0</td>\n",
       "    </tr>\n",
       "    <tr>\n",
       "      <th>11144933</th>\n",
       "      <td>NaN</td>\n",
       "      <td>BOOKING</td>\n",
       "      <td>2021-06-28</td>\n",
       "      <td>2021-06-28 11:30:00</td>\n",
       "      <td>NaT</td>\n",
       "      <td>2021-06-29</td>\n",
       "      <td>2021-06-29 11:30:00</td>\n",
       "      <td>2021-06-29 11:40:00</td>\n",
       "      <td>CANCELLED</td>\n",
       "      <td>Live expert booking - All Goods</td>\n",
       "      <td>21557</td>\n",
       "      <td>NaT</td>\n",
       "      <td>NaN</td>\n",
       "      <td>0</td>\n",
       "      <td>NaN</td>\n",
       "      <td>0</td>\n",
       "      <td>NaN</td>\n",
       "      <td>NaN</td>\n",
       "      <td>0</td>\n",
       "      <td>Booking - No one joined</td>\n",
       "      <td>0</td>\n",
       "      <td>NaN</td>\n",
       "      <td>NaN</td>\n",
       "      <td>NaN</td>\n",
       "      <td>NaN</td>\n",
       "      <td>NaN</td>\n",
       "      <td>NO</td>\n",
       "      <td>NaN</td>\n",
       "      <td>NaT</td>\n",
       "      <td>NaN</td>\n",
       "      <td>0</td>\n",
       "    </tr>\n",
       "    <tr>\n",
       "      <th>11164791</th>\n",
       "      <td>NaN</td>\n",
       "      <td>BOOKING</td>\n",
       "      <td>2021-06-29</td>\n",
       "      <td>2021-06-29 13:06:00</td>\n",
       "      <td>NaT</td>\n",
       "      <td>2021-06-30</td>\n",
       "      <td>2021-06-30 13:15:00</td>\n",
       "      <td>2021-06-30 13:25:00</td>\n",
       "      <td>CANCELLED</td>\n",
       "      <td>Live expert booking - All Goods</td>\n",
       "      <td>22017</td>\n",
       "      <td>NaT</td>\n",
       "      <td>NaN</td>\n",
       "      <td>0</td>\n",
       "      <td>NaN</td>\n",
       "      <td>0</td>\n",
       "      <td>NaN</td>\n",
       "      <td>NaN</td>\n",
       "      <td>0</td>\n",
       "      <td>Booking - No one joined</td>\n",
       "      <td>0</td>\n",
       "      <td>NaN</td>\n",
       "      <td>NaN</td>\n",
       "      <td>NaN</td>\n",
       "      <td>NaN</td>\n",
       "      <td>NaN</td>\n",
       "      <td>NO</td>\n",
       "      <td>NaN</td>\n",
       "      <td>NaT</td>\n",
       "      <td>NaN</td>\n",
       "      <td>0</td>\n",
       "    </tr>\n",
       "    <tr>\n",
       "      <th>7925690</th>\n",
       "      <td>sinmbd7v-efk2-953m-ap0a-v4ir8w7epwov</td>\n",
       "      <td>BOOKING</td>\n",
       "      <td>2021-10-02</td>\n",
       "      <td>2021-10-02 10:58:00</td>\n",
       "      <td>2021-10-02 11:00:00</td>\n",
       "      <td>2021-10-02</td>\n",
       "      <td>2021-10-02 11:00:00</td>\n",
       "      <td>2021-10-02 11:30:00</td>\n",
       "      <td>CANCELLED</td>\n",
       "      <td>Live expert booking - All Goods</td>\n",
       "      <td>21558</td>\n",
       "      <td>2021-10-02 11:00:00</td>\n",
       "      <td>10/02/2021 11:00</td>\n",
       "      <td>1</td>\n",
       "      <td>10/02/2021 11:00</td>\n",
       "      <td>1</td>\n",
       "      <td>10/02/2021 11:00</td>\n",
       "      <td>NaN</td>\n",
       "      <td>0</td>\n",
       "      <td>Booking - Successful call</td>\n",
       "      <td>5</td>\n",
       "      <td>NaN</td>\n",
       "      <td>NaN</td>\n",
       "      <td>NaN</td>\n",
       "      <td>NaN</td>\n",
       "      <td>NaN</td>\n",
       "      <td>NO</td>\n",
       "      <td>NaN</td>\n",
       "      <td>NaT</td>\n",
       "      <td>NaN</td>\n",
       "      <td>0</td>\n",
       "    </tr>\n",
       "  </tbody>\n",
       "</table>\n",
       "<p>894 rows × 31 columns</p>\n",
       "</div>"
      ],
      "text/plain": [
       "                                   Customer_Id Call_Type Date_Created_Local  \\\n",
       "call_id                                                                       \n",
       "10653788  fk3nlsty-g7lu-ig6q-xli8-q1rjko1eh09c   BOOKING         2021-05-26   \n",
       "10343190  kk4w9y59-suss-ampm-4pox-oj2qhv0py3t4   BOOKING         2021-08-05   \n",
       "9647059   6vzngogp-dd3d-yllc-3zsc-gb3wui8cnsfo   BOOKING         2021-06-04   \n",
       "9647059   6vzngogp-dd3d-yllc-3zsc-gb3wui8cnsfo   BOOKING         2021-06-04   \n",
       "9709891   6l13g0kj-g0pa-hbw7-xshv-5ekgl2111yo6   BOOKING         2021-08-04   \n",
       "...                                        ...       ...                ...   \n",
       "11111696                                   NaN   BOOKING         2021-06-25   \n",
       "11144660                                   NaN   BOOKING         2021-06-28   \n",
       "11144933                                   NaN   BOOKING         2021-06-28   \n",
       "11164791                                   NaN   BOOKING         2021-06-29   \n",
       "7925690   sinmbd7v-efk2-953m-ap0a-v4ir8w7epwov   BOOKING         2021-10-02   \n",
       "\n",
       "            Created_At_Local  Call_Started_Local Scheduled_Start_Date_Local  \\\n",
       "call_id                                                                       \n",
       "10653788 2021-05-26 15:52:00 2021-05-28 10:19:00                 2021-05-28   \n",
       "10343190 2021-08-05 23:04:00 2021-12-05 16:45:00                 2021-12-05   \n",
       "9647059  2021-06-04 16:53:00 2021-07-04 17:14:00                 2021-07-04   \n",
       "9647059  2021-06-04 16:53:00 2021-07-04 17:14:00                 2021-07-04   \n",
       "9709891  2021-08-04 18:10:00 2021-09-04 18:07:00                 2021-09-04   \n",
       "...                      ...                 ...                        ...   \n",
       "11111696 2021-06-25 17:06:00                 NaT                 2021-06-26   \n",
       "11144660 2021-06-28 11:19:00                 NaT                 2021-06-29   \n",
       "11144933 2021-06-28 11:30:00                 NaT                 2021-06-29   \n",
       "11164791 2021-06-29 13:06:00                 NaT                 2021-06-30   \n",
       "7925690  2021-10-02 10:58:00 2021-10-02 11:00:00                 2021-10-02   \n",
       "\n",
       "         Scheduled_Start_Time_Local Scheduled_End_Time_Local     Status  \\\n",
       "call_id                                                                   \n",
       "10653788        2021-05-28 10:15:00      2021-05-28 10:25:00      ENDED   \n",
       "10343190        2021-12-05 16:45:00      2021-12-05 16:55:00      ENDED   \n",
       "9647059         2021-07-04 17:00:00      2021-07-04 17:10:00      ENDED   \n",
       "9647059         2021-07-04 17:00:00      2021-07-04 17:10:00      ENDED   \n",
       "9709891         2021-09-04 18:00:00      2021-09-04 18:15:00      ENDED   \n",
       "...                             ...                      ...        ...   \n",
       "11111696        2021-06-26 17:30:00      2021-06-26 17:40:00  CANCELLED   \n",
       "11144660        2021-06-29 16:30:00      2021-06-29 16:40:00  CANCELLED   \n",
       "11144933        2021-06-29 11:30:00      2021-06-29 11:40:00  CANCELLED   \n",
       "11164791        2021-06-30 13:15:00      2021-06-30 13:25:00  CANCELLED   \n",
       "7925690         2021-10-02 11:00:00      2021-10-02 11:30:00  CANCELLED   \n",
       "\n",
       "                            Booking_Title  Booked_By_Staff_Id  \\\n",
       "call_id                                                         \n",
       "10653788  Live expert booking - All Goods               21998   \n",
       "10343190  Live expert booking - All Goods               22017   \n",
       "9647059   Live expert booking - All Goods               22017   \n",
       "9647059   Live expert booking - All Goods               22017   \n",
       "9709891   Live expert booking - All Goods               21998   \n",
       "...                                   ...                 ...   \n",
       "11111696  Live expert booking - All Goods               21998   \n",
       "11144660  Live expert booking - All Goods               22613   \n",
       "11144933  Live expert booking - All Goods               21557   \n",
       "11164791  Live expert booking - All Goods               22017   \n",
       "7925690   Live expert booking - All Goods               21558   \n",
       "\n",
       "         Staff_First_Joined_Activity_Timestamps_Local  \\\n",
       "call_id                                                 \n",
       "10653788                          2021-05-28 10:12:00   \n",
       "10343190                          2021-12-05 16:41:00   \n",
       "9647059                           2021-07-04 16:58:00   \n",
       "9647059                           2021-07-04 16:58:00   \n",
       "9709891                           2021-09-04 18:07:00   \n",
       "...                                               ...   \n",
       "11111696                                          NaT   \n",
       "11144660                                          NaT   \n",
       "11144933                                          NaT   \n",
       "11164791                                          NaT   \n",
       "7925690                           2021-10-02 11:00:00   \n",
       "\n",
       "                   Staff_Joined_Activities_Timestamps_Local  \\\n",
       "call_id                                                       \n",
       "10653788  2021-05-28 10:12:17, 2021-05-28 10:15:11, 2021...   \n",
       "10343190                                   12/05/2021 16:41   \n",
       "9647059                                    07/04/2021 16:58   \n",
       "9647059                                    07/04/2021 16:58   \n",
       "9709891                                    09/04/2021 18:07   \n",
       "...                                                     ...   \n",
       "11111696                                                NaN   \n",
       "11144660                                                NaN   \n",
       "11144933                                                NaN   \n",
       "11164791                                                NaN   \n",
       "7925690                                    10/02/2021 11:00   \n",
       "\n",
       "          Staff_Joined_Count  \\\n",
       "call_id                        \n",
       "10653788                   3   \n",
       "10343190                   1   \n",
       "9647059                    1   \n",
       "9647059                    1   \n",
       "9709891                    1   \n",
       "...                      ...   \n",
       "11111696                   0   \n",
       "11144660                   0   \n",
       "11144933                   0   \n",
       "11164791                   0   \n",
       "7925690                    1   \n",
       "\n",
       "                       Staff_Left_Activities_Timestamps_UTC  \\\n",
       "call_id                                                       \n",
       "10653788  2021-05-28 10:15:07, 2021-05-28 10:17:04, 2021...   \n",
       "10343190                                   12/05/2021 16:51   \n",
       "9647059                                    07/04/2021 17:32   \n",
       "9647059                                    07/04/2021 17:32   \n",
       "9709891                                    09/04/2021 18:15   \n",
       "...                                                     ...   \n",
       "11111696                                                NaN   \n",
       "11144660                                                NaN   \n",
       "11144933                                                NaN   \n",
       "11164791                                                NaN   \n",
       "7925690                                    10/02/2021 11:00   \n",
       "\n",
       "          Customer_Joined_Count Customer_Joined_Activities_Timestamps_UTC  \\\n",
       "call_id                                                                     \n",
       "10653788                      1                          28/05/2021 10:19   \n",
       "10343190                      1                          12/05/2021 16:45   \n",
       "9647059                       2  2021-04-07 17:01:10, 2021-04-07 17:13:54   \n",
       "9647059                       2  2021-04-07 17:01:10, 2021-04-07 17:13:54   \n",
       "9709891                       1                          09/04/2021 17:59   \n",
       "...                         ...                                       ...   \n",
       "11111696                      0                                       NaN   \n",
       "11144660                      0                                       NaN   \n",
       "11144933                      0                                       NaN   \n",
       "11164791                      0                                       NaN   \n",
       "7925690                       1                          10/02/2021 11:00   \n",
       "\n",
       "         Customer_Left_Activities_Timestamps_UTC  Customer_Enabled_Video  \\\n",
       "call_id                                                                    \n",
       "10653788                                     NaN                       0   \n",
       "10343190                                     NaN                       1   \n",
       "9647059                                      NaN                       1   \n",
       "9647059                                      NaN                       1   \n",
       "9709891                                      NaN                       1   \n",
       "...                                          ...                     ...   \n",
       "11111696                                     NaN                       0   \n",
       "11144660                                     NaN                       0   \n",
       "11144933                                     NaN                       0   \n",
       "11164791                                     NaN                       0   \n",
       "7925690                                      NaN                       0   \n",
       "\n",
       "                        Call_Result  Call_Duration_(Sec)  Staff_Score  \\\n",
       "call_id                                                                 \n",
       "10653788  Booking - Successful call                  147          3.0   \n",
       "10343190  Booking - Successful call                  356          3.0   \n",
       "9647059   Booking - Successful call                 2427          4.0   \n",
       "9647059   Booking - Successful call                 2427          4.0   \n",
       "9709891   Booking - Successful call                  524          3.0   \n",
       "...                             ...                  ...          ...   \n",
       "11111696    Booking - No one joined                    0          NaN   \n",
       "11144660    Booking - No one joined                    0          NaN   \n",
       "11144933    Booking - No one joined                    0          NaN   \n",
       "11164791    Booking - No one joined                    0          NaN   \n",
       "7925690   Booking - Successful call                    5          NaN   \n",
       "\n",
       "          Avg_Customer_Rating_(Overall)  \\\n",
       "call_id                                   \n",
       "10653788                            NaN   \n",
       "10343190                            5.0   \n",
       "9647059                             5.0   \n",
       "9647059                             5.0   \n",
       "9709891                             4.0   \n",
       "...                                 ...   \n",
       "11111696                            NaN   \n",
       "11144660                            NaN   \n",
       "11144933                            NaN   \n",
       "11164791                            NaN   \n",
       "7925690                             NaN   \n",
       "\n",
       "          Rating_Question_\"How_Was_The_Stream_Quality\"  \\\n",
       "call_id                                                  \n",
       "10653788                                           NaN   \n",
       "10343190                                           5.0   \n",
       "9647059                                            5.0   \n",
       "9647059                                            5.0   \n",
       "9709891                                            4.0   \n",
       "...                                                ...   \n",
       "11111696                                           NaN   \n",
       "11144660                                           NaN   \n",
       "11144933                                           NaN   \n",
       "11164791                                           NaN   \n",
       "7925690                                            NaN   \n",
       "\n",
       "          Rating_Question_\"Did_you_find_your_rep_helpful?\"  \\\n",
       "call_id                                                      \n",
       "10653788                                               NaN   \n",
       "10343190                                               5.0   \n",
       "9647059                                                5.0   \n",
       "9647059                                                5.0   \n",
       "9709891                                                4.0   \n",
       "...                                                    ...   \n",
       "11111696                                               NaN   \n",
       "11144660                                               NaN   \n",
       "11144933                                               NaN   \n",
       "11164791                                               NaN   \n",
       "7925690                                                NaN   \n",
       "\n",
       "          Rating_Question_\"How_likely_are_you_to_use_this_service_again\"?  \\\n",
       "call_id                                                                     \n",
       "10653788                                                NaN                 \n",
       "10343190                                                5.0                 \n",
       "9647059                                                 5.0                 \n",
       "9647059                                                 5.0                 \n",
       "9709891                                                 4.0                 \n",
       "...                                                     ...                 \n",
       "11111696                                                NaN                 \n",
       "11144660                                                NaN                 \n",
       "11144933                                                NaN                 \n",
       "11164791                                                NaN                 \n",
       "7925690                                                 NaN                 \n",
       "\n",
       "         purchase_made_after_call  purchase_value_usd timestamp_of_checkout  \\\n",
       "call_id                                                                       \n",
       "10653788                      YES                23.6   2021-01-06 13:21:00   \n",
       "10343190                      YES               597.0   2021-05-16 20:34:00   \n",
       "9647059                       YES                27.5   2021-02-05 14:10:00   \n",
       "9647059                       YES                39.0   2021-04-24 10:57:00   \n",
       "9709891                       YES               179.0   2021-04-23 08:23:00   \n",
       "...                           ...                 ...                   ...   \n",
       "11111696                       NO                 NaN                   NaT   \n",
       "11144660                       NO                 NaN                   NaT   \n",
       "11144933                       NO                 NaN                   NaT   \n",
       "11164791                       NO                 NaN                   NaT   \n",
       "7925690                        NO                 NaN                   NaT   \n",
       "\n",
       "          days_between_call_and_purchase  Status_num  \n",
       "call_id                                               \n",
       "10653788                             4.0           2  \n",
       "10343190                             4.0           2  \n",
       "9647059                             25.0           2  \n",
       "9647059                             17.0           2  \n",
       "9709891                             14.0           2  \n",
       "...                                  ...         ...  \n",
       "11111696                             NaN           0  \n",
       "11144660                             NaN           0  \n",
       "11144933                             NaN           0  \n",
       "11164791                             NaN           0  \n",
       "7925690                              NaN           0  \n",
       "\n",
       "[894 rows x 31 columns]"
      ]
     },
     "execution_count": 386,
     "metadata": {},
     "output_type": "execute_result"
    }
   ],
   "source": [
    "appointments_clean_df"
   ]
  },
  {
   "cell_type": "markdown",
   "metadata": {
    "ExecuteTime": {
     "end_time": "2021-07-12T21:17:44.152865Z",
     "start_time": "2021-07-12T21:17:44.149577Z"
    }
   },
   "source": [
    "#### Correlation"
   ]
  },
  {
   "cell_type": "markdown",
   "metadata": {},
   "source": [
    "Correlation matrix below shows features that are correlated, such as the four rating questions whose respective quadrants are beige, indicating a high positive correlation with each other. Will remove correlated features before running a prediction model."
   ]
  },
  {
   "cell_type": "code",
   "execution_count": 387,
   "metadata": {
    "ExecuteTime": {
     "end_time": "2021-07-13T01:05:43.437134Z",
     "start_time": "2021-07-13T01:05:42.929760Z"
    }
   },
   "outputs": [
    {
     "data": {
      "text/plain": [
       "[Text(0.5, 0, 'Booked_By_Staff_Id'),\n",
       " Text(1.5, 0, 'Staff_Joined_Count'),\n",
       " Text(2.5, 0, 'Customer_Joined_Count'),\n",
       " Text(3.5, 0, 'Customer_Enabled_Video'),\n",
       " Text(4.5, 0, 'Call_Duration_(Sec)'),\n",
       " Text(5.5, 0, 'Staff_Score'),\n",
       " Text(6.5, 0, 'Avg_Customer_Rating_(Overall)'),\n",
       " Text(7.5, 0, 'Rating_Question_\"How_Was_The_Stream_Quality\"'),\n",
       " Text(8.5, 0, 'Rating_Question_\"Did_you_find_your_rep_helpful?\"'),\n",
       " Text(9.5, 0, 'Rating_Question_\"How_likely_are_you_to_use_this_service_again\"?'),\n",
       " Text(10.5, 0, 'purchase_value_usd'),\n",
       " Text(11.5, 0, 'days_between_call_and_purchase'),\n",
       " Text(12.5, 0, 'Status_num')]"
      ]
     },
     "execution_count": 387,
     "metadata": {},
     "output_type": "execute_result"
    },
    {
     "data": {
      "image/png": "[encoded data removed]",
      "text/plain": [
       "<Figure size 720x720 with 2 Axes>"
      ]
     },
     "metadata": {
      "needs_background": "light"
     },
     "output_type": "display_data"
    }
   ],
   "source": [
    "corr = appointments_clean_df.corr()\n",
    "fig, ax = plt.subplots(figsize=(10,10))\n",
    "sns.heatmap(corr, center=0,)\n",
    "ax.set_xticklabels(ax.get_xticklabels())"
   ]
  },
  {
   "cell_type": "markdown",
   "metadata": {},
   "source": [
    "#### Rating Questions Density Estimates"
   ]
  },
  {
   "cell_type": "code",
   "execution_count": 388,
   "metadata": {
    "ExecuteTime": {
     "end_time": "2021-07-13T01:05:43.804094Z",
     "start_time": "2021-07-13T01:05:43.450180Z"
    }
   },
   "outputs": [
    {
     "data": {
      "text/plain": [
       "array([<matplotlib.axes._subplots.AxesSubplot object at 0x7fcbe5706340>],\n",
       "      dtype=object)"
      ]
     },
     "execution_count": 388,
     "metadata": {},
     "output_type": "execute_result"
    },
    {
     "data": {
      "image/png": "[encoded data removed]",
      "text/plain": [
       "<Figure size 1080x720 with 1 Axes>"
      ]
     },
     "metadata": {
      "needs_background": "light"
     },
     "output_type": "display_data"
    }
   ],
   "source": [
    "kde_yes_df = appointments_clean_df[appointments_clean_df['purchase_made_after_call'] == 'YES']\n",
    "kde_no_df = appointments_clean_df[appointments_clean_df['purchase_made_after_call'] == 'NO']\n",
    "\n",
    "kde_no_df['Rating_Question_\"Did_you_find_your_rep_helpful?\"'].plot.kde(subplots=True, title='Rating_Question \"Did you find your rep helpful?\"', label='Did not purchase',legend=True,color='red',figsize=(15,10))\n",
    "kde_yes_df['Rating_Question_\"Did_you_find_your_rep_helpful?\"'].plot.kde(subplots=True,label='Purchased',legend=True,figsize=(15,10))\n",
    "appointments_clean_df['Avg_Customer_Rating_(Overall)'].plot.kde(subplots=True,label='Average rating',color='black',legend=True,figsize=(15,10))"
   ]
  },
  {
   "cell_type": "code",
   "execution_count": 389,
   "metadata": {
    "ExecuteTime": {
     "end_time": "2021-07-13T01:05:44.225625Z",
     "start_time": "2021-07-13T01:05:43.812943Z"
    }
   },
   "outputs": [
    {
     "data": {
      "text/plain": [
       "array([<matplotlib.axes._subplots.AxesSubplot object at 0x7fcbe57a94c0>],\n",
       "      dtype=object)"
      ]
     },
     "execution_count": 389,
     "metadata": {},
     "output_type": "execute_result"
    },
    {
     "data": {
      "image/png": "[encoded data removed]",
      "text/plain": [
       "<Figure size 1080x720 with 1 Axes>"
      ]
     },
     "metadata": {
      "needs_background": "light"
     },
     "output_type": "display_data"
    }
   ],
   "source": [
    "kde_yes_df = appointments_clean_df[appointments_clean_df['purchase_made_after_call'] == 'YES']\n",
    "kde_no_df = appointments_clean_df[appointments_clean_df['purchase_made_after_call'] == 'NO']\n",
    "\n",
    "kde_no_df['Rating_Question_\"How_Was_The_Stream_Quality\"'].plot.kde(subplots=True,title='Rating Question \"How Was The Stream Quality?\"',legend=True,label='Did not purchase',color='red',figsize=(15,10))\n",
    "kde_yes_df['Rating_Question_\"How_Was_The_Stream_Quality\"'].plot.kde(subplots=True,label='Purchase',legend=True,figsize=(15,10))\n",
    "appointments_clean_df['Avg_Customer_Rating_(Overall)'].plot.kde(subplots=True,label='Average rating',color='black',legend=True,figsize=(15,10))"
   ]
  },
  {
   "cell_type": "code",
   "execution_count": 390,
   "metadata": {
    "ExecuteTime": {
     "end_time": "2021-07-13T01:05:44.584897Z",
     "start_time": "2021-07-13T01:05:44.233354Z"
    }
   },
   "outputs": [
    {
     "data": {
      "text/plain": [
       "array([<matplotlib.axes._subplots.AxesSubplot object at 0x7fcbe580eca0>],\n",
       "      dtype=object)"
      ]
     },
     "execution_count": 390,
     "metadata": {},
     "output_type": "execute_result"
    },
    {
     "data": {
      "image/png": "[encoded data removed]",
      "text/plain": [
       "<Figure size 1080x720 with 1 Axes>"
      ]
     },
     "metadata": {
      "needs_background": "light"
     },
     "output_type": "display_data"
    }
   ],
   "source": [
    "kde_yes_df = appointments_clean_df[appointments_clean_df['purchase_made_after_call'] == 'YES']\n",
    "kde_no_df = appointments_clean_df[appointments_clean_df['purchase_made_after_call'] == 'NO']\n",
    "\n",
    "kde_no_df['Rating_Question_\"How_likely_are_you_to_use_this_service_again\"?'].plot.kde(subplots=True,title='Rating Question \"How likely are you to use this service again\"?',label='Did not purchase',legend=True,color='red',figsize=(15,10))\n",
    "kde_yes_df['Rating_Question_\"How_likely_are_you_to_use_this_service_again\"?'].plot.kde(subplots=True,label='Purchase',legend=True,figsize=(15,10))\n",
    "appointments_clean_df['Avg_Customer_Rating_(Overall)'].plot.kde(subplots=True,label='Average rating',color='black',legend=True,figsize=(15,10))"
   ]
  },
  {
   "cell_type": "code",
   "execution_count": 391,
   "metadata": {
    "ExecuteTime": {
     "end_time": "2021-07-13T01:05:44.640438Z",
     "start_time": "2021-07-13T01:05:44.597154Z"
    }
   },
   "outputs": [
    {
     "data": {
      "text/plain": [
       "453"
      ]
     },
     "execution_count": 391,
     "metadata": {},
     "output_type": "execute_result"
    }
   ],
   "source": [
    "appointments_clean_df['Customer_Id'].nunique()"
   ]
  },
  {
   "cell_type": "code",
   "execution_count": 392,
   "metadata": {
    "ExecuteTime": {
     "end_time": "2021-07-13T01:05:44.677909Z",
     "start_time": "2021-07-13T01:05:44.656431Z"
    }
   },
   "outputs": [
    {
     "data": {
      "text/plain": [
       "BOOKING    894\n",
       "Name: Call_Type, dtype: int64"
      ]
     },
     "execution_count": 392,
     "metadata": {},
     "output_type": "execute_result"
    }
   ],
   "source": [
    "appointments_clean_df['Call_Type'].value_counts()"
   ]
  },
  {
   "cell_type": "markdown",
   "metadata": {},
   "source": [
    "#### Usage of Appointment Booking "
   ]
  },
  {
   "cell_type": "markdown",
   "metadata": {},
   "source": [
    "Below I wanted to explore whether customers that cancelled appointments were rebooking appointments for future dates, if not this would be an area that we could target, for example, by sending booking reminders to customers. Only one user \"sinmbd7v-efk2-953m-ap0a-v4ir8w7epwov\" had both ended and cancelled an appointment, but the cancelled appointment was forward of the ended appointment, so therefore not necessarily related in that way. 484 Customer IDs were missing from my working data set. From the remaining 510, only a small proportion were returning users/customers, so not much could be gleaned at this time using the available data.   "
   ]
  },
  {
   "cell_type": "code",
   "execution_count": 393,
   "metadata": {
    "ExecuteTime": {
     "end_time": "2021-07-13T01:05:44.690011Z",
     "start_time": "2021-07-13T01:05:44.680790Z"
    }
   },
   "outputs": [
    {
     "data": {
      "text/plain": [
       "ENDED        640\n",
       "CANCELLED    180\n",
       "CREATED       74\n",
       "Name: Status, dtype: int64"
      ]
     },
     "execution_count": 393,
     "metadata": {},
     "output_type": "execute_result"
    }
   ],
   "source": [
    "appointments_clean_df['Status'].value_counts()"
   ]
  },
  {
   "cell_type": "code",
   "execution_count": 394,
   "metadata": {
    "ExecuteTime": {
     "end_time": "2021-07-13T01:05:44.716922Z",
     "start_time": "2021-07-13T01:05:44.697235Z"
    }
   },
   "outputs": [],
   "source": [
    "Ended_df = appointments_clean_df[appointments_clean_df['Status'] == 'ENDED']\n",
    "Cancelled_df = appointments_clean_df[appointments_clean_df['Status'] == 'CANCELLED']\n",
    "Ended_df = Ended_df.dropna(subset =[\"Customer_Id\"])\n",
    "Cancelled_df = Cancelled_df.dropna(subset =[\"Customer_Id\"])\n",
    "Created_df = appointments_clean_df[appointments_clean_df['Status'] == 'CREATED']\n",
    "Created_df = Created_df.dropna(subset =[\"Customer_Id\"])"
   ]
  },
  {
   "cell_type": "code",
   "execution_count": 395,
   "metadata": {
    "ExecuteTime": {
     "end_time": "2021-07-13T01:05:44.730322Z",
     "start_time": "2021-07-13T01:05:44.719842Z"
    }
   },
   "outputs": [],
   "source": [
    "Rebooked_e_c_df = Ended_df[Ended_df.Customer_Id.isin(Cancelled_df.Customer_Id) == True]"
   ]
  },
  {
   "cell_type": "code",
   "execution_count": 396,
   "metadata": {
    "ExecuteTime": {
     "end_time": "2021-07-13T01:05:44.748650Z",
     "start_time": "2021-07-13T01:05:44.736150Z"
    }
   },
   "outputs": [],
   "source": [
    "Rebooked_c_e_df = Cancelled_df[Cancelled_df.Customer_Id.isin(Ended_df.Customer_Id) == True]"
   ]
  },
  {
   "cell_type": "code",
   "execution_count": 397,
   "metadata": {
    "ExecuteTime": {
     "end_time": "2021-07-13T01:05:44.809354Z",
     "start_time": "2021-07-13T01:05:44.753071Z"
    }
   },
   "outputs": [
    {
     "data": {
      "text/html": [
       "<div>\n",
       "<style scoped>\n",
       "    .dataframe tbody tr th:only-of-type {\n",
       "        vertical-align: middle;\n",
       "    }\n",
       "\n",
       "    .dataframe tbody tr th {\n",
       "        vertical-align: top;\n",
       "    }\n",
       "\n",
       "    .dataframe thead th {\n",
       "        text-align: right;\n",
       "    }\n",
       "</style>\n",
       "<table border=\"1\" class=\"dataframe\">\n",
       "  <thead>\n",
       "    <tr style=\"text-align: right;\">\n",
       "      <th></th>\n",
       "      <th>Customer_Id</th>\n",
       "      <th>Call_Type</th>\n",
       "      <th>Date_Created_Local</th>\n",
       "      <th>Created_At_Local</th>\n",
       "      <th>Call_Started_Local</th>\n",
       "      <th>Scheduled_Start_Date_Local</th>\n",
       "      <th>Scheduled_Start_Time_Local</th>\n",
       "      <th>Scheduled_End_Time_Local</th>\n",
       "      <th>Status</th>\n",
       "      <th>Booking_Title</th>\n",
       "      <th>Booked_By_Staff_Id</th>\n",
       "      <th>Staff_First_Joined_Activity_Timestamps_Local</th>\n",
       "      <th>Staff_Joined_Activities_Timestamps_Local</th>\n",
       "      <th>Staff_Joined_Count</th>\n",
       "      <th>Staff_Left_Activities_Timestamps_UTC</th>\n",
       "      <th>Customer_Joined_Count</th>\n",
       "      <th>Customer_Joined_Activities_Timestamps_UTC</th>\n",
       "      <th>Customer_Left_Activities_Timestamps_UTC</th>\n",
       "      <th>Customer_Enabled_Video</th>\n",
       "      <th>Call_Result</th>\n",
       "      <th>Call_Duration_(Sec)</th>\n",
       "      <th>Staff_Score</th>\n",
       "      <th>Avg_Customer_Rating_(Overall)</th>\n",
       "      <th>Rating_Question_\"How_Was_The_Stream_Quality\"</th>\n",
       "      <th>Rating_Question_\"Did_you_find_your_rep_helpful?\"</th>\n",
       "      <th>Rating_Question_\"How_likely_are_you_to_use_this_service_again\"?</th>\n",
       "      <th>purchase_made_after_call</th>\n",
       "      <th>purchase_value_usd</th>\n",
       "      <th>timestamp_of_checkout</th>\n",
       "      <th>days_between_call_and_purchase</th>\n",
       "      <th>Status_num</th>\n",
       "    </tr>\n",
       "    <tr>\n",
       "      <th>call_id</th>\n",
       "      <th></th>\n",
       "      <th></th>\n",
       "      <th></th>\n",
       "      <th></th>\n",
       "      <th></th>\n",
       "      <th></th>\n",
       "      <th></th>\n",
       "      <th></th>\n",
       "      <th></th>\n",
       "      <th></th>\n",
       "      <th></th>\n",
       "      <th></th>\n",
       "      <th></th>\n",
       "      <th></th>\n",
       "      <th></th>\n",
       "      <th></th>\n",
       "      <th></th>\n",
       "      <th></th>\n",
       "      <th></th>\n",
       "      <th></th>\n",
       "      <th></th>\n",
       "      <th></th>\n",
       "      <th></th>\n",
       "      <th></th>\n",
       "      <th></th>\n",
       "      <th></th>\n",
       "      <th></th>\n",
       "      <th></th>\n",
       "      <th></th>\n",
       "      <th></th>\n",
       "      <th></th>\n",
       "    </tr>\n",
       "  </thead>\n",
       "  <tbody>\n",
       "    <tr>\n",
       "      <th>7925690</th>\n",
       "      <td>sinmbd7v-efk2-953m-ap0a-v4ir8w7epwov</td>\n",
       "      <td>BOOKING</td>\n",
       "      <td>2021-10-02</td>\n",
       "      <td>2021-10-02 10:58:00</td>\n",
       "      <td>2021-10-02 11:00:00</td>\n",
       "      <td>2021-10-02</td>\n",
       "      <td>2021-10-02 11:00:00</td>\n",
       "      <td>2021-10-02 11:30:00</td>\n",
       "      <td>CANCELLED</td>\n",
       "      <td>Live expert booking - All Goods</td>\n",
       "      <td>21558</td>\n",
       "      <td>2021-10-02 11:00:00</td>\n",
       "      <td>10/02/2021 11:00</td>\n",
       "      <td>1</td>\n",
       "      <td>10/02/2021 11:00</td>\n",
       "      <td>1</td>\n",
       "      <td>10/02/2021 11:00</td>\n",
       "      <td>NaN</td>\n",
       "      <td>0</td>\n",
       "      <td>Booking - Successful call</td>\n",
       "      <td>5</td>\n",
       "      <td>NaN</td>\n",
       "      <td>NaN</td>\n",
       "      <td>NaN</td>\n",
       "      <td>NaN</td>\n",
       "      <td>NaN</td>\n",
       "      <td>NO</td>\n",
       "      <td>NaN</td>\n",
       "      <td>NaT</td>\n",
       "      <td>NaN</td>\n",
       "      <td>0</td>\n",
       "    </tr>\n",
       "  </tbody>\n",
       "</table>\n",
       "</div>"
      ],
      "text/plain": [
       "                                  Customer_Id Call_Type Date_Created_Local  \\\n",
       "call_id                                                                      \n",
       "7925690  sinmbd7v-efk2-953m-ap0a-v4ir8w7epwov   BOOKING         2021-10-02   \n",
       "\n",
       "           Created_At_Local  Call_Started_Local Scheduled_Start_Date_Local  \\\n",
       "call_id                                                                      \n",
       "7925690 2021-10-02 10:58:00 2021-10-02 11:00:00                 2021-10-02   \n",
       "\n",
       "        Scheduled_Start_Time_Local Scheduled_End_Time_Local     Status  \\\n",
       "call_id                                                                  \n",
       "7925690        2021-10-02 11:00:00      2021-10-02 11:30:00  CANCELLED   \n",
       "\n",
       "                           Booking_Title  Booked_By_Staff_Id  \\\n",
       "call_id                                                        \n",
       "7925690  Live expert booking - All Goods               21558   \n",
       "\n",
       "        Staff_First_Joined_Activity_Timestamps_Local  \\\n",
       "call_id                                                \n",
       "7925690                          2021-10-02 11:00:00   \n",
       "\n",
       "        Staff_Joined_Activities_Timestamps_Local  Staff_Joined_Count  \\\n",
       "call_id                                                                \n",
       "7925690                         10/02/2021 11:00                   1   \n",
       "\n",
       "        Staff_Left_Activities_Timestamps_UTC  Customer_Joined_Count  \\\n",
       "call_id                                                               \n",
       "7925690                     10/02/2021 11:00                      1   \n",
       "\n",
       "        Customer_Joined_Activities_Timestamps_UTC  \\\n",
       "call_id                                             \n",
       "7925690                          10/02/2021 11:00   \n",
       "\n",
       "        Customer_Left_Activities_Timestamps_UTC  Customer_Enabled_Video  \\\n",
       "call_id                                                                   \n",
       "7925690                                     NaN                       0   \n",
       "\n",
       "                       Call_Result  Call_Duration_(Sec)  Staff_Score  \\\n",
       "call_id                                                                \n",
       "7925690  Booking - Successful call                    5          NaN   \n",
       "\n",
       "         Avg_Customer_Rating_(Overall)  \\\n",
       "call_id                                  \n",
       "7925690                            NaN   \n",
       "\n",
       "         Rating_Question_\"How_Was_The_Stream_Quality\"  \\\n",
       "call_id                                                 \n",
       "7925690                                           NaN   \n",
       "\n",
       "         Rating_Question_\"Did_you_find_your_rep_helpful?\"  \\\n",
       "call_id                                                     \n",
       "7925690                                               NaN   \n",
       "\n",
       "         Rating_Question_\"How_likely_are_you_to_use_this_service_again\"?  \\\n",
       "call_id                                                                    \n",
       "7925690                                                NaN                 \n",
       "\n",
       "        purchase_made_after_call  purchase_value_usd timestamp_of_checkout  \\\n",
       "call_id                                                                      \n",
       "7925690                       NO                 NaN                   NaT   \n",
       "\n",
       "         days_between_call_and_purchase  Status_num  \n",
       "call_id                                              \n",
       "7925690                             NaN           0  "
      ]
     },
     "execution_count": 397,
     "metadata": {},
     "output_type": "execute_result"
    }
   ],
   "source": [
    "Rebooked_c_e_df"
   ]
  },
  {
   "cell_type": "code",
   "execution_count": 398,
   "metadata": {
    "ExecuteTime": {
     "end_time": "2021-07-13T01:05:44.871002Z",
     "start_time": "2021-07-13T01:05:44.816259Z"
    }
   },
   "outputs": [
    {
     "data": {
      "text/html": [
       "<div>\n",
       "<style scoped>\n",
       "    .dataframe tbody tr th:only-of-type {\n",
       "        vertical-align: middle;\n",
       "    }\n",
       "\n",
       "    .dataframe tbody tr th {\n",
       "        vertical-align: top;\n",
       "    }\n",
       "\n",
       "    .dataframe thead th {\n",
       "        text-align: right;\n",
       "    }\n",
       "</style>\n",
       "<table border=\"1\" class=\"dataframe\">\n",
       "  <thead>\n",
       "    <tr style=\"text-align: right;\">\n",
       "      <th></th>\n",
       "      <th>Customer_Id</th>\n",
       "      <th>Call_Type</th>\n",
       "      <th>Date_Created_Local</th>\n",
       "      <th>Created_At_Local</th>\n",
       "      <th>Call_Started_Local</th>\n",
       "      <th>Scheduled_Start_Date_Local</th>\n",
       "      <th>Scheduled_Start_Time_Local</th>\n",
       "      <th>Scheduled_End_Time_Local</th>\n",
       "      <th>Status</th>\n",
       "      <th>Booking_Title</th>\n",
       "      <th>Booked_By_Staff_Id</th>\n",
       "      <th>Staff_First_Joined_Activity_Timestamps_Local</th>\n",
       "      <th>Staff_Joined_Activities_Timestamps_Local</th>\n",
       "      <th>Staff_Joined_Count</th>\n",
       "      <th>Staff_Left_Activities_Timestamps_UTC</th>\n",
       "      <th>Customer_Joined_Count</th>\n",
       "      <th>Customer_Joined_Activities_Timestamps_UTC</th>\n",
       "      <th>Customer_Left_Activities_Timestamps_UTC</th>\n",
       "      <th>Customer_Enabled_Video</th>\n",
       "      <th>Call_Result</th>\n",
       "      <th>Call_Duration_(Sec)</th>\n",
       "      <th>Staff_Score</th>\n",
       "      <th>Avg_Customer_Rating_(Overall)</th>\n",
       "      <th>Rating_Question_\"How_Was_The_Stream_Quality\"</th>\n",
       "      <th>Rating_Question_\"Did_you_find_your_rep_helpful?\"</th>\n",
       "      <th>Rating_Question_\"How_likely_are_you_to_use_this_service_again\"?</th>\n",
       "      <th>purchase_made_after_call</th>\n",
       "      <th>purchase_value_usd</th>\n",
       "      <th>timestamp_of_checkout</th>\n",
       "      <th>days_between_call_and_purchase</th>\n",
       "      <th>Status_num</th>\n",
       "    </tr>\n",
       "    <tr>\n",
       "      <th>call_id</th>\n",
       "      <th></th>\n",
       "      <th></th>\n",
       "      <th></th>\n",
       "      <th></th>\n",
       "      <th></th>\n",
       "      <th></th>\n",
       "      <th></th>\n",
       "      <th></th>\n",
       "      <th></th>\n",
       "      <th></th>\n",
       "      <th></th>\n",
       "      <th></th>\n",
       "      <th></th>\n",
       "      <th></th>\n",
       "      <th></th>\n",
       "      <th></th>\n",
       "      <th></th>\n",
       "      <th></th>\n",
       "      <th></th>\n",
       "      <th></th>\n",
       "      <th></th>\n",
       "      <th></th>\n",
       "      <th></th>\n",
       "      <th></th>\n",
       "      <th></th>\n",
       "      <th></th>\n",
       "      <th></th>\n",
       "      <th></th>\n",
       "      <th></th>\n",
       "      <th></th>\n",
       "      <th></th>\n",
       "    </tr>\n",
       "  </thead>\n",
       "  <tbody>\n",
       "    <tr>\n",
       "      <th>8147395</th>\n",
       "      <td>sinmbd7v-efk2-953m-ap0a-v4ir8w7epwov</td>\n",
       "      <td>BOOKING</td>\n",
       "      <td>2021-02-16</td>\n",
       "      <td>2021-02-16 12:25:00</td>\n",
       "      <td>2021-02-16 12:37:00</td>\n",
       "      <td>2021-02-16</td>\n",
       "      <td>2021-02-16 12:30:00</td>\n",
       "      <td>2021-02-16 12:40:00</td>\n",
       "      <td>ENDED</td>\n",
       "      <td>Live expert booking - All Goods</td>\n",
       "      <td>22017</td>\n",
       "      <td>2021-02-16 12:27:00</td>\n",
       "      <td>16/02/2021 12:27</td>\n",
       "      <td>1</td>\n",
       "      <td>16/02/2021 12:39</td>\n",
       "      <td>2</td>\n",
       "      <td>2021-02-16 12:27:32, 2021-02-16 12:37:36</td>\n",
       "      <td>2021-02-16 12:33:18, 2021-02-16 12:39:05</td>\n",
       "      <td>1</td>\n",
       "      <td>Booking - Successful call</td>\n",
       "      <td>85</td>\n",
       "      <td>3.0</td>\n",
       "      <td>5.0</td>\n",
       "      <td>5.0</td>\n",
       "      <td>5.0</td>\n",
       "      <td>5.0</td>\n",
       "      <td>NO</td>\n",
       "      <td>NaN</td>\n",
       "      <td>NaT</td>\n",
       "      <td>NaN</td>\n",
       "      <td>2</td>\n",
       "    </tr>\n",
       "  </tbody>\n",
       "</table>\n",
       "</div>"
      ],
      "text/plain": [
       "                                  Customer_Id Call_Type Date_Created_Local  \\\n",
       "call_id                                                                      \n",
       "8147395  sinmbd7v-efk2-953m-ap0a-v4ir8w7epwov   BOOKING         2021-02-16   \n",
       "\n",
       "           Created_At_Local  Call_Started_Local Scheduled_Start_Date_Local  \\\n",
       "call_id                                                                      \n",
       "8147395 2021-02-16 12:25:00 2021-02-16 12:37:00                 2021-02-16   \n",
       "\n",
       "        Scheduled_Start_Time_Local Scheduled_End_Time_Local Status  \\\n",
       "call_id                                                              \n",
       "8147395        2021-02-16 12:30:00      2021-02-16 12:40:00  ENDED   \n",
       "\n",
       "                           Booking_Title  Booked_By_Staff_Id  \\\n",
       "call_id                                                        \n",
       "8147395  Live expert booking - All Goods               22017   \n",
       "\n",
       "        Staff_First_Joined_Activity_Timestamps_Local  \\\n",
       "call_id                                                \n",
       "8147395                          2021-02-16 12:27:00   \n",
       "\n",
       "        Staff_Joined_Activities_Timestamps_Local  Staff_Joined_Count  \\\n",
       "call_id                                                                \n",
       "8147395                         16/02/2021 12:27                   1   \n",
       "\n",
       "        Staff_Left_Activities_Timestamps_UTC  Customer_Joined_Count  \\\n",
       "call_id                                                               \n",
       "8147395                     16/02/2021 12:39                      2   \n",
       "\n",
       "        Customer_Joined_Activities_Timestamps_UTC  \\\n",
       "call_id                                             \n",
       "8147395  2021-02-16 12:27:32, 2021-02-16 12:37:36   \n",
       "\n",
       "          Customer_Left_Activities_Timestamps_UTC  Customer_Enabled_Video  \\\n",
       "call_id                                                                     \n",
       "8147395  2021-02-16 12:33:18, 2021-02-16 12:39:05                       1   \n",
       "\n",
       "                       Call_Result  Call_Duration_(Sec)  Staff_Score  \\\n",
       "call_id                                                                \n",
       "8147395  Booking - Successful call                   85          3.0   \n",
       "\n",
       "         Avg_Customer_Rating_(Overall)  \\\n",
       "call_id                                  \n",
       "8147395                            5.0   \n",
       "\n",
       "         Rating_Question_\"How_Was_The_Stream_Quality\"  \\\n",
       "call_id                                                 \n",
       "8147395                                           5.0   \n",
       "\n",
       "         Rating_Question_\"Did_you_find_your_rep_helpful?\"  \\\n",
       "call_id                                                     \n",
       "8147395                                               5.0   \n",
       "\n",
       "         Rating_Question_\"How_likely_are_you_to_use_this_service_again\"?  \\\n",
       "call_id                                                                    \n",
       "8147395                                                5.0                 \n",
       "\n",
       "        purchase_made_after_call  purchase_value_usd timestamp_of_checkout  \\\n",
       "call_id                                                                      \n",
       "8147395                       NO                 NaN                   NaT   \n",
       "\n",
       "         days_between_call_and_purchase  Status_num  \n",
       "call_id                                              \n",
       "8147395                             NaN           2  "
      ]
     },
     "execution_count": 398,
     "metadata": {},
     "output_type": "execute_result"
    }
   ],
   "source": [
    "Rebooked_e_c_df"
   ]
  },
  {
   "cell_type": "code",
   "execution_count": 399,
   "metadata": {
    "ExecuteTime": {
     "end_time": "2021-07-13T01:05:44.898619Z",
     "start_time": "2021-07-13T01:05:44.874180Z"
    }
   },
   "outputs": [
    {
     "data": {
      "text/html": [
       "<div>\n",
       "<style scoped>\n",
       "    .dataframe tbody tr th:only-of-type {\n",
       "        vertical-align: middle;\n",
       "    }\n",
       "\n",
       "    .dataframe tbody tr th {\n",
       "        vertical-align: top;\n",
       "    }\n",
       "\n",
       "    .dataframe thead th {\n",
       "        text-align: right;\n",
       "    }\n",
       "</style>\n",
       "<table border=\"1\" class=\"dataframe\">\n",
       "  <thead>\n",
       "    <tr style=\"text-align: right;\">\n",
       "      <th></th>\n",
       "      <th>Customer_Id</th>\n",
       "      <th>Call_Type</th>\n",
       "      <th>Date_Created_Local</th>\n",
       "      <th>Created_At_Local</th>\n",
       "      <th>Call_Started_Local</th>\n",
       "      <th>Scheduled_Start_Date_Local</th>\n",
       "      <th>Scheduled_Start_Time_Local</th>\n",
       "      <th>Scheduled_End_Time_Local</th>\n",
       "      <th>Status</th>\n",
       "      <th>Booking_Title</th>\n",
       "      <th>Booked_By_Staff_Id</th>\n",
       "      <th>Staff_First_Joined_Activity_Timestamps_Local</th>\n",
       "      <th>Staff_Joined_Activities_Timestamps_Local</th>\n",
       "      <th>Staff_Joined_Count</th>\n",
       "      <th>Staff_Left_Activities_Timestamps_UTC</th>\n",
       "      <th>Customer_Joined_Count</th>\n",
       "      <th>Customer_Joined_Activities_Timestamps_UTC</th>\n",
       "      <th>Customer_Left_Activities_Timestamps_UTC</th>\n",
       "      <th>Customer_Enabled_Video</th>\n",
       "      <th>Call_Result</th>\n",
       "      <th>Call_Duration_(Sec)</th>\n",
       "      <th>Staff_Score</th>\n",
       "      <th>Avg_Customer_Rating_(Overall)</th>\n",
       "      <th>Rating_Question_\"How_Was_The_Stream_Quality\"</th>\n",
       "      <th>Rating_Question_\"Did_you_find_your_rep_helpful?\"</th>\n",
       "      <th>Rating_Question_\"How_likely_are_you_to_use_this_service_again\"?</th>\n",
       "      <th>purchase_made_after_call</th>\n",
       "      <th>purchase_value_usd</th>\n",
       "      <th>timestamp_of_checkout</th>\n",
       "      <th>days_between_call_and_purchase</th>\n",
       "      <th>Status_num</th>\n",
       "    </tr>\n",
       "    <tr>\n",
       "      <th>call_id</th>\n",
       "      <th></th>\n",
       "      <th></th>\n",
       "      <th></th>\n",
       "      <th></th>\n",
       "      <th></th>\n",
       "      <th></th>\n",
       "      <th></th>\n",
       "      <th></th>\n",
       "      <th></th>\n",
       "      <th></th>\n",
       "      <th></th>\n",
       "      <th></th>\n",
       "      <th></th>\n",
       "      <th></th>\n",
       "      <th></th>\n",
       "      <th></th>\n",
       "      <th></th>\n",
       "      <th></th>\n",
       "      <th></th>\n",
       "      <th></th>\n",
       "      <th></th>\n",
       "      <th></th>\n",
       "      <th></th>\n",
       "      <th></th>\n",
       "      <th></th>\n",
       "      <th></th>\n",
       "      <th></th>\n",
       "      <th></th>\n",
       "      <th></th>\n",
       "      <th></th>\n",
       "      <th></th>\n",
       "    </tr>\n",
       "  </thead>\n",
       "  <tbody>\n",
       "  </tbody>\n",
       "</table>\n",
       "</div>"
      ],
      "text/plain": [
       "Empty DataFrame\n",
       "Columns: [Customer_Id, Call_Type, Date_Created_Local, Created_At_Local, Call_Started_Local, Scheduled_Start_Date_Local, Scheduled_Start_Time_Local, Scheduled_End_Time_Local, Status, Booking_Title, Booked_By_Staff_Id, Staff_First_Joined_Activity_Timestamps_Local, Staff_Joined_Activities_Timestamps_Local, Staff_Joined_Count, Staff_Left_Activities_Timestamps_UTC, Customer_Joined_Count, Customer_Joined_Activities_Timestamps_UTC, Customer_Left_Activities_Timestamps_UTC, Customer_Enabled_Video, Call_Result, Call_Duration_(Sec), Staff_Score, Avg_Customer_Rating_(Overall), Rating_Question_\"How_Was_The_Stream_Quality\", Rating_Question_\"Did_you_find_your_rep_helpful?\", Rating_Question_\"How_likely_are_you_to_use_this_service_again\"?, purchase_made_after_call, purchase_value_usd, timestamp_of_checkout, days_between_call_and_purchase, Status_num]\n",
       "Index: []"
      ]
     },
     "execution_count": 399,
     "metadata": {},
     "output_type": "execute_result"
    }
   ],
   "source": [
    "Created_df[Created_df['Customer_Id'] == 'sinmbd7v-efk2-953m-ap0a-v4ir8w7epwov']"
   ]
  },
  {
   "cell_type": "code",
   "execution_count": 400,
   "metadata": {
    "ExecuteTime": {
     "end_time": "2021-07-13T01:05:44.908453Z",
     "start_time": "2021-07-13T01:05:44.901157Z"
    }
   },
   "outputs": [],
   "source": [
    "Rebooked_c_cr_df = Cancelled_df[Cancelled_df.Customer_Id.isin(Created_df.Customer_Id) == True]\n",
    "Rebooked_cr_c_df = Created_df[Created_df.Customer_Id.isin(Cancelled_df.Customer_Id) == True]"
   ]
  },
  {
   "cell_type": "code",
   "execution_count": 401,
   "metadata": {
    "ExecuteTime": {
     "end_time": "2021-07-13T01:05:44.926738Z",
     "start_time": "2021-07-13T01:05:44.912537Z"
    }
   },
   "outputs": [
    {
     "data": {
      "text/html": [
       "<div>\n",
       "<style scoped>\n",
       "    .dataframe tbody tr th:only-of-type {\n",
       "        vertical-align: middle;\n",
       "    }\n",
       "\n",
       "    .dataframe tbody tr th {\n",
       "        vertical-align: top;\n",
       "    }\n",
       "\n",
       "    .dataframe thead th {\n",
       "        text-align: right;\n",
       "    }\n",
       "</style>\n",
       "<table border=\"1\" class=\"dataframe\">\n",
       "  <thead>\n",
       "    <tr style=\"text-align: right;\">\n",
       "      <th></th>\n",
       "      <th>Customer_Id</th>\n",
       "      <th>Call_Type</th>\n",
       "      <th>Date_Created_Local</th>\n",
       "      <th>Created_At_Local</th>\n",
       "      <th>Call_Started_Local</th>\n",
       "      <th>Scheduled_Start_Date_Local</th>\n",
       "      <th>Scheduled_Start_Time_Local</th>\n",
       "      <th>Scheduled_End_Time_Local</th>\n",
       "      <th>Status</th>\n",
       "      <th>Booking_Title</th>\n",
       "      <th>Booked_By_Staff_Id</th>\n",
       "      <th>Staff_First_Joined_Activity_Timestamps_Local</th>\n",
       "      <th>Staff_Joined_Activities_Timestamps_Local</th>\n",
       "      <th>Staff_Joined_Count</th>\n",
       "      <th>Staff_Left_Activities_Timestamps_UTC</th>\n",
       "      <th>Customer_Joined_Count</th>\n",
       "      <th>Customer_Joined_Activities_Timestamps_UTC</th>\n",
       "      <th>Customer_Left_Activities_Timestamps_UTC</th>\n",
       "      <th>Customer_Enabled_Video</th>\n",
       "      <th>Call_Result</th>\n",
       "      <th>Call_Duration_(Sec)</th>\n",
       "      <th>Staff_Score</th>\n",
       "      <th>Avg_Customer_Rating_(Overall)</th>\n",
       "      <th>Rating_Question_\"How_Was_The_Stream_Quality\"</th>\n",
       "      <th>Rating_Question_\"Did_you_find_your_rep_helpful?\"</th>\n",
       "      <th>Rating_Question_\"How_likely_are_you_to_use_this_service_again\"?</th>\n",
       "      <th>purchase_made_after_call</th>\n",
       "      <th>purchase_value_usd</th>\n",
       "      <th>timestamp_of_checkout</th>\n",
       "      <th>days_between_call_and_purchase</th>\n",
       "      <th>Status_num</th>\n",
       "    </tr>\n",
       "    <tr>\n",
       "      <th>call_id</th>\n",
       "      <th></th>\n",
       "      <th></th>\n",
       "      <th></th>\n",
       "      <th></th>\n",
       "      <th></th>\n",
       "      <th></th>\n",
       "      <th></th>\n",
       "      <th></th>\n",
       "      <th></th>\n",
       "      <th></th>\n",
       "      <th></th>\n",
       "      <th></th>\n",
       "      <th></th>\n",
       "      <th></th>\n",
       "      <th></th>\n",
       "      <th></th>\n",
       "      <th></th>\n",
       "      <th></th>\n",
       "      <th></th>\n",
       "      <th></th>\n",
       "      <th></th>\n",
       "      <th></th>\n",
       "      <th></th>\n",
       "      <th></th>\n",
       "      <th></th>\n",
       "      <th></th>\n",
       "      <th></th>\n",
       "      <th></th>\n",
       "      <th></th>\n",
       "      <th></th>\n",
       "      <th></th>\n",
       "    </tr>\n",
       "  </thead>\n",
       "  <tbody>\n",
       "  </tbody>\n",
       "</table>\n",
       "</div>"
      ],
      "text/plain": [
       "Empty DataFrame\n",
       "Columns: [Customer_Id, Call_Type, Date_Created_Local, Created_At_Local, Call_Started_Local, Scheduled_Start_Date_Local, Scheduled_Start_Time_Local, Scheduled_End_Time_Local, Status, Booking_Title, Booked_By_Staff_Id, Staff_First_Joined_Activity_Timestamps_Local, Staff_Joined_Activities_Timestamps_Local, Staff_Joined_Count, Staff_Left_Activities_Timestamps_UTC, Customer_Joined_Count, Customer_Joined_Activities_Timestamps_UTC, Customer_Left_Activities_Timestamps_UTC, Customer_Enabled_Video, Call_Result, Call_Duration_(Sec), Staff_Score, Avg_Customer_Rating_(Overall), Rating_Question_\"How_Was_The_Stream_Quality\", Rating_Question_\"Did_you_find_your_rep_helpful?\", Rating_Question_\"How_likely_are_you_to_use_this_service_again\"?, purchase_made_after_call, purchase_value_usd, timestamp_of_checkout, days_between_call_and_purchase, Status_num]\n",
       "Index: []"
      ]
     },
     "execution_count": 401,
     "metadata": {},
     "output_type": "execute_result"
    }
   ],
   "source": [
    "Rebooked_c_cr_df"
   ]
  },
  {
   "cell_type": "code",
   "execution_count": 402,
   "metadata": {
    "ExecuteTime": {
     "end_time": "2021-07-13T01:05:44.943751Z",
     "start_time": "2021-07-13T01:05:44.929339Z"
    }
   },
   "outputs": [
    {
     "data": {
      "text/html": [
       "<div>\n",
       "<style scoped>\n",
       "    .dataframe tbody tr th:only-of-type {\n",
       "        vertical-align: middle;\n",
       "    }\n",
       "\n",
       "    .dataframe tbody tr th {\n",
       "        vertical-align: top;\n",
       "    }\n",
       "\n",
       "    .dataframe thead th {\n",
       "        text-align: right;\n",
       "    }\n",
       "</style>\n",
       "<table border=\"1\" class=\"dataframe\">\n",
       "  <thead>\n",
       "    <tr style=\"text-align: right;\">\n",
       "      <th></th>\n",
       "      <th>Customer_Id</th>\n",
       "      <th>Call_Type</th>\n",
       "      <th>Date_Created_Local</th>\n",
       "      <th>Created_At_Local</th>\n",
       "      <th>Call_Started_Local</th>\n",
       "      <th>Scheduled_Start_Date_Local</th>\n",
       "      <th>Scheduled_Start_Time_Local</th>\n",
       "      <th>Scheduled_End_Time_Local</th>\n",
       "      <th>Status</th>\n",
       "      <th>Booking_Title</th>\n",
       "      <th>Booked_By_Staff_Id</th>\n",
       "      <th>Staff_First_Joined_Activity_Timestamps_Local</th>\n",
       "      <th>Staff_Joined_Activities_Timestamps_Local</th>\n",
       "      <th>Staff_Joined_Count</th>\n",
       "      <th>Staff_Left_Activities_Timestamps_UTC</th>\n",
       "      <th>Customer_Joined_Count</th>\n",
       "      <th>Customer_Joined_Activities_Timestamps_UTC</th>\n",
       "      <th>Customer_Left_Activities_Timestamps_UTC</th>\n",
       "      <th>Customer_Enabled_Video</th>\n",
       "      <th>Call_Result</th>\n",
       "      <th>Call_Duration_(Sec)</th>\n",
       "      <th>Staff_Score</th>\n",
       "      <th>Avg_Customer_Rating_(Overall)</th>\n",
       "      <th>Rating_Question_\"How_Was_The_Stream_Quality\"</th>\n",
       "      <th>Rating_Question_\"Did_you_find_your_rep_helpful?\"</th>\n",
       "      <th>Rating_Question_\"How_likely_are_you_to_use_this_service_again\"?</th>\n",
       "      <th>purchase_made_after_call</th>\n",
       "      <th>purchase_value_usd</th>\n",
       "      <th>timestamp_of_checkout</th>\n",
       "      <th>days_between_call_and_purchase</th>\n",
       "      <th>Status_num</th>\n",
       "    </tr>\n",
       "    <tr>\n",
       "      <th>call_id</th>\n",
       "      <th></th>\n",
       "      <th></th>\n",
       "      <th></th>\n",
       "      <th></th>\n",
       "      <th></th>\n",
       "      <th></th>\n",
       "      <th></th>\n",
       "      <th></th>\n",
       "      <th></th>\n",
       "      <th></th>\n",
       "      <th></th>\n",
       "      <th></th>\n",
       "      <th></th>\n",
       "      <th></th>\n",
       "      <th></th>\n",
       "      <th></th>\n",
       "      <th></th>\n",
       "      <th></th>\n",
       "      <th></th>\n",
       "      <th></th>\n",
       "      <th></th>\n",
       "      <th></th>\n",
       "      <th></th>\n",
       "      <th></th>\n",
       "      <th></th>\n",
       "      <th></th>\n",
       "      <th></th>\n",
       "      <th></th>\n",
       "      <th></th>\n",
       "      <th></th>\n",
       "      <th></th>\n",
       "    </tr>\n",
       "  </thead>\n",
       "  <tbody>\n",
       "  </tbody>\n",
       "</table>\n",
       "</div>"
      ],
      "text/plain": [
       "Empty DataFrame\n",
       "Columns: [Customer_Id, Call_Type, Date_Created_Local, Created_At_Local, Call_Started_Local, Scheduled_Start_Date_Local, Scheduled_Start_Time_Local, Scheduled_End_Time_Local, Status, Booking_Title, Booked_By_Staff_Id, Staff_First_Joined_Activity_Timestamps_Local, Staff_Joined_Activities_Timestamps_Local, Staff_Joined_Count, Staff_Left_Activities_Timestamps_UTC, Customer_Joined_Count, Customer_Joined_Activities_Timestamps_UTC, Customer_Left_Activities_Timestamps_UTC, Customer_Enabled_Video, Call_Result, Call_Duration_(Sec), Staff_Score, Avg_Customer_Rating_(Overall), Rating_Question_\"How_Was_The_Stream_Quality\", Rating_Question_\"Did_you_find_your_rep_helpful?\", Rating_Question_\"How_likely_are_you_to_use_this_service_again\"?, purchase_made_after_call, purchase_value_usd, timestamp_of_checkout, days_between_call_and_purchase, Status_num]\n",
       "Index: []"
      ]
     },
     "execution_count": 402,
     "metadata": {},
     "output_type": "execute_result"
    }
   ],
   "source": [
    "Rebooked_cr_c_df"
   ]
  },
  {
   "cell_type": "code",
   "execution_count": 403,
   "metadata": {
    "ExecuteTime": {
     "end_time": "2021-07-13T01:05:44.983753Z",
     "start_time": "2021-07-13T01:05:44.946571Z"
    }
   },
   "outputs": [
    {
     "data": {
      "text/html": [
       "<div>\n",
       "<style scoped>\n",
       "    .dataframe tbody tr th:only-of-type {\n",
       "        vertical-align: middle;\n",
       "    }\n",
       "\n",
       "    .dataframe tbody tr th {\n",
       "        vertical-align: top;\n",
       "    }\n",
       "\n",
       "    .dataframe thead th {\n",
       "        text-align: right;\n",
       "    }\n",
       "</style>\n",
       "<table border=\"1\" class=\"dataframe\">\n",
       "  <thead>\n",
       "    <tr style=\"text-align: right;\">\n",
       "      <th></th>\n",
       "      <th>Customer_Id</th>\n",
       "      <th>Call_Type</th>\n",
       "      <th>Date_Created_Local</th>\n",
       "      <th>Created_At_Local</th>\n",
       "      <th>Call_Started_Local</th>\n",
       "      <th>Scheduled_Start_Date_Local</th>\n",
       "      <th>Scheduled_Start_Time_Local</th>\n",
       "      <th>Scheduled_End_Time_Local</th>\n",
       "      <th>Status</th>\n",
       "      <th>Booking_Title</th>\n",
       "      <th>Booked_By_Staff_Id</th>\n",
       "      <th>Staff_First_Joined_Activity_Timestamps_Local</th>\n",
       "      <th>Staff_Joined_Activities_Timestamps_Local</th>\n",
       "      <th>Staff_Joined_Count</th>\n",
       "      <th>Staff_Left_Activities_Timestamps_UTC</th>\n",
       "      <th>Customer_Joined_Count</th>\n",
       "      <th>Customer_Joined_Activities_Timestamps_UTC</th>\n",
       "      <th>Customer_Left_Activities_Timestamps_UTC</th>\n",
       "      <th>Customer_Enabled_Video</th>\n",
       "      <th>Call_Result</th>\n",
       "      <th>Call_Duration_(Sec)</th>\n",
       "      <th>Staff_Score</th>\n",
       "      <th>Avg_Customer_Rating_(Overall)</th>\n",
       "      <th>Rating_Question_\"How_Was_The_Stream_Quality\"</th>\n",
       "      <th>Rating_Question_\"Did_you_find_your_rep_helpful?\"</th>\n",
       "      <th>Rating_Question_\"How_likely_are_you_to_use_this_service_again\"?</th>\n",
       "      <th>purchase_made_after_call</th>\n",
       "      <th>purchase_value_usd</th>\n",
       "      <th>timestamp_of_checkout</th>\n",
       "      <th>days_between_call_and_purchase</th>\n",
       "      <th>Status_num</th>\n",
       "    </tr>\n",
       "    <tr>\n",
       "      <th>call_id</th>\n",
       "      <th></th>\n",
       "      <th></th>\n",
       "      <th></th>\n",
       "      <th></th>\n",
       "      <th></th>\n",
       "      <th></th>\n",
       "      <th></th>\n",
       "      <th></th>\n",
       "      <th></th>\n",
       "      <th></th>\n",
       "      <th></th>\n",
       "      <th></th>\n",
       "      <th></th>\n",
       "      <th></th>\n",
       "      <th></th>\n",
       "      <th></th>\n",
       "      <th></th>\n",
       "      <th></th>\n",
       "      <th></th>\n",
       "      <th></th>\n",
       "      <th></th>\n",
       "      <th></th>\n",
       "      <th></th>\n",
       "      <th></th>\n",
       "      <th></th>\n",
       "      <th></th>\n",
       "      <th></th>\n",
       "      <th></th>\n",
       "      <th></th>\n",
       "      <th></th>\n",
       "      <th></th>\n",
       "    </tr>\n",
       "  </thead>\n",
       "  <tbody>\n",
       "    <tr>\n",
       "      <th>9837750</th>\n",
       "      <td>8pylfacs-jpok-sdah-1q9p-l3djv4a1vdla</td>\n",
       "      <td>BOOKING</td>\n",
       "      <td>2021-04-14</td>\n",
       "      <td>2021-04-14 11:40:00</td>\n",
       "      <td>NaT</td>\n",
       "      <td>2021-04-15</td>\n",
       "      <td>2021-04-15 16:30:00</td>\n",
       "      <td>2021-04-15 16:45:00</td>\n",
       "      <td>CANCELLED</td>\n",
       "      <td>Live expert booking - All Goods</td>\n",
       "      <td>22852</td>\n",
       "      <td>NaT</td>\n",
       "      <td>NaN</td>\n",
       "      <td>0</td>\n",
       "      <td>NaN</td>\n",
       "      <td>4</td>\n",
       "      <td>2021-04-15 16:27:30, 2021-04-15 16:31:45, 2021...</td>\n",
       "      <td>NaN</td>\n",
       "      <td>1</td>\n",
       "      <td>Booking - Consumer joined clerk did not joined</td>\n",
       "      <td>0</td>\n",
       "      <td>NaN</td>\n",
       "      <td>NaN</td>\n",
       "      <td>NaN</td>\n",
       "      <td>NaN</td>\n",
       "      <td>NaN</td>\n",
       "      <td>NO</td>\n",
       "      <td>NaN</td>\n",
       "      <td>NaT</td>\n",
       "      <td>NaN</td>\n",
       "      <td>0</td>\n",
       "    </tr>\n",
       "    <tr>\n",
       "      <th>7925690</th>\n",
       "      <td>sinmbd7v-efk2-953m-ap0a-v4ir8w7epwov</td>\n",
       "      <td>BOOKING</td>\n",
       "      <td>2021-10-02</td>\n",
       "      <td>2021-10-02 10:58:00</td>\n",
       "      <td>2021-10-02 11:00:00</td>\n",
       "      <td>2021-10-02</td>\n",
       "      <td>2021-10-02 11:00:00</td>\n",
       "      <td>2021-10-02 11:30:00</td>\n",
       "      <td>CANCELLED</td>\n",
       "      <td>Live expert booking - All Goods</td>\n",
       "      <td>21558</td>\n",
       "      <td>2021-10-02 11:00:00</td>\n",
       "      <td>10/02/2021 11:00</td>\n",
       "      <td>1</td>\n",
       "      <td>10/02/2021 11:00</td>\n",
       "      <td>1</td>\n",
       "      <td>10/02/2021 11:00</td>\n",
       "      <td>NaN</td>\n",
       "      <td>0</td>\n",
       "      <td>Booking - Successful call</td>\n",
       "      <td>5</td>\n",
       "      <td>NaN</td>\n",
       "      <td>NaN</td>\n",
       "      <td>NaN</td>\n",
       "      <td>NaN</td>\n",
       "      <td>NaN</td>\n",
       "      <td>NO</td>\n",
       "      <td>NaN</td>\n",
       "      <td>NaT</td>\n",
       "      <td>NaN</td>\n",
       "      <td>0</td>\n",
       "    </tr>\n",
       "  </tbody>\n",
       "</table>\n",
       "</div>"
      ],
      "text/plain": [
       "                                  Customer_Id Call_Type Date_Created_Local  \\\n",
       "call_id                                                                      \n",
       "9837750  8pylfacs-jpok-sdah-1q9p-l3djv4a1vdla   BOOKING         2021-04-14   \n",
       "7925690  sinmbd7v-efk2-953m-ap0a-v4ir8w7epwov   BOOKING         2021-10-02   \n",
       "\n",
       "           Created_At_Local  Call_Started_Local Scheduled_Start_Date_Local  \\\n",
       "call_id                                                                      \n",
       "9837750 2021-04-14 11:40:00                 NaT                 2021-04-15   \n",
       "7925690 2021-10-02 10:58:00 2021-10-02 11:00:00                 2021-10-02   \n",
       "\n",
       "        Scheduled_Start_Time_Local Scheduled_End_Time_Local     Status  \\\n",
       "call_id                                                                  \n",
       "9837750        2021-04-15 16:30:00      2021-04-15 16:45:00  CANCELLED   \n",
       "7925690        2021-10-02 11:00:00      2021-10-02 11:30:00  CANCELLED   \n",
       "\n",
       "                           Booking_Title  Booked_By_Staff_Id  \\\n",
       "call_id                                                        \n",
       "9837750  Live expert booking - All Goods               22852   \n",
       "7925690  Live expert booking - All Goods               21558   \n",
       "\n",
       "        Staff_First_Joined_Activity_Timestamps_Local  \\\n",
       "call_id                                                \n",
       "9837750                                          NaT   \n",
       "7925690                          2021-10-02 11:00:00   \n",
       "\n",
       "        Staff_Joined_Activities_Timestamps_Local  Staff_Joined_Count  \\\n",
       "call_id                                                                \n",
       "9837750                                      NaN                   0   \n",
       "7925690                         10/02/2021 11:00                   1   \n",
       "\n",
       "        Staff_Left_Activities_Timestamps_UTC  Customer_Joined_Count  \\\n",
       "call_id                                                               \n",
       "9837750                                  NaN                      4   \n",
       "7925690                     10/02/2021 11:00                      1   \n",
       "\n",
       "                 Customer_Joined_Activities_Timestamps_UTC  \\\n",
       "call_id                                                      \n",
       "9837750  2021-04-15 16:27:30, 2021-04-15 16:31:45, 2021...   \n",
       "7925690                                   10/02/2021 11:00   \n",
       "\n",
       "        Customer_Left_Activities_Timestamps_UTC  Customer_Enabled_Video  \\\n",
       "call_id                                                                   \n",
       "9837750                                     NaN                       1   \n",
       "7925690                                     NaN                       0   \n",
       "\n",
       "                                            Call_Result  Call_Duration_(Sec)  \\\n",
       "call_id                                                                        \n",
       "9837750  Booking - Consumer joined clerk did not joined                    0   \n",
       "7925690                       Booking - Successful call                    5   \n",
       "\n",
       "         Staff_Score  Avg_Customer_Rating_(Overall)  \\\n",
       "call_id                                               \n",
       "9837750          NaN                            NaN   \n",
       "7925690          NaN                            NaN   \n",
       "\n",
       "         Rating_Question_\"How_Was_The_Stream_Quality\"  \\\n",
       "call_id                                                 \n",
       "9837750                                           NaN   \n",
       "7925690                                           NaN   \n",
       "\n",
       "         Rating_Question_\"Did_you_find_your_rep_helpful?\"  \\\n",
       "call_id                                                     \n",
       "9837750                                               NaN   \n",
       "7925690                                               NaN   \n",
       "\n",
       "         Rating_Question_\"How_likely_are_you_to_use_this_service_again\"?  \\\n",
       "call_id                                                                    \n",
       "9837750                                                NaN                 \n",
       "7925690                                                NaN                 \n",
       "\n",
       "        purchase_made_after_call  purchase_value_usd timestamp_of_checkout  \\\n",
       "call_id                                                                      \n",
       "9837750                       NO                 NaN                   NaT   \n",
       "7925690                       NO                 NaN                   NaT   \n",
       "\n",
       "         days_between_call_and_purchase  Status_num  \n",
       "call_id                                              \n",
       "9837750                             NaN           0  \n",
       "7925690                             NaN           0  "
      ]
     },
     "execution_count": 403,
     "metadata": {},
     "output_type": "execute_result"
    }
   ],
   "source": [
    "Cancelled_df.dropna(subset=['Customer_Id'])"
   ]
  },
  {
   "cell_type": "code",
   "execution_count": 404,
   "metadata": {
    "ExecuteTime": {
     "end_time": "2021-07-13T01:05:45.052578Z",
     "start_time": "2021-07-13T01:05:45.044151Z"
    }
   },
   "outputs": [
    {
     "data": {
      "text/plain": [
       "46"
      ]
     },
     "execution_count": 404,
     "metadata": {},
     "output_type": "execute_result"
    }
   ],
   "source": [
    "len(Created_df.dropna(subset=['Customer_Id']))"
   ]
  },
  {
   "cell_type": "code",
   "execution_count": 405,
   "metadata": {
    "ExecuteTime": {
     "end_time": "2021-07-13T01:05:45.074213Z",
     "start_time": "2021-07-13T01:05:45.061843Z"
    }
   },
   "outputs": [
    {
     "data": {
      "text/plain": [
       "Live expert booking - All Goods    894\n",
       "Name: Booking_Title, dtype: int64"
      ]
     },
     "execution_count": 405,
     "metadata": {},
     "output_type": "execute_result"
    }
   ],
   "source": [
    "appointments_clean_df['Booking_Title'].value_counts()"
   ]
  },
  {
   "cell_type": "markdown",
   "metadata": {},
   "source": [
    "#### Staff"
   ]
  },
  {
   "cell_type": "code",
   "execution_count": 406,
   "metadata": {
    "ExecuteTime": {
     "end_time": "2021-07-13T01:05:45.092802Z",
     "start_time": "2021-07-13T01:05:45.076391Z"
    }
   },
   "outputs": [
    {
     "data": {
      "text/plain": [
       "21998    211\n",
       "22017    128\n",
       "21556    124\n",
       "21557    109\n",
       "21555     62\n",
       "22851     55\n",
       "22613     55\n",
       "22853     41\n",
       "22337     31\n",
       "21558     28\n",
       "22854     21\n",
       "22852     15\n",
       "22858     14\n",
       "Name: Booked_By_Staff_Id, dtype: int64"
      ]
     },
     "execution_count": 406,
     "metadata": {},
     "output_type": "execute_result"
    }
   ],
   "source": [
    "appointments_clean_df['Booked_By_Staff_Id'].value_counts()"
   ]
  },
  {
   "cell_type": "code",
   "execution_count": 407,
   "metadata": {
    "ExecuteTime": {
     "end_time": "2021-07-13T01:05:45.113931Z",
     "start_time": "2021-07-13T01:05:45.097449Z"
    }
   },
   "outputs": [],
   "source": [
    "Rep_rate = appointments_clean_df[['Rating_Question_\"Did_you_find_your_rep_helpful?\"','Booked_By_Staff_Id','Staff_Joined_Count','Customer_Joined_Count']].dropna()"
   ]
  },
  {
   "cell_type": "code",
   "execution_count": 408,
   "metadata": {
    "ExecuteTime": {
     "end_time": "2021-07-13T01:05:45.126362Z",
     "start_time": "2021-07-13T01:05:45.118538Z"
    }
   },
   "outputs": [],
   "source": [
    "Rep_rate = Rep_rate.groupby(['Booked_By_Staff_Id']).mean()"
   ]
  },
  {
   "cell_type": "code",
   "execution_count": 409,
   "metadata": {
    "ExecuteTime": {
     "end_time": "2021-07-13T01:05:45.151744Z",
     "start_time": "2021-07-13T01:05:45.131161Z"
    }
   },
   "outputs": [
    {
     "data": {
      "text/plain": [
       "Booked_By_Staff_Id  Staff_Score\n",
       "21998               3.0            79\n",
       "22017               3.0            68\n",
       "21998               1.0            60\n",
       "                    4.0            40\n",
       "22017               1.0            36\n",
       "21557               4.0            35\n",
       "21556               3.0            28\n",
       "21557               1.0            28\n",
       "21556               1.0            27\n",
       "22851               3.0            27\n",
       "22853               3.0            21\n",
       "22337               3.0            19\n",
       "21557               3.0            19\n",
       "22851               1.0            14\n",
       "22854               3.0            11\n",
       "22613               1.0            10\n",
       "21556               4.0             9\n",
       "22853               1.0             9\n",
       "22858               4.0             9\n",
       "22017               4.0             9\n",
       "22613               3.0             7\n",
       "                    4.0             4\n",
       "22852               1.0             4\n",
       "                    3.0             3\n",
       "22337               1.0             3\n",
       "22854               1.0             3\n",
       "21998               2.0             3\n",
       "22858               3.0             2\n",
       "22613               2.0             1\n",
       "21558               1.0             1\n",
       "22851               4.0             1\n",
       "22852               4.0             1\n",
       "21556               2.0             1\n",
       "dtype: int64"
      ]
     },
     "execution_count": 409,
     "metadata": {},
     "output_type": "execute_result"
    }
   ],
   "source": [
    "appointments_clean_df[['Booked_By_Staff_Id', 'Staff_Score']].dropna().value_counts()"
   ]
  },
  {
   "cell_type": "code",
   "execution_count": 410,
   "metadata": {
    "ExecuteTime": {
     "end_time": "2021-07-13T01:05:45.176581Z",
     "start_time": "2021-07-13T01:05:45.155390Z"
    }
   },
   "outputs": [
    {
     "data": {
      "text/html": [
       "<div>\n",
       "<style scoped>\n",
       "    .dataframe tbody tr th:only-of-type {\n",
       "        vertical-align: middle;\n",
       "    }\n",
       "\n",
       "    .dataframe tbody tr th {\n",
       "        vertical-align: top;\n",
       "    }\n",
       "\n",
       "    .dataframe thead th {\n",
       "        text-align: right;\n",
       "    }\n",
       "</style>\n",
       "<table border=\"1\" class=\"dataframe\">\n",
       "  <thead>\n",
       "    <tr style=\"text-align: right;\">\n",
       "      <th></th>\n",
       "      <th>Rating_Question_\"Did_you_find_your_rep_helpful?\"</th>\n",
       "      <th>Staff_Joined_Count</th>\n",
       "      <th>Customer_Joined_Count</th>\n",
       "    </tr>\n",
       "    <tr>\n",
       "      <th>Booked_By_Staff_Id</th>\n",
       "      <th></th>\n",
       "      <th></th>\n",
       "      <th></th>\n",
       "    </tr>\n",
       "  </thead>\n",
       "  <tbody>\n",
       "    <tr>\n",
       "      <th>22858</th>\n",
       "      <td>4.500000</td>\n",
       "      <td>1.000000</td>\n",
       "      <td>1.000000</td>\n",
       "    </tr>\n",
       "    <tr>\n",
       "      <th>22017</th>\n",
       "      <td>4.386364</td>\n",
       "      <td>1.090909</td>\n",
       "      <td>1.386364</td>\n",
       "    </tr>\n",
       "    <tr>\n",
       "      <th>21998</th>\n",
       "      <td>4.250000</td>\n",
       "      <td>1.653846</td>\n",
       "      <td>1.865385</td>\n",
       "    </tr>\n",
       "    <tr>\n",
       "      <th>22853</th>\n",
       "      <td>4.250000</td>\n",
       "      <td>1.125000</td>\n",
       "      <td>1.687500</td>\n",
       "    </tr>\n",
       "    <tr>\n",
       "      <th>21557</th>\n",
       "      <td>3.973684</td>\n",
       "      <td>0.973684</td>\n",
       "      <td>1.342105</td>\n",
       "    </tr>\n",
       "    <tr>\n",
       "      <th>22337</th>\n",
       "      <td>3.571429</td>\n",
       "      <td>1.000000</td>\n",
       "      <td>1.857143</td>\n",
       "    </tr>\n",
       "    <tr>\n",
       "      <th>21555</th>\n",
       "      <td>3.478261</td>\n",
       "      <td>1.086957</td>\n",
       "      <td>1.739130</td>\n",
       "    </tr>\n",
       "    <tr>\n",
       "      <th>21556</th>\n",
       "      <td>3.473684</td>\n",
       "      <td>1.157895</td>\n",
       "      <td>1.605263</td>\n",
       "    </tr>\n",
       "    <tr>\n",
       "      <th>22851</th>\n",
       "      <td>3.166667</td>\n",
       "      <td>1.111111</td>\n",
       "      <td>1.388889</td>\n",
       "    </tr>\n",
       "    <tr>\n",
       "      <th>22852</th>\n",
       "      <td>3.000000</td>\n",
       "      <td>0.750000</td>\n",
       "      <td>1.500000</td>\n",
       "    </tr>\n",
       "    <tr>\n",
       "      <th>22613</th>\n",
       "      <td>2.785714</td>\n",
       "      <td>0.785714</td>\n",
       "      <td>2.357143</td>\n",
       "    </tr>\n",
       "    <tr>\n",
       "      <th>22854</th>\n",
       "      <td>2.000000</td>\n",
       "      <td>0.666667</td>\n",
       "      <td>4.166667</td>\n",
       "    </tr>\n",
       "  </tbody>\n",
       "</table>\n",
       "</div>"
      ],
      "text/plain": [
       "                    Rating_Question_\"Did_you_find_your_rep_helpful?\"  \\\n",
       "Booked_By_Staff_Id                                                     \n",
       "22858                                                       4.500000   \n",
       "22017                                                       4.386364   \n",
       "21998                                                       4.250000   \n",
       "22853                                                       4.250000   \n",
       "21557                                                       3.973684   \n",
       "22337                                                       3.571429   \n",
       "21555                                                       3.478261   \n",
       "21556                                                       3.473684   \n",
       "22851                                                       3.166667   \n",
       "22852                                                       3.000000   \n",
       "22613                                                       2.785714   \n",
       "22854                                                       2.000000   \n",
       "\n",
       "                    Staff_Joined_Count  Customer_Joined_Count  \n",
       "Booked_By_Staff_Id                                             \n",
       "22858                         1.000000               1.000000  \n",
       "22017                         1.090909               1.386364  \n",
       "21998                         1.653846               1.865385  \n",
       "22853                         1.125000               1.687500  \n",
       "21557                         0.973684               1.342105  \n",
       "22337                         1.000000               1.857143  \n",
       "21555                         1.086957               1.739130  \n",
       "21556                         1.157895               1.605263  \n",
       "22851                         1.111111               1.388889  \n",
       "22852                         0.750000               1.500000  \n",
       "22613                         0.785714               2.357143  \n",
       "22854                         0.666667               4.166667  "
      ]
     },
     "execution_count": 410,
     "metadata": {},
     "output_type": "execute_result"
    }
   ],
   "source": [
    "Rep_rate.sort_values(by=['Rating_Question_\"Did_you_find_your_rep_helpful?\"'],ascending=False)"
   ]
  },
  {
   "cell_type": "code",
   "execution_count": 411,
   "metadata": {
    "ExecuteTime": {
     "end_time": "2021-07-13T01:05:45.212625Z",
     "start_time": "2021-07-13T01:05:45.185145Z"
    }
   },
   "outputs": [],
   "source": [
    "staff_score1 = appointments_clean_df.loc[appointments_clean_df['Staff_Score']== 1,['Rating_Question_\"Did_you_find_your_rep_helpful?\"', 'Booked_By_Staff_Id']].dropna()\n",
    "staff_score2 = appointments_clean_df.loc[appointments_clean_df['Staff_Score']== 2,['Rating_Question_\"Did_you_find_your_rep_helpful?\"', 'Booked_By_Staff_Id']].dropna()\n",
    "staff_score3 = appointments_clean_df.loc[appointments_clean_df['Staff_Score']== 3,['Rating_Question_\"Did_you_find_your_rep_helpful?\"', 'Booked_By_Staff_Id']].dropna()\n",
    "staff_score4 = appointments_clean_df.loc[appointments_clean_df['Staff_Score']== 4,['Rating_Question_\"Did_you_find_your_rep_helpful?\"', 'Booked_By_Staff_Id']].dropna()"
   ]
  },
  {
   "cell_type": "code",
   "execution_count": 412,
   "metadata": {
    "ExecuteTime": {
     "end_time": "2021-07-13T01:05:45.224990Z",
     "start_time": "2021-07-13T01:05:45.217452Z"
    }
   },
   "outputs": [],
   "source": [
    "staff_score1 = staff_score1.groupby(by=['Booked_By_Staff_Id']).mean()"
   ]
  },
  {
   "cell_type": "code",
   "execution_count": 413,
   "metadata": {
    "ExecuteTime": {
     "end_time": "2021-07-13T01:05:45.254715Z",
     "start_time": "2021-07-13T01:05:45.248396Z"
    }
   },
   "outputs": [
    {
     "data": {
      "text/plain": [
       "Booked_By_Staff_Id\n",
       "21556    5.0\n",
       "21557    1.0\n",
       "21998    1.0\n",
       "22017    1.0\n",
       "22337    3.0\n",
       "22613    1.0\n",
       "22851    1.0\n",
       "22854    2.0\n",
       "Name: Rating_Question_\"Did_you_find_your_rep_helpful?\", dtype: float64"
      ]
     },
     "execution_count": 413,
     "metadata": {},
     "output_type": "execute_result"
    }
   ],
   "source": [
    "staff_score1['Rating_Question_\"Did_you_find_your_rep_helpful?\"']"
   ]
  },
  {
   "cell_type": "code",
   "execution_count": 414,
   "metadata": {
    "ExecuteTime": {
     "end_time": "2021-07-13T01:05:45.267680Z",
     "start_time": "2021-07-13T01:05:45.263813Z"
    }
   },
   "outputs": [],
   "source": [
    "Staff_21556_1 = 5.0\n",
    "Staff_21557_1 = 1.0\n",
    "Staff_21998_1 = 1.0\n",
    "Staff_22017_1 = 1.0\n",
    "Staff_22337_1 = 3.0\n",
    "Staff_22613_1 = 1.0\n",
    "Staff_22851_1 = 1.0\n",
    "Staff_22854_1 = 2.0"
   ]
  },
  {
   "cell_type": "code",
   "execution_count": 415,
   "metadata": {
    "ExecuteTime": {
     "end_time": "2021-07-13T01:05:45.275626Z",
     "start_time": "2021-07-13T01:05:45.270223Z"
    }
   },
   "outputs": [],
   "source": [
    "staff_score2 = staff_score2.groupby(by=['Booked_By_Staff_Id']).mean()"
   ]
  },
  {
   "cell_type": "code",
   "execution_count": 416,
   "metadata": {
    "ExecuteTime": {
     "end_time": "2021-07-13T01:05:45.284318Z",
     "start_time": "2021-07-13T01:05:45.278356Z"
    }
   },
   "outputs": [
    {
     "data": {
      "text/plain": [
       "Booked_By_Staff_Id\n",
       "21998    2.0\n",
       "22613    4.0\n",
       "Name: Rating_Question_\"Did_you_find_your_rep_helpful?\", dtype: float64"
      ]
     },
     "execution_count": 416,
     "metadata": {},
     "output_type": "execute_result"
    }
   ],
   "source": [
    "staff_score2['Rating_Question_\"Did_you_find_your_rep_helpful?\"']"
   ]
  },
  {
   "cell_type": "code",
   "execution_count": 417,
   "metadata": {
    "ExecuteTime": {
     "end_time": "2021-07-13T01:05:45.292928Z",
     "start_time": "2021-07-13T01:05:45.287279Z"
    }
   },
   "outputs": [],
   "source": [
    "staff_score3 = staff_score3.groupby(by=['Booked_By_Staff_Id']).mean()"
   ]
  },
  {
   "cell_type": "code",
   "execution_count": 418,
   "metadata": {
    "ExecuteTime": {
     "end_time": "2021-07-13T01:05:45.301094Z",
     "start_time": "2021-07-13T01:05:45.294999Z"
    }
   },
   "outputs": [
    {
     "data": {
      "text/plain": [
       "Booked_By_Staff_Id\n",
       "21556    4.315789\n",
       "21557    4.181818\n",
       "21998    4.333333\n",
       "22017    4.388889\n",
       "22337    3.400000\n",
       "22613    3.666667\n",
       "22851    3.357143\n",
       "22852    3.000000\n",
       "22853    4.500000\n",
       "22854    3.000000\n",
       "Name: Rating_Question_\"Did_you_find_your_rep_helpful?\", dtype: float64"
      ]
     },
     "execution_count": 418,
     "metadata": {},
     "output_type": "execute_result"
    }
   ],
   "source": [
    "staff_score3['Rating_Question_\"Did_you_find_your_rep_helpful?\"']"
   ]
  },
  {
   "cell_type": "code",
   "execution_count": 419,
   "metadata": {
    "ExecuteTime": {
     "end_time": "2021-07-13T01:05:45.310364Z",
     "start_time": "2021-07-13T01:05:45.305469Z"
    }
   },
   "outputs": [],
   "source": [
    "staff_score4 = staff_score4.groupby(by=['Booked_By_Staff_Id']).mean()"
   ]
  },
  {
   "cell_type": "code",
   "execution_count": 420,
   "metadata": {
    "ExecuteTime": {
     "end_time": "2021-07-13T01:05:45.321371Z",
     "start_time": "2021-07-13T01:05:45.314543Z"
    }
   },
   "outputs": [
    {
     "data": {
      "text/plain": [
       "Booked_By_Staff_Id\n",
       "21556    4.857143\n",
       "21557    4.250000\n",
       "21998    4.562500\n",
       "22017    4.857143\n",
       "22613    4.000000\n",
       "22851    3.000000\n",
       "22852    4.000000\n",
       "22858    4.500000\n",
       "Name: Rating_Question_\"Did_you_find_your_rep_helpful?\", dtype: float64"
      ]
     },
     "execution_count": 420,
     "metadata": {},
     "output_type": "execute_result"
    }
   ],
   "source": [
    "staff_score4['Rating_Question_\"Did_you_find_your_rep_helpful?\"']"
   ]
  },
  {
   "cell_type": "code",
   "execution_count": 421,
   "metadata": {
    "ExecuteTime": {
     "end_time": "2021-07-13T01:05:45.329396Z",
     "start_time": "2021-07-13T01:05:45.323535Z"
    }
   },
   "outputs": [
    {
     "data": {
      "text/plain": [
       "array([21998, 22017, 21556, 21557, 22853, 22851, 21555, 22613, 22858,\n",
       "       22337, 22854, 22852, 21558])"
      ]
     },
     "execution_count": 421,
     "metadata": {},
     "output_type": "execute_result"
    }
   ],
   "source": [
    "appointments_clean_df['Booked_By_Staff_Id'].unique()"
   ]
  },
  {
   "cell_type": "code",
   "execution_count": 422,
   "metadata": {
    "ExecuteTime": {
     "end_time": "2021-07-13T01:05:45.338673Z",
     "start_time": "2021-07-13T01:05:45.332923Z"
    }
   },
   "outputs": [],
   "source": [
    "staff1_list = ['21998','22017','21556','21557','22851','22613','22337','22854']\n",
    "staff2_list = ['21998', '22613']  \n",
    "staff3_list = ['21556', '21557','21998','22017','22337','22613','22851','22852','22853','22854']\n",
    "staff4_list = ['21556','21557','21998','22017','22613','22851','22852','22858']\n",
    "\n",
    "x_pos1 = range(len(staff1_list))\n",
    "x_pos2 = range(len(staff2_list))\n",
    "x_pos3 = range(len(staff3_list))\n",
    "x_pos4 = range(len(staff4_list))"
   ]
  },
  {
   "cell_type": "code",
   "execution_count": 423,
   "metadata": {
    "ExecuteTime": {
     "end_time": "2021-07-13T01:05:45.347642Z",
     "start_time": "2021-07-13T01:05:45.341215Z"
    }
   },
   "outputs": [],
   "source": [
    "Staff_21556_1 = 5.0\n",
    "Staff_21557_1 = 1.0\n",
    "Staff_21998_1 = 1.0\n",
    "Staff_22017_1 = 1.0\n",
    "Staff_22337_1 = 3.0\n",
    "Staff_22613_1 = 1.0\n",
    "Staff_22851_1 = 1.0\n",
    "Staff_22854_1 = 2.0\n",
    "\n",
    "Staff_21998_2 = 2.0\n",
    "Staff_22613_2 = 4.0\n",
    "\n",
    "Staff_21556_3 = 4.3\n",
    "Staff_21557_3 = 4.9\n",
    "Staff_21998_3 = 4.3\n",
    "Staff_22017_3 = 4.4\n",
    "Staff_22337_3 = 3.4\n",
    "Staff_22613_3 = 3.7\n",
    "Staff_22851_3 = 3.4\n",
    "Staff_22852_3 = 3.0\n",
    "Staff_22853_3 = 4.5\n",
    "Staff_22854_3 = 3.0\n",
    "\n",
    "Staff_21556_4 = 4.9\n",
    "Staff_21557_4 = 4.3\n",
    "Staff_21998_4 = 4.6\n",
    "Staff_22017_4 = 4.9\n",
    "Staff_22613_4 = 4.0\n",
    "Staff_22851_4 = 3.0\n",
    "Staff_22852_4 = 4.0\n",
    "Staff_22858_4 = 4.5"
   ]
  },
  {
   "cell_type": "code",
   "execution_count": 424,
   "metadata": {
    "ExecuteTime": {
     "end_time": "2021-07-13T01:05:45.356135Z",
     "start_time": "2021-07-13T01:05:45.350900Z"
    }
   },
   "outputs": [],
   "source": [
    "Staff1 = [Staff_21556_1, Staff_21557_1, Staff_21998_1, Staff_22017_1, Staff_22337_1, Staff_22613_1, Staff_22851_1, Staff_22854_1]\n",
    "Staff2 = [Staff_21998_2,Staff_22613_2]\n",
    "Staff3 = [Staff_21556_3, Staff_21557_3, Staff_21998_3, Staff_22017_3, Staff_22337_3, Staff_22613_3, Staff_22851_3, Staff_22852_3, Staff_22853_3, Staff_22854_3]\n",
    "Staff4 = [Staff_21556_4, Staff_21557_4, Staff_21998_4, Staff_22017_4, Staff_22613_4, Staff_22851_4, Staff_22852_4, Staff_22858_4]"
   ]
  },
  {
   "cell_type": "markdown",
   "metadata": {
    "ExecuteTime": {
     "end_time": "2021-07-12T21:37:44.766704Z",
     "start_time": "2021-07-12T21:37:44.763098Z"
    }
   },
   "source": [
    "##### More Interaction, Higher Rating?"
   ]
  },
  {
   "cell_type": "code",
   "execution_count": 425,
   "metadata": {
    "ExecuteTime": {
     "end_time": "2021-07-13T01:05:45.596856Z",
     "start_time": "2021-07-13T01:05:45.358783Z"
    },
    "cell_style": "center",
    "scrolled": false
   },
   "outputs": [
    {
     "data": {
      "image/png": "[encoded data removed]",
      "text/plain": [
       "<Figure size 1440x720 with 1 Axes>"
      ]
     },
     "metadata": {
      "needs_background": "light"
     },
     "output_type": "display_data"
    }
   ],
   "source": [
    "fig,ax = plt.subplots(figsize=[20,10])\n",
    "ax.bar(x_pos1, Staff1 ,align = 'center', alpha=0.5, color='orange')\n",
    "ax.set_xlabel(\"Staff ID\", fontsize= 10)\n",
    "ax.set_ylabel('Rating Question \"Did you find your rep helpful?\"', fontsize= 10)\n",
    "ax.set_title('Staff Rating - No interaction')\n",
    "ax.set_xticks(x_pos1)\n",
    "ax.set_xticklabels(staff1_list)\n",
    "\n",
    "plt.show()"
   ]
  },
  {
   "cell_type": "code",
   "execution_count": 426,
   "metadata": {
    "ExecuteTime": {
     "end_time": "2021-07-13T01:05:45.849506Z",
     "start_time": "2021-07-13T01:05:45.601512Z"
    },
    "cell_style": "center"
   },
   "outputs": [
    {
     "data": {
      "image/png": "[encoded data removed]",
      "text/plain": [
       "<Figure size 1440x720 with 1 Axes>"
      ]
     },
     "metadata": {
      "needs_background": "light"
     },
     "output_type": "display_data"
    }
   ],
   "source": [
    "fig, ax = plt.subplots(figsize=[20, 10])\n",
    "ax.bar(x_pos2, Staff2, align='center', alpha=0.5, color='black')\n",
    "ax.set_xlabel(\"Staff ID\", fontsize= 10)\n",
    "ax.set_ylabel('Rating Question \"Did you find your rep helpful?\"', fontsize= 10)\n",
    "ax.set_title('Staff Rating - Customer Service Enquiry')\n",
    "ax.set_xticks(x_pos2)\n",
    "ax.set_xticklabels(staff2_list)\n",
    "\n",
    "plt.show()"
   ]
  },
  {
   "cell_type": "code",
   "execution_count": 427,
   "metadata": {
    "ExecuteTime": {
     "end_time": "2021-07-13T01:05:46.119638Z",
     "start_time": "2021-07-13T01:05:45.852899Z"
    },
    "cell_style": "center"
   },
   "outputs": [
    {
     "data": {
      "image/png": "[encoded data removed]",
      "text/plain": [
       "<Figure size 1440x720 with 1 Axes>"
      ]
     },
     "metadata": {
      "needs_background": "light"
     },
     "output_type": "display_data"
    }
   ],
   "source": [
    "fig,ax = plt.subplots(figsize=[20,10])\n",
    "ax.bar(x_pos3, Staff3, align='center', alpha=0.5, color='blue')\n",
    "ax.set_xlabel(\"Staff ID\", fontsize= 10)\n",
    "ax.set_ylabel('Rating Question \"Did you find your rep helpful?\"', fontsize= 10)\n",
    "ax.set_title('Staff Rating - Product Info')\n",
    "ax.set_xticks(x_pos3)\n",
    "ax.set_xticklabels(staff3_list)\n",
    "\n",
    "plt.show()"
   ]
  },
  {
   "cell_type": "code",
   "execution_count": 428,
   "metadata": {
    "ExecuteTime": {
     "end_time": "2021-07-13T01:05:46.455800Z",
     "start_time": "2021-07-13T01:05:46.124727Z"
    },
    "cell_style": "center"
   },
   "outputs": [
    {
     "data": {
      "image/png": "[encoded data removed]",
      "text/plain": [
       "<Figure size 1440x720 with 1 Axes>"
      ]
     },
     "metadata": {
      "needs_background": "light"
     },
     "output_type": "display_data"
    }
   ],
   "source": [
    "fig,ax = plt.subplots(figsize=[20,10])\n",
    "ax.bar(x_pos4, Staff4, align='center', alpha=0.5, color='red')\n",
    "ax.set_xlabel(\"Staff ID\", fontsize= 10)\n",
    "ax.set_ylabel('Rating Question \"Did you find your rep helpful?\"', fontsize= 10)\n",
    "ax.set_title('Staff Rating - Sales Demo')\n",
    "ax.set_xticks(x_pos4)\n",
    "ax.set_xticklabels(staff4_list)\n",
    "\n",
    "plt.show()"
   ]
  },
  {
   "cell_type": "markdown",
   "metadata": {},
   "source": [
    "#### Outliers"
   ]
  },
  {
   "cell_type": "markdown",
   "metadata": {},
   "source": [
    "Used 1.5 multiplied by the interquartile range to remove observed outliers in the follwing: Staff Count, Customer Count, Call Duration. While these data points are informative they lie outside of the expected range and would influence further analysis."
   ]
  },
  {
   "cell_type": "code",
   "execution_count": 429,
   "metadata": {
    "ExecuteTime": {
     "end_time": "2021-07-13T01:05:46.530712Z",
     "start_time": "2021-07-13T01:05:46.461387Z"
    }
   },
   "outputs": [
    {
     "data": {
      "text/html": [
       "<div>\n",
       "<style scoped>\n",
       "    .dataframe tbody tr th:only-of-type {\n",
       "        vertical-align: middle;\n",
       "    }\n",
       "\n",
       "    .dataframe tbody tr th {\n",
       "        vertical-align: top;\n",
       "    }\n",
       "\n",
       "    .dataframe thead th {\n",
       "        text-align: right;\n",
       "    }\n",
       "</style>\n",
       "<table border=\"1\" class=\"dataframe\">\n",
       "  <thead>\n",
       "    <tr style=\"text-align: right;\">\n",
       "      <th></th>\n",
       "      <th>Booked_By_Staff_Id</th>\n",
       "      <th>Staff_Joined_Count</th>\n",
       "      <th>Customer_Joined_Count</th>\n",
       "      <th>Customer_Enabled_Video</th>\n",
       "      <th>Call_Duration_(Sec)</th>\n",
       "      <th>Staff_Score</th>\n",
       "      <th>Avg_Customer_Rating_(Overall)</th>\n",
       "      <th>Rating_Question_\"How_Was_The_Stream_Quality\"</th>\n",
       "      <th>Rating_Question_\"Did_you_find_your_rep_helpful?\"</th>\n",
       "      <th>Rating_Question_\"How_likely_are_you_to_use_this_service_again\"?</th>\n",
       "      <th>purchase_value_usd</th>\n",
       "      <th>days_between_call_and_purchase</th>\n",
       "      <th>Status_num</th>\n",
       "    </tr>\n",
       "  </thead>\n",
       "  <tbody>\n",
       "    <tr>\n",
       "      <th>count</th>\n",
       "      <td>894.000000</td>\n",
       "      <td>894.000000</td>\n",
       "      <td>894.000000</td>\n",
       "      <td>894.000000</td>\n",
       "      <td>894.000000</td>\n",
       "      <td>592.000000</td>\n",
       "      <td>264.000000</td>\n",
       "      <td>264.000000</td>\n",
       "      <td>264.000000</td>\n",
       "      <td>264.000000</td>\n",
       "      <td>137.000000</td>\n",
       "      <td>137.000000</td>\n",
       "      <td>894.000000</td>\n",
       "    </tr>\n",
       "    <tr>\n",
       "      <th>mean</th>\n",
       "      <td>22030.325503</td>\n",
       "      <td>0.956376</td>\n",
       "      <td>0.898210</td>\n",
       "      <td>0.491051</td>\n",
       "      <td>397.206935</td>\n",
       "      <td>2.515203</td>\n",
       "      <td>4.022879</td>\n",
       "      <td>4.060606</td>\n",
       "      <td>3.818182</td>\n",
       "      <td>4.189394</td>\n",
       "      <td>809.309562</td>\n",
       "      <td>7.364964</td>\n",
       "      <td>1.514541</td>\n",
       "    </tr>\n",
       "    <tr>\n",
       "      <th>std</th>\n",
       "      <td>465.086631</td>\n",
       "      <td>0.867026</td>\n",
       "      <td>1.352587</td>\n",
       "      <td>0.500200</td>\n",
       "      <td>1147.311344</td>\n",
       "      <td>1.129412</td>\n",
       "      <td>1.469082</td>\n",
       "      <td>1.590167</td>\n",
       "      <td>1.534487</td>\n",
       "      <td>1.511087</td>\n",
       "      <td>825.865803</td>\n",
       "      <td>8.217517</td>\n",
       "      <td>0.808210</td>\n",
       "    </tr>\n",
       "    <tr>\n",
       "      <th>min</th>\n",
       "      <td>21555.000000</td>\n",
       "      <td>0.000000</td>\n",
       "      <td>0.000000</td>\n",
       "      <td>0.000000</td>\n",
       "      <td>0.000000</td>\n",
       "      <td>1.000000</td>\n",
       "      <td>1.000000</td>\n",
       "      <td>1.000000</td>\n",
       "      <td>1.000000</td>\n",
       "      <td>1.000000</td>\n",
       "      <td>12.000000</td>\n",
       "      <td>0.000000</td>\n",
       "      <td>0.000000</td>\n",
       "    </tr>\n",
       "    <tr>\n",
       "      <th>25%</th>\n",
       "      <td>21557.000000</td>\n",
       "      <td>0.000000</td>\n",
       "      <td>0.000000</td>\n",
       "      <td>0.000000</td>\n",
       "      <td>0.000000</td>\n",
       "      <td>1.000000</td>\n",
       "      <td>4.000000</td>\n",
       "      <td>4.000000</td>\n",
       "      <td>3.000000</td>\n",
       "      <td>4.000000</td>\n",
       "      <td>74.900000</td>\n",
       "      <td>1.000000</td>\n",
       "      <td>1.000000</td>\n",
       "    </tr>\n",
       "    <tr>\n",
       "      <th>50%</th>\n",
       "      <td>21998.000000</td>\n",
       "      <td>1.000000</td>\n",
       "      <td>1.000000</td>\n",
       "      <td>0.000000</td>\n",
       "      <td>0.000000</td>\n",
       "      <td>3.000000</td>\n",
       "      <td>4.670000</td>\n",
       "      <td>5.000000</td>\n",
       "      <td>5.000000</td>\n",
       "      <td>5.000000</td>\n",
       "      <td>597.000000</td>\n",
       "      <td>4.000000</td>\n",
       "      <td>2.000000</td>\n",
       "    </tr>\n",
       "    <tr>\n",
       "      <th>75%</th>\n",
       "      <td>22337.000000</td>\n",
       "      <td>1.000000</td>\n",
       "      <td>1.000000</td>\n",
       "      <td>1.000000</td>\n",
       "      <td>596.750000</td>\n",
       "      <td>3.000000</td>\n",
       "      <td>5.000000</td>\n",
       "      <td>5.000000</td>\n",
       "      <td>5.000000</td>\n",
       "      <td>5.000000</td>\n",
       "      <td>1359.200000</td>\n",
       "      <td>12.000000</td>\n",
       "      <td>2.000000</td>\n",
       "    </tr>\n",
       "    <tr>\n",
       "      <th>max</th>\n",
       "      <td>22858.000000</td>\n",
       "      <td>6.000000</td>\n",
       "      <td>18.000000</td>\n",
       "      <td>1.000000</td>\n",
       "      <td>29808.000000</td>\n",
       "      <td>4.000000</td>\n",
       "      <td>5.000000</td>\n",
       "      <td>5.000000</td>\n",
       "      <td>5.000000</td>\n",
       "      <td>5.000000</td>\n",
       "      <td>3304.600000</td>\n",
       "      <td>28.000000</td>\n",
       "      <td>2.000000</td>\n",
       "    </tr>\n",
       "  </tbody>\n",
       "</table>\n",
       "</div>"
      ],
      "text/plain": [
       "       Booked_By_Staff_Id  Staff_Joined_Count  Customer_Joined_Count  \\\n",
       "count          894.000000          894.000000             894.000000   \n",
       "mean         22030.325503            0.956376               0.898210   \n",
       "std            465.086631            0.867026               1.352587   \n",
       "min          21555.000000            0.000000               0.000000   \n",
       "25%          21557.000000            0.000000               0.000000   \n",
       "50%          21998.000000            1.000000               1.000000   \n",
       "75%          22337.000000            1.000000               1.000000   \n",
       "max          22858.000000            6.000000              18.000000   \n",
       "\n",
       "       Customer_Enabled_Video  Call_Duration_(Sec)  Staff_Score  \\\n",
       "count              894.000000           894.000000   592.000000   \n",
       "mean                 0.491051           397.206935     2.515203   \n",
       "std                  0.500200          1147.311344     1.129412   \n",
       "min                  0.000000             0.000000     1.000000   \n",
       "25%                  0.000000             0.000000     1.000000   \n",
       "50%                  0.000000             0.000000     3.000000   \n",
       "75%                  1.000000           596.750000     3.000000   \n",
       "max                  1.000000         29808.000000     4.000000   \n",
       "\n",
       "       Avg_Customer_Rating_(Overall)  \\\n",
       "count                     264.000000   \n",
       "mean                        4.022879   \n",
       "std                         1.469082   \n",
       "min                         1.000000   \n",
       "25%                         4.000000   \n",
       "50%                         4.670000   \n",
       "75%                         5.000000   \n",
       "max                         5.000000   \n",
       "\n",
       "       Rating_Question_\"How_Was_The_Stream_Quality\"  \\\n",
       "count                                    264.000000   \n",
       "mean                                       4.060606   \n",
       "std                                        1.590167   \n",
       "min                                        1.000000   \n",
       "25%                                        4.000000   \n",
       "50%                                        5.000000   \n",
       "75%                                        5.000000   \n",
       "max                                        5.000000   \n",
       "\n",
       "       Rating_Question_\"Did_you_find_your_rep_helpful?\"  \\\n",
       "count                                        264.000000   \n",
       "mean                                           3.818182   \n",
       "std                                            1.534487   \n",
       "min                                            1.000000   \n",
       "25%                                            3.000000   \n",
       "50%                                            5.000000   \n",
       "75%                                            5.000000   \n",
       "max                                            5.000000   \n",
       "\n",
       "       Rating_Question_\"How_likely_are_you_to_use_this_service_again\"?  \\\n",
       "count                                         264.000000                 \n",
       "mean                                            4.189394                 \n",
       "std                                             1.511087                 \n",
       "min                                             1.000000                 \n",
       "25%                                             4.000000                 \n",
       "50%                                             5.000000                 \n",
       "75%                                             5.000000                 \n",
       "max                                             5.000000                 \n",
       "\n",
       "       purchase_value_usd  days_between_call_and_purchase  Status_num  \n",
       "count          137.000000                      137.000000  894.000000  \n",
       "mean           809.309562                        7.364964    1.514541  \n",
       "std            825.865803                        8.217517    0.808210  \n",
       "min             12.000000                        0.000000    0.000000  \n",
       "25%             74.900000                        1.000000    1.000000  \n",
       "50%            597.000000                        4.000000    2.000000  \n",
       "75%           1359.200000                       12.000000    2.000000  \n",
       "max           3304.600000                       28.000000    2.000000  "
      ]
     },
     "execution_count": 429,
     "metadata": {},
     "output_type": "execute_result"
    }
   ],
   "source": [
    "appointments_clean_df.describe()"
   ]
  },
  {
   "cell_type": "code",
   "execution_count": 430,
   "metadata": {
    "ExecuteTime": {
     "end_time": "2021-07-13T01:05:46.555382Z",
     "start_time": "2021-07-13T01:05:46.534502Z"
    }
   },
   "outputs": [
    {
     "name": "stdout",
     "output_type": "stream",
     "text": [
      "Booked_By_Staff_Id                                                  780.00\n",
      "Staff_Joined_Count                                                    1.00\n",
      "Customer_Joined_Count                                                 1.00\n",
      "Customer_Enabled_Video                                                1.00\n",
      "Call_Duration_(Sec)                                                 596.75\n",
      "Staff_Score                                                           2.00\n",
      "Avg_Customer_Rating_(Overall)                                         1.00\n",
      "Rating_Question_\"How_Was_The_Stream_Quality\"                          1.00\n",
      "Rating_Question_\"Did_you_find_your_rep_helpful?\"                      2.00\n",
      "Rating_Question_\"How_likely_are_you_to_use_this_service_again\"?       1.00\n",
      "purchase_value_usd                                                 1284.30\n",
      "days_between_call_and_purchase                                       11.00\n",
      "Status_num                                                            1.00\n",
      "dtype: float64\n"
     ]
    }
   ],
   "source": [
    "q1 = appointments_clean_df.quantile(0.25)\n",
    "q3 =appointments_clean_df.quantile(0.75)\n",
    "IQR = q3 - q1\n",
    "print(IQR)"
   ]
  },
  {
   "cell_type": "code",
   "execution_count": 431,
   "metadata": {
    "ExecuteTime": {
     "end_time": "2021-07-13T01:05:46.782405Z",
     "start_time": "2021-07-13T01:05:46.561071Z"
    }
   },
   "outputs": [
    {
     "data": {
      "text/plain": [
       "array([<matplotlib.axes._subplots.AxesSubplot object at 0x7fcbe212e670>],\n",
       "      dtype=object)"
      ]
     },
     "execution_count": 431,
     "metadata": {},
     "output_type": "execute_result"
    },
    {
     "data": {
      "image/png": "[encoded data removed]",
      "text/plain": [
       "<Figure size 1080x720 with 1 Axes>"
      ]
     },
     "metadata": {
      "needs_background": "light"
     },
     "output_type": "display_data"
    }
   ],
   "source": [
    "appointments_clean_df['Call_Duration_(Sec)'].plot.kde(subplots=True,figsize=(15,10))"
   ]
  },
  {
   "cell_type": "code",
   "execution_count": 432,
   "metadata": {
    "ExecuteTime": {
     "end_time": "2021-07-13T01:05:47.016113Z",
     "start_time": "2021-07-13T01:05:46.791163Z"
    }
   },
   "outputs": [
    {
     "data": {
      "text/plain": [
       "<matplotlib.axes._subplots.AxesSubplot at 0x7fcbe4b4dbe0>"
      ]
     },
     "execution_count": 432,
     "metadata": {},
     "output_type": "execute_result"
    },
    {
     "data": {
      "image/png": "[encoded data removed]",
      "text/plain": [
       "<Figure size 1080x720 with 1 Axes>"
      ]
     },
     "metadata": {
      "needs_background": "light"
     },
     "output_type": "display_data"
    }
   ],
   "source": [
    "appointments_clean_df.boxplot(column= ['purchase_value_usd'],figsize=(15,10))"
   ]
  },
  {
   "cell_type": "code",
   "execution_count": 433,
   "metadata": {
    "ExecuteTime": {
     "end_time": "2021-07-13T01:05:47.240081Z",
     "start_time": "2021-07-13T01:05:47.019183Z"
    }
   },
   "outputs": [
    {
     "data": {
      "text/plain": [
       "<matplotlib.axes._subplots.AxesSubplot at 0x7fcbe4c004f0>"
      ]
     },
     "execution_count": 433,
     "metadata": {},
     "output_type": "execute_result"
    },
    {
     "data": {
      "image/png": "[encoded data removed]",
      "text/plain": [
       "<Figure size 1080x720 with 1 Axes>"
      ]
     },
     "metadata": {
      "needs_background": "light"
     },
     "output_type": "display_data"
    }
   ],
   "source": [
    "appointments_clean_df.boxplot(column=['Call_Duration_(Sec)'], figsize=(15,10))"
   ]
  },
  {
   "cell_type": "code",
   "execution_count": 434,
   "metadata": {
    "ExecuteTime": {
     "end_time": "2021-07-13T01:05:47.274282Z",
     "start_time": "2021-07-13T01:05:47.244862Z"
    }
   },
   "outputs": [
    {
     "data": {
      "text/html": [
       "<div>\n",
       "<style scoped>\n",
       "    .dataframe tbody tr th:only-of-type {\n",
       "        vertical-align: middle;\n",
       "    }\n",
       "\n",
       "    .dataframe tbody tr th {\n",
       "        vertical-align: top;\n",
       "    }\n",
       "\n",
       "    .dataframe thead th {\n",
       "        text-align: right;\n",
       "    }\n",
       "</style>\n",
       "<table border=\"1\" class=\"dataframe\">\n",
       "  <thead>\n",
       "    <tr style=\"text-align: right;\">\n",
       "      <th></th>\n",
       "      <th>purchase_made_after_call</th>\n",
       "    </tr>\n",
       "    <tr>\n",
       "      <th>call_id</th>\n",
       "      <th></th>\n",
       "    </tr>\n",
       "  </thead>\n",
       "  <tbody>\n",
       "    <tr>\n",
       "      <th>8144014</th>\n",
       "      <td>NO</td>\n",
       "    </tr>\n",
       "    <tr>\n",
       "      <th>8293766</th>\n",
       "      <td>NO</td>\n",
       "    </tr>\n",
       "    <tr>\n",
       "      <th>8293766</th>\n",
       "      <td>NO</td>\n",
       "    </tr>\n",
       "    <tr>\n",
       "      <th>8295299</th>\n",
       "      <td>NO</td>\n",
       "    </tr>\n",
       "    <tr>\n",
       "      <th>8458684</th>\n",
       "      <td>NO</td>\n",
       "    </tr>\n",
       "    <tr>\n",
       "      <th>8458684</th>\n",
       "      <td>NO</td>\n",
       "    </tr>\n",
       "    <tr>\n",
       "      <th>9534229</th>\n",
       "      <td>NO</td>\n",
       "    </tr>\n",
       "    <tr>\n",
       "      <th>9680279</th>\n",
       "      <td>NO</td>\n",
       "    </tr>\n",
       "    <tr>\n",
       "      <th>10043147</th>\n",
       "      <td>NO</td>\n",
       "    </tr>\n",
       "    <tr>\n",
       "      <th>10043147</th>\n",
       "      <td>NO</td>\n",
       "    </tr>\n",
       "    <tr>\n",
       "      <th>9348833</th>\n",
       "      <td>NO</td>\n",
       "    </tr>\n",
       "    <tr>\n",
       "      <th>9540754</th>\n",
       "      <td>NO</td>\n",
       "    </tr>\n",
       "    <tr>\n",
       "      <th>9598644</th>\n",
       "      <td>NO</td>\n",
       "    </tr>\n",
       "    <tr>\n",
       "      <th>9681440</th>\n",
       "      <td>NO</td>\n",
       "    </tr>\n",
       "    <tr>\n",
       "      <th>9812318</th>\n",
       "      <td>NO</td>\n",
       "    </tr>\n",
       "    <tr>\n",
       "      <th>9875991</th>\n",
       "      <td>NO</td>\n",
       "    </tr>\n",
       "    <tr>\n",
       "      <th>9912241</th>\n",
       "      <td>NO</td>\n",
       "    </tr>\n",
       "    <tr>\n",
       "      <th>9924697</th>\n",
       "      <td>NO</td>\n",
       "    </tr>\n",
       "    <tr>\n",
       "      <th>9932124</th>\n",
       "      <td>NO</td>\n",
       "    </tr>\n",
       "    <tr>\n",
       "      <th>10903370</th>\n",
       "      <td>NO</td>\n",
       "    </tr>\n",
       "    <tr>\n",
       "      <th>11089064</th>\n",
       "      <td>NO</td>\n",
       "    </tr>\n",
       "    <tr>\n",
       "      <th>8643076</th>\n",
       "      <td>NO</td>\n",
       "    </tr>\n",
       "  </tbody>\n",
       "</table>\n",
       "</div>"
      ],
      "text/plain": [
       "         purchase_made_after_call\n",
       "call_id                          \n",
       "8144014                        NO\n",
       "8293766                        NO\n",
       "8293766                        NO\n",
       "8295299                        NO\n",
       "8458684                        NO\n",
       "8458684                        NO\n",
       "9534229                        NO\n",
       "9680279                        NO\n",
       "10043147                       NO\n",
       "10043147                       NO\n",
       "9348833                        NO\n",
       "9540754                        NO\n",
       "9598644                        NO\n",
       "9681440                        NO\n",
       "9812318                        NO\n",
       "9875991                        NO\n",
       "9912241                        NO\n",
       "9924697                        NO\n",
       "9932124                        NO\n",
       "10903370                       NO\n",
       "11089064                       NO\n",
       "8643076                        NO"
      ]
     },
     "execution_count": 434,
     "metadata": {},
     "output_type": "execute_result"
    }
   ],
   "source": [
    "appointments_clean_df.loc[appointments_clean_df['Customer_Joined_Count']> 4, ['purchase_made_after_call']]"
   ]
  },
  {
   "cell_type": "code",
   "execution_count": 435,
   "metadata": {},
   "outputs": [
    {
     "data": {
      "text/plain": [
       "<matplotlib.axes._subplots.AxesSubplot at 0x7fcbe4c62b20>"
      ]
     },
     "execution_count": 435,
     "metadata": {},
     "output_type": "execute_result"
    },
    {
     "data": {
      "image/png": "[encoded data removed]",
      "text/plain": [
       "<Figure size 1080x720 with 1 Axes>"
      ]
     },
     "metadata": {
      "needs_background": "light"
     },
     "output_type": "display_data"
    }
   ],
   "source": [
    "appointments_clean_df.boxplot(column=['Staff_Joined_Count', 'Customer_Joined_Count'], figsize=(15,10))"
   ]
  },
  {
   "cell_type": "code",
   "execution_count": 436,
   "metadata": {
    "ExecuteTime": {
     "end_time": "2021-07-13T01:05:47.310025Z",
     "start_time": "2021-07-13T01:05:47.296670Z"
    }
   },
   "outputs": [],
   "source": [
    "Call_q1 = appointments_clean_df['Call_Duration_(Sec)'].quantile(0.25)\n",
    "Call_q3 = appointments_clean_df['Call_Duration_(Sec)'].quantile(0.75)\n",
    "Call_IQR = Call_q3 - Call_q1\n",
    "Call_mean = appointments_clean_df['Call_Duration_(Sec)'].mean()\n",
    "Call_upper = Call_q3 + (1.5 * Call_IQR)"
   ]
  },
  {
   "cell_type": "code",
   "execution_count": 437,
   "metadata": {
    "ExecuteTime": {
     "end_time": "2021-07-13T01:05:47.334972Z",
     "start_time": "2021-07-13T01:05:47.320919Z"
    }
   },
   "outputs": [],
   "source": [
    "appointments_clean_df.loc[appointments_clean_df['Call_Duration_(Sec)'] > 5000, 'Call_Duration_(Sec)'] = Call_mean"
   ]
  },
  {
   "cell_type": "code",
   "execution_count": 438,
   "metadata": {
    "ExecuteTime": {
     "end_time": "2021-07-13T01:05:47.366529Z",
     "start_time": "2021-07-13T01:05:47.339361Z"
    }
   },
   "outputs": [],
   "source": [
    "SC_q1 = appointments_clean_df['Staff_Joined_Count'].quantile(0.25)\n",
    "SC_q3 = appointments_clean_df['Staff_Joined_Count'].quantile(0.75)\n",
    "SC_IQR = SC_q3 - SC_q1\n",
    "SC_upper = SC_q3 + (1.5 * SC_IQR)"
   ]
  },
  {
   "cell_type": "code",
   "execution_count": null,
   "metadata": {
    "ExecuteTime": {
     "end_time": "2021-07-13T00:53:07.647288Z",
     "start_time": "2021-07-13T00:53:07.635225Z"
    }
   },
   "outputs": [],
   "source": []
  },
  {
   "cell_type": "code",
   "execution_count": 439,
   "metadata": {
    "ExecuteTime": {
     "end_time": "2021-07-13T01:05:47.388477Z",
     "start_time": "2021-07-13T01:05:47.370177Z"
    }
   },
   "outputs": [],
   "source": [
    "appointments_clean_df.loc[appointments_clean_df.Staff_Joined_Count > SC_upper, 'Staff_Joined_Count'] = SC_upper"
   ]
  },
  {
   "cell_type": "code",
   "execution_count": 440,
   "metadata": {
    "ExecuteTime": {
     "end_time": "2021-07-13T01:05:47.410251Z",
     "start_time": "2021-07-13T01:05:47.403026Z"
    },
    "cell_style": "split"
   },
   "outputs": [
    {
     "data": {
      "text/plain": [
       "2.5"
      ]
     },
     "execution_count": 440,
     "metadata": {},
     "output_type": "execute_result"
    }
   ],
   "source": [
    "appointments_clean_df['Staff_Joined_Count'].max()"
   ]
  },
  {
   "cell_type": "code",
   "execution_count": 441,
   "metadata": {
    "ExecuteTime": {
     "end_time": "2021-07-13T01:05:47.435628Z",
     "start_time": "2021-07-13T01:05:47.416744Z"
    }
   },
   "outputs": [],
   "source": [
    "CC_q1 = appointments_clean_df['Customer_Joined_Count'].quantile(0.25)\n",
    "CC_q3 = appointments_clean_df['Customer_Joined_Count'].quantile(0.75)\n",
    "CC_IQR = CC_q3 - CC_q1\n",
    "CC_upper = CC_q3 + (1.5 * CC_IQR)"
   ]
  },
  {
   "cell_type": "code",
   "execution_count": 442,
   "metadata": {
    "ExecuteTime": {
     "end_time": "2021-07-13T01:05:47.445253Z",
     "start_time": "2021-07-13T01:05:47.438669Z"
    }
   },
   "outputs": [],
   "source": [
    "appointments_clean_df.loc[appointments_clean_df.Customer_Joined_Count > CC_upper, 'Customer_Joined_Count'] = CC_upper"
   ]
  },
  {
   "cell_type": "code",
   "execution_count": 443,
   "metadata": {
    "ExecuteTime": {
     "end_time": "2021-07-13T01:05:47.710066Z",
     "start_time": "2021-07-13T01:05:47.453716Z"
    }
   },
   "outputs": [
    {
     "data": {
      "image/png": "[encoded data removed]",
      "text/plain": [
       "<Figure size 1080x720 with 1 Axes>"
      ]
     },
     "metadata": {
      "needs_background": "light"
     },
     "output_type": "display_data"
    }
   ],
   "source": [
    "boxplot_df = appointments_clean_df.boxplot(column=['Staff_Joined_Count', 'Customer_Joined_Count'], figsize=(15,10))"
   ]
  },
  {
   "cell_type": "code",
   "execution_count": 444,
   "metadata": {
    "ExecuteTime": {
     "end_time": "2021-07-13T01:05:47.727191Z",
     "start_time": "2021-07-13T01:05:47.713132Z"
    }
   },
   "outputs": [
    {
     "data": {
      "text/plain": [
       "Customer_Joined_Count  Staff_Joined_Count\n",
       "False                  False                 795\n",
       "True                   False                  57\n",
       "False                  True                   25\n",
       "True                   True                   17\n",
       "dtype: int64"
      ]
     },
     "execution_count": 444,
     "metadata": {},
     "output_type": "execute_result"
    }
   ],
   "source": [
    "(appointments_clean_df[['Customer_Joined_Count','Staff_Joined_Count']] > 2).value_counts()"
   ]
  },
  {
   "cell_type": "code",
   "execution_count": 445,
   "metadata": {
    "ExecuteTime": {
     "end_time": "2021-07-13T01:05:47.763412Z",
     "start_time": "2021-07-13T01:05:47.742850Z"
    }
   },
   "outputs": [
    {
     "data": {
      "text/plain": [
       "False    852\n",
       "True      42\n",
       "Name: Staff_Joined_Count, dtype: int64"
      ]
     },
     "execution_count": 445,
     "metadata": {},
     "output_type": "execute_result"
    }
   ],
   "source": [
    "(appointments_clean_df['Staff_Joined_Count'] > 2).value_counts()"
   ]
  },
  {
   "cell_type": "code",
   "execution_count": 446,
   "metadata": {
    "ExecuteTime": {
     "end_time": "2021-07-13T01:05:47.789557Z",
     "start_time": "2021-07-13T01:05:47.768732Z"
    }
   },
   "outputs": [
    {
     "data": {
      "text/plain": [
       "False    820\n",
       "True      74\n",
       "Name: Customer_Joined_Count, dtype: int64"
      ]
     },
     "execution_count": 446,
     "metadata": {},
     "output_type": "execute_result"
    }
   ],
   "source": [
    "(appointments_clean_df['Customer_Joined_Count'] > 2).value_counts()"
   ]
  },
  {
   "cell_type": "markdown",
   "metadata": {},
   "source": [
    "#### Mann-Whitney U Rank Test"
   ]
  },
  {
   "cell_type": "markdown",
   "metadata": {},
   "source": [
    "Test null hypothesis that there is no difference between the following means:\n",
    "Customer join count and no purchase \n",
    "Customer join count and purchase\n",
    "\n",
    "p=1.158254502056017e-21: reject null hypothesis"
   ]
  },
  {
   "cell_type": "code",
   "execution_count": 447,
   "metadata": {
    "ExecuteTime": {
     "end_time": "2021-07-13T01:05:47.805445Z",
     "start_time": "2021-07-13T01:05:47.793009Z"
    }
   },
   "outputs": [
    {
     "data": {
      "text/plain": [
       "Customer_Joined_Count    1.229927\n",
       "dtype: float64"
      ]
     },
     "execution_count": 447,
     "metadata": {},
     "output_type": "execute_result"
    }
   ],
   "source": [
    "appointments_clean_df.loc[appointments_clean_df['purchase_made_after_call']=='YES',['Customer_Joined_Count']].mean()"
   ]
  },
  {
   "cell_type": "code",
   "execution_count": 448,
   "metadata": {
    "ExecuteTime": {
     "end_time": "2021-07-13T01:05:47.824997Z",
     "start_time": "2021-07-13T01:05:47.816773Z"
    }
   },
   "outputs": [],
   "source": [
    "s1 = appointments_clean_df.loc[appointments_clean_df['purchase_made_after_call']=='YES',['Customer_Joined_Count']]"
   ]
  },
  {
   "cell_type": "code",
   "execution_count": 449,
   "metadata": {
    "ExecuteTime": {
     "end_time": "2021-07-13T01:05:47.849060Z",
     "start_time": "2021-07-13T01:05:47.829160Z"
    }
   },
   "outputs": [
    {
     "data": {
      "text/plain": [
       "Customer_Joined_Count    0.65852\n",
       "dtype: float64"
      ]
     },
     "execution_count": 449,
     "metadata": {},
     "output_type": "execute_result"
    }
   ],
   "source": [
    "appointments_clean_df.loc[appointments_clean_df['purchase_made_after_call']=='NO',['Customer_Joined_Count']].mean()"
   ]
  },
  {
   "cell_type": "code",
   "execution_count": 450,
   "metadata": {
    "ExecuteTime": {
     "end_time": "2021-07-13T01:05:47.866413Z",
     "start_time": "2021-07-13T01:05:47.853175Z"
    }
   },
   "outputs": [],
   "source": [
    "s2 = appointments_clean_df.loc[appointments_clean_df['purchase_made_after_call']=='NO',['Customer_Joined_Count']]"
   ]
  },
  {
   "cell_type": "code",
   "execution_count": 451,
   "metadata": {
    "ExecuteTime": {
     "end_time": "2021-07-13T01:05:47.879039Z",
     "start_time": "2021-07-13T01:05:47.869849Z"
    }
   },
   "outputs": [],
   "source": [
    "U1, p = scipy.stats.mannwhitneyu(s1,s2)"
   ]
  },
  {
   "cell_type": "code",
   "execution_count": 452,
   "metadata": {
    "ExecuteTime": {
     "end_time": "2021-07-13T01:05:47.898479Z",
     "start_time": "2021-07-13T01:05:47.890029Z"
    }
   },
   "outputs": [
    {
     "data": {
      "text/plain": [
       "27612.5"
      ]
     },
     "execution_count": 452,
     "metadata": {},
     "output_type": "execute_result"
    }
   ],
   "source": [
    "U1"
   ]
  },
  {
   "cell_type": "code",
   "execution_count": 453,
   "metadata": {
    "ExecuteTime": {
     "end_time": "2021-07-13T01:05:47.925842Z",
     "start_time": "2021-07-13T01:05:47.911684Z"
    }
   },
   "outputs": [
    {
     "data": {
      "text/plain": [
       "1.158254502056017e-21"
      ]
     },
     "execution_count": 453,
     "metadata": {},
     "output_type": "execute_result"
    }
   ],
   "source": [
    "p"
   ]
  },
  {
   "cell_type": "code",
   "execution_count": 454,
   "metadata": {
    "ExecuteTime": {
     "end_time": "2021-07-13T01:05:47.953661Z",
     "start_time": "2021-07-13T01:05:47.932842Z"
    }
   },
   "outputs": [
    {
     "data": {
      "text/plain": [
       "Booking - Successful call                                             436\n",
       "Booking - No one joined                                               205\n",
       "Booking - Clerk joined consumer did not join                          191\n",
       "Booking - Consumer joined clerk did not joined                         49\n",
       "Booking - Consumer and clerk join but not present at the same time     13\n",
       "Name: Call_Result, dtype: int64"
      ]
     },
     "execution_count": 454,
     "metadata": {},
     "output_type": "execute_result"
    }
   ],
   "source": [
    "appointments_clean_df['Call_Result'].value_counts()"
   ]
  },
  {
   "cell_type": "code",
   "execution_count": 455,
   "metadata": {
    "ExecuteTime": {
     "end_time": "2021-07-13T01:05:47.971067Z",
     "start_time": "2021-07-13T01:05:47.958723Z"
    }
   },
   "outputs": [
    {
     "data": {
      "text/plain": [
       "Live expert booking - All Goods    894\n",
       "Name: Booking_Title, dtype: int64"
      ]
     },
     "execution_count": 455,
     "metadata": {},
     "output_type": "execute_result"
    }
   ],
   "source": [
    "appointments_clean_df['Booking_Title'].value_counts()"
   ]
  },
  {
   "cell_type": "code",
   "execution_count": 456,
   "metadata": {
    "ExecuteTime": {
     "end_time": "2021-07-13T01:05:47.996677Z",
     "start_time": "2021-07-13T01:05:47.976590Z"
    }
   },
   "outputs": [
    {
     "name": "stdout",
     "output_type": "stream",
     "text": [
      "<class 'pandas.core.frame.DataFrame'>\n",
      "Int64Index: 894 entries, 10653788 to 7925690\n",
      "Data columns (total 31 columns):\n",
      " #   Column                                                           Non-Null Count  Dtype         \n",
      "---  ------                                                           --------------  -----         \n",
      " 0   Customer_Id                                                      510 non-null    object        \n",
      " 1   Call_Type                                                        894 non-null    object        \n",
      " 2   Date_Created_Local                                               894 non-null    datetime64[ns]\n",
      " 3   Created_At_Local                                                 894 non-null    datetime64[ns]\n",
      " 4   Call_Started_Local                                               443 non-null    datetime64[ns]\n",
      " 5   Scheduled_Start_Date_Local                                       894 non-null    datetime64[ns]\n",
      " 6   Scheduled_Start_Time_Local                                       894 non-null    datetime64[ns]\n",
      " 7   Scheduled_End_Time_Local                                         894 non-null    datetime64[ns]\n",
      " 8   Status                                                           894 non-null    object        \n",
      " 9   Booking_Title                                                    894 non-null    object        \n",
      " 10  Booked_By_Staff_Id                                               894 non-null    int64         \n",
      " 11  Staff_First_Joined_Activity_Timestamps_Local                     643 non-null    datetime64[ns]\n",
      " 12  Staff_Joined_Activities_Timestamps_Local                         643 non-null    object        \n",
      " 13  Staff_Joined_Count                                               894 non-null    float64       \n",
      " 14  Staff_Left_Activities_Timestamps_UTC                             643 non-null    object        \n",
      " 15  Customer_Joined_Count                                            894 non-null    float64       \n",
      " 16  Customer_Joined_Activities_Timestamps_UTC                        498 non-null    object        \n",
      " 17  Customer_Left_Activities_Timestamps_UTC                          242 non-null    object        \n",
      " 18  Customer_Enabled_Video                                           894 non-null    int64         \n",
      " 19  Call_Result                                                      894 non-null    object        \n",
      " 20  Call_Duration_(Sec)                                              894 non-null    float64       \n",
      " 21  Staff_Score                                                      592 non-null    float64       \n",
      " 22  Avg_Customer_Rating_(Overall)                                    264 non-null    float64       \n",
      " 23  Rating_Question_\"How_Was_The_Stream_Quality\"                     264 non-null    float64       \n",
      " 24  Rating_Question_\"Did_you_find_your_rep_helpful?\"                 264 non-null    float64       \n",
      " 25  Rating_Question_\"How_likely_are_you_to_use_this_service_again\"?  264 non-null    float64       \n",
      " 26  purchase_made_after_call                                         894 non-null    object        \n",
      " 27  purchase_value_usd                                               137 non-null    float64       \n",
      " 28  timestamp_of_checkout                                            137 non-null    datetime64[ns]\n",
      " 29  days_between_call_and_purchase                                   137 non-null    float64       \n",
      " 30  Status_num                                                       894 non-null    int64         \n",
      "dtypes: datetime64[ns](8), float64(10), int64(3), object(10)\n",
      "memory usage: 223.5+ KB\n"
     ]
    }
   ],
   "source": [
    " appointments_clean_df.info()"
   ]
  },
  {
   "cell_type": "code",
   "execution_count": 457,
   "metadata": {
    "ExecuteTime": {
     "end_time": "2021-07-13T01:05:48.008524Z",
     "start_time": "2021-07-13T01:05:48.001979Z"
    }
   },
   "outputs": [],
   "source": [
    "appointments_clean_df_copy = appointments_clean_df"
   ]
  },
  {
   "cell_type": "code",
   "execution_count": 458,
   "metadata": {
    "ExecuteTime": {
     "end_time": "2021-07-13T01:05:48.031302Z",
     "start_time": "2021-07-13T01:05:48.017152Z"
    }
   },
   "outputs": [],
   "source": [
    "appointments_clean_df_copy = appointments_clean_df_copy.drop(['Call_Type', 'Booking_Title', 'Rating_Question_\"How_Was_The_Stream_Quality\"', 'Rating_Question_\"Did_you_find_your_rep_helpful?\"','Rating_Question_\"How_likely_are_you_to_use_this_service_again\"?'], axis=1)"
   ]
  },
  {
   "cell_type": "markdown",
   "metadata": {},
   "source": [
    "### Impute Missing Values"
   ]
  },
  {
   "cell_type": "markdown",
   "metadata": {},
   "source": [
    "I have replaced null values with reasonable replacements. For some features I have used the mean or median. If the value is dependent on whether there was a call and this was negative then I may have used 0. For categorical data I have created another class, such as 'unkown ' for Call result."
   ]
  },
  {
   "cell_type": "code",
   "execution_count": 459,
   "metadata": {
    "ExecuteTime": {
     "end_time": "2021-07-13T01:05:48.047856Z",
     "start_time": "2021-07-13T01:05:48.039641Z"
    }
   },
   "outputs": [],
   "source": [
    "appointments_df_complete = appointments_clean_df_copy.dropna()"
   ]
  },
  {
   "cell_type": "code",
   "execution_count": 460,
   "metadata": {
    "ExecuteTime": {
     "end_time": "2021-07-13T01:05:48.075489Z",
     "start_time": "2021-07-13T01:05:48.051574Z"
    },
    "scrolled": false
   },
   "outputs": [
    {
     "name": "stdout",
     "output_type": "stream",
     "text": [
      "<class 'pandas.core.frame.DataFrame'>\n",
      "Int64Index: 46 entries, 9855287 to 8144434\n",
      "Data columns (total 26 columns):\n",
      " #   Column                                        Non-Null Count  Dtype         \n",
      "---  ------                                        --------------  -----         \n",
      " 0   Customer_Id                                   46 non-null     object        \n",
      " 1   Date_Created_Local                            46 non-null     datetime64[ns]\n",
      " 2   Created_At_Local                              46 non-null     datetime64[ns]\n",
      " 3   Call_Started_Local                            46 non-null     datetime64[ns]\n",
      " 4   Scheduled_Start_Date_Local                    46 non-null     datetime64[ns]\n",
      " 5   Scheduled_Start_Time_Local                    46 non-null     datetime64[ns]\n",
      " 6   Scheduled_End_Time_Local                      46 non-null     datetime64[ns]\n",
      " 7   Status                                        46 non-null     object        \n",
      " 8   Booked_By_Staff_Id                            46 non-null     int64         \n",
      " 9   Staff_First_Joined_Activity_Timestamps_Local  46 non-null     datetime64[ns]\n",
      " 10  Staff_Joined_Activities_Timestamps_Local      46 non-null     object        \n",
      " 11  Staff_Joined_Count                            46 non-null     float64       \n",
      " 12  Staff_Left_Activities_Timestamps_UTC          46 non-null     object        \n",
      " 13  Customer_Joined_Count                         46 non-null     float64       \n",
      " 14  Customer_Joined_Activities_Timestamps_UTC     46 non-null     object        \n",
      " 15  Customer_Left_Activities_Timestamps_UTC       46 non-null     object        \n",
      " 16  Customer_Enabled_Video                        46 non-null     int64         \n",
      " 17  Call_Result                                   46 non-null     object        \n",
      " 18  Call_Duration_(Sec)                           46 non-null     float64       \n",
      " 19  Staff_Score                                   46 non-null     float64       \n",
      " 20  Avg_Customer_Rating_(Overall)                 46 non-null     float64       \n",
      " 21  purchase_made_after_call                      46 non-null     object        \n",
      " 22  purchase_value_usd                            46 non-null     float64       \n",
      " 23  timestamp_of_checkout                         46 non-null     datetime64[ns]\n",
      " 24  days_between_call_and_purchase                46 non-null     float64       \n",
      " 25  Status_num                                    46 non-null     int64         \n",
      "dtypes: datetime64[ns](8), float64(7), int64(3), object(8)\n",
      "memory usage: 9.7+ KB\n"
     ]
    }
   ],
   "source": [
    "appointments_df_complete.info()"
   ]
  },
  {
   "cell_type": "code",
   "execution_count": 461,
   "metadata": {
    "ExecuteTime": {
     "end_time": "2021-07-13T01:05:48.092774Z",
     "start_time": "2021-07-13T01:05:48.079591Z"
    }
   },
   "outputs": [],
   "source": [
    "appointments_clean_df_copy['Staff_Score'] = appointments_clean_df_copy['Staff_Score'].fillna(value=0)"
   ]
  },
  {
   "cell_type": "code",
   "execution_count": 462,
   "metadata": {
    "ExecuteTime": {
     "end_time": "2021-07-13T01:05:48.178685Z",
     "start_time": "2021-07-13T01:05:48.096371Z"
    }
   },
   "outputs": [
    {
     "data": {
      "text/html": [
       "<div>\n",
       "<style scoped>\n",
       "    .dataframe tbody tr th:only-of-type {\n",
       "        vertical-align: middle;\n",
       "    }\n",
       "\n",
       "    .dataframe tbody tr th {\n",
       "        vertical-align: top;\n",
       "    }\n",
       "\n",
       "    .dataframe thead th {\n",
       "        text-align: right;\n",
       "    }\n",
       "</style>\n",
       "<table border=\"1\" class=\"dataframe\">\n",
       "  <thead>\n",
       "    <tr style=\"text-align: right;\">\n",
       "      <th></th>\n",
       "      <th>Customer_Id</th>\n",
       "      <th>Date_Created_Local</th>\n",
       "      <th>Created_At_Local</th>\n",
       "      <th>Call_Started_Local</th>\n",
       "      <th>Scheduled_Start_Date_Local</th>\n",
       "      <th>Scheduled_Start_Time_Local</th>\n",
       "      <th>Scheduled_End_Time_Local</th>\n",
       "      <th>Status</th>\n",
       "      <th>Booked_By_Staff_Id</th>\n",
       "      <th>Staff_First_Joined_Activity_Timestamps_Local</th>\n",
       "      <th>Staff_Joined_Activities_Timestamps_Local</th>\n",
       "      <th>Staff_Joined_Count</th>\n",
       "      <th>Staff_Left_Activities_Timestamps_UTC</th>\n",
       "      <th>Customer_Joined_Count</th>\n",
       "      <th>Customer_Joined_Activities_Timestamps_UTC</th>\n",
       "      <th>Customer_Left_Activities_Timestamps_UTC</th>\n",
       "      <th>Customer_Enabled_Video</th>\n",
       "      <th>Call_Result</th>\n",
       "      <th>Call_Duration_(Sec)</th>\n",
       "      <th>Staff_Score</th>\n",
       "      <th>Avg_Customer_Rating_(Overall)</th>\n",
       "      <th>purchase_made_after_call</th>\n",
       "      <th>purchase_value_usd</th>\n",
       "      <th>timestamp_of_checkout</th>\n",
       "      <th>days_between_call_and_purchase</th>\n",
       "      <th>Status_num</th>\n",
       "    </tr>\n",
       "    <tr>\n",
       "      <th>call_id</th>\n",
       "      <th></th>\n",
       "      <th></th>\n",
       "      <th></th>\n",
       "      <th></th>\n",
       "      <th></th>\n",
       "      <th></th>\n",
       "      <th></th>\n",
       "      <th></th>\n",
       "      <th></th>\n",
       "      <th></th>\n",
       "      <th></th>\n",
       "      <th></th>\n",
       "      <th></th>\n",
       "      <th></th>\n",
       "      <th></th>\n",
       "      <th></th>\n",
       "      <th></th>\n",
       "      <th></th>\n",
       "      <th></th>\n",
       "      <th></th>\n",
       "      <th></th>\n",
       "      <th></th>\n",
       "      <th></th>\n",
       "      <th></th>\n",
       "      <th></th>\n",
       "      <th></th>\n",
       "    </tr>\n",
       "  </thead>\n",
       "  <tbody>\n",
       "    <tr>\n",
       "      <th>10653788</th>\n",
       "      <td>fk3nlsty-g7lu-ig6q-xli8-q1rjko1eh09c</td>\n",
       "      <td>2021-05-26</td>\n",
       "      <td>2021-05-26 15:52:00</td>\n",
       "      <td>2021-05-28 10:19:00</td>\n",
       "      <td>2021-05-28</td>\n",
       "      <td>2021-05-28 10:15:00</td>\n",
       "      <td>2021-05-28 10:25:00</td>\n",
       "      <td>ENDED</td>\n",
       "      <td>21998</td>\n",
       "      <td>2021-05-28 10:12:00</td>\n",
       "      <td>2021-05-28 10:12:17, 2021-05-28 10:15:11, 2021...</td>\n",
       "      <td>2.5</td>\n",
       "      <td>2021-05-28 10:15:07, 2021-05-28 10:17:04, 2021...</td>\n",
       "      <td>1.0</td>\n",
       "      <td>28/05/2021 10:19</td>\n",
       "      <td>NaN</td>\n",
       "      <td>0</td>\n",
       "      <td>Booking - Successful call</td>\n",
       "      <td>147.0</td>\n",
       "      <td>3.0</td>\n",
       "      <td>NaN</td>\n",
       "      <td>YES</td>\n",
       "      <td>23.6</td>\n",
       "      <td>2021-01-06 13:21:00</td>\n",
       "      <td>4.0</td>\n",
       "      <td>2</td>\n",
       "    </tr>\n",
       "    <tr>\n",
       "      <th>10343190</th>\n",
       "      <td>kk4w9y59-suss-ampm-4pox-oj2qhv0py3t4</td>\n",
       "      <td>2021-08-05</td>\n",
       "      <td>2021-08-05 23:04:00</td>\n",
       "      <td>2021-12-05 16:45:00</td>\n",
       "      <td>2021-12-05</td>\n",
       "      <td>2021-12-05 16:45:00</td>\n",
       "      <td>2021-12-05 16:55:00</td>\n",
       "      <td>ENDED</td>\n",
       "      <td>22017</td>\n",
       "      <td>2021-12-05 16:41:00</td>\n",
       "      <td>12/05/2021 16:41</td>\n",
       "      <td>1.0</td>\n",
       "      <td>12/05/2021 16:51</td>\n",
       "      <td>1.0</td>\n",
       "      <td>12/05/2021 16:45</td>\n",
       "      <td>NaN</td>\n",
       "      <td>1</td>\n",
       "      <td>Booking - Successful call</td>\n",
       "      <td>356.0</td>\n",
       "      <td>3.0</td>\n",
       "      <td>5.0</td>\n",
       "      <td>YES</td>\n",
       "      <td>597.0</td>\n",
       "      <td>2021-05-16 20:34:00</td>\n",
       "      <td>4.0</td>\n",
       "      <td>2</td>\n",
       "    </tr>\n",
       "    <tr>\n",
       "      <th>9647059</th>\n",
       "      <td>6vzngogp-dd3d-yllc-3zsc-gb3wui8cnsfo</td>\n",
       "      <td>2021-06-04</td>\n",
       "      <td>2021-06-04 16:53:00</td>\n",
       "      <td>2021-07-04 17:14:00</td>\n",
       "      <td>2021-07-04</td>\n",
       "      <td>2021-07-04 17:00:00</td>\n",
       "      <td>2021-07-04 17:10:00</td>\n",
       "      <td>ENDED</td>\n",
       "      <td>22017</td>\n",
       "      <td>2021-07-04 16:58:00</td>\n",
       "      <td>07/04/2021 16:58</td>\n",
       "      <td>1.0</td>\n",
       "      <td>07/04/2021 17:32</td>\n",
       "      <td>2.0</td>\n",
       "      <td>2021-04-07 17:01:10, 2021-04-07 17:13:54</td>\n",
       "      <td>NaN</td>\n",
       "      <td>1</td>\n",
       "      <td>Booking - Successful call</td>\n",
       "      <td>2427.0</td>\n",
       "      <td>4.0</td>\n",
       "      <td>5.0</td>\n",
       "      <td>YES</td>\n",
       "      <td>27.5</td>\n",
       "      <td>2021-02-05 14:10:00</td>\n",
       "      <td>25.0</td>\n",
       "      <td>2</td>\n",
       "    </tr>\n",
       "    <tr>\n",
       "      <th>9647059</th>\n",
       "      <td>6vzngogp-dd3d-yllc-3zsc-gb3wui8cnsfo</td>\n",
       "      <td>2021-06-04</td>\n",
       "      <td>2021-06-04 16:53:00</td>\n",
       "      <td>2021-07-04 17:14:00</td>\n",
       "      <td>2021-07-04</td>\n",
       "      <td>2021-07-04 17:00:00</td>\n",
       "      <td>2021-07-04 17:10:00</td>\n",
       "      <td>ENDED</td>\n",
       "      <td>22017</td>\n",
       "      <td>2021-07-04 16:58:00</td>\n",
       "      <td>07/04/2021 16:58</td>\n",
       "      <td>1.0</td>\n",
       "      <td>07/04/2021 17:32</td>\n",
       "      <td>2.0</td>\n",
       "      <td>2021-04-07 17:01:10, 2021-04-07 17:13:54</td>\n",
       "      <td>NaN</td>\n",
       "      <td>1</td>\n",
       "      <td>Booking - Successful call</td>\n",
       "      <td>2427.0</td>\n",
       "      <td>4.0</td>\n",
       "      <td>5.0</td>\n",
       "      <td>YES</td>\n",
       "      <td>39.0</td>\n",
       "      <td>2021-04-24 10:57:00</td>\n",
       "      <td>17.0</td>\n",
       "      <td>2</td>\n",
       "    </tr>\n",
       "    <tr>\n",
       "      <th>9709891</th>\n",
       "      <td>6l13g0kj-g0pa-hbw7-xshv-5ekgl2111yo6</td>\n",
       "      <td>2021-08-04</td>\n",
       "      <td>2021-08-04 18:10:00</td>\n",
       "      <td>2021-09-04 18:07:00</td>\n",
       "      <td>2021-09-04</td>\n",
       "      <td>2021-09-04 18:00:00</td>\n",
       "      <td>2021-09-04 18:15:00</td>\n",
       "      <td>ENDED</td>\n",
       "      <td>21998</td>\n",
       "      <td>2021-09-04 18:07:00</td>\n",
       "      <td>09/04/2021 18:07</td>\n",
       "      <td>1.0</td>\n",
       "      <td>09/04/2021 18:15</td>\n",
       "      <td>1.0</td>\n",
       "      <td>09/04/2021 17:59</td>\n",
       "      <td>NaN</td>\n",
       "      <td>1</td>\n",
       "      <td>Booking - Successful call</td>\n",
       "      <td>524.0</td>\n",
       "      <td>3.0</td>\n",
       "      <td>4.0</td>\n",
       "      <td>YES</td>\n",
       "      <td>179.0</td>\n",
       "      <td>2021-04-23 08:23:00</td>\n",
       "      <td>14.0</td>\n",
       "      <td>2</td>\n",
       "    </tr>\n",
       "    <tr>\n",
       "      <th>...</th>\n",
       "      <td>...</td>\n",
       "      <td>...</td>\n",
       "      <td>...</td>\n",
       "      <td>...</td>\n",
       "      <td>...</td>\n",
       "      <td>...</td>\n",
       "      <td>...</td>\n",
       "      <td>...</td>\n",
       "      <td>...</td>\n",
       "      <td>...</td>\n",
       "      <td>...</td>\n",
       "      <td>...</td>\n",
       "      <td>...</td>\n",
       "      <td>...</td>\n",
       "      <td>...</td>\n",
       "      <td>...</td>\n",
       "      <td>...</td>\n",
       "      <td>...</td>\n",
       "      <td>...</td>\n",
       "      <td>...</td>\n",
       "      <td>...</td>\n",
       "      <td>...</td>\n",
       "      <td>...</td>\n",
       "      <td>...</td>\n",
       "      <td>...</td>\n",
       "      <td>...</td>\n",
       "    </tr>\n",
       "    <tr>\n",
       "      <th>11111696</th>\n",
       "      <td>NaN</td>\n",
       "      <td>2021-06-25</td>\n",
       "      <td>2021-06-25 17:06:00</td>\n",
       "      <td>NaT</td>\n",
       "      <td>2021-06-26</td>\n",
       "      <td>2021-06-26 17:30:00</td>\n",
       "      <td>2021-06-26 17:40:00</td>\n",
       "      <td>CANCELLED</td>\n",
       "      <td>21998</td>\n",
       "      <td>NaT</td>\n",
       "      <td>NaN</td>\n",
       "      <td>0.0</td>\n",
       "      <td>NaN</td>\n",
       "      <td>0.0</td>\n",
       "      <td>NaN</td>\n",
       "      <td>NaN</td>\n",
       "      <td>0</td>\n",
       "      <td>Booking - No one joined</td>\n",
       "      <td>0.0</td>\n",
       "      <td>0.0</td>\n",
       "      <td>NaN</td>\n",
       "      <td>NO</td>\n",
       "      <td>NaN</td>\n",
       "      <td>NaT</td>\n",
       "      <td>NaN</td>\n",
       "      <td>0</td>\n",
       "    </tr>\n",
       "    <tr>\n",
       "      <th>11144660</th>\n",
       "      <td>NaN</td>\n",
       "      <td>2021-06-28</td>\n",
       "      <td>2021-06-28 11:19:00</td>\n",
       "      <td>NaT</td>\n",
       "      <td>2021-06-29</td>\n",
       "      <td>2021-06-29 16:30:00</td>\n",
       "      <td>2021-06-29 16:40:00</td>\n",
       "      <td>CANCELLED</td>\n",
       "      <td>22613</td>\n",
       "      <td>NaT</td>\n",
       "      <td>NaN</td>\n",
       "      <td>0.0</td>\n",
       "      <td>NaN</td>\n",
       "      <td>0.0</td>\n",
       "      <td>NaN</td>\n",
       "      <td>NaN</td>\n",
       "      <td>0</td>\n",
       "      <td>Booking - No one joined</td>\n",
       "      <td>0.0</td>\n",
       "      <td>0.0</td>\n",
       "      <td>NaN</td>\n",
       "      <td>NO</td>\n",
       "      <td>NaN</td>\n",
       "      <td>NaT</td>\n",
       "      <td>NaN</td>\n",
       "      <td>0</td>\n",
       "    </tr>\n",
       "    <tr>\n",
       "      <th>11144933</th>\n",
       "      <td>NaN</td>\n",
       "      <td>2021-06-28</td>\n",
       "      <td>2021-06-28 11:30:00</td>\n",
       "      <td>NaT</td>\n",
       "      <td>2021-06-29</td>\n",
       "      <td>2021-06-29 11:30:00</td>\n",
       "      <td>2021-06-29 11:40:00</td>\n",
       "      <td>CANCELLED</td>\n",
       "      <td>21557</td>\n",
       "      <td>NaT</td>\n",
       "      <td>NaN</td>\n",
       "      <td>0.0</td>\n",
       "      <td>NaN</td>\n",
       "      <td>0.0</td>\n",
       "      <td>NaN</td>\n",
       "      <td>NaN</td>\n",
       "      <td>0</td>\n",
       "      <td>Booking - No one joined</td>\n",
       "      <td>0.0</td>\n",
       "      <td>0.0</td>\n",
       "      <td>NaN</td>\n",
       "      <td>NO</td>\n",
       "      <td>NaN</td>\n",
       "      <td>NaT</td>\n",
       "      <td>NaN</td>\n",
       "      <td>0</td>\n",
       "    </tr>\n",
       "    <tr>\n",
       "      <th>11164791</th>\n",
       "      <td>NaN</td>\n",
       "      <td>2021-06-29</td>\n",
       "      <td>2021-06-29 13:06:00</td>\n",
       "      <td>NaT</td>\n",
       "      <td>2021-06-30</td>\n",
       "      <td>2021-06-30 13:15:00</td>\n",
       "      <td>2021-06-30 13:25:00</td>\n",
       "      <td>CANCELLED</td>\n",
       "      <td>22017</td>\n",
       "      <td>NaT</td>\n",
       "      <td>NaN</td>\n",
       "      <td>0.0</td>\n",
       "      <td>NaN</td>\n",
       "      <td>0.0</td>\n",
       "      <td>NaN</td>\n",
       "      <td>NaN</td>\n",
       "      <td>0</td>\n",
       "      <td>Booking - No one joined</td>\n",
       "      <td>0.0</td>\n",
       "      <td>0.0</td>\n",
       "      <td>NaN</td>\n",
       "      <td>NO</td>\n",
       "      <td>NaN</td>\n",
       "      <td>NaT</td>\n",
       "      <td>NaN</td>\n",
       "      <td>0</td>\n",
       "    </tr>\n",
       "    <tr>\n",
       "      <th>7925690</th>\n",
       "      <td>sinmbd7v-efk2-953m-ap0a-v4ir8w7epwov</td>\n",
       "      <td>2021-10-02</td>\n",
       "      <td>2021-10-02 10:58:00</td>\n",
       "      <td>2021-10-02 11:00:00</td>\n",
       "      <td>2021-10-02</td>\n",
       "      <td>2021-10-02 11:00:00</td>\n",
       "      <td>2021-10-02 11:30:00</td>\n",
       "      <td>CANCELLED</td>\n",
       "      <td>21558</td>\n",
       "      <td>2021-10-02 11:00:00</td>\n",
       "      <td>10/02/2021 11:00</td>\n",
       "      <td>1.0</td>\n",
       "      <td>10/02/2021 11:00</td>\n",
       "      <td>1.0</td>\n",
       "      <td>10/02/2021 11:00</td>\n",
       "      <td>NaN</td>\n",
       "      <td>0</td>\n",
       "      <td>Booking - Successful call</td>\n",
       "      <td>5.0</td>\n",
       "      <td>0.0</td>\n",
       "      <td>NaN</td>\n",
       "      <td>NO</td>\n",
       "      <td>NaN</td>\n",
       "      <td>NaT</td>\n",
       "      <td>NaN</td>\n",
       "      <td>0</td>\n",
       "    </tr>\n",
       "  </tbody>\n",
       "</table>\n",
       "<p>894 rows × 26 columns</p>\n",
       "</div>"
      ],
      "text/plain": [
       "                                   Customer_Id Date_Created_Local  \\\n",
       "call_id                                                             \n",
       "10653788  fk3nlsty-g7lu-ig6q-xli8-q1rjko1eh09c         2021-05-26   \n",
       "10343190  kk4w9y59-suss-ampm-4pox-oj2qhv0py3t4         2021-08-05   \n",
       "9647059   6vzngogp-dd3d-yllc-3zsc-gb3wui8cnsfo         2021-06-04   \n",
       "9647059   6vzngogp-dd3d-yllc-3zsc-gb3wui8cnsfo         2021-06-04   \n",
       "9709891   6l13g0kj-g0pa-hbw7-xshv-5ekgl2111yo6         2021-08-04   \n",
       "...                                        ...                ...   \n",
       "11111696                                   NaN         2021-06-25   \n",
       "11144660                                   NaN         2021-06-28   \n",
       "11144933                                   NaN         2021-06-28   \n",
       "11164791                                   NaN         2021-06-29   \n",
       "7925690   sinmbd7v-efk2-953m-ap0a-v4ir8w7epwov         2021-10-02   \n",
       "\n",
       "            Created_At_Local  Call_Started_Local Scheduled_Start_Date_Local  \\\n",
       "call_id                                                                       \n",
       "10653788 2021-05-26 15:52:00 2021-05-28 10:19:00                 2021-05-28   \n",
       "10343190 2021-08-05 23:04:00 2021-12-05 16:45:00                 2021-12-05   \n",
       "9647059  2021-06-04 16:53:00 2021-07-04 17:14:00                 2021-07-04   \n",
       "9647059  2021-06-04 16:53:00 2021-07-04 17:14:00                 2021-07-04   \n",
       "9709891  2021-08-04 18:10:00 2021-09-04 18:07:00                 2021-09-04   \n",
       "...                      ...                 ...                        ...   \n",
       "11111696 2021-06-25 17:06:00                 NaT                 2021-06-26   \n",
       "11144660 2021-06-28 11:19:00                 NaT                 2021-06-29   \n",
       "11144933 2021-06-28 11:30:00                 NaT                 2021-06-29   \n",
       "11164791 2021-06-29 13:06:00                 NaT                 2021-06-30   \n",
       "7925690  2021-10-02 10:58:00 2021-10-02 11:00:00                 2021-10-02   \n",
       "\n",
       "         Scheduled_Start_Time_Local Scheduled_End_Time_Local     Status  \\\n",
       "call_id                                                                   \n",
       "10653788        2021-05-28 10:15:00      2021-05-28 10:25:00      ENDED   \n",
       "10343190        2021-12-05 16:45:00      2021-12-05 16:55:00      ENDED   \n",
       "9647059         2021-07-04 17:00:00      2021-07-04 17:10:00      ENDED   \n",
       "9647059         2021-07-04 17:00:00      2021-07-04 17:10:00      ENDED   \n",
       "9709891         2021-09-04 18:00:00      2021-09-04 18:15:00      ENDED   \n",
       "...                             ...                      ...        ...   \n",
       "11111696        2021-06-26 17:30:00      2021-06-26 17:40:00  CANCELLED   \n",
       "11144660        2021-06-29 16:30:00      2021-06-29 16:40:00  CANCELLED   \n",
       "11144933        2021-06-29 11:30:00      2021-06-29 11:40:00  CANCELLED   \n",
       "11164791        2021-06-30 13:15:00      2021-06-30 13:25:00  CANCELLED   \n",
       "7925690         2021-10-02 11:00:00      2021-10-02 11:30:00  CANCELLED   \n",
       "\n",
       "          Booked_By_Staff_Id Staff_First_Joined_Activity_Timestamps_Local  \\\n",
       "call_id                                                                     \n",
       "10653788               21998                          2021-05-28 10:12:00   \n",
       "10343190               22017                          2021-12-05 16:41:00   \n",
       "9647059                22017                          2021-07-04 16:58:00   \n",
       "9647059                22017                          2021-07-04 16:58:00   \n",
       "9709891                21998                          2021-09-04 18:07:00   \n",
       "...                      ...                                          ...   \n",
       "11111696               21998                                          NaT   \n",
       "11144660               22613                                          NaT   \n",
       "11144933               21557                                          NaT   \n",
       "11164791               22017                                          NaT   \n",
       "7925690                21558                          2021-10-02 11:00:00   \n",
       "\n",
       "                   Staff_Joined_Activities_Timestamps_Local  \\\n",
       "call_id                                                       \n",
       "10653788  2021-05-28 10:12:17, 2021-05-28 10:15:11, 2021...   \n",
       "10343190                                   12/05/2021 16:41   \n",
       "9647059                                    07/04/2021 16:58   \n",
       "9647059                                    07/04/2021 16:58   \n",
       "9709891                                    09/04/2021 18:07   \n",
       "...                                                     ...   \n",
       "11111696                                                NaN   \n",
       "11144660                                                NaN   \n",
       "11144933                                                NaN   \n",
       "11164791                                                NaN   \n",
       "7925690                                    10/02/2021 11:00   \n",
       "\n",
       "          Staff_Joined_Count  \\\n",
       "call_id                        \n",
       "10653788                 2.5   \n",
       "10343190                 1.0   \n",
       "9647059                  1.0   \n",
       "9647059                  1.0   \n",
       "9709891                  1.0   \n",
       "...                      ...   \n",
       "11111696                 0.0   \n",
       "11144660                 0.0   \n",
       "11144933                 0.0   \n",
       "11164791                 0.0   \n",
       "7925690                  1.0   \n",
       "\n",
       "                       Staff_Left_Activities_Timestamps_UTC  \\\n",
       "call_id                                                       \n",
       "10653788  2021-05-28 10:15:07, 2021-05-28 10:17:04, 2021...   \n",
       "10343190                                   12/05/2021 16:51   \n",
       "9647059                                    07/04/2021 17:32   \n",
       "9647059                                    07/04/2021 17:32   \n",
       "9709891                                    09/04/2021 18:15   \n",
       "...                                                     ...   \n",
       "11111696                                                NaN   \n",
       "11144660                                                NaN   \n",
       "11144933                                                NaN   \n",
       "11164791                                                NaN   \n",
       "7925690                                    10/02/2021 11:00   \n",
       "\n",
       "          Customer_Joined_Count Customer_Joined_Activities_Timestamps_UTC  \\\n",
       "call_id                                                                     \n",
       "10653788                    1.0                          28/05/2021 10:19   \n",
       "10343190                    1.0                          12/05/2021 16:45   \n",
       "9647059                     2.0  2021-04-07 17:01:10, 2021-04-07 17:13:54   \n",
       "9647059                     2.0  2021-04-07 17:01:10, 2021-04-07 17:13:54   \n",
       "9709891                     1.0                          09/04/2021 17:59   \n",
       "...                         ...                                       ...   \n",
       "11111696                    0.0                                       NaN   \n",
       "11144660                    0.0                                       NaN   \n",
       "11144933                    0.0                                       NaN   \n",
       "11164791                    0.0                                       NaN   \n",
       "7925690                     1.0                          10/02/2021 11:00   \n",
       "\n",
       "         Customer_Left_Activities_Timestamps_UTC  Customer_Enabled_Video  \\\n",
       "call_id                                                                    \n",
       "10653788                                     NaN                       0   \n",
       "10343190                                     NaN                       1   \n",
       "9647059                                      NaN                       1   \n",
       "9647059                                      NaN                       1   \n",
       "9709891                                      NaN                       1   \n",
       "...                                          ...                     ...   \n",
       "11111696                                     NaN                       0   \n",
       "11144660                                     NaN                       0   \n",
       "11144933                                     NaN                       0   \n",
       "11164791                                     NaN                       0   \n",
       "7925690                                      NaN                       0   \n",
       "\n",
       "                        Call_Result  Call_Duration_(Sec)  Staff_Score  \\\n",
       "call_id                                                                 \n",
       "10653788  Booking - Successful call                147.0          3.0   \n",
       "10343190  Booking - Successful call                356.0          3.0   \n",
       "9647059   Booking - Successful call               2427.0          4.0   \n",
       "9647059   Booking - Successful call               2427.0          4.0   \n",
       "9709891   Booking - Successful call                524.0          3.0   \n",
       "...                             ...                  ...          ...   \n",
       "11111696    Booking - No one joined                  0.0          0.0   \n",
       "11144660    Booking - No one joined                  0.0          0.0   \n",
       "11144933    Booking - No one joined                  0.0          0.0   \n",
       "11164791    Booking - No one joined                  0.0          0.0   \n",
       "7925690   Booking - Successful call                  5.0          0.0   \n",
       "\n",
       "          Avg_Customer_Rating_(Overall) purchase_made_after_call  \\\n",
       "call_id                                                            \n",
       "10653788                            NaN                      YES   \n",
       "10343190                            5.0                      YES   \n",
       "9647059                             5.0                      YES   \n",
       "9647059                             5.0                      YES   \n",
       "9709891                             4.0                      YES   \n",
       "...                                 ...                      ...   \n",
       "11111696                            NaN                       NO   \n",
       "11144660                            NaN                       NO   \n",
       "11144933                            NaN                       NO   \n",
       "11164791                            NaN                       NO   \n",
       "7925690                             NaN                       NO   \n",
       "\n",
       "          purchase_value_usd timestamp_of_checkout  \\\n",
       "call_id                                              \n",
       "10653788                23.6   2021-01-06 13:21:00   \n",
       "10343190               597.0   2021-05-16 20:34:00   \n",
       "9647059                 27.5   2021-02-05 14:10:00   \n",
       "9647059                 39.0   2021-04-24 10:57:00   \n",
       "9709891                179.0   2021-04-23 08:23:00   \n",
       "...                      ...                   ...   \n",
       "11111696                 NaN                   NaT   \n",
       "11144660                 NaN                   NaT   \n",
       "11144933                 NaN                   NaT   \n",
       "11164791                 NaN                   NaT   \n",
       "7925690                  NaN                   NaT   \n",
       "\n",
       "          days_between_call_and_purchase  Status_num  \n",
       "call_id                                               \n",
       "10653788                             4.0           2  \n",
       "10343190                             4.0           2  \n",
       "9647059                             25.0           2  \n",
       "9647059                             17.0           2  \n",
       "9709891                             14.0           2  \n",
       "...                                  ...         ...  \n",
       "11111696                             NaN           0  \n",
       "11144660                             NaN           0  \n",
       "11144933                             NaN           0  \n",
       "11164791                             NaN           0  \n",
       "7925690                              NaN           0  \n",
       "\n",
       "[894 rows x 26 columns]"
      ]
     },
     "execution_count": 462,
     "metadata": {},
     "output_type": "execute_result"
    }
   ],
   "source": [
    "appointments_clean_df_copy"
   ]
  },
  {
   "cell_type": "code",
   "execution_count": 463,
   "metadata": {
    "ExecuteTime": {
     "end_time": "2021-07-13T01:05:48.196795Z",
     "start_time": "2021-07-13T01:05:48.187083Z"
    }
   },
   "outputs": [],
   "source": [
    "appointments_clean_df_copy.loc[appointments_clean_df_copy['Customer_Id'].isnull(), 'Customer_Id'] = appointments_clean_df_copy.loc[appointments_clean_df_copy['Customer_Id'].isnull()].index"
   ]
  },
  {
   "cell_type": "code",
   "execution_count": 464,
   "metadata": {
    "ExecuteTime": {
     "end_time": "2021-07-13T01:05:48.219220Z",
     "start_time": "2021-07-13T01:05:48.206867Z"
    },
    "scrolled": false
   },
   "outputs": [],
   "source": [
    "appointments_clean_df_copy = appointments_clean_df_copy.drop(['Staff_First_Joined_Activity_Timestamps_Local','Staff_Joined_Activities_Timestamps_Local','timestamp_of_checkout','Staff_Left_Activities_Timestamps_UTC','Customer_Joined_Activities_Timestamps_UTC','Customer_Left_Activities_Timestamps_UTC' ],axis=1)"
   ]
  },
  {
   "cell_type": "code",
   "execution_count": 465,
   "metadata": {
    "ExecuteTime": {
     "end_time": "2021-07-13T01:05:48.421256Z",
     "start_time": "2021-07-13T01:05:48.228113Z"
    }
   },
   "outputs": [
    {
     "data": {
      "text/plain": [
       "<matplotlib.axes._subplots.AxesSubplot at 0x7fcbe4db4fd0>"
      ]
     },
     "execution_count": 465,
     "metadata": {},
     "output_type": "execute_result"
    },
    {
     "data": {
      "image/png": "[encoded data removed]",
      "text/plain": [
       "<Figure size 1080x720 with 1 Axes>"
      ]
     },
     "metadata": {
      "needs_background": "light"
     },
     "output_type": "display_data"
    }
   ],
   "source": [
    "appointments_clean_df.boxplot(column=['days_between_call_and_purchase'], figsize=(15,10))"
   ]
  },
  {
   "cell_type": "code",
   "execution_count": 466,
   "metadata": {
    "ExecuteTime": {
     "end_time": "2021-07-13T01:05:48.451208Z",
     "start_time": "2021-07-13T01:05:48.426555Z"
    }
   },
   "outputs": [],
   "source": [
    "appointments_clean_df_copy['days_between_call_and_purchase'] = appointments_clean_df_copy['days_between_call_and_purchase'].fillna(value=appointments_clean_df_copy['days_between_call_and_purchase'].mean())\n",
    "appointments_clean_df_copy.loc[appointments_clean_df_copy['purchase_made_after_call'] == \"NO\",'days_between_call_and_purchase'] = 0"
   ]
  },
  {
   "cell_type": "code",
   "execution_count": 467,
   "metadata": {
    "ExecuteTime": {
     "end_time": "2021-07-13T01:05:48.483637Z",
     "start_time": "2021-07-13T01:05:48.461604Z"
    }
   },
   "outputs": [
    {
     "data": {
      "text/plain": [
       "array([nan])"
      ]
     },
     "execution_count": 467,
     "metadata": {},
     "output_type": "execute_result"
    }
   ],
   "source": [
    "appointments_clean_df.loc[appointments_clean_df['purchase_made_after_call']==\"NO\",'purchase_value_usd'].unique()"
   ]
  },
  {
   "cell_type": "code",
   "execution_count": 468,
   "metadata": {
    "ExecuteTime": {
     "end_time": "2021-07-13T01:05:48.512135Z",
     "start_time": "2021-07-13T01:05:48.492214Z"
    }
   },
   "outputs": [],
   "source": [
    "appointments_clean_df_copy['purchase_value_usd'] = appointments_clean_df_copy['purchase_value_usd'].fillna(value=0)"
   ]
  },
  {
   "cell_type": "code",
   "execution_count": 469,
   "metadata": {
    "ExecuteTime": {
     "end_time": "2021-07-13T01:05:48.544029Z",
     "start_time": "2021-07-13T01:05:48.518088Z"
    }
   },
   "outputs": [],
   "source": [
    "appointments_clean_df_copy['purchase_made_after_call'] = appointments_clean_df_copy['purchase_made_after_call'].replace(to_replace=\"YES\",value=1)\n",
    "appointments_clean_df_copy['purchase_made_after_call'] = appointments_clean_df_copy['purchase_made_after_call'].replace(to_replace=\"NO\",value=0)"
   ]
  },
  {
   "cell_type": "code",
   "execution_count": 470,
   "metadata": {
    "ExecuteTime": {
     "end_time": "2021-07-13T01:05:48.603750Z",
     "start_time": "2021-07-13T01:05:48.558469Z"
    },
    "scrolled": true
   },
   "outputs": [
    {
     "data": {
      "text/html": [
       "<div>\n",
       "<style scoped>\n",
       "    .dataframe tbody tr th:only-of-type {\n",
       "        vertical-align: middle;\n",
       "    }\n",
       "\n",
       "    .dataframe tbody tr th {\n",
       "        vertical-align: top;\n",
       "    }\n",
       "\n",
       "    .dataframe thead th {\n",
       "        text-align: right;\n",
       "    }\n",
       "</style>\n",
       "<table border=\"1\" class=\"dataframe\">\n",
       "  <thead>\n",
       "    <tr style=\"text-align: right;\">\n",
       "      <th></th>\n",
       "      <th>Customer_Id</th>\n",
       "      <th>Date_Created_Local</th>\n",
       "      <th>Created_At_Local</th>\n",
       "      <th>Call_Started_Local</th>\n",
       "      <th>Scheduled_Start_Date_Local</th>\n",
       "      <th>Scheduled_Start_Time_Local</th>\n",
       "      <th>Scheduled_End_Time_Local</th>\n",
       "      <th>Status</th>\n",
       "      <th>Booked_By_Staff_Id</th>\n",
       "      <th>Staff_Joined_Count</th>\n",
       "      <th>Customer_Joined_Count</th>\n",
       "      <th>Customer_Enabled_Video</th>\n",
       "      <th>Call_Result</th>\n",
       "      <th>Call_Duration_(Sec)</th>\n",
       "      <th>Staff_Score</th>\n",
       "      <th>Avg_Customer_Rating_(Overall)</th>\n",
       "      <th>purchase_made_after_call</th>\n",
       "      <th>purchase_value_usd</th>\n",
       "      <th>days_between_call_and_purchase</th>\n",
       "      <th>Status_num</th>\n",
       "    </tr>\n",
       "    <tr>\n",
       "      <th>call_id</th>\n",
       "      <th></th>\n",
       "      <th></th>\n",
       "      <th></th>\n",
       "      <th></th>\n",
       "      <th></th>\n",
       "      <th></th>\n",
       "      <th></th>\n",
       "      <th></th>\n",
       "      <th></th>\n",
       "      <th></th>\n",
       "      <th></th>\n",
       "      <th></th>\n",
       "      <th></th>\n",
       "      <th></th>\n",
       "      <th></th>\n",
       "      <th></th>\n",
       "      <th></th>\n",
       "      <th></th>\n",
       "      <th></th>\n",
       "      <th></th>\n",
       "    </tr>\n",
       "  </thead>\n",
       "  <tbody>\n",
       "    <tr>\n",
       "      <th>10653788</th>\n",
       "      <td>fk3nlsty-g7lu-ig6q-xli8-q1rjko1eh09c</td>\n",
       "      <td>2021-05-26</td>\n",
       "      <td>2021-05-26 15:52:00</td>\n",
       "      <td>2021-05-28 10:19:00</td>\n",
       "      <td>2021-05-28</td>\n",
       "      <td>2021-05-28 10:15:00</td>\n",
       "      <td>2021-05-28 10:25:00</td>\n",
       "      <td>ENDED</td>\n",
       "      <td>21998</td>\n",
       "      <td>2.5</td>\n",
       "      <td>1.0</td>\n",
       "      <td>0</td>\n",
       "      <td>Booking - Successful call</td>\n",
       "      <td>147.0</td>\n",
       "      <td>3.0</td>\n",
       "      <td>NaN</td>\n",
       "      <td>1</td>\n",
       "      <td>23.6</td>\n",
       "      <td>4.0</td>\n",
       "      <td>2</td>\n",
       "    </tr>\n",
       "    <tr>\n",
       "      <th>10343190</th>\n",
       "      <td>kk4w9y59-suss-ampm-4pox-oj2qhv0py3t4</td>\n",
       "      <td>2021-08-05</td>\n",
       "      <td>2021-08-05 23:04:00</td>\n",
       "      <td>2021-12-05 16:45:00</td>\n",
       "      <td>2021-12-05</td>\n",
       "      <td>2021-12-05 16:45:00</td>\n",
       "      <td>2021-12-05 16:55:00</td>\n",
       "      <td>ENDED</td>\n",
       "      <td>22017</td>\n",
       "      <td>1.0</td>\n",
       "      <td>1.0</td>\n",
       "      <td>1</td>\n",
       "      <td>Booking - Successful call</td>\n",
       "      <td>356.0</td>\n",
       "      <td>3.0</td>\n",
       "      <td>5.0</td>\n",
       "      <td>1</td>\n",
       "      <td>597.0</td>\n",
       "      <td>4.0</td>\n",
       "      <td>2</td>\n",
       "    </tr>\n",
       "    <tr>\n",
       "      <th>9647059</th>\n",
       "      <td>6vzngogp-dd3d-yllc-3zsc-gb3wui8cnsfo</td>\n",
       "      <td>2021-06-04</td>\n",
       "      <td>2021-06-04 16:53:00</td>\n",
       "      <td>2021-07-04 17:14:00</td>\n",
       "      <td>2021-07-04</td>\n",
       "      <td>2021-07-04 17:00:00</td>\n",
       "      <td>2021-07-04 17:10:00</td>\n",
       "      <td>ENDED</td>\n",
       "      <td>22017</td>\n",
       "      <td>1.0</td>\n",
       "      <td>2.0</td>\n",
       "      <td>1</td>\n",
       "      <td>Booking - Successful call</td>\n",
       "      <td>2427.0</td>\n",
       "      <td>4.0</td>\n",
       "      <td>5.0</td>\n",
       "      <td>1</td>\n",
       "      <td>27.5</td>\n",
       "      <td>25.0</td>\n",
       "      <td>2</td>\n",
       "    </tr>\n",
       "    <tr>\n",
       "      <th>9647059</th>\n",
       "      <td>6vzngogp-dd3d-yllc-3zsc-gb3wui8cnsfo</td>\n",
       "      <td>2021-06-04</td>\n",
       "      <td>2021-06-04 16:53:00</td>\n",
       "      <td>2021-07-04 17:14:00</td>\n",
       "      <td>2021-07-04</td>\n",
       "      <td>2021-07-04 17:00:00</td>\n",
       "      <td>2021-07-04 17:10:00</td>\n",
       "      <td>ENDED</td>\n",
       "      <td>22017</td>\n",
       "      <td>1.0</td>\n",
       "      <td>2.0</td>\n",
       "      <td>1</td>\n",
       "      <td>Booking - Successful call</td>\n",
       "      <td>2427.0</td>\n",
       "      <td>4.0</td>\n",
       "      <td>5.0</td>\n",
       "      <td>1</td>\n",
       "      <td>39.0</td>\n",
       "      <td>17.0</td>\n",
       "      <td>2</td>\n",
       "    </tr>\n",
       "    <tr>\n",
       "      <th>9709891</th>\n",
       "      <td>6l13g0kj-g0pa-hbw7-xshv-5ekgl2111yo6</td>\n",
       "      <td>2021-08-04</td>\n",
       "      <td>2021-08-04 18:10:00</td>\n",
       "      <td>2021-09-04 18:07:00</td>\n",
       "      <td>2021-09-04</td>\n",
       "      <td>2021-09-04 18:00:00</td>\n",
       "      <td>2021-09-04 18:15:00</td>\n",
       "      <td>ENDED</td>\n",
       "      <td>21998</td>\n",
       "      <td>1.0</td>\n",
       "      <td>1.0</td>\n",
       "      <td>1</td>\n",
       "      <td>Booking - Successful call</td>\n",
       "      <td>524.0</td>\n",
       "      <td>3.0</td>\n",
       "      <td>4.0</td>\n",
       "      <td>1</td>\n",
       "      <td>179.0</td>\n",
       "      <td>14.0</td>\n",
       "      <td>2</td>\n",
       "    </tr>\n",
       "    <tr>\n",
       "      <th>...</th>\n",
       "      <td>...</td>\n",
       "      <td>...</td>\n",
       "      <td>...</td>\n",
       "      <td>...</td>\n",
       "      <td>...</td>\n",
       "      <td>...</td>\n",
       "      <td>...</td>\n",
       "      <td>...</td>\n",
       "      <td>...</td>\n",
       "      <td>...</td>\n",
       "      <td>...</td>\n",
       "      <td>...</td>\n",
       "      <td>...</td>\n",
       "      <td>...</td>\n",
       "      <td>...</td>\n",
       "      <td>...</td>\n",
       "      <td>...</td>\n",
       "      <td>...</td>\n",
       "      <td>...</td>\n",
       "      <td>...</td>\n",
       "    </tr>\n",
       "    <tr>\n",
       "      <th>11111696</th>\n",
       "      <td>11111696</td>\n",
       "      <td>2021-06-25</td>\n",
       "      <td>2021-06-25 17:06:00</td>\n",
       "      <td>NaT</td>\n",
       "      <td>2021-06-26</td>\n",
       "      <td>2021-06-26 17:30:00</td>\n",
       "      <td>2021-06-26 17:40:00</td>\n",
       "      <td>CANCELLED</td>\n",
       "      <td>21998</td>\n",
       "      <td>0.0</td>\n",
       "      <td>0.0</td>\n",
       "      <td>0</td>\n",
       "      <td>Booking - No one joined</td>\n",
       "      <td>0.0</td>\n",
       "      <td>0.0</td>\n",
       "      <td>NaN</td>\n",
       "      <td>0</td>\n",
       "      <td>0.0</td>\n",
       "      <td>0.0</td>\n",
       "      <td>0</td>\n",
       "    </tr>\n",
       "    <tr>\n",
       "      <th>11144660</th>\n",
       "      <td>11144660</td>\n",
       "      <td>2021-06-28</td>\n",
       "      <td>2021-06-28 11:19:00</td>\n",
       "      <td>NaT</td>\n",
       "      <td>2021-06-29</td>\n",
       "      <td>2021-06-29 16:30:00</td>\n",
       "      <td>2021-06-29 16:40:00</td>\n",
       "      <td>CANCELLED</td>\n",
       "      <td>22613</td>\n",
       "      <td>0.0</td>\n",
       "      <td>0.0</td>\n",
       "      <td>0</td>\n",
       "      <td>Booking - No one joined</td>\n",
       "      <td>0.0</td>\n",
       "      <td>0.0</td>\n",
       "      <td>NaN</td>\n",
       "      <td>0</td>\n",
       "      <td>0.0</td>\n",
       "      <td>0.0</td>\n",
       "      <td>0</td>\n",
       "    </tr>\n",
       "    <tr>\n",
       "      <th>11144933</th>\n",
       "      <td>11144933</td>\n",
       "      <td>2021-06-28</td>\n",
       "      <td>2021-06-28 11:30:00</td>\n",
       "      <td>NaT</td>\n",
       "      <td>2021-06-29</td>\n",
       "      <td>2021-06-29 11:30:00</td>\n",
       "      <td>2021-06-29 11:40:00</td>\n",
       "      <td>CANCELLED</td>\n",
       "      <td>21557</td>\n",
       "      <td>0.0</td>\n",
       "      <td>0.0</td>\n",
       "      <td>0</td>\n",
       "      <td>Booking - No one joined</td>\n",
       "      <td>0.0</td>\n",
       "      <td>0.0</td>\n",
       "      <td>NaN</td>\n",
       "      <td>0</td>\n",
       "      <td>0.0</td>\n",
       "      <td>0.0</td>\n",
       "      <td>0</td>\n",
       "    </tr>\n",
       "    <tr>\n",
       "      <th>11164791</th>\n",
       "      <td>11164791</td>\n",
       "      <td>2021-06-29</td>\n",
       "      <td>2021-06-29 13:06:00</td>\n",
       "      <td>NaT</td>\n",
       "      <td>2021-06-30</td>\n",
       "      <td>2021-06-30 13:15:00</td>\n",
       "      <td>2021-06-30 13:25:00</td>\n",
       "      <td>CANCELLED</td>\n",
       "      <td>22017</td>\n",
       "      <td>0.0</td>\n",
       "      <td>0.0</td>\n",
       "      <td>0</td>\n",
       "      <td>Booking - No one joined</td>\n",
       "      <td>0.0</td>\n",
       "      <td>0.0</td>\n",
       "      <td>NaN</td>\n",
       "      <td>0</td>\n",
       "      <td>0.0</td>\n",
       "      <td>0.0</td>\n",
       "      <td>0</td>\n",
       "    </tr>\n",
       "    <tr>\n",
       "      <th>7925690</th>\n",
       "      <td>sinmbd7v-efk2-953m-ap0a-v4ir8w7epwov</td>\n",
       "      <td>2021-10-02</td>\n",
       "      <td>2021-10-02 10:58:00</td>\n",
       "      <td>2021-10-02 11:00:00</td>\n",
       "      <td>2021-10-02</td>\n",
       "      <td>2021-10-02 11:00:00</td>\n",
       "      <td>2021-10-02 11:30:00</td>\n",
       "      <td>CANCELLED</td>\n",
       "      <td>21558</td>\n",
       "      <td>1.0</td>\n",
       "      <td>1.0</td>\n",
       "      <td>0</td>\n",
       "      <td>Booking - Successful call</td>\n",
       "      <td>5.0</td>\n",
       "      <td>0.0</td>\n",
       "      <td>NaN</td>\n",
       "      <td>0</td>\n",
       "      <td>0.0</td>\n",
       "      <td>0.0</td>\n",
       "      <td>0</td>\n",
       "    </tr>\n",
       "  </tbody>\n",
       "</table>\n",
       "<p>894 rows × 20 columns</p>\n",
       "</div>"
      ],
      "text/plain": [
       "                                   Customer_Id Date_Created_Local  \\\n",
       "call_id                                                             \n",
       "10653788  fk3nlsty-g7lu-ig6q-xli8-q1rjko1eh09c         2021-05-26   \n",
       "10343190  kk4w9y59-suss-ampm-4pox-oj2qhv0py3t4         2021-08-05   \n",
       "9647059   6vzngogp-dd3d-yllc-3zsc-gb3wui8cnsfo         2021-06-04   \n",
       "9647059   6vzngogp-dd3d-yllc-3zsc-gb3wui8cnsfo         2021-06-04   \n",
       "9709891   6l13g0kj-g0pa-hbw7-xshv-5ekgl2111yo6         2021-08-04   \n",
       "...                                        ...                ...   \n",
       "11111696                              11111696         2021-06-25   \n",
       "11144660                              11144660         2021-06-28   \n",
       "11144933                              11144933         2021-06-28   \n",
       "11164791                              11164791         2021-06-29   \n",
       "7925690   sinmbd7v-efk2-953m-ap0a-v4ir8w7epwov         2021-10-02   \n",
       "\n",
       "            Created_At_Local  Call_Started_Local Scheduled_Start_Date_Local  \\\n",
       "call_id                                                                       \n",
       "10653788 2021-05-26 15:52:00 2021-05-28 10:19:00                 2021-05-28   \n",
       "10343190 2021-08-05 23:04:00 2021-12-05 16:45:00                 2021-12-05   \n",
       "9647059  2021-06-04 16:53:00 2021-07-04 17:14:00                 2021-07-04   \n",
       "9647059  2021-06-04 16:53:00 2021-07-04 17:14:00                 2021-07-04   \n",
       "9709891  2021-08-04 18:10:00 2021-09-04 18:07:00                 2021-09-04   \n",
       "...                      ...                 ...                        ...   \n",
       "11111696 2021-06-25 17:06:00                 NaT                 2021-06-26   \n",
       "11144660 2021-06-28 11:19:00                 NaT                 2021-06-29   \n",
       "11144933 2021-06-28 11:30:00                 NaT                 2021-06-29   \n",
       "11164791 2021-06-29 13:06:00                 NaT                 2021-06-30   \n",
       "7925690  2021-10-02 10:58:00 2021-10-02 11:00:00                 2021-10-02   \n",
       "\n",
       "         Scheduled_Start_Time_Local Scheduled_End_Time_Local     Status  \\\n",
       "call_id                                                                   \n",
       "10653788        2021-05-28 10:15:00      2021-05-28 10:25:00      ENDED   \n",
       "10343190        2021-12-05 16:45:00      2021-12-05 16:55:00      ENDED   \n",
       "9647059         2021-07-04 17:00:00      2021-07-04 17:10:00      ENDED   \n",
       "9647059         2021-07-04 17:00:00      2021-07-04 17:10:00      ENDED   \n",
       "9709891         2021-09-04 18:00:00      2021-09-04 18:15:00      ENDED   \n",
       "...                             ...                      ...        ...   \n",
       "11111696        2021-06-26 17:30:00      2021-06-26 17:40:00  CANCELLED   \n",
       "11144660        2021-06-29 16:30:00      2021-06-29 16:40:00  CANCELLED   \n",
       "11144933        2021-06-29 11:30:00      2021-06-29 11:40:00  CANCELLED   \n",
       "11164791        2021-06-30 13:15:00      2021-06-30 13:25:00  CANCELLED   \n",
       "7925690         2021-10-02 11:00:00      2021-10-02 11:30:00  CANCELLED   \n",
       "\n",
       "          Booked_By_Staff_Id  Staff_Joined_Count  Customer_Joined_Count  \\\n",
       "call_id                                                                   \n",
       "10653788               21998                 2.5                    1.0   \n",
       "10343190               22017                 1.0                    1.0   \n",
       "9647059                22017                 1.0                    2.0   \n",
       "9647059                22017                 1.0                    2.0   \n",
       "9709891                21998                 1.0                    1.0   \n",
       "...                      ...                 ...                    ...   \n",
       "11111696               21998                 0.0                    0.0   \n",
       "11144660               22613                 0.0                    0.0   \n",
       "11144933               21557                 0.0                    0.0   \n",
       "11164791               22017                 0.0                    0.0   \n",
       "7925690                21558                 1.0                    1.0   \n",
       "\n",
       "          Customer_Enabled_Video                Call_Result  \\\n",
       "call_id                                                       \n",
       "10653788                       0  Booking - Successful call   \n",
       "10343190                       1  Booking - Successful call   \n",
       "9647059                        1  Booking - Successful call   \n",
       "9647059                        1  Booking - Successful call   \n",
       "9709891                        1  Booking - Successful call   \n",
       "...                          ...                        ...   \n",
       "11111696                       0    Booking - No one joined   \n",
       "11144660                       0    Booking - No one joined   \n",
       "11144933                       0    Booking - No one joined   \n",
       "11164791                       0    Booking - No one joined   \n",
       "7925690                        0  Booking - Successful call   \n",
       "\n",
       "          Call_Duration_(Sec)  Staff_Score  Avg_Customer_Rating_(Overall)  \\\n",
       "call_id                                                                     \n",
       "10653788                147.0          3.0                            NaN   \n",
       "10343190                356.0          3.0                            5.0   \n",
       "9647059                2427.0          4.0                            5.0   \n",
       "9647059                2427.0          4.0                            5.0   \n",
       "9709891                 524.0          3.0                            4.0   \n",
       "...                       ...          ...                            ...   \n",
       "11111696                  0.0          0.0                            NaN   \n",
       "11144660                  0.0          0.0                            NaN   \n",
       "11144933                  0.0          0.0                            NaN   \n",
       "11164791                  0.0          0.0                            NaN   \n",
       "7925690                   5.0          0.0                            NaN   \n",
       "\n",
       "          purchase_made_after_call  purchase_value_usd  \\\n",
       "call_id                                                  \n",
       "10653788                         1                23.6   \n",
       "10343190                         1               597.0   \n",
       "9647059                          1                27.5   \n",
       "9647059                          1                39.0   \n",
       "9709891                          1               179.0   \n",
       "...                            ...                 ...   \n",
       "11111696                         0                 0.0   \n",
       "11144660                         0                 0.0   \n",
       "11144933                         0                 0.0   \n",
       "11164791                         0                 0.0   \n",
       "7925690                          0                 0.0   \n",
       "\n",
       "          days_between_call_and_purchase  Status_num  \n",
       "call_id                                               \n",
       "10653788                             4.0           2  \n",
       "10343190                             4.0           2  \n",
       "9647059                             25.0           2  \n",
       "9647059                             17.0           2  \n",
       "9709891                             14.0           2  \n",
       "...                                  ...         ...  \n",
       "11111696                             0.0           0  \n",
       "11144660                             0.0           0  \n",
       "11144933                             0.0           0  \n",
       "11164791                             0.0           0  \n",
       "7925690                              0.0           0  \n",
       "\n",
       "[894 rows x 20 columns]"
      ]
     },
     "execution_count": 470,
     "metadata": {},
     "output_type": "execute_result"
    }
   ],
   "source": [
    "appointments_clean_df_copy"
   ]
  },
  {
   "cell_type": "code",
   "execution_count": 471,
   "metadata": {
    "ExecuteTime": {
     "end_time": "2021-07-13T01:05:48.640639Z",
     "start_time": "2021-07-13T01:05:48.612562Z"
    }
   },
   "outputs": [
    {
     "name": "stdout",
     "output_type": "stream",
     "text": [
      "<class 'pandas.core.frame.DataFrame'>\n",
      "Int64Index: 894 entries, 10653788 to 7925690\n",
      "Data columns (total 20 columns):\n",
      " #   Column                          Non-Null Count  Dtype         \n",
      "---  ------                          --------------  -----         \n",
      " 0   Customer_Id                     894 non-null    object        \n",
      " 1   Date_Created_Local              894 non-null    datetime64[ns]\n",
      " 2   Created_At_Local                894 non-null    datetime64[ns]\n",
      " 3   Call_Started_Local              443 non-null    datetime64[ns]\n",
      " 4   Scheduled_Start_Date_Local      894 non-null    datetime64[ns]\n",
      " 5   Scheduled_Start_Time_Local      894 non-null    datetime64[ns]\n",
      " 6   Scheduled_End_Time_Local        894 non-null    datetime64[ns]\n",
      " 7   Status                          894 non-null    object        \n",
      " 8   Booked_By_Staff_Id              894 non-null    int64         \n",
      " 9   Staff_Joined_Count              894 non-null    float64       \n",
      " 10  Customer_Joined_Count           894 non-null    float64       \n",
      " 11  Customer_Enabled_Video          894 non-null    int64         \n",
      " 12  Call_Result                     894 non-null    object        \n",
      " 13  Call_Duration_(Sec)             894 non-null    float64       \n",
      " 14  Staff_Score                     894 non-null    float64       \n",
      " 15  Avg_Customer_Rating_(Overall)   264 non-null    float64       \n",
      " 16  purchase_made_after_call        894 non-null    int64         \n",
      " 17  purchase_value_usd              894 non-null    float64       \n",
      " 18  days_between_call_and_purchase  894 non-null    float64       \n",
      " 19  Status_num                      894 non-null    int64         \n",
      "dtypes: datetime64[ns](6), float64(7), int64(4), object(3)\n",
      "memory usage: 146.7+ KB\n"
     ]
    }
   ],
   "source": [
    "appointments_clean_df_copy.info()"
   ]
  },
  {
   "cell_type": "code",
   "execution_count": 472,
   "metadata": {
    "ExecuteTime": {
     "end_time": "2021-07-13T01:05:48.659190Z",
     "start_time": "2021-07-13T01:05:48.645258Z"
    }
   },
   "outputs": [],
   "source": [
    "appointments_clean_df_copy['Avg_Customer_Rating_(Overall)'] = appointments_clean_df_copy['Avg_Customer_Rating_(Overall)'].fillna(value=appointments_clean_df_copy['Avg_Customer_Rating_(Overall)'].mean())"
   ]
  },
  {
   "cell_type": "code",
   "execution_count": 473,
   "metadata": {
    "ExecuteTime": {
     "end_time": "2021-07-13T01:05:48.677943Z",
     "start_time": "2021-07-13T01:05:48.662032Z"
    }
   },
   "outputs": [],
   "source": [
    "appointments_clean_df_copy['Call_Started_Local'] = appointments_clean_df_copy['Call_Started_Local'].fillna(appointments_clean_df_copy['Scheduled_Start_Time_Local'])"
   ]
  },
  {
   "cell_type": "code",
   "execution_count": 474,
   "metadata": {
    "ExecuteTime": {
     "end_time": "2021-07-13T01:05:48.741560Z",
     "start_time": "2021-07-13T01:05:48.695268Z"
    }
   },
   "outputs": [],
   "source": [
    "appointments_clean_df_copy['Days_until_appointment_from_scheduled'] = [int(i.days) for i in (appointments_clean_df_copy['Scheduled_Start_Date_Local'] - appointments_clean_df_copy['Date_Created_Local'])]"
   ]
  },
  {
   "cell_type": "code",
   "execution_count": 475,
   "metadata": {
    "ExecuteTime": {
     "end_time": "2021-07-13T01:05:48.780605Z",
     "start_time": "2021-07-13T01:05:48.750582Z"
    }
   },
   "outputs": [],
   "source": [
    "appointments_clean_df_copy['Seconds_between_actual_estimate_call_time'] = (appointments_clean_df_copy['Call_Started_Local'] - appointments_clean_df_copy['Scheduled_Start_Time_Local'])/ np.timedelta64(1, 's')"
   ]
  },
  {
   "cell_type": "code",
   "execution_count": 476,
   "metadata": {
    "ExecuteTime": {
     "end_time": "2021-07-13T01:05:48.828119Z",
     "start_time": "2021-07-13T01:05:48.800980Z"
    }
   },
   "outputs": [
    {
     "data": {
      "text/plain": [
       "Booking - Successful call                                             436\n",
       "Booking - No one joined                                               205\n",
       "Booking - Clerk joined consumer did not join                          191\n",
       "Booking - Consumer joined clerk did not joined                         49\n",
       "Booking - Consumer and clerk join but not present at the same time     13\n",
       "Name: Call_Result, dtype: int64"
      ]
     },
     "execution_count": 476,
     "metadata": {},
     "output_type": "execute_result"
    }
   ],
   "source": [
    "appointments_clean_df_copy['Call_Result'].value_counts()"
   ]
  },
  {
   "cell_type": "code",
   "execution_count": 477,
   "metadata": {
    "ExecuteTime": {
     "end_time": "2021-07-13T01:05:48.874367Z",
     "start_time": "2021-07-13T01:05:48.846226Z"
    }
   },
   "outputs": [
    {
     "data": {
      "text/plain": [
       "ENDED        640\n",
       "CANCELLED    180\n",
       "CREATED       74\n",
       "Name: Status, dtype: int64"
      ]
     },
     "execution_count": 477,
     "metadata": {},
     "output_type": "execute_result"
    }
   ],
   "source": [
    "appointments_clean_df_copy['Status'].value_counts()"
   ]
  },
  {
   "cell_type": "code",
   "execution_count": 478,
   "metadata": {
    "ExecuteTime": {
     "end_time": "2021-07-13T01:05:48.898188Z",
     "start_time": "2021-07-13T01:05:48.888012Z"
    }
   },
   "outputs": [],
   "source": [
    "appointments_clean_df_copy['Call_Result'] = appointments_clean_df_copy['Call_Result'].replace({\"Booking - Successful call\":5,\"Booking - Consumer and clerk join but not present at the same time\":4,\"Booking - Clerk joined consumer did not join\":3,\"Booking - Consumer joined clerk did not joined\":2,\"Booking - No one joined\":1})"
   ]
  },
  {
   "cell_type": "code",
   "execution_count": 479,
   "metadata": {
    "ExecuteTime": {
     "end_time": "2021-07-13T01:05:48.924430Z",
     "start_time": "2021-07-13T01:05:48.915526Z"
    }
   },
   "outputs": [],
   "source": [
    "appointments_clean_df_copy['Status'] = appointments_clean_df_copy['Status'].replace({\"CANCELLED\":0,\"CREATED\":1,\"ENDED\":2})"
   ]
  },
  {
   "cell_type": "code",
   "execution_count": 480,
   "metadata": {
    "ExecuteTime": {
     "end_time": "2021-07-13T01:05:48.947915Z",
     "start_time": "2021-07-13T01:05:48.935095Z"
    }
   },
   "outputs": [],
   "source": [
    "appointments_clean_df_copy.loc[appointments_clean_df_copy['Call_Result'] != 5,'days_between_call_and_purchase'] = 0"
   ]
  },
  {
   "cell_type": "code",
   "execution_count": 481,
   "metadata": {
    "ExecuteTime": {
     "end_time": "2021-07-13T01:05:48.961231Z",
     "start_time": "2021-07-13T01:05:48.953315Z"
    }
   },
   "outputs": [],
   "source": [
    "appointments_clean_df_copy['Scheduled_duration_(sec)'] = (appointments_clean_df_copy['Scheduled_End_Time_Local'] - appointments_clean_df_copy['Scheduled_Start_Time_Local'])/ np.timedelta64(1, 's')"
   ]
  },
  {
   "cell_type": "code",
   "execution_count": 482,
   "metadata": {
    "ExecuteTime": {
     "end_time": "2021-07-13T01:05:48.996344Z",
     "start_time": "2021-07-13T01:05:48.965878Z"
    }
   },
   "outputs": [
    {
     "name": "stdout",
     "output_type": "stream",
     "text": [
      "<class 'pandas.core.frame.DataFrame'>\n",
      "Int64Index: 894 entries, 10653788 to 7925690\n",
      "Data columns (total 23 columns):\n",
      " #   Column                                     Non-Null Count  Dtype         \n",
      "---  ------                                     --------------  -----         \n",
      " 0   Customer_Id                                894 non-null    object        \n",
      " 1   Date_Created_Local                         894 non-null    datetime64[ns]\n",
      " 2   Created_At_Local                           894 non-null    datetime64[ns]\n",
      " 3   Call_Started_Local                         894 non-null    datetime64[ns]\n",
      " 4   Scheduled_Start_Date_Local                 894 non-null    datetime64[ns]\n",
      " 5   Scheduled_Start_Time_Local                 894 non-null    datetime64[ns]\n",
      " 6   Scheduled_End_Time_Local                   894 non-null    datetime64[ns]\n",
      " 7   Status                                     894 non-null    int64         \n",
      " 8   Booked_By_Staff_Id                         894 non-null    int64         \n",
      " 9   Staff_Joined_Count                         894 non-null    float64       \n",
      " 10  Customer_Joined_Count                      894 non-null    float64       \n",
      " 11  Customer_Enabled_Video                     894 non-null    int64         \n",
      " 12  Call_Result                                894 non-null    int64         \n",
      " 13  Call_Duration_(Sec)                        894 non-null    float64       \n",
      " 14  Staff_Score                                894 non-null    float64       \n",
      " 15  Avg_Customer_Rating_(Overall)              894 non-null    float64       \n",
      " 16  purchase_made_after_call                   894 non-null    int64         \n",
      " 17  purchase_value_usd                         894 non-null    float64       \n",
      " 18  days_between_call_and_purchase             894 non-null    float64       \n",
      " 19  Status_num                                 894 non-null    int64         \n",
      " 20  Days_until_appointment_from_scheduled      894 non-null    int64         \n",
      " 21  Seconds_between_actual_estimate_call_time  894 non-null    float64       \n",
      " 22  Scheduled_duration_(sec)                   894 non-null    float64       \n",
      "dtypes: datetime64[ns](6), float64(9), int64(7), object(1)\n",
      "memory usage: 167.6+ KB\n"
     ]
    }
   ],
   "source": [
    "appointments_clean_df_copy.info()"
   ]
  },
  {
   "cell_type": "code",
   "execution_count": 483,
   "metadata": {
    "ExecuteTime": {
     "end_time": "2021-07-13T01:05:49.014492Z",
     "start_time": "2021-07-13T01:05:49.006439Z"
    }
   },
   "outputs": [],
   "source": [
    "appointments_clean_df_copy = appointments_clean_df_copy.drop([\"purchase_value_usd\",\"days_between_call_and_purchase\",\"Booked_By_Staff_Id\",\"Status\",\"Scheduled_End_Time_Local\",\"Scheduled_Start_Time_Local\",\"Call_Started_Local\",\"Scheduled_Start_Date_Local\",\"Created_At_Local\",\"Customer_Id\",\"Date_Created_Local\",\"Status\"],axis=1)"
   ]
  },
  {
   "cell_type": "code",
   "execution_count": 484,
   "metadata": {
    "ExecuteTime": {
     "end_time": "2021-07-13T01:05:49.047217Z",
     "start_time": "2021-07-13T01:05:49.016794Z"
    }
   },
   "outputs": [
    {
     "data": {
      "text/html": [
       "<div>\n",
       "<style scoped>\n",
       "    .dataframe tbody tr th:only-of-type {\n",
       "        vertical-align: middle;\n",
       "    }\n",
       "\n",
       "    .dataframe tbody tr th {\n",
       "        vertical-align: top;\n",
       "    }\n",
       "\n",
       "    .dataframe thead th {\n",
       "        text-align: right;\n",
       "    }\n",
       "</style>\n",
       "<table border=\"1\" class=\"dataframe\">\n",
       "  <thead>\n",
       "    <tr style=\"text-align: right;\">\n",
       "      <th></th>\n",
       "      <th>Staff_Joined_Count</th>\n",
       "      <th>Customer_Joined_Count</th>\n",
       "      <th>Customer_Enabled_Video</th>\n",
       "      <th>Call_Result</th>\n",
       "      <th>Call_Duration_(Sec)</th>\n",
       "      <th>Staff_Score</th>\n",
       "      <th>Avg_Customer_Rating_(Overall)</th>\n",
       "      <th>purchase_made_after_call</th>\n",
       "      <th>Status_num</th>\n",
       "      <th>Days_until_appointment_from_scheduled</th>\n",
       "      <th>Seconds_between_actual_estimate_call_time</th>\n",
       "      <th>Scheduled_duration_(sec)</th>\n",
       "    </tr>\n",
       "    <tr>\n",
       "      <th>call_id</th>\n",
       "      <th></th>\n",
       "      <th></th>\n",
       "      <th></th>\n",
       "      <th></th>\n",
       "      <th></th>\n",
       "      <th></th>\n",
       "      <th></th>\n",
       "      <th></th>\n",
       "      <th></th>\n",
       "      <th></th>\n",
       "      <th></th>\n",
       "      <th></th>\n",
       "    </tr>\n",
       "  </thead>\n",
       "  <tbody>\n",
       "    <tr>\n",
       "      <th>10653788</th>\n",
       "      <td>2.5</td>\n",
       "      <td>1.0</td>\n",
       "      <td>0</td>\n",
       "      <td>5</td>\n",
       "      <td>147.0</td>\n",
       "      <td>3.0</td>\n",
       "      <td>4.022879</td>\n",
       "      <td>1</td>\n",
       "      <td>2</td>\n",
       "      <td>2</td>\n",
       "      <td>240.0</td>\n",
       "      <td>600.0</td>\n",
       "    </tr>\n",
       "    <tr>\n",
       "      <th>10343190</th>\n",
       "      <td>1.0</td>\n",
       "      <td>1.0</td>\n",
       "      <td>1</td>\n",
       "      <td>5</td>\n",
       "      <td>356.0</td>\n",
       "      <td>3.0</td>\n",
       "      <td>5.000000</td>\n",
       "      <td>1</td>\n",
       "      <td>2</td>\n",
       "      <td>122</td>\n",
       "      <td>0.0</td>\n",
       "      <td>600.0</td>\n",
       "    </tr>\n",
       "    <tr>\n",
       "      <th>9647059</th>\n",
       "      <td>1.0</td>\n",
       "      <td>2.0</td>\n",
       "      <td>1</td>\n",
       "      <td>5</td>\n",
       "      <td>2427.0</td>\n",
       "      <td>4.0</td>\n",
       "      <td>5.000000</td>\n",
       "      <td>1</td>\n",
       "      <td>2</td>\n",
       "      <td>30</td>\n",
       "      <td>840.0</td>\n",
       "      <td>600.0</td>\n",
       "    </tr>\n",
       "    <tr>\n",
       "      <th>9647059</th>\n",
       "      <td>1.0</td>\n",
       "      <td>2.0</td>\n",
       "      <td>1</td>\n",
       "      <td>5</td>\n",
       "      <td>2427.0</td>\n",
       "      <td>4.0</td>\n",
       "      <td>5.000000</td>\n",
       "      <td>1</td>\n",
       "      <td>2</td>\n",
       "      <td>30</td>\n",
       "      <td>840.0</td>\n",
       "      <td>600.0</td>\n",
       "    </tr>\n",
       "    <tr>\n",
       "      <th>9709891</th>\n",
       "      <td>1.0</td>\n",
       "      <td>1.0</td>\n",
       "      <td>1</td>\n",
       "      <td>5</td>\n",
       "      <td>524.0</td>\n",
       "      <td>3.0</td>\n",
       "      <td>4.000000</td>\n",
       "      <td>1</td>\n",
       "      <td>2</td>\n",
       "      <td>31</td>\n",
       "      <td>420.0</td>\n",
       "      <td>900.0</td>\n",
       "    </tr>\n",
       "    <tr>\n",
       "      <th>...</th>\n",
       "      <td>...</td>\n",
       "      <td>...</td>\n",
       "      <td>...</td>\n",
       "      <td>...</td>\n",
       "      <td>...</td>\n",
       "      <td>...</td>\n",
       "      <td>...</td>\n",
       "      <td>...</td>\n",
       "      <td>...</td>\n",
       "      <td>...</td>\n",
       "      <td>...</td>\n",
       "      <td>...</td>\n",
       "    </tr>\n",
       "    <tr>\n",
       "      <th>11111696</th>\n",
       "      <td>0.0</td>\n",
       "      <td>0.0</td>\n",
       "      <td>0</td>\n",
       "      <td>1</td>\n",
       "      <td>0.0</td>\n",
       "      <td>0.0</td>\n",
       "      <td>4.022879</td>\n",
       "      <td>0</td>\n",
       "      <td>0</td>\n",
       "      <td>1</td>\n",
       "      <td>0.0</td>\n",
       "      <td>600.0</td>\n",
       "    </tr>\n",
       "    <tr>\n",
       "      <th>11144660</th>\n",
       "      <td>0.0</td>\n",
       "      <td>0.0</td>\n",
       "      <td>0</td>\n",
       "      <td>1</td>\n",
       "      <td>0.0</td>\n",
       "      <td>0.0</td>\n",
       "      <td>4.022879</td>\n",
       "      <td>0</td>\n",
       "      <td>0</td>\n",
       "      <td>1</td>\n",
       "      <td>0.0</td>\n",
       "      <td>600.0</td>\n",
       "    </tr>\n",
       "    <tr>\n",
       "      <th>11144933</th>\n",
       "      <td>0.0</td>\n",
       "      <td>0.0</td>\n",
       "      <td>0</td>\n",
       "      <td>1</td>\n",
       "      <td>0.0</td>\n",
       "      <td>0.0</td>\n",
       "      <td>4.022879</td>\n",
       "      <td>0</td>\n",
       "      <td>0</td>\n",
       "      <td>1</td>\n",
       "      <td>0.0</td>\n",
       "      <td>600.0</td>\n",
       "    </tr>\n",
       "    <tr>\n",
       "      <th>11164791</th>\n",
       "      <td>0.0</td>\n",
       "      <td>0.0</td>\n",
       "      <td>0</td>\n",
       "      <td>1</td>\n",
       "      <td>0.0</td>\n",
       "      <td>0.0</td>\n",
       "      <td>4.022879</td>\n",
       "      <td>0</td>\n",
       "      <td>0</td>\n",
       "      <td>1</td>\n",
       "      <td>0.0</td>\n",
       "      <td>600.0</td>\n",
       "    </tr>\n",
       "    <tr>\n",
       "      <th>7925690</th>\n",
       "      <td>1.0</td>\n",
       "      <td>1.0</td>\n",
       "      <td>0</td>\n",
       "      <td>5</td>\n",
       "      <td>5.0</td>\n",
       "      <td>0.0</td>\n",
       "      <td>4.022879</td>\n",
       "      <td>0</td>\n",
       "      <td>0</td>\n",
       "      <td>0</td>\n",
       "      <td>0.0</td>\n",
       "      <td>1800.0</td>\n",
       "    </tr>\n",
       "  </tbody>\n",
       "</table>\n",
       "<p>894 rows × 12 columns</p>\n",
       "</div>"
      ],
      "text/plain": [
       "          Staff_Joined_Count  Customer_Joined_Count  Customer_Enabled_Video  \\\n",
       "call_id                                                                       \n",
       "10653788                 2.5                    1.0                       0   \n",
       "10343190                 1.0                    1.0                       1   \n",
       "9647059                  1.0                    2.0                       1   \n",
       "9647059                  1.0                    2.0                       1   \n",
       "9709891                  1.0                    1.0                       1   \n",
       "...                      ...                    ...                     ...   \n",
       "11111696                 0.0                    0.0                       0   \n",
       "11144660                 0.0                    0.0                       0   \n",
       "11144933                 0.0                    0.0                       0   \n",
       "11164791                 0.0                    0.0                       0   \n",
       "7925690                  1.0                    1.0                       0   \n",
       "\n",
       "          Call_Result  Call_Duration_(Sec)  Staff_Score  \\\n",
       "call_id                                                   \n",
       "10653788            5                147.0          3.0   \n",
       "10343190            5                356.0          3.0   \n",
       "9647059             5               2427.0          4.0   \n",
       "9647059             5               2427.0          4.0   \n",
       "9709891             5                524.0          3.0   \n",
       "...               ...                  ...          ...   \n",
       "11111696            1                  0.0          0.0   \n",
       "11144660            1                  0.0          0.0   \n",
       "11144933            1                  0.0          0.0   \n",
       "11164791            1                  0.0          0.0   \n",
       "7925690             5                  5.0          0.0   \n",
       "\n",
       "          Avg_Customer_Rating_(Overall)  purchase_made_after_call  Status_num  \\\n",
       "call_id                                                                         \n",
       "10653788                       4.022879                         1           2   \n",
       "10343190                       5.000000                         1           2   \n",
       "9647059                        5.000000                         1           2   \n",
       "9647059                        5.000000                         1           2   \n",
       "9709891                        4.000000                         1           2   \n",
       "...                                 ...                       ...         ...   \n",
       "11111696                       4.022879                         0           0   \n",
       "11144660                       4.022879                         0           0   \n",
       "11144933                       4.022879                         0           0   \n",
       "11164791                       4.022879                         0           0   \n",
       "7925690                        4.022879                         0           0   \n",
       "\n",
       "          Days_until_appointment_from_scheduled  \\\n",
       "call_id                                           \n",
       "10653788                                      2   \n",
       "10343190                                    122   \n",
       "9647059                                      30   \n",
       "9647059                                      30   \n",
       "9709891                                      31   \n",
       "...                                         ...   \n",
       "11111696                                      1   \n",
       "11144660                                      1   \n",
       "11144933                                      1   \n",
       "11164791                                      1   \n",
       "7925690                                       0   \n",
       "\n",
       "          Seconds_between_actual_estimate_call_time  Scheduled_duration_(sec)  \n",
       "call_id                                                                        \n",
       "10653788                                      240.0                     600.0  \n",
       "10343190                                        0.0                     600.0  \n",
       "9647059                                       840.0                     600.0  \n",
       "9647059                                       840.0                     600.0  \n",
       "9709891                                       420.0                     900.0  \n",
       "...                                             ...                       ...  \n",
       "11111696                                        0.0                     600.0  \n",
       "11144660                                        0.0                     600.0  \n",
       "11144933                                        0.0                     600.0  \n",
       "11164791                                        0.0                     600.0  \n",
       "7925690                                         0.0                    1800.0  \n",
       "\n",
       "[894 rows x 12 columns]"
      ]
     },
     "execution_count": 484,
     "metadata": {},
     "output_type": "execute_result"
    }
   ],
   "source": [
    "appointments_clean_df_copy"
   ]
  },
  {
   "cell_type": "markdown",
   "metadata": {
    "ExecuteTime": {
     "end_time": "2021-07-12T11:18:05.784754Z",
     "start_time": "2021-07-12T11:18:05.755286Z"
    }
   },
   "source": [
    "### Normalise Data"
   ]
  },
  {
   "cell_type": "markdown",
   "metadata": {
    "ExecuteTime": {
     "end_time": "2021-07-12T11:18:07.212251Z",
     "start_time": "2021-07-12T11:18:06.941270Z"
    },
    "cell_style": "center"
   },
   "source": [
    "Since data values for various features vary considerably, the data has been scaled."
   ]
  },
  {
   "cell_type": "code",
   "execution_count": 485,
   "metadata": {
    "ExecuteTime": {
     "end_time": "2021-07-13T01:21:30.579257Z",
     "start_time": "2021-07-13T01:21:30.575536Z"
    }
   },
   "outputs": [],
   "source": [
    "appointments_clean_df_copy_scaled = appointments_clean_df_copy.drop(columns=['purchase_made_after_call'])"
   ]
  },
  {
   "cell_type": "code",
   "execution_count": 486,
   "metadata": {
    "ExecuteTime": {
     "end_time": "2021-07-13T01:21:42.251010Z",
     "start_time": "2021-07-13T01:21:42.230204Z"
    }
   },
   "outputs": [
    {
     "data": {
      "text/html": [
       "<div>\n",
       "<style scoped>\n",
       "    .dataframe tbody tr th:only-of-type {\n",
       "        vertical-align: middle;\n",
       "    }\n",
       "\n",
       "    .dataframe tbody tr th {\n",
       "        vertical-align: top;\n",
       "    }\n",
       "\n",
       "    .dataframe thead th {\n",
       "        text-align: right;\n",
       "    }\n",
       "</style>\n",
       "<table border=\"1\" class=\"dataframe\">\n",
       "  <thead>\n",
       "    <tr style=\"text-align: right;\">\n",
       "      <th></th>\n",
       "      <th>Staff_Joined_Count</th>\n",
       "      <th>Customer_Joined_Count</th>\n",
       "      <th>Customer_Enabled_Video</th>\n",
       "      <th>Call_Result</th>\n",
       "      <th>Call_Duration_(Sec)</th>\n",
       "      <th>Staff_Score</th>\n",
       "      <th>Avg_Customer_Rating_(Overall)</th>\n",
       "      <th>Status_num</th>\n",
       "      <th>Days_until_appointment_from_scheduled</th>\n",
       "      <th>Seconds_between_actual_estimate_call_time</th>\n",
       "      <th>Scheduled_duration_(sec)</th>\n",
       "    </tr>\n",
       "    <tr>\n",
       "      <th>call_id</th>\n",
       "      <th></th>\n",
       "      <th></th>\n",
       "      <th></th>\n",
       "      <th></th>\n",
       "      <th></th>\n",
       "      <th></th>\n",
       "      <th></th>\n",
       "      <th></th>\n",
       "      <th></th>\n",
       "      <th></th>\n",
       "      <th></th>\n",
       "    </tr>\n",
       "  </thead>\n",
       "  <tbody>\n",
       "    <tr>\n",
       "      <th>10653788</th>\n",
       "      <td>2.5</td>\n",
       "      <td>1.0</td>\n",
       "      <td>0</td>\n",
       "      <td>5</td>\n",
       "      <td>147.0</td>\n",
       "      <td>3.0</td>\n",
       "      <td>4.022879</td>\n",
       "      <td>2</td>\n",
       "      <td>2</td>\n",
       "      <td>240.0</td>\n",
       "      <td>600.0</td>\n",
       "    </tr>\n",
       "    <tr>\n",
       "      <th>10343190</th>\n",
       "      <td>1.0</td>\n",
       "      <td>1.0</td>\n",
       "      <td>1</td>\n",
       "      <td>5</td>\n",
       "      <td>356.0</td>\n",
       "      <td>3.0</td>\n",
       "      <td>5.000000</td>\n",
       "      <td>2</td>\n",
       "      <td>122</td>\n",
       "      <td>0.0</td>\n",
       "      <td>600.0</td>\n",
       "    </tr>\n",
       "    <tr>\n",
       "      <th>9647059</th>\n",
       "      <td>1.0</td>\n",
       "      <td>2.0</td>\n",
       "      <td>1</td>\n",
       "      <td>5</td>\n",
       "      <td>2427.0</td>\n",
       "      <td>4.0</td>\n",
       "      <td>5.000000</td>\n",
       "      <td>2</td>\n",
       "      <td>30</td>\n",
       "      <td>840.0</td>\n",
       "      <td>600.0</td>\n",
       "    </tr>\n",
       "    <tr>\n",
       "      <th>9647059</th>\n",
       "      <td>1.0</td>\n",
       "      <td>2.0</td>\n",
       "      <td>1</td>\n",
       "      <td>5</td>\n",
       "      <td>2427.0</td>\n",
       "      <td>4.0</td>\n",
       "      <td>5.000000</td>\n",
       "      <td>2</td>\n",
       "      <td>30</td>\n",
       "      <td>840.0</td>\n",
       "      <td>600.0</td>\n",
       "    </tr>\n",
       "    <tr>\n",
       "      <th>9709891</th>\n",
       "      <td>1.0</td>\n",
       "      <td>1.0</td>\n",
       "      <td>1</td>\n",
       "      <td>5</td>\n",
       "      <td>524.0</td>\n",
       "      <td>3.0</td>\n",
       "      <td>4.000000</td>\n",
       "      <td>2</td>\n",
       "      <td>31</td>\n",
       "      <td>420.0</td>\n",
       "      <td>900.0</td>\n",
       "    </tr>\n",
       "    <tr>\n",
       "      <th>...</th>\n",
       "      <td>...</td>\n",
       "      <td>...</td>\n",
       "      <td>...</td>\n",
       "      <td>...</td>\n",
       "      <td>...</td>\n",
       "      <td>...</td>\n",
       "      <td>...</td>\n",
       "      <td>...</td>\n",
       "      <td>...</td>\n",
       "      <td>...</td>\n",
       "      <td>...</td>\n",
       "    </tr>\n",
       "    <tr>\n",
       "      <th>11111696</th>\n",
       "      <td>0.0</td>\n",
       "      <td>0.0</td>\n",
       "      <td>0</td>\n",
       "      <td>1</td>\n",
       "      <td>0.0</td>\n",
       "      <td>0.0</td>\n",
       "      <td>4.022879</td>\n",
       "      <td>0</td>\n",
       "      <td>1</td>\n",
       "      <td>0.0</td>\n",
       "      <td>600.0</td>\n",
       "    </tr>\n",
       "    <tr>\n",
       "      <th>11144660</th>\n",
       "      <td>0.0</td>\n",
       "      <td>0.0</td>\n",
       "      <td>0</td>\n",
       "      <td>1</td>\n",
       "      <td>0.0</td>\n",
       "      <td>0.0</td>\n",
       "      <td>4.022879</td>\n",
       "      <td>0</td>\n",
       "      <td>1</td>\n",
       "      <td>0.0</td>\n",
       "      <td>600.0</td>\n",
       "    </tr>\n",
       "    <tr>\n",
       "      <th>11144933</th>\n",
       "      <td>0.0</td>\n",
       "      <td>0.0</td>\n",
       "      <td>0</td>\n",
       "      <td>1</td>\n",
       "      <td>0.0</td>\n",
       "      <td>0.0</td>\n",
       "      <td>4.022879</td>\n",
       "      <td>0</td>\n",
       "      <td>1</td>\n",
       "      <td>0.0</td>\n",
       "      <td>600.0</td>\n",
       "    </tr>\n",
       "    <tr>\n",
       "      <th>11164791</th>\n",
       "      <td>0.0</td>\n",
       "      <td>0.0</td>\n",
       "      <td>0</td>\n",
       "      <td>1</td>\n",
       "      <td>0.0</td>\n",
       "      <td>0.0</td>\n",
       "      <td>4.022879</td>\n",
       "      <td>0</td>\n",
       "      <td>1</td>\n",
       "      <td>0.0</td>\n",
       "      <td>600.0</td>\n",
       "    </tr>\n",
       "    <tr>\n",
       "      <th>7925690</th>\n",
       "      <td>1.0</td>\n",
       "      <td>1.0</td>\n",
       "      <td>0</td>\n",
       "      <td>5</td>\n",
       "      <td>5.0</td>\n",
       "      <td>0.0</td>\n",
       "      <td>4.022879</td>\n",
       "      <td>0</td>\n",
       "      <td>0</td>\n",
       "      <td>0.0</td>\n",
       "      <td>1800.0</td>\n",
       "    </tr>\n",
       "  </tbody>\n",
       "</table>\n",
       "<p>894 rows × 11 columns</p>\n",
       "</div>"
      ],
      "text/plain": [
       "          Staff_Joined_Count  Customer_Joined_Count  Customer_Enabled_Video  \\\n",
       "call_id                                                                       \n",
       "10653788                 2.5                    1.0                       0   \n",
       "10343190                 1.0                    1.0                       1   \n",
       "9647059                  1.0                    2.0                       1   \n",
       "9647059                  1.0                    2.0                       1   \n",
       "9709891                  1.0                    1.0                       1   \n",
       "...                      ...                    ...                     ...   \n",
       "11111696                 0.0                    0.0                       0   \n",
       "11144660                 0.0                    0.0                       0   \n",
       "11144933                 0.0                    0.0                       0   \n",
       "11164791                 0.0                    0.0                       0   \n",
       "7925690                  1.0                    1.0                       0   \n",
       "\n",
       "          Call_Result  Call_Duration_(Sec)  Staff_Score  \\\n",
       "call_id                                                   \n",
       "10653788            5                147.0          3.0   \n",
       "10343190            5                356.0          3.0   \n",
       "9647059             5               2427.0          4.0   \n",
       "9647059             5               2427.0          4.0   \n",
       "9709891             5                524.0          3.0   \n",
       "...               ...                  ...          ...   \n",
       "11111696            1                  0.0          0.0   \n",
       "11144660            1                  0.0          0.0   \n",
       "11144933            1                  0.0          0.0   \n",
       "11164791            1                  0.0          0.0   \n",
       "7925690             5                  5.0          0.0   \n",
       "\n",
       "          Avg_Customer_Rating_(Overall)  Status_num  \\\n",
       "call_id                                               \n",
       "10653788                       4.022879           2   \n",
       "10343190                       5.000000           2   \n",
       "9647059                        5.000000           2   \n",
       "9647059                        5.000000           2   \n",
       "9709891                        4.000000           2   \n",
       "...                                 ...         ...   \n",
       "11111696                       4.022879           0   \n",
       "11144660                       4.022879           0   \n",
       "11144933                       4.022879           0   \n",
       "11164791                       4.022879           0   \n",
       "7925690                        4.022879           0   \n",
       "\n",
       "          Days_until_appointment_from_scheduled  \\\n",
       "call_id                                           \n",
       "10653788                                      2   \n",
       "10343190                                    122   \n",
       "9647059                                      30   \n",
       "9647059                                      30   \n",
       "9709891                                      31   \n",
       "...                                         ...   \n",
       "11111696                                      1   \n",
       "11144660                                      1   \n",
       "11144933                                      1   \n",
       "11164791                                      1   \n",
       "7925690                                       0   \n",
       "\n",
       "          Seconds_between_actual_estimate_call_time  Scheduled_duration_(sec)  \n",
       "call_id                                                                        \n",
       "10653788                                      240.0                     600.0  \n",
       "10343190                                        0.0                     600.0  \n",
       "9647059                                       840.0                     600.0  \n",
       "9647059                                       840.0                     600.0  \n",
       "9709891                                       420.0                     900.0  \n",
       "...                                             ...                       ...  \n",
       "11111696                                        0.0                     600.0  \n",
       "11144660                                        0.0                     600.0  \n",
       "11144933                                        0.0                     600.0  \n",
       "11164791                                        0.0                     600.0  \n",
       "7925690                                         0.0                    1800.0  \n",
       "\n",
       "[894 rows x 11 columns]"
      ]
     },
     "execution_count": 486,
     "metadata": {},
     "output_type": "execute_result"
    }
   ],
   "source": [
    "appointments_clean_df_copy_scaled"
   ]
  },
  {
   "cell_type": "code",
   "execution_count": null,
   "metadata": {},
   "outputs": [],
   "source": []
  },
  {
   "cell_type": "code",
   "execution_count": 487,
   "metadata": {
    "ExecuteTime": {
     "end_time": "2021-07-13T01:05:49.064939Z",
     "start_time": "2021-07-13T01:05:49.056979Z"
    }
   },
   "outputs": [],
   "source": [
    "scaler = MinMaxScaler() \n",
    "appointments_clean_df_copy_scaled = scaler.fit_transform(appointments_clean_df_copy_scaled)"
   ]
  },
  {
   "cell_type": "code",
   "execution_count": 488,
   "metadata": {
    "ExecuteTime": {
     "end_time": "2021-07-13T01:05:49.073314Z",
     "start_time": "2021-07-13T01:05:49.067332Z"
    }
   },
   "outputs": [
    {
     "data": {
      "text/plain": [
       "array([0.36286353, 0.298434  , 0.49105145, 0.61912752, 0.10265152,\n",
       "       0.41638702, 0.7557197 , 0.75727069, 0.64203292, 0.19944411,\n",
       "       0.07755406])"
      ]
     },
     "execution_count": 488,
     "metadata": {},
     "output_type": "execute_result"
    }
   ],
   "source": [
    "appointments_clean_df_copy_scaled.mean(axis=0)"
   ]
  },
  {
   "cell_type": "code",
   "execution_count": 489,
   "metadata": {
    "ExecuteTime": {
     "end_time": "2021-07-13T01:05:49.084109Z",
     "start_time": "2021-07-13T01:05:49.078301Z"
    }
   },
   "outputs": [
    {
     "data": {
      "text/plain": [
       "array([0.28150894, 0.31738904, 0.49991992, 0.41157459, 0.15286029,\n",
       "       0.37569835, 0.19920269, 0.40387904, 0.16078635, 0.0732732 ,\n",
       "       0.18305221])"
      ]
     },
     "execution_count": 489,
     "metadata": {},
     "output_type": "execute_result"
    }
   ],
   "source": [
    "appointments_clean_df_copy_scaled.std(axis=0)"
   ]
  },
  {
   "cell_type": "code",
   "execution_count": 490,
   "metadata": {
    "ExecuteTime": {
     "end_time": "2021-07-13T01:05:49.092098Z",
     "start_time": "2021-07-13T01:05:49.086411Z"
    }
   },
   "outputs": [
    {
     "data": {
      "text/plain": [
       "array([0., 0., 0., 0., 0., 0., 0., 0., 0., 0., 0.])"
      ]
     },
     "execution_count": 490,
     "metadata": {},
     "output_type": "execute_result"
    }
   ],
   "source": [
    "appointments_clean_df_copy_scaled.min(axis=0)"
   ]
  },
  {
   "cell_type": "code",
   "execution_count": 491,
   "metadata": {
    "ExecuteTime": {
     "end_time": "2021-07-13T01:05:49.100098Z",
     "start_time": "2021-07-13T01:05:49.094136Z"
    }
   },
   "outputs": [
    {
     "data": {
      "text/plain": [
       "array([1., 1., 1., 1., 1., 1., 1., 1., 1., 1., 1.])"
      ]
     },
     "execution_count": 491,
     "metadata": {},
     "output_type": "execute_result"
    }
   ],
   "source": [
    "appointments_clean_df_copy_scaled.max(axis=0)"
   ]
  },
  {
   "cell_type": "code",
   "execution_count": null,
   "metadata": {
    "ExecuteTime": {
     "end_time": "2021-07-13T01:17:59.030787Z",
     "start_time": "2021-07-13T01:17:59.023985Z"
    }
   },
   "outputs": [],
   "source": []
  },
  {
   "cell_type": "code",
   "execution_count": 492,
   "metadata": {
    "ExecuteTime": {
     "end_time": "2021-07-13T01:24:49.139207Z",
     "start_time": "2021-07-13T01:24:49.135156Z"
    }
   },
   "outputs": [],
   "source": [
    " appointments_clean_df_copy_scaled = pd.DataFrame(data=appointments_clean_df_copy_scaled, index=appointments_clean_df_copy.index, \n",
    "                                                  columns=['Staff_Joined_Count', 'Customer_Joined_Count', 'Customer_Enabled_Video',\n",
    "       'Call_Result', 'Call_Duration_(Sec)', 'Staff_Score',\n",
    "       'Avg_Customer_Rating_(Overall)', 'Status_num',\n",
    "       'Days_until_appointment_from_scheduled',\n",
    "       'Seconds_between_actual_estimate_call_time',\n",
    "       'Scheduled_duration_(sec)'])"
   ]
  },
  {
   "cell_type": "code",
   "execution_count": 493,
   "metadata": {
    "ExecuteTime": {
     "end_time": "2021-07-13T01:24:51.800356Z",
     "start_time": "2021-07-13T01:24:51.795807Z"
    }
   },
   "outputs": [],
   "source": [
    "appointments_clean_df_copy_scaled['purchase_made_after_call'] = appointments_clean_df_copy['purchase_made_after_call']"
   ]
  },
  {
   "cell_type": "code",
   "execution_count": 494,
   "metadata": {
    "ExecuteTime": {
     "end_time": "2021-07-13T01:24:52.706465Z",
     "start_time": "2021-07-13T01:24:52.684633Z"
    }
   },
   "outputs": [
    {
     "data": {
      "text/html": [
       "<div>\n",
       "<style scoped>\n",
       "    .dataframe tbody tr th:only-of-type {\n",
       "        vertical-align: middle;\n",
       "    }\n",
       "\n",
       "    .dataframe tbody tr th {\n",
       "        vertical-align: top;\n",
       "    }\n",
       "\n",
       "    .dataframe thead th {\n",
       "        text-align: right;\n",
       "    }\n",
       "</style>\n",
       "<table border=\"1\" class=\"dataframe\">\n",
       "  <thead>\n",
       "    <tr style=\"text-align: right;\">\n",
       "      <th></th>\n",
       "      <th>Staff_Joined_Count</th>\n",
       "      <th>Customer_Joined_Count</th>\n",
       "      <th>Customer_Enabled_Video</th>\n",
       "      <th>Call_Result</th>\n",
       "      <th>Call_Duration_(Sec)</th>\n",
       "      <th>Staff_Score</th>\n",
       "      <th>Avg_Customer_Rating_(Overall)</th>\n",
       "      <th>Status_num</th>\n",
       "      <th>Days_until_appointment_from_scheduled</th>\n",
       "      <th>Seconds_between_actual_estimate_call_time</th>\n",
       "      <th>Scheduled_duration_(sec)</th>\n",
       "      <th>purchase_made_after_call</th>\n",
       "    </tr>\n",
       "    <tr>\n",
       "      <th>call_id</th>\n",
       "      <th></th>\n",
       "      <th></th>\n",
       "      <th></th>\n",
       "      <th></th>\n",
       "      <th></th>\n",
       "      <th></th>\n",
       "      <th></th>\n",
       "      <th></th>\n",
       "      <th></th>\n",
       "      <th></th>\n",
       "      <th></th>\n",
       "      <th></th>\n",
       "    </tr>\n",
       "  </thead>\n",
       "  <tbody>\n",
       "    <tr>\n",
       "      <th>10653788</th>\n",
       "      <td>1.0</td>\n",
       "      <td>0.4</td>\n",
       "      <td>0.0</td>\n",
       "      <td>1.0</td>\n",
       "      <td>0.042412</td>\n",
       "      <td>0.75</td>\n",
       "      <td>0.75572</td>\n",
       "      <td>1.0</td>\n",
       "      <td>0.659142</td>\n",
       "      <td>0.242424</td>\n",
       "      <td>0.000000</td>\n",
       "      <td>1</td>\n",
       "    </tr>\n",
       "    <tr>\n",
       "      <th>10343190</th>\n",
       "      <td>0.4</td>\n",
       "      <td>0.4</td>\n",
       "      <td>1.0</td>\n",
       "      <td>1.0</td>\n",
       "      <td>0.102712</td>\n",
       "      <td>0.75</td>\n",
       "      <td>1.00000</td>\n",
       "      <td>1.0</td>\n",
       "      <td>0.930023</td>\n",
       "      <td>0.181818</td>\n",
       "      <td>0.000000</td>\n",
       "      <td>1</td>\n",
       "    </tr>\n",
       "    <tr>\n",
       "      <th>9647059</th>\n",
       "      <td>0.4</td>\n",
       "      <td>0.8</td>\n",
       "      <td>1.0</td>\n",
       "      <td>1.0</td>\n",
       "      <td>0.700231</td>\n",
       "      <td>1.00</td>\n",
       "      <td>1.00000</td>\n",
       "      <td>1.0</td>\n",
       "      <td>0.722348</td>\n",
       "      <td>0.393939</td>\n",
       "      <td>0.000000</td>\n",
       "      <td>1</td>\n",
       "    </tr>\n",
       "    <tr>\n",
       "      <th>9647059</th>\n",
       "      <td>0.4</td>\n",
       "      <td>0.8</td>\n",
       "      <td>1.0</td>\n",
       "      <td>1.0</td>\n",
       "      <td>0.700231</td>\n",
       "      <td>1.00</td>\n",
       "      <td>1.00000</td>\n",
       "      <td>1.0</td>\n",
       "      <td>0.722348</td>\n",
       "      <td>0.393939</td>\n",
       "      <td>0.000000</td>\n",
       "      <td>1</td>\n",
       "    </tr>\n",
       "    <tr>\n",
       "      <th>9709891</th>\n",
       "      <td>0.4</td>\n",
       "      <td>0.4</td>\n",
       "      <td>1.0</td>\n",
       "      <td>1.0</td>\n",
       "      <td>0.151183</td>\n",
       "      <td>0.75</td>\n",
       "      <td>0.75000</td>\n",
       "      <td>1.0</td>\n",
       "      <td>0.724605</td>\n",
       "      <td>0.287879</td>\n",
       "      <td>0.166667</td>\n",
       "      <td>1</td>\n",
       "    </tr>\n",
       "    <tr>\n",
       "      <th>...</th>\n",
       "      <td>...</td>\n",
       "      <td>...</td>\n",
       "      <td>...</td>\n",
       "      <td>...</td>\n",
       "      <td>...</td>\n",
       "      <td>...</td>\n",
       "      <td>...</td>\n",
       "      <td>...</td>\n",
       "      <td>...</td>\n",
       "      <td>...</td>\n",
       "      <td>...</td>\n",
       "      <td>...</td>\n",
       "    </tr>\n",
       "    <tr>\n",
       "      <th>11111696</th>\n",
       "      <td>0.0</td>\n",
       "      <td>0.0</td>\n",
       "      <td>0.0</td>\n",
       "      <td>0.0</td>\n",
       "      <td>0.000000</td>\n",
       "      <td>0.00</td>\n",
       "      <td>0.75572</td>\n",
       "      <td>0.0</td>\n",
       "      <td>0.656885</td>\n",
       "      <td>0.181818</td>\n",
       "      <td>0.000000</td>\n",
       "      <td>0</td>\n",
       "    </tr>\n",
       "    <tr>\n",
       "      <th>11144660</th>\n",
       "      <td>0.0</td>\n",
       "      <td>0.0</td>\n",
       "      <td>0.0</td>\n",
       "      <td>0.0</td>\n",
       "      <td>0.000000</td>\n",
       "      <td>0.00</td>\n",
       "      <td>0.75572</td>\n",
       "      <td>0.0</td>\n",
       "      <td>0.656885</td>\n",
       "      <td>0.181818</td>\n",
       "      <td>0.000000</td>\n",
       "      <td>0</td>\n",
       "    </tr>\n",
       "    <tr>\n",
       "      <th>11144933</th>\n",
       "      <td>0.0</td>\n",
       "      <td>0.0</td>\n",
       "      <td>0.0</td>\n",
       "      <td>0.0</td>\n",
       "      <td>0.000000</td>\n",
       "      <td>0.00</td>\n",
       "      <td>0.75572</td>\n",
       "      <td>0.0</td>\n",
       "      <td>0.656885</td>\n",
       "      <td>0.181818</td>\n",
       "      <td>0.000000</td>\n",
       "      <td>0</td>\n",
       "    </tr>\n",
       "    <tr>\n",
       "      <th>11164791</th>\n",
       "      <td>0.0</td>\n",
       "      <td>0.0</td>\n",
       "      <td>0.0</td>\n",
       "      <td>0.0</td>\n",
       "      <td>0.000000</td>\n",
       "      <td>0.00</td>\n",
       "      <td>0.75572</td>\n",
       "      <td>0.0</td>\n",
       "      <td>0.656885</td>\n",
       "      <td>0.181818</td>\n",
       "      <td>0.000000</td>\n",
       "      <td>0</td>\n",
       "    </tr>\n",
       "    <tr>\n",
       "      <th>7925690</th>\n",
       "      <td>0.4</td>\n",
       "      <td>0.4</td>\n",
       "      <td>0.0</td>\n",
       "      <td>1.0</td>\n",
       "      <td>0.001443</td>\n",
       "      <td>0.00</td>\n",
       "      <td>0.75572</td>\n",
       "      <td>0.0</td>\n",
       "      <td>0.654628</td>\n",
       "      <td>0.181818</td>\n",
       "      <td>0.666667</td>\n",
       "      <td>0</td>\n",
       "    </tr>\n",
       "  </tbody>\n",
       "</table>\n",
       "<p>894 rows × 12 columns</p>\n",
       "</div>"
      ],
      "text/plain": [
       "          Staff_Joined_Count  Customer_Joined_Count  Customer_Enabled_Video  \\\n",
       "call_id                                                                       \n",
       "10653788                 1.0                    0.4                     0.0   \n",
       "10343190                 0.4                    0.4                     1.0   \n",
       "9647059                  0.4                    0.8                     1.0   \n",
       "9647059                  0.4                    0.8                     1.0   \n",
       "9709891                  0.4                    0.4                     1.0   \n",
       "...                      ...                    ...                     ...   \n",
       "11111696                 0.0                    0.0                     0.0   \n",
       "11144660                 0.0                    0.0                     0.0   \n",
       "11144933                 0.0                    0.0                     0.0   \n",
       "11164791                 0.0                    0.0                     0.0   \n",
       "7925690                  0.4                    0.4                     0.0   \n",
       "\n",
       "          Call_Result  Call_Duration_(Sec)  Staff_Score  \\\n",
       "call_id                                                   \n",
       "10653788          1.0             0.042412         0.75   \n",
       "10343190          1.0             0.102712         0.75   \n",
       "9647059           1.0             0.700231         1.00   \n",
       "9647059           1.0             0.700231         1.00   \n",
       "9709891           1.0             0.151183         0.75   \n",
       "...               ...                  ...          ...   \n",
       "11111696          0.0             0.000000         0.00   \n",
       "11144660          0.0             0.000000         0.00   \n",
       "11144933          0.0             0.000000         0.00   \n",
       "11164791          0.0             0.000000         0.00   \n",
       "7925690           1.0             0.001443         0.00   \n",
       "\n",
       "          Avg_Customer_Rating_(Overall)  Status_num  \\\n",
       "call_id                                               \n",
       "10653788                        0.75572         1.0   \n",
       "10343190                        1.00000         1.0   \n",
       "9647059                         1.00000         1.0   \n",
       "9647059                         1.00000         1.0   \n",
       "9709891                         0.75000         1.0   \n",
       "...                                 ...         ...   \n",
       "11111696                        0.75572         0.0   \n",
       "11144660                        0.75572         0.0   \n",
       "11144933                        0.75572         0.0   \n",
       "11164791                        0.75572         0.0   \n",
       "7925690                         0.75572         0.0   \n",
       "\n",
       "          Days_until_appointment_from_scheduled  \\\n",
       "call_id                                           \n",
       "10653788                               0.659142   \n",
       "10343190                               0.930023   \n",
       "9647059                                0.722348   \n",
       "9647059                                0.722348   \n",
       "9709891                                0.724605   \n",
       "...                                         ...   \n",
       "11111696                               0.656885   \n",
       "11144660                               0.656885   \n",
       "11144933                               0.656885   \n",
       "11164791                               0.656885   \n",
       "7925690                                0.654628   \n",
       "\n",
       "          Seconds_between_actual_estimate_call_time  Scheduled_duration_(sec)  \\\n",
       "call_id                                                                         \n",
       "10653788                                   0.242424                  0.000000   \n",
       "10343190                                   0.181818                  0.000000   \n",
       "9647059                                    0.393939                  0.000000   \n",
       "9647059                                    0.393939                  0.000000   \n",
       "9709891                                    0.287879                  0.166667   \n",
       "...                                             ...                       ...   \n",
       "11111696                                   0.181818                  0.000000   \n",
       "11144660                                   0.181818                  0.000000   \n",
       "11144933                                   0.181818                  0.000000   \n",
       "11164791                                   0.181818                  0.000000   \n",
       "7925690                                    0.181818                  0.666667   \n",
       "\n",
       "          purchase_made_after_call  \n",
       "call_id                             \n",
       "10653788                         1  \n",
       "10343190                         1  \n",
       "9647059                          1  \n",
       "9647059                          1  \n",
       "9709891                          1  \n",
       "...                            ...  \n",
       "11111696                         0  \n",
       "11144660                         0  \n",
       "11144933                         0  \n",
       "11164791                         0  \n",
       "7925690                          0  \n",
       "\n",
       "[894 rows x 12 columns]"
      ]
     },
     "execution_count": 494,
     "metadata": {},
     "output_type": "execute_result"
    }
   ],
   "source": [
    "appointments_clean_df_copy_scaled"
   ]
  },
  {
   "cell_type": "markdown",
   "metadata": {},
   "source": [
    "## Modelling"
   ]
  },
  {
   "cell_type": "markdown",
   "metadata": {},
   "source": [
    "### Multi-Layer Perceptron Classifier (MLPC)"
   ]
  },
  {
   "cell_type": "markdown",
   "metadata": {},
   "source": [
    "A multi-layer perceptron classifier (MLPC) was choosen to attempt to predict whether a customer would make a purchase based on other appointment related information.\n",
    "Purchase made after call was selected as the dependent variable. I removed any columns that would be problematic as independent variables, such as purchase value.\n",
    "Data had previously been scaled and categorical and null values dealt with. \n",
    "Timestamp data was removed and in some cases replaced with another type of data, such as length of a time in seconds.\n",
    "Data was split into train and test 4:1."
   ]
  },
  {
   "cell_type": "code",
   "execution_count": 495,
   "metadata": {
    "ExecuteTime": {
     "end_time": "2021-07-13T01:24:56.819797Z",
     "start_time": "2021-07-13T01:24:56.813036Z"
    },
    "scrolled": true
   },
   "outputs": [
    {
     "data": {
      "text/plain": [
       "Index(['Staff_Joined_Count', 'Customer_Joined_Count', 'Customer_Enabled_Video',\n",
       "       'Call_Result', 'Call_Duration_(Sec)', 'Staff_Score',\n",
       "       'Avg_Customer_Rating_(Overall)', 'Status_num',\n",
       "       'Days_until_appointment_from_scheduled',\n",
       "       'Seconds_between_actual_estimate_call_time', 'Scheduled_duration_(sec)',\n",
       "       'purchase_made_after_call'],\n",
       "      dtype='object')"
      ]
     },
     "execution_count": 495,
     "metadata": {},
     "output_type": "execute_result"
    }
   ],
   "source": [
    "appointments_clean_df_copy_scaled.columns"
   ]
  },
  {
   "cell_type": "code",
   "execution_count": 496,
   "metadata": {
    "ExecuteTime": {
     "end_time": "2021-07-13T01:27:34.443863Z",
     "start_time": "2021-07-13T01:27:34.066471Z"
    }
   },
   "outputs": [],
   "source": [
    "x = appointments_clean_df_copy_scaled[['Staff_Joined_Count', 'Customer_Joined_Count', 'Customer_Enabled_Video',\n",
    "       'Call_Result', 'Call_Duration_(Sec)', 'Staff_Score',\n",
    "       'Avg_Customer_Rating_(Overall)', 'Status_num',\n",
    "       'Days_until_appointment_from_scheduled',\n",
    "       'Seconds_between_actual_estimate_call_time',\n",
    "       'Scheduled_duration_(sec)']]\n",
    "\n",
    "y = appointments_clean_df_copy_scaled['purchase_made_after_call']\n",
    "\n",
    "x_train, x_test, y_train, y_test = train_test_split(x, y,test_size=0.2,random_state=2)\n",
    "\n",
    "neu_clf = MLPClassifier(random_state=2, hidden_layer_sizes=(11,11),max_iter=1000).fit(x_train, y_train)\n",
    "\n",
    "pred = neu_clf.predict(x_test)\n"
   ]
  },
  {
   "cell_type": "code",
   "execution_count": 497,
   "metadata": {
    "ExecuteTime": {
     "end_time": "2021-07-13T01:27:36.236273Z",
     "start_time": "2021-07-13T01:27:36.230747Z"
    }
   },
   "outputs": [
    {
     "name": "stdout",
     "output_type": "stream",
     "text": [
      "[[157   2]\n",
      " [ 20   0]]\n"
     ]
    }
   ],
   "source": [
    "print(confusion_matrix(y_test,pred))"
   ]
  },
  {
   "cell_type": "code",
   "execution_count": 498,
   "metadata": {
    "ExecuteTime": {
     "end_time": "2021-07-13T01:27:36.970143Z",
     "start_time": "2021-07-13T01:27:36.956578Z"
    }
   },
   "outputs": [
    {
     "name": "stdout",
     "output_type": "stream",
     "text": [
      "              precision    recall  f1-score   support\n",
      "\n",
      "           0       0.89      0.99      0.93       159\n",
      "           1       0.00      0.00      0.00        20\n",
      "\n",
      "    accuracy                           0.88       179\n",
      "   macro avg       0.44      0.49      0.47       179\n",
      "weighted avg       0.79      0.88      0.83       179\n",
      "\n"
     ]
    }
   ],
   "source": [
    "print(classification_report(y_test,pred))"
   ]
  },
  {
   "cell_type": "code",
   "execution_count": 499,
   "metadata": {
    "ExecuteTime": {
     "end_time": "2021-07-13T01:27:47.026021Z",
     "start_time": "2021-07-13T01:27:47.019853Z"
    }
   },
   "outputs": [
    {
     "data": {
      "text/plain": [
       "3"
      ]
     },
     "execution_count": 499,
     "metadata": {},
     "output_type": "execute_result"
    }
   ],
   "source": [
    "len(neu_clf.coefs_)"
   ]
  },
  {
   "cell_type": "code",
   "execution_count": 500,
   "metadata": {
    "ExecuteTime": {
     "end_time": "2021-07-13T01:27:48.915736Z",
     "start_time": "2021-07-13T01:27:48.909945Z"
    }
   },
   "outputs": [
    {
     "data": {
      "text/plain": [
       "11"
      ]
     },
     "execution_count": 500,
     "metadata": {},
     "output_type": "execute_result"
    }
   ],
   "source": [
    "len(neu_clf.coefs_[0])"
   ]
  },
  {
   "cell_type": "code",
   "execution_count": 501,
   "metadata": {
    "ExecuteTime": {
     "end_time": "2021-07-13T01:27:49.421242Z",
     "start_time": "2021-07-13T01:27:49.396574Z"
    }
   },
   "outputs": [
    {
     "data": {
      "text/plain": [
       "11"
      ]
     },
     "execution_count": 501,
     "metadata": {},
     "output_type": "execute_result"
    }
   ],
   "source": [
    "len(neu_clf.intercepts_[0])"
   ]
  },
  {
   "cell_type": "code",
   "execution_count": 502,
   "metadata": {
    "ExecuteTime": {
     "end_time": "2021-07-13T01:27:49.947884Z",
     "start_time": "2021-07-13T01:27:49.928355Z"
    }
   },
   "outputs": [
    {
     "data": {
      "text/plain": [
       "[array([[-1.05371015e-01, -6.71014042e-04,  3.39551696e-31,\n",
       "         -2.96144537e-02,  1.92650432e-01, -7.44859633e-01,\n",
       "         -6.35440666e-02,  2.65790599e-01, -1.27300931e-01,\n",
       "         -1.80347146e-01,  3.66697803e-17],\n",
       "        [-5.50255316e-02, -3.19768874e-05,  1.18330426e-36,\n",
       "         -2.39397567e-01,  1.93921773e-01,  6.44177610e-01,\n",
       "         -7.82974467e-02,  4.92404669e-01, -9.38795361e-01,\n",
       "         -4.60935566e-01, -2.68205956e-04],\n",
       "        [-1.51587821e-01, -1.13057510e-04, -4.17822216e-05,\n",
       "         -3.08097472e-03, -1.16180016e-01,  2.35525606e-01,\n",
       "          8.09311524e-02, -3.33726206e-02, -3.12822910e-02,\n",
       "         -4.93788337e-01,  1.20670859e-14],\n",
       "        [-8.43459744e-02,  1.18837285e-37, -1.39623020e-18,\n",
       "          5.11577690e-01, -2.21447010e-01, -7.89693521e-01,\n",
       "         -4.65050989e-01,  5.29732218e-01, -3.70019973e-01,\n",
       "          6.21618206e-02, -6.55625277e-13],\n",
       "        [ 2.27734363e-02, -4.57144522e-27,  3.21207904e-29,\n",
       "          1.87423776e-01, -2.90427701e-01,  4.73575399e-01,\n",
       "         -8.25017808e-01, -6.08876871e-01, -6.18585520e-01,\n",
       "         -1.14220587e-01,  4.74305142e-23],\n",
       "        [-5.35947568e-01, -7.54787917e-08, -2.55717829e-04,\n",
       "          4.40070570e-01,  3.30552182e-01, -5.79365778e-01,\n",
       "          1.23329422e-02,  1.26152444e-01, -3.37518835e-01,\n",
       "         -2.75926437e-01, -7.47455807e-35],\n",
       "        [-3.49284356e-01, -4.32571628e-04,  8.10580228e-04,\n",
       "          1.07056184e-01,  3.16522177e-01, -4.76871090e-03,\n",
       "          2.65802857e-02,  7.06089993e-02,  6.39579187e-01,\n",
       "          5.25323594e-01, -3.23365093e-17],\n",
       "        [-5.92171223e-01,  1.44445166e-06, -1.13436563e-08,\n",
       "          2.42418456e-01, -3.28859069e-01,  1.22261401e-01,\n",
       "          3.30163794e-02,  1.62796016e-01,  7.62940758e-02,\n",
       "         -1.15733699e-01,  9.76794389e-32],\n",
       "        [ 2.91701256e-01, -6.80671911e-05, -7.32798442e-11,\n",
       "         -2.69071209e-01,  5.61344438e-01,  5.34734995e-01,\n",
       "         -1.61436342e-01,  1.32204687e-01,  5.37680781e-01,\n",
       "          4.58234899e-01, -7.34537880e-06],\n",
       "        [ 1.92559338e-01,  4.49513525e-07, -3.27205992e-05,\n",
       "          5.29431681e-01,  6.27062321e-01,  2.93498674e-01,\n",
       "          6.54183670e-01, -7.65024529e-02,  1.04710725e+00,\n",
       "          3.99317336e-01, -2.57490548e-13],\n",
       "        [-3.45920190e-01,  1.53249475e-04,  1.40922136e-25,\n",
       "          4.64110029e-02,  3.95707556e-01,  4.40190255e-01,\n",
       "         -2.70614438e-01, -5.82750504e-01,  1.31614907e-01,\n",
       "         -5.47382410e-02,  2.05908487e-31]]),\n",
       " array([[-9.18198509e-02, -3.26895387e-01, -3.59872069e-02,\n",
       "         -2.22370951e-02,  1.44658433e-05,  9.02975334e-04,\n",
       "         -2.67157429e-01, -3.31345689e-01,  2.32073592e-01,\n",
       "         -2.11615692e-01,  3.79645063e-05],\n",
       "        [-6.01225757e-07,  3.06487373e-08,  2.20459879e-13,\n",
       "          1.56915493e-06, -5.98484990e-04, -2.72049551e-07,\n",
       "          7.39364466e-10, -1.46939223e-04, -6.07102702e-04,\n",
       "         -2.21906396e-14,  8.67867999e-24],\n",
       "        [-3.70618712e-04, -2.65631670e-04, -4.54930138e-04,\n",
       "         -9.24857357e-21,  4.17239318e-12, -1.85997008e-06,\n",
       "          4.70996890e-05,  3.13635230e-28,  2.10978327e-17,\n",
       "         -1.30858460e-09,  3.62757692e-18],\n",
       "        [ 2.74014824e-01,  2.02327644e-01, -2.95829629e-01,\n",
       "         -6.78308843e-02,  2.57194634e-30, -6.53002492e-37,\n",
       "         -1.53744257e-01, -4.88279697e-01, -2.61905245e-01,\n",
       "         -4.12568728e-01,  1.33800144e-01],\n",
       "        [ 4.89295604e-01,  6.39515067e-01, -4.53957492e-01,\n",
       "          2.87767758e-01, -3.96011200e-12, -4.12361479e-36,\n",
       "          5.05686826e-01,  1.11000413e-01,  4.44196612e-01,\n",
       "          6.14084754e-01, -4.37058829e-02],\n",
       "        [ 1.30115294e+00, -1.26690340e+00, -2.18808475e-01,\n",
       "         -2.52655211e-02, -9.53627728e-05,  1.30267390e-12,\n",
       "          8.30071228e-01,  1.42641118e+00,  1.02722531e+00,\n",
       "          1.67464087e+00,  1.15142427e-27],\n",
       "        [ 1.34487108e+00, -8.11715806e-01, -7.80335961e-02,\n",
       "         -9.73230785e-02, -5.50109781e-07, -1.03240785e-03,\n",
       "          1.04870769e+00,  1.67143453e+00,  1.30164045e+00,\n",
       "          1.19506560e+00,  1.28790531e-05],\n",
       "        [ 2.99439292e-01,  7.14004204e-01,  3.48846252e-01,\n",
       "         -3.31748121e-01, -2.37241553e-13, -1.02925962e-06,\n",
       "          2.73011497e-01,  2.80440676e-01, -3.97459738e-01,\n",
       "         -2.21058792e-01,  2.27973975e-01],\n",
       "        [ 7.44708939e-01, -6.06399222e-01, -1.27528324e-03,\n",
       "          1.33925633e-01, -4.58841361e-04, -8.14533346e-05,\n",
       "          3.83313914e-01, -2.95137211e-01,  7.02391241e-01,\n",
       "          7.71060806e-01,  1.91566816e-09],\n",
       "        [ 5.47136396e-01,  1.17763010e-01, -3.34835063e-01,\n",
       "         -3.57161760e-02, -1.36058737e-24,  2.82678944e-04,\n",
       "          4.44171216e-01, -2.91061994e-01,  3.59358126e-01,\n",
       "          1.92639048e-01, -6.80773408e-06],\n",
       "        [ 5.66967235e-07, -1.46051561e-34, -2.75743886e-08,\n",
       "          1.59330500e-10,  7.67402506e-04, -8.10880466e-08,\n",
       "          9.56114105e-07,  1.54166203e-07, -5.34571827e-05,\n",
       "          1.11285999e-05, -7.31947394e-33]]),\n",
       " array([[-7.97719738e-01],\n",
       "        [ 7.12784973e-01],\n",
       "        [ 1.33499942e+00],\n",
       "        [ 3.94805008e-01],\n",
       "        [ 9.79719628e-10],\n",
       "        [-4.16627076e-34],\n",
       "        [-9.55747557e-01],\n",
       "        [-3.90802796e-01],\n",
       "        [-1.23672060e+00],\n",
       "        [-4.34160562e-01],\n",
       "        [ 2.10184718e-04]])]"
      ]
     },
     "execution_count": 502,
     "metadata": {},
     "output_type": "execute_result"
    }
   ],
   "source": [
    "neu_clf.coefs_"
   ]
  },
  {
   "cell_type": "markdown",
   "metadata": {
    "ExecuteTime": {
     "end_time": "2021-07-12T19:52:30.449336Z",
     "start_time": "2021-07-12T19:52:30.404703Z"
    }
   },
   "source": [
    "### MLPC with SMOTE for Balanced Data"
   ]
  },
  {
   "cell_type": "code",
   "execution_count": 503,
   "metadata": {
    "ExecuteTime": {
     "end_time": "2021-07-13T01:33:39.219681Z",
     "start_time": "2021-07-13T01:33:39.180072Z"
    }
   },
   "outputs": [],
   "source": [
    "sm = SMOTE(random_state=2)\n",
    "x_train_new, y_train_new = sm.fit_resample(x, y)"
   ]
  },
  {
   "cell_type": "code",
   "execution_count": 504,
   "metadata": {
    "ExecuteTime": {
     "end_time": "2021-07-13T01:33:42.923492Z",
     "start_time": "2021-07-13T01:33:42.772366Z"
    }
   },
   "outputs": [
    {
     "data": {
      "text/plain": [
       "<matplotlib.axes._subplots.AxesSubplot at 0x7fcbe6840490>"
      ]
     },
     "execution_count": 504,
     "metadata": {},
     "output_type": "execute_result"
    },
    {
     "data": {
      "image/png": "[encoded data removed]",
      "text/plain": [
       "<Figure size 432x288 with 1 Axes>"
      ]
     },
     "metadata": {
      "needs_background": "light"
     },
     "output_type": "display_data"
    }
   ],
   "source": [
    "pd.Series(y_train_new).value_counts().plot.bar()"
   ]
  },
  {
   "cell_type": "code",
   "execution_count": 505,
   "metadata": {
    "ExecuteTime": {
     "end_time": "2021-07-13T01:33:43.670827Z",
     "start_time": "2021-07-13T01:33:43.658634Z"
    }
   },
   "outputs": [
    {
     "data": {
      "text/plain": [
       "(894, 11)"
      ]
     },
     "execution_count": 505,
     "metadata": {},
     "output_type": "execute_result"
    }
   ],
   "source": [
    "x.shape"
   ]
  },
  {
   "cell_type": "code",
   "execution_count": 506,
   "metadata": {
    "ExecuteTime": {
     "end_time": "2021-07-13T01:33:44.561658Z",
     "start_time": "2021-07-13T01:33:44.555389Z"
    }
   },
   "outputs": [
    {
     "data": {
      "text/plain": [
       "(1514, 11)"
      ]
     },
     "execution_count": 506,
     "metadata": {},
     "output_type": "execute_result"
    }
   ],
   "source": [
    "x_train_new.shape"
   ]
  },
  {
   "cell_type": "code",
   "execution_count": 507,
   "metadata": {
    "ExecuteTime": {
     "end_time": "2021-07-13T01:28:42.247769Z",
     "start_time": "2021-07-13T01:28:42.236158Z"
    }
   },
   "outputs": [],
   "source": [
    "x_train_new, x_test_new, y_train_new, y_test_new = train_test_split(x_train_new, y_train_new,test_size=0.2,random_state=2)"
   ]
  },
  {
   "cell_type": "code",
   "execution_count": 508,
   "metadata": {
    "ExecuteTime": {
     "end_time": "2021-07-13T01:28:44.600413Z",
     "start_time": "2021-07-13T01:28:43.305764Z"
    }
   },
   "outputs": [],
   "source": [
    "neu_clf2 = MLPClassifier(random_state=2, hidden_layer_sizes=(11,11),max_iter=1000).fit(x_train_new, y_train_new)"
   ]
  },
  {
   "cell_type": "code",
   "execution_count": 509,
   "metadata": {
    "ExecuteTime": {
     "end_time": "2021-07-13T01:28:45.539137Z",
     "start_time": "2021-07-13T01:28:45.533114Z"
    }
   },
   "outputs": [],
   "source": [
    "pred2 = neu_clf2.predict(x_test_new)"
   ]
  },
  {
   "cell_type": "code",
   "execution_count": 510,
   "metadata": {
    "ExecuteTime": {
     "end_time": "2021-07-13T01:28:47.982089Z",
     "start_time": "2021-07-13T01:28:47.976733Z"
    }
   },
   "outputs": [
    {
     "name": "stdout",
     "output_type": "stream",
     "text": [
      "[[ 94  56]\n",
      " [ 11 142]]\n"
     ]
    }
   ],
   "source": [
    "print(confusion_matrix(y_test_new,pred2))"
   ]
  },
  {
   "cell_type": "code",
   "execution_count": 511,
   "metadata": {
    "ExecuteTime": {
     "end_time": "2021-07-13T01:28:49.420300Z",
     "start_time": "2021-07-13T01:28:49.392056Z"
    },
    "scrolled": true
   },
   "outputs": [
    {
     "name": "stdout",
     "output_type": "stream",
     "text": [
      "              precision    recall  f1-score   support\n",
      "\n",
      "           0       0.90      0.63      0.74       150\n",
      "           1       0.72      0.93      0.81       153\n",
      "\n",
      "    accuracy                           0.78       303\n",
      "   macro avg       0.81      0.78      0.77       303\n",
      "weighted avg       0.81      0.78      0.77       303\n",
      "\n"
     ]
    }
   ],
   "source": [
    "print(classification_report(y_test_new, pred2))"
   ]
  },
  {
   "cell_type": "code",
   "execution_count": 512,
   "metadata": {
    "ExecuteTime": {
     "end_time": "2021-07-13T01:28:54.128193Z",
     "start_time": "2021-07-13T01:28:54.116658Z"
    }
   },
   "outputs": [
    {
     "data": {
      "text/plain": [
       "[array([[-1.67944623e-01, -4.28934222e-03,  7.01818939e-47,\n",
       "         -7.71745499e-02, -1.30239468e-01, -3.90037941e-01,\n",
       "         -1.93565518e-02, -4.98872299e-02, -8.66355075e-02,\n",
       "         -2.22236533e-01,  4.32959384e-21],\n",
       "        [ 4.99761662e-01, -2.99028461e-04,  3.33107193e-53,\n",
       "          7.74211007e-04,  4.83486780e-01,  5.63946305e-01,\n",
       "         -1.64089180e-01,  6.09992999e-01, -1.10500186e+00,\n",
       "          3.52472040e-02, -1.96980156e-03],\n",
       "        [ 2.05428306e-01, -9.28647179e-04, -3.81437012e-04,\n",
       "         -1.91815360e-02, -2.24570176e-01, -1.47609658e-01,\n",
       "          1.13446184e-02, -1.26287366e-01, -2.41802693e-01,\n",
       "          1.43603051e-01,  3.78471897e-16],\n",
       "        [-3.62501690e-01, -1.05644856e-53,  3.59451839e-24,\n",
       "          2.42196334e-01,  4.73960023e-01, -5.01762997e-01,\n",
       "         -2.24866867e-01,  9.64218619e-01, -3.95803375e-01,\n",
       "          3.34215695e-01, -2.31206803e-13],\n",
       "        [-3.58920213e-01, -2.38749774e-39,  3.49710692e-43,\n",
       "         -1.88603169e-01,  6.91312563e-01,  6.27529614e-01,\n",
       "         -7.90647571e-01,  3.52841174e-01, -1.26792947e+00,\n",
       "          6.69857539e-01,  1.59493498e-31],\n",
       "        [-3.41611945e-02, -7.20498006e-07, -1.89063061e-03,\n",
       "          6.62453946e-01,  4.59068972e-01,  1.46917471e-02,\n",
       "          2.50927452e-01,  1.03041489e-01, -9.15909133e-03,\n",
       "         -1.10709489e-01, -1.33016888e-51],\n",
       "        [-9.06484168e-02, -2.96270926e-03,  5.02269926e-03,\n",
       "         -3.30265189e-01,  4.71320649e-01, -3.60646839e-01,\n",
       "          1.79490259e-01,  3.49083595e-02,  6.03477905e-01,\n",
       "          1.07478263e-01, -3.18963296e-21],\n",
       "        [-6.08937338e-01,  1.55293795e-05, -8.73204765e-08,\n",
       "          2.31717545e-02, -2.64856639e-01,  1.72583818e-01,\n",
       "          1.30031533e-02,  8.19694180e-02,  6.68598895e-02,\n",
       "         -2.79408802e-01,  9.33480423e-47],\n",
       "        [ 6.19234077e-01, -5.91897233e-04, -1.78553315e-10,\n",
       "         -5.84211561e-01,  7.10370338e-01,  2.30843712e-01,\n",
       "          2.07009738e-01, -9.09946495e-02,  4.51541598e-01,\n",
       "          2.78514750e-01, -7.58111194e-05],\n",
       "        [ 4.89872931e-01,  4.75341787e-06, -3.05373518e-04,\n",
       "          6.33325470e-01,  8.12289362e-01,  6.10384968e-01,\n",
       "          4.74644786e-01, -2.75297342e-01,  8.68431516e-01,\n",
       "         -2.03900814e-01, -5.53429296e-14],\n",
       "        [-3.02026714e-01,  1.21271500e-03,  1.73634152e-36,\n",
       "          4.36509069e-01,  4.85303137e-01,  4.62401284e-01,\n",
       "          2.20020105e-01, -1.07068320e-02,  1.14434711e-01,\n",
       "          4.25769042e-01,  1.34568494e-47]]),\n",
       " array([[ 6.09964046e-01, -8.45739256e-01, -2.54141581e-01,\n",
       "          2.62775792e-01,  1.43688583e-04,  5.49451144e-03,\n",
       "         -1.80255237e-01, -8.92298903e-01,  7.82249247e-01,\n",
       "          4.91050981e-01,  3.74362902e-03],\n",
       "        [-6.40740534e-06,  2.67831352e-07,  4.34706249e-14,\n",
       "          1.68649912e-05, -3.89686466e-03, -2.82195829e-06,\n",
       "          3.40356775e-09, -1.16894929e-03, -3.94395046e-03,\n",
       "         -1.06269292e-15,  5.89530610e-33],\n",
       "        [-2.59793899e-03, -1.95353307e-03, -3.09198917e-03,\n",
       "         -1.75413151e-27,  3.49980920e-12, -1.99661769e-05,\n",
       "          4.25118893e-04, -2.06219053e-41,  1.07490588e-21,\n",
       "         -6.84762156e-09, -8.45448605e-24],\n",
       "        [ 1.57790185e+00, -7.63359487e-01, -1.24338775e+00,\n",
       "         -6.10366278e-01,  8.44253348e-45,  1.54746535e-53,\n",
       "          7.05195184e-01, -1.32307214e+00,  8.62286770e-01,\n",
       "          9.51801458e-01,  5.48615615e-09],\n",
       "        [ 1.73838606e-02,  6.02588290e-01,  2.55079534e-01,\n",
       "          3.32811680e-01, -3.24797392e-12,  1.73626501e-52,\n",
       "          1.43155844e-02,  6.96921915e-01,  1.74448903e-01,\n",
       "          5.96159128e-01, -7.05372065e-03],\n",
       "        [ 1.36239685e+00, -1.25241272e+00, -1.24994952e+00,\n",
       "         -5.40905876e-01, -7.99006545e-04,  6.44564408e-13,\n",
       "          2.97147980e-01, -1.16534030e+00,  1.08101769e+00,\n",
       "          1.51153123e+00,  1.83171617e-37],\n",
       "        [ 5.91733200e-01, -8.25790745e-02, -5.27329150e-02,\n",
       "         -1.98453416e-01, -5.85024103e-06, -6.13972728e-03,\n",
       "          1.51173393e-02, -1.78385045e-01,  7.79344372e-01,\n",
       "          7.83708593e-01,  1.71389377e-02],\n",
       "        [ 1.28339947e-01,  8.80311616e-01,  6.08136172e-01,\n",
       "         -1.68677847e-01, -4.87311422e-14, -1.10568954e-05,\n",
       "          2.52593407e-01,  7.65655926e-01, -2.63857625e-01,\n",
       "         -3.66839217e-01,  2.08225258e-02],\n",
       "        [ 1.34687283e+00, -1.12206655e+00, -3.92151883e-01,\n",
       "         -3.39114342e-02, -3.11448457e-03, -6.94674458e-04,\n",
       "         -1.35641374e-01, -1.24275342e+00,  1.16408444e+00,\n",
       "          1.21547004e+00,  1.56549432e-03],\n",
       "        [ 1.23833853e+00, -1.05580169e+00, -1.16753570e+00,\n",
       "         -1.05176997e-01,  9.35524157e-35,  2.06078220e-03,\n",
       "          9.79658516e-01, -1.06596084e+00,  1.29565943e+00,\n",
       "          9.68079095e-01, -5.33973784e-05],\n",
       "        [ 6.03401079e-06,  6.83917761e-52, -2.38088910e-07,\n",
       "          4.91163416e-10,  4.79864231e-03, -7.78664746e-07,\n",
       "          1.02649235e-05,  1.55075094e-06, -4.76545013e-04,\n",
       "          1.12355063e-04,  4.16696485e-50]]),\n",
       " array([[-1.06714868e+00],\n",
       "        [ 7.93871033e-01],\n",
       "        [ 9.43245910e-01],\n",
       "        [ 1.47277259e+00],\n",
       "        [ 4.81091412e-09],\n",
       "        [ 6.39822682e-51],\n",
       "        [-8.80988308e-01],\n",
       "        [ 5.20931410e-01],\n",
       "        [-1.14743923e+00],\n",
       "        [-6.39939393e-01],\n",
       "        [ 3.05827855e-13]])]"
      ]
     },
     "execution_count": 512,
     "metadata": {},
     "output_type": "execute_result"
    }
   ],
   "source": [
    "neu_clf2.coefs_"
   ]
  },
  {
   "cell_type": "markdown",
   "metadata": {},
   "source": [
    "## Interpret Results"
   ]
  },
  {
   "cell_type": "markdown",
   "metadata": {},
   "source": [
    "<ul> - 138 sales </ul> \n",
    "\n",
    "<ul> - Mean value of purchase $803</ul> \n",
    "\n",
    "<ul> - 15% of appointments resulted in purchases. This appears to be a good result when compared to ecommerce conversion rates which are often around 1-2%.</ul> \n",
    "\n",
    "<ul> - From the exploratory analysis, an inverse correlation was seen between the number of customer join attempts and ratings. Where customers attempted to join a call more than four times, no purchase was made. This is not surprising, as higher join attempts would certainly result in customer increased levels of frustration and overall customer dissatisfaction. </ul>  \n",
    "\n",
    "<ul> - A Mann-Whitney U rank test was used to test the null hypothesis that there is no significant difference between the mean customer join counts with a purchase and those without a purchase. This was rejected.</ul>\n",
    "\n",
    "<ul> - Inverse correlation between rating questions and purchase. The questions explored 1) stream quality 2) staff helpfulness and 3) likely to reuse the service. A bimodal distribution was seen for all rating question answers, with the larger peak falling at the higher end of the rating spectrum (4-5). A smaller peak fell at the lower ratings(1-2), with very few ratings in the middle. Overall the ratings were positive which may explain the high conversion rate mentioned above.</ul>\n",
    "\n",
    "<ul> - Ratings of staff helpfulness was analysed on an individual basis. Staff ID 22858 had only 14 appointments compared with 211 appointments by 21998, yet had the highest ratings. When explored further, this individual had low staff join counts as well as low customer join counts. They also had a higher proportion of calls under the sales demo category. Ratings were generally higher for sales demo and product information type appointments compared with customer service or those that resulted in no interaction.</ul>\n",
    "\n",
    "<ul> - A better user experience is correlated with an increase in purchases. Improved and more stable streaming as well as improved interactions with staff are good options to explore going forward.</ul>"
   ]
  },
  {
   "cell_type": "markdown",
   "metadata": {},
   "source": [
    "## Model Predictions"
   ]
  },
  {
   "cell_type": "markdown",
   "metadata": {},
   "source": [
    "The MLPC classified 152 true negatives and 6 true positives while only 7 false positives and 14 false negatives. The f1-score of the respective no purchase and purchase categories are 0.94 and 0.36 with a weighted average of 0.87.\n",
    "\n",
    "The data was quite imbalanced, so SMOTE was used to generate date for the minority class.\n",
    "When run for the second time, the MLPC holistically performed better with comparable f1 scores 0.77 and 0.84 and a weighted average of 0.8.\n"
   ]
  },
  {
   "cell_type": "markdown",
   "metadata": {},
   "source": [
    "## Future Work"
   ]
  },
  {
   "cell_type": "markdown",
   "metadata": {},
   "source": [
    "<ul> - Explore timestamp data further. Are local timezones local to the customer or staff or both depending on field name? It would be nice to have the specific local timezones, this could, for example, tell us about regional differences or simply allow us to compare to the UTC timestamp data available. Seasonal changes should also be analysed.</ul>\n",
    "\n",
    "<ul> - Missing data. More complete data would be very useful, such as Customer ID, so we can fully assess whether customers are making best use of the booking system, for example, by rebooking a cancelled appointment.</ul>\n",
    "\n",
    "<ul> - Further statistical significance testing.</ul>\n",
    "\n",
    "<ul> - Explore further whether MLPC model can be improved upon and try other types of models to assess the product's success. Removed some features in the data that were correlated but it may be possible to improve on this. </ul>\n",
    "\n",
    "<ul> - All data in this analysis was from Booking. It would be interesting to compare this with other products from Go Instore.</ul>\n",
    "\n",
    "<ul> - In 2.2.1 it was highlighted that 15% of appointments resulted in purchases, which when compared with ecommerce rates, would be interpreted as high. What are the target conversion rates? In addition to ecommerce what other sectors would make appropriate comparisons? Going forward, I would investigate the market, looking for similar companies to see whether this is as succesful as it appears.</ul>"
   ]
  },
  {
   "cell_type": "code",
   "execution_count": null,
   "metadata": {},
   "outputs": [],
   "source": []
  }
 ],
 "metadata": {
  "kernelspec": {
   "display_name": "Python 3",
   "language": "python",
   "name": "python3"
  },
  "language_info": {
   "codemirror_mode": {
    "name": "ipython",
    "version": 3
   },
   "file_extension": ".py",
   "mimetype": "text/x-python",
   "name": "python",
   "nbconvert_exporter": "python",
   "pygments_lexer": "ipython3",
   "version": "3.8.2"
  },
  "toc": {
   "base_numbering": 1,
   "nav_menu": {},
   "number_sections": true,
   "sideBar": true,
   "skip_h1_title": true,
   "title_cell": "Table of Contents",
   "title_sidebar": "Contents",
   "toc_cell": false,
   "toc_position": {
    "height": "506px",
    "left": "1151.203125px",
    "top": "110px",
    "width": "324px"
   },
   "toc_section_display": true,
   "toc_window_display": true
  }
 },
 "nbformat": 4,
 "nbformat_minor": 4
}
